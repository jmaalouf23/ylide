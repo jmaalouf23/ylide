{
 "cells": [
  {
   "cell_type": "code",
   "execution_count": 1,
   "metadata": {},
   "outputs": [
    {
     "ename": "ImportError",
     "evalue": "cannot import name 'write_xyz_from_xyz_arr' from 'gen_3D' (/data1/gridsan/groups/manthiram_lab/QMkit/gen_3D.py)",
     "output_type": "error",
     "traceback": [
      "\u001b[0;31m---------------------------------------------------------------------------\u001b[0m",
      "\u001b[0;31mImportError\u001b[0m                               Traceback (most recent call last)",
      "\u001b[0;32m<ipython-input-1-74120bddd362>\u001b[0m in \u001b[0;36m<module>\u001b[0;34m\u001b[0m\n\u001b[1;32m     10\u001b[0m \u001b[0msys\u001b[0m\u001b[0;34m.\u001b[0m\u001b[0mpath\u001b[0m\u001b[0;34m.\u001b[0m\u001b[0minsert\u001b[0m\u001b[0;34m(\u001b[0m\u001b[0;36m1\u001b[0m\u001b[0;34m,\u001b[0m\u001b[0;34m'/data1/gridsan/groups/manthiram_lab/QMkit'\u001b[0m\u001b[0;34m)\u001b[0m\u001b[0;34m\u001b[0m\u001b[0;34m\u001b[0m\u001b[0m\n\u001b[1;32m     11\u001b[0m \u001b[0;32mfrom\u001b[0m \u001b[0mdft_utils\u001b[0m \u001b[0;32mimport\u001b[0m \u001b[0mcheckvibs\u001b[0m\u001b[0;34m,\u001b[0m \u001b[0mcheck\u001b[0m\u001b[0;34m,\u001b[0m \u001b[0mno_to_symbol\u001b[0m\u001b[0;34m\u001b[0m\u001b[0;34m\u001b[0m\u001b[0m\n\u001b[0;32m---> 12\u001b[0;31m \u001b[0;32mfrom\u001b[0m \u001b[0mgen_3D\u001b[0m \u001b[0;32mimport\u001b[0m \u001b[0mwrite_xyz_from_xyz_arr\u001b[0m\u001b[0;34m,\u001b[0m\u001b[0mcombine_labels_and_xyz\u001b[0m\u001b[0;34m\u001b[0m\u001b[0;34m\u001b[0m\u001b[0m\n\u001b[0m\u001b[1;32m     13\u001b[0m \u001b[0;34m\u001b[0m\u001b[0m\n\u001b[1;32m     14\u001b[0m \u001b[0;32mimport\u001b[0m \u001b[0mre\u001b[0m\u001b[0;34m\u001b[0m\u001b[0;34m\u001b[0m\u001b[0m\n",
      "\u001b[0;31mImportError\u001b[0m: cannot import name 'write_xyz_from_xyz_arr' from 'gen_3D' (/data1/gridsan/groups/manthiram_lab/QMkit/gen_3D.py)"
     ]
    }
   ],
   "source": [
    "import sys\n",
    "import os\n",
    "from os.path import exists\n",
    "import numpy as np\n",
    "import pandas as pd\n",
    "import pickle as pkl\n",
    "import matplotlib.pyplot as plt\n",
    "\n",
    "sys.path.insert(1,'/data1/gridsan/groups/manthiram_lab/Utils')\n",
    "sys.path.insert(1,'/data1/gridsan/groups/manthiram_lab/QMkit')\n",
    "from dft_utils import checkvibs, check, no_to_symbol\n",
    "from gen_3D import write_xyz_from_xyz_arr,combine_labels_and_xyz\n",
    "\n",
    "import re\n",
    "import importlib\n",
    "import cclib\n",
    "import plot as pl\n",
    "import pathlib\n",
    "from tqdm import tqdm\n",
    "from datetime import datetime, timedelta\n",
    "from rdkit import Chem"
   ]
  },
  {
   "cell_type": "code",
   "execution_count": 2,
   "metadata": {},
   "outputs": [
    {
     "data": {
      "text/plain": [
       "<module 'convertxyz' from '/data1/gridsan/groups/manthiram_lab/DFT/DFT_script_gen/convertxyz.py'>"
      ]
     },
     "execution_count": 2,
     "metadata": {},
     "output_type": "execute_result"
    }
   ],
   "source": [
    "importlib.reload(pl)\n",
    "importlib.reload(utils)\n",
    "importlib.reload(convertxyz)"
   ]
  },
  {
   "cell_type": "code",
   "execution_count": 3,
   "metadata": {},
   "outputs": [],
   "source": [
    "#Define Current directory\n",
    "cwd= '/home/gridsan/jmaalouf/vHTP/Code/ylide/Library'"
   ]
  },
  {
   "cell_type": "markdown",
   "metadata": {},
   "source": [
    "# Load Data"
   ]
  },
  {
   "cell_type": "code",
   "execution_count": 4,
   "metadata": {},
   "outputs": [],
   "source": [
    "df=pd.read_csv('../sheets/Ylides_YlideRads_Cleaned.csv')\n",
    "y=df['Ylides'].to_list()\n",
    "yr=df['Ylides Rad'].to_list()\n",
    "yh=df['Ylides H'].to_list()"
   ]
  },
  {
   "cell_type": "markdown",
   "metadata": {},
   "source": [
    "## Get Num Atoms"
   ]
  },
  {
   "cell_type": "code",
   "execution_count": 10,
   "metadata": {},
   "outputs": [
    {
     "name": "stderr",
     "output_type": "stream",
     "text": [
      "100%|██████████| 19097/19097 [00:01<00:00, 9843.39it/s]\n"
     ]
    }
   ],
   "source": [
    "num_atoms=[]\n",
    "num_atoms_total=[]\n",
    "for i, s in enumerate(tqdm(y)):\n",
    "    mol=Chem.MolFromSmiles(s)\n",
    "    num_atoms.append(mol.GetNumAtoms())\n",
    "    mol=Chem.AddHs(mol)\n",
    "    num_atoms_total.append(mol.GetNumAtoms())"
   ]
  },
  {
   "cell_type": "code",
   "execution_count": 8,
   "metadata": {},
   "outputs": [],
   "source": [
    "with open(f\"../pickled_data/num_atoms.pkl\", \"wb\") as file: \n",
    "    pickle.dump(num_atoms, file)\n",
    "    \n",
    "with open(f\"../pickled_data/num_atoms_total.pkl\", \"wb\") as file: \n",
    "    pickle.dump(num_atoms_total, file)"
   ]
  },
  {
   "cell_type": "markdown",
   "metadata": {},
   "source": [
    "# Check for Failed Calcs"
   ]
  },
  {
   "cell_type": "code",
   "execution_count": 5,
   "metadata": {
    "scrolled": true
   },
   "outputs": [
    {
     "name": "stdin",
     "output_type": "stream",
     "text": [
      "Do you want to resubmit the memory allocation errors? (T/F) f\n"
     ]
    },
    {
     "name": "stderr",
     "output_type": "stream",
     "text": [
      "100%|██████████| 10000/10000 [29:33<00:00,  5.64it/s] \n",
      "  0%|          | 2/10000 [00:00<12:57, 12.86it/s]"
     ]
    },
    {
     "name": "stdout",
     "output_type": "stream",
     "text": [
      "\n"
     ]
    },
    {
     "name": "stderr",
     "output_type": "stream",
     "text": [
      "100%|██████████| 10000/10000 [18:49<00:00,  8.85it/s] \n",
      "  0%|          | 2/10000 [00:00<10:15, 16.23it/s]"
     ]
    },
    {
     "name": "stdout",
     "output_type": "stream",
     "text": [
      "\n"
     ]
    },
    {
     "name": "stderr",
     "output_type": "stream",
     "text": [
      "100%|██████████| 10000/10000 [18:59<00:00,  8.78it/s]  "
     ]
    },
    {
     "name": "stdout",
     "output_type": "stream",
     "text": [
      "\n"
     ]
    },
    {
     "name": "stderr",
     "output_type": "stream",
     "text": [
      "\n"
     ]
    }
   ],
   "source": [
    "trueChoices = ['true', 't','T']\n",
    "falseChoices = ['false', 'f','F']\n",
    "\n",
    "inp=input(\"Do you want to resubmit the memory allocation errors? (T/F)\").lower()\n",
    "\n",
    "assert inp in trueChoices or inp in falseChoices\n",
    "if inp in trueChoices:\n",
    "    resubmit=True\n",
    "elif inp in falseChoices:\n",
    "    resubmit=False\n",
    "\n",
    "orig_dir='/home/gridsan/groups/manthiram_lab/vHTP/Code/ylide/Library'\n",
    "\n",
    "failed_dict={}\n",
    "geom_failed_dict={}\n",
    "\n",
    "functional='M062X'\n",
    "basis= 'Def2SVPD'\n",
    "solvorgas='solv'\n",
    "solvmethod='SMD'\n",
    "solvent='acetonitrile'\n",
    "\n",
    "if solvorgas== 'gas':\n",
    "    ylide_type=[['ylide',''],['ylide_rad','_y_h_opt'],['ylide_h','']]\n",
    "elif solvorgas =='solv':\n",
    "    ylide_type=[['ylide','_gas_preopt'],['ylide_rad','_gas_preopt'],['ylide_h','_gas_preopt']]\n",
    "    #ylide_type=[['ylide','_gas_preopt'],['ylide_h','_gas_preopt']]\n",
    "\n",
    "start=0\n",
    "stop=10000\n",
    "n=stop-start\n",
    "error_occurred=False\n",
    "\n",
    "for v,y_list in enumerate(ylide_type):\n",
    "    \n",
    "    y=y_list[0]\n",
    "    sub_suff=y_list[1]\n",
    "    \n",
    "    failed_dict[f'{y}{sub_suff}']=[]\n",
    "    geom_failed_dict[f'{y}{sub_suff}']=[]\n",
    "    \n",
    "    for i in tqdm(range(start,stop)):\n",
    "        n_str=str(i).zfill(7)\n",
    "        \n",
    "        \n",
    "        assert solvorgas == 'gas' or solvorgas=='solv','SOLVORGAS NOT SET TO A VALID VALUE'\n",
    "        \n",
    "        if solvorgas=='gas':\n",
    "            path=pathlib.Path(os.path.join(orig_dir, 'Calcs', str(i).zfill(7) , y, functional, basis,'gas', f'{str(i).zfill(7)}_{y}{sub_suff}.log'))\n",
    "            \n",
    "        elif solvorgas=='solv':\n",
    "            path=pathlib.Path(os.path.join(orig_dir, 'Calcs',str(i).zfill(7) , y, functional, basis,solvent,solvmethod, f'{str(i).zfill(7)}_{y}{sub_suff}.log'))\n",
    "        \n",
    "        par_path=path.parent.absolute()\n",
    "        \n",
    "        if exists(path):\n",
    "            \n",
    "            if check(path, 'Normal termination of Gaussian', count=2)==False:\n",
    "                error_occurred=True\n",
    "                \n",
    "                if check(str(path),'galloc:  could not allocate memory.'):\n",
    "                    \n",
    "                    #print(f'MEMRORY ALLOCATION ERROR WITH {y}{sub_suff} MOLECULE {i}')\n",
    "                    failed_dict[f'{y}{sub_suff}'].append(i)\n",
    "                    \n",
    "                    if resubmit:\n",
    "                        os.chdir(par_path)\n",
    "                        subprocess.run(f'sbatch {n_str}_{y}{sub_suff}.sh',shell=True)\n",
    "                        os.chdir(orig_dir)\n",
    "                                \n",
    "                elif check(str(path),'Converged',120):\n",
    "                    #print(f'GEOMETRY OPT ERROR WITH {y}{sub_suff} MOLECULE {i}')\n",
    "                    #failed_dict[f'{y}{sub_suff}'].append(i)\n",
    "                    geom_failed_dict[f'{y}{sub_suff}'].append(i)\n",
    "                    \n",
    "                else:\n",
    "                    #Try one more time to extract the data because there could still be some optimized geometry\n",
    "                    #steps that can be extracted\n",
    "                    #print(f'UNKNOWN ERROR, {y}{sub_suff} MOLECULE {i} CALCULATION DID NOT FINSIH')\n",
    "                    failed_dict[f'{y}{sub_suff}'].append(i)\n",
    "                    \n",
    "                    if resubmit:\n",
    "                        os.chdir(par_path)\n",
    "                        #subprocess.run(f'sbatch {n_str}_{y}{sub_suff}.sh',shell=True)\n",
    "                        os.chdir(orig_dir)\n",
    "        else:\n",
    "            #print(f'{y} MOLECULE {i}{sub_suff} HAS NOT BEEN SUBMITTED')\n",
    "            failed_dict[f'{y}{sub_suff}'].append(i)\n",
    "            \n",
    "            if resubmit:\n",
    "                os.chdir(par_path)\n",
    "                subprocess.run(f'sbatch {n_str}_{y}{sub_suff}.sh',shell=True)\n",
    "                os.chdir(orig_dir)\n",
    "                \n",
    "    if error_occurred==False:\n",
    "        print(f'NO ERRORS WITH {y}{sub_suff}')\n",
    "        \n",
    "        \n",
    "    error_occurred=False\n",
    "    print('')\n",
    "    \n"
   ]
  },
  {
   "cell_type": "markdown",
   "metadata": {},
   "source": [
    "### Save Dictionaries"
   ]
  },
  {
   "cell_type": "code",
   "execution_count": 9,
   "metadata": {},
   "outputs": [],
   "source": [
    "with open(f\"/data1/groups/manthiram_lab/vHTP/Code/ylide/Library/python_scripts/dicts/failed_dict_{solvorgas}_{'0817'}.pkl\", \"wb\") as file: \n",
    "    pickle.dump(failed_dict, file)"
   ]
  },
  {
   "cell_type": "code",
   "execution_count": 9,
   "metadata": {},
   "outputs": [],
   "source": [
    "#os.chdir(cwd)\n",
    "with open(f\"/data1/groups/manthiram_lab/vHTP/Code/ylide/Library/python_scripts/dicts/failed_dict_{solvorgas}_{'0626'}.pkl\", \"wb\") as file: \n",
    "    pickle.dump(failed_dict, file)"
   ]
  },
  {
   "cell_type": "code",
   "execution_count": null,
   "metadata": {},
   "outputs": [],
   "source": [
    "with open(f\"../pickled_data/failed_dict_{solvorgas}.pkl\", \"wb\") as file: \n",
    "    pickle.dump(failed_dict, file)"
   ]
  },
  {
   "cell_type": "code",
   "execution_count": 22,
   "metadata": {},
   "outputs": [],
   "source": [
    "with open(f\"../pickled_data/geom_failed_dict_{solvorgas}.pkl\", \"wb\") as file: \n",
    "    pickle.dump(geom_failed_dict, file)"
   ]
  },
  {
   "cell_type": "markdown",
   "metadata": {},
   "source": [
    "#### Visualize contents of dictionaries"
   ]
  },
  {
   "cell_type": "code",
   "execution_count": 7,
   "metadata": {},
   "outputs": [
    {
     "name": "stdout",
     "output_type": "stream",
     "text": [
      "ylide_gas_preopt has 15 failures and a fail percentage of 0.15%\n",
      "ylide_rad_gas_preopt has 1609 failures and a fail percentage of 16.09%\n",
      "ylide_h_gas_preopt has 572 failures and a fail percentage of 5.72%\n"
     ]
    }
   ],
   "source": [
    "for key, value in failed_dict.items():\n",
    "    print(f'{key} has {len(value)} failures and a fail percentage of {len(value)/n*100}%')"
   ]
  },
  {
   "cell_type": "code",
   "execution_count": 8,
   "metadata": {},
   "outputs": [
    {
     "name": "stdout",
     "output_type": "stream",
     "text": [
      "ylide_gas_preopt has 129 failures and a fail percentage of 1.29%\n",
      "ylide_rad_gas_preopt has 231 failures and a fail percentage of 2.31%\n",
      "ylide_h_gas_preopt has 301 failures and a fail percentage of 3.01%\n"
     ]
    }
   ],
   "source": [
    "for key, value in geom_failed_dict.items():\n",
    "    print(f'{key} has {len(value)} failures and a fail percentage of {len(value)/n*100}%')"
   ]
  },
  {
   "cell_type": "markdown",
   "metadata": {},
   "source": [
    "# Extract Data from Directories"
   ]
  },
  {
   "cell_type": "code",
   "execution_count": 27,
   "metadata": {},
   "outputs": [
    {
     "name": "stderr",
     "output_type": "stream",
     "text": [
      "100%|██████████| 1/1 [00:00<00:00,  1.38it/s]\n",
      "100%|██████████| 1/1 [00:00<00:00, 1895.30it/s]\n",
      "100%|██████████| 1/1 [00:00<00:00,  3.94it/s]\n"
     ]
    }
   ],
   "source": [
    "functional='M062X'\n",
    "basis= 'Def2TZVP'\n",
    "solvorgas='gas'\n",
    "solvmethod='SMD'\n",
    "\n",
    "\n",
    "orig_dir='/home/gridsan/groups/manthiram_lab/vHTP/Code/ylide/Library'\n",
    "if solvorgas=='gas':\n",
    "    solvent='gas'\n",
    "    ylide_type=[['ylide',''],['ylide_rad','_y_h_opt'],['ylide_h','']]\n",
    "    #ylide_type=[['ylide_h','']]\n",
    "else:\n",
    "    solvent='acetonitrile'\n",
    "    ylide_type=[['ylide','_gas_preopt'],['ylide_rad','_gas_preopt'],['ylide_h','_gas_preopt'] ]\n",
    "\n",
    "start=1335\n",
    "stop=1336\n",
    "n=stop-start\n",
    "data=np.empty((n,10))\n",
    "atom_coords=[] #Dim1= Ylide Dim2=Ylide Rad Dim3= Ylide_H\n",
    "atom_labels=[] #Dim1= Ylide Dim2=Ylide Rad Dim3= Ylide_H\n",
    "wall_time=[] #Calculation time in seconds\n",
    "\n",
    "for v,y_list in enumerate(ylide_type):\n",
    "    \n",
    "    y=y_list[0]\n",
    "    sub_suff=y_list[1]\n",
    "    \n",
    "    temp_atom_coords=[]\n",
    "    temp_atom_labels=[]\n",
    "    temp_wall_time=[]\n",
    "    \n",
    "    for k,i in enumerate(tqdm(range(start,stop))):\n",
    "        n_str=str(i).zfill(7)\n",
    "\n",
    "        \n",
    "        \n",
    "        assert solvorgas == 'gas' or solvorgas=='solv','SOLVORGAS NOT SET TO A VALID VALUE'\n",
    "        \n",
    "        if solvorgas=='gas':\n",
    "            path=pathlib.Path(os.path.join(orig_dir, 'Calcs', str(i).zfill(7) , y, functional, basis,'gas', f'{str(i).zfill(7)}_{y}{sub_suff}.log'))\n",
    "            \n",
    "        elif solvorgas=='solv':\n",
    "            path=pathlib.Path(os.path.join(orig_dir, 'Calcs',str(i).zfill(7) , y, functional, basis,solvent,solvmethod, f'{str(i).zfill(7)}_{y}{sub_suff}.log'))\n",
    "        \n",
    "        \n",
    "        \n",
    "        if exists(path): #If calculation was run\n",
    "            \n",
    "            if check(path, 'Normal termination of Gaussian',count=2): #If calculation was run successfully\n",
    "                try:\n",
    "                    \n",
    "                    temp_data=cclib.io.ccread(str(path))\n",
    "\n",
    "                    meta_data=temp_data.metadata\n",
    "                    data[k,2*v]=temp_data.enthalpy\n",
    "                    data[k,2*v+1]=temp_data.freeenergy\n",
    "                    data[k,6]=checkvibs(temp_data.vibfreqs,asint=True)\n",
    "                    temp_atom_coords.append(temp_data.atomcoords[-1,:,:])\n",
    "                    temp_atom_labels.append([no_to_symbol(x) for x in temp_data.atomnos])\n",
    "                    temp_wall_time.append(sum(meta_data['wall_time'][i].seconds for i in range(len(meta_data['wall_time']))))\n",
    "                    \n",
    "                    continue\n",
    "                except Exception as e:\n",
    "                    exc_type, exc_obj, exc_tb = sys.exc_info()\n",
    "                    fname = os.path.split(exc_tb.tb_frame.f_code.co_filename)[1]\n",
    "                    print(e)       \n",
    "                    print(exc_type, fname, exc_tb.tb_lineno)\n",
    "\n",
    "                    data[k,2*v]= 1\n",
    "                    data[k,2*v+1]= 1\n",
    "                    data[k,6]=-1\n",
    "                    temp_atom_coords.append([])\n",
    "                    temp_atom_labels.append([])\n",
    "                    temp_wall_time.append(0)\n",
    "                    continue\n",
    "            else: #Run unseccessfully\n",
    "                \n",
    "                #Check if geometry did not optimize\n",
    "                if check(str(path),'Converged',120):\n",
    "                    \n",
    "                    temp_data=cclib.io.ccread(str(path))\n",
    "                    meta_data=temp_data.metadata\n",
    "                    data[k,2*v]=1\n",
    "                    data[k,2*v+1]=1\n",
    "                    data[k,6]=1\n",
    "                    temp_atom_coords.append(temp_data.atomcoords[-1,:,:])\n",
    "                    temp_atom_labels.append([no_to_symbol(x) for x in temp_data.atomnos])\n",
    "                    temp_wall_time.append(0)\n",
    "                    continue\n",
    "                \n",
    "                else:\n",
    "                    data[k,2*v]= 1\n",
    "                    data[k,2*v+1]= 1\n",
    "                    data[k,6]=-1\n",
    "                    temp_atom_coords.append([])\n",
    "                    temp_atom_labels.append([])\n",
    "                    temp_wall_time.append(0)\n",
    "                    continue\n",
    "        else:\n",
    "            data[k,2*v]= 1\n",
    "            data[k,2*v+1]= 1\n",
    "            data[k,6]=-1\n",
    "            temp_atom_coords.append([])\n",
    "            temp_atom_labels.append([])\n",
    "            temp_wall_time.append(0)\n",
    "            continue\n",
    "\n",
    "    atom_coords.append(temp_atom_coords)\n",
    "    atom_labels.append(temp_atom_labels)\n",
    "    wall_time.append(temp_wall_time)"
   ]
  },
  {
   "cell_type": "code",
   "execution_count": 28,
   "metadata": {},
   "outputs": [],
   "source": [
    "tmp=combine_labels_and_xyz(atom_labels[2][0],atom_coords[2][0])\n",
    "write_xyz_from_xyz_arr(tmp,'temp',include_total_atoms=True)\n"
   ]
  },
  {
   "cell_type": "markdown",
   "metadata": {},
   "source": [
    "# Get Atom Labels & Coords"
   ]
  },
  {
   "cell_type": "code",
   "execution_count": 96,
   "metadata": {},
   "outputs": [
    {
     "name": "stderr",
     "output_type": "stream",
     "text": [
      "100%|██████████| 2/2 [00:00<00:00, 1027.13it/s]\n",
      "100%|██████████| 2/2 [00:00<00:00, 1278.56it/s]\n",
      "100%|██████████| 2/2 [00:00<00:00, 1314.21it/s]\n"
     ]
    }
   ],
   "source": [
    "functional='M062X'\n",
    "basis= 'Def2TZVP'\n",
    "solvorgas='gas'\n",
    "solvmethod='SMD'\n",
    "\n",
    "orig_dir='/home/gridsan/groups/manthiram_lab/vHTP/Code/ylide/Library'\n",
    "if solvorgas=='gas':\n",
    "    solvent=='gas'\n",
    "    ylide_type=[['ylide',''],['ylide_rad','_y_h_opt'],['ylide_h','']]\n",
    "    #ylide_type=[['ylide_h','']]\n",
    "else:\n",
    "    solvent='acetonitrile'\n",
    "    ylide_type=[['ylide','_gas_preopt'],['ylide_rad','_gas_preopt'],['ylide_h','_gas_preopt'] ]\n",
    "\n",
    "start=0\n",
    "stop=2\n",
    "n=stop-start\n",
    "data=np.empty((n,10))\n",
    "atom_coords=[] #Dim1= Ylide Dim2=Ylide Rad Dim3= Ylide_H\n",
    "atom_labels=[] #Dim1= Ylide Dim2=Ylide Rad Dim3= Ylide_H\n",
    "wall_time=[] #Calculation time in seconds\n",
    "\n",
    "for v,y_list in enumerate(ylide_type):\n",
    "    \n",
    "    y=y_list[0]\n",
    "    sub_suff=y_list[1]\n",
    "    \n",
    "    temp_atom_coords=[]\n",
    "    temp_atom_labels=[]\n",
    "    temp_wall_time=[]\n",
    "    \n",
    "    for k,i in enumerate(tqdm(range(start,stop))):\n",
    "        n_str=str(i).zfill(7)\n",
    "\n",
    "        \n",
    "        \n",
    "        assert solvorgas == 'gas' or solvorgas=='solv','SOLVORGAS NOT SET TO A VALID VALUE'\n",
    "        \n",
    "        if solvorgas=='gas':\n",
    "            path=pathlib.Path(os.path.join(orig_dir, 'Calcs', str(i).zfill(7) , y, functional, basis,'gas', f'{str(i).zfill(7)}_{y}{sub_suff}.xyz'))\n",
    "            \n",
    "        elif solvorgas=='solv':\n",
    "            path=pathlib.Path(os.path.join(orig_dir, 'Calcs',str(i).zfill(7) , y, functional, basis,solvent,solvmethod, f'{str(i).zfill(7)}_{y}{sub_suff}.xyz'))\n",
    "        \n",
    "        \n",
    "        \n",
    "        if exists(path): #If calculation was run\n",
    "            \n",
    "            try:\n",
    "                temp_temp_atom_labels=[]\n",
    "                temp_temp_atom_coords=[]\n",
    "                \n",
    "                with open(path) as fp:\n",
    "                    Lines = fp.readlines()\n",
    "                    for line in Lines:\n",
    "                        l=line.strip().split()\n",
    "                        if len(l)>0:\n",
    "                            temp_temp_atom_labels.append(l[0])\n",
    "                            temp_temp_atom_coords.append(l[1:])\n",
    "                temp_atom_labels.append(temp_temp_atom_labels)\n",
    "                temp_atom_coords.append(np.array(temp_temp_atom_coords,dtype='float'))\n",
    "\n",
    "                #temp_data=cclib.io.ccread(str(path))\n",
    "\n",
    "#                     meta_data=temp_data.metadata\n",
    "#                     data[k,2*v]=temp_data.enthalpy\n",
    "#                     data[k,2*v+1]=temp_data.freeenergy\n",
    "#                     data[k,6]=checkvibs(temp_data.vibfreqs,asint=True)\n",
    "#                     temp_atom_coords.append(temp_data.atomcoords[-1,:,:])\n",
    "                #temp_atom_labels.append([no_to_symbol(x) for x in temp_data.atomnos])\n",
    "#                     temp_wall_time.append(sum(meta_data['wall_time'][i].seconds for i in range(len(meta_data['wall_time']))))\n",
    "                continue\n",
    "            except Exception as e:\n",
    "                exc_type, exc_obj, exc_tb = sys.exc_info()\n",
    "                fname = os.path.split(exc_tb.tb_frame.f_code.co_filename)[1]\n",
    "                print(e)       \n",
    "                print(exc_type, fname, exc_tb.tb_lineno)\n",
    "\n",
    "                data[k,2*v]= 1\n",
    "                data[k,2*v+1]= 1\n",
    "                data[k,6]=-1\n",
    "                temp_atom_coords.append([])\n",
    "                temp_atom_labels.append([])\n",
    "                temp_wall_time.append(0)\n",
    "                continue\n",
    "\n",
    "        else:\n",
    "            data[k,2*v]= 1\n",
    "            data[k,2*v+1]= 1\n",
    "            data[k,6]=-1\n",
    "            temp_atom_coords.append([])\n",
    "            temp_atom_labels.append([])\n",
    "            temp_wall_time.append(0)\n",
    "            continue\n",
    "\n",
    "    atom_coords.append(temp_atom_coords)\n",
    "    atom_labels.append(temp_atom_labels)\n",
    "#     wall_time.append(temp_wall_time)"
   ]
  },
  {
   "cell_type": "code",
   "execution_count": 70,
   "metadata": {},
   "outputs": [],
   "source": [
    "with open(f\"../pickled_data/atom_labels.pkl\",\"wb\") as file:\n",
    "    pickle.dump(atom_labels, file)"
   ]
  },
  {
   "cell_type": "code",
   "execution_count": 19,
   "metadata": {},
   "outputs": [
    {
     "data": {
      "text/plain": [
       "1876.582"
      ]
     },
     "execution_count": 19,
     "metadata": {},
     "output_type": "execute_result"
    }
   ],
   "source": [
    "np.mean(wall_time[2][:])"
   ]
  },
  {
   "cell_type": "markdown",
   "metadata": {},
   "source": [
    "#### Wall Times For Different Triples Conditons"
   ]
  },
  {
   "cell_type": "markdown",
   "metadata": {},
   "source": [
    "[5,1,1] wall_time: [1816, 2098, 2524, 2864, 1405, 1256, 1628, 1559, 1741, 1783] <br>\n",
    "[10,1,2] wall_time: [[1800, 0, 0, 0, 1398, 1248, 1618, 1560, 1732, 1787]] <br>\n",
    "[5,2,1] wall_time: [3784, 0, 5337, 0, 0, 2829, 0, 3480, 3763, 0] <br>\n",
    "\n",
    "There seems to be no effect from number of threads, it seems that we still have an effect from RAM and it scales pretty linearly so I will use 1 node per calculation"
   ]
  },
  {
   "cell_type": "code",
   "execution_count": 20,
   "metadata": {},
   "outputs": [
    {
     "name": "stderr",
     "output_type": "stream",
     "text": [
      "100%|██████████| 1000/1000 [00:00<00:00, 551519.26it/s]\n",
      "100%|██████████| 1000/1000 [00:00<00:00, 674759.33it/s]\n",
      "100%|██████████| 1000/1000 [00:00<00:00, 703270.29it/s]"
     ]
    },
    {
     "name": "stdout",
     "output_type": "stream",
     "text": [
      "CALCULATING REDOX POTENTIALS\n",
      "CALCULATING DPFE\n",
      "CALCULATING GHBind \n"
     ]
    },
    {
     "name": "stderr",
     "output_type": "stream",
     "text": [
      "\n"
     ]
    }
   ],
   "source": [
    "print('CALCULATING REDOX POTENTIALS')    \n",
    "for i, v in enumerate(tqdm(range(np.shape(data)[0]))):\n",
    "    data[i,7]=calcE(data[i,3],data[i,1])\n",
    "    \n",
    "    \n",
    "print('CALCULATING DPFE')\n",
    "for i, v in enumerate(tqdm(range(np.shape(data)[0]))):\n",
    "    data[i,8]=calcDPFE(data[i,5],data[i,1],solvent=solvent)\n",
    "\n",
    "print('CALCULATING GHBind ')\n",
    "for i, v in enumerate(tqdm(range(np.shape(data)[0]))):\n",
    "    data[i,9]=calcGHBind(data[i,5],data[i,3],solvent='gas')\n",
    "    "
   ]
  },
  {
   "cell_type": "code",
   "execution_count": 12,
   "metadata": {},
   "outputs": [
    {
     "name": "stdout",
     "output_type": "stream",
     "text": [
      "/home/gridsan/groups/manthiram_lab/vHTP/Code/ylide/Library\n"
     ]
    }
   ],
   "source": [
    "!pwd"
   ]
  },
  {
   "cell_type": "code",
   "execution_count": 21,
   "metadata": {},
   "outputs": [],
   "source": [
    "#Save Extracted data\n",
    "cwd='/home/gridsan/jmaalouf/vHTP/Code/ylide/Library'\n",
    "os.chdir(cwd)\n",
    "\n",
    "with open(f\"../pickled_data/atom_labels.pkl\",\"wb\") as file:\n",
    "    pickle.dump(atom_labels, file)\n",
    "\n",
    "with open(f\"pickled_data/wall_time_{solvorgas}.pkl\", \"wb\") as file: \n",
    "    pickle.dump(wall_time, file)\n",
    "\n",
    "with open(f\"pickled_data/atom_coords_{solvorgas}.pkl\", \"wb\") as file: \n",
    "    pickle.dump(atom_coords, file)\n",
    "\n",
    "\n",
    "np.save(f'pickled_data/data_{solvorgas}.npy', data)\n"
   ]
  },
  {
   "cell_type": "code",
   "execution_count": 58,
   "metadata": {},
   "outputs": [],
   "source": [
    "df=pd.DataFrame(data, columns=['ylide_enthalpy','ylide_freeenergy','ylide_rad_enthalpy','ylide_rad_freeenergy','ylide_h_enthalpy','ylide_h_freeenergy','Vibs All Positivse','Redox Potential (V vs SHE)','Deprotonation Free Energy (kJ/mol)'])"
   ]
  }
 ],
 "metadata": {
  "kernelspec": {
   "display_name": "ml",
   "language": "python",
   "name": "ml"
  },
  "language_info": {
   "codemirror_mode": {
    "name": "ipython",
    "version": 3
   },
   "file_extension": ".py",
   "mimetype": "text/x-python",
   "name": "python",
   "nbconvert_exporter": "python",
   "pygments_lexer": "ipython3",
   "version": "3.8.5"
  },
  "latex_envs": {
   "LaTeX_envs_menu_present": true,
   "autoclose": false,
   "autocomplete": true,
   "bibliofile": "biblio.bib",
   "cite_by": "apalike",
   "current_citInitial": 1,
   "eqLabelWithNumbers": true,
   "eqNumInitial": 1,
   "hotkeys": {
    "equation": "Ctrl-E",
    "itemize": "Ctrl-I"
   },
   "labels_anchors": false,
   "latex_user_defs": false,
   "report_style_numbering": false,
   "user_envs_cfg": false
  },
  "toc": {
   "base_numbering": 1,
   "nav_menu": {},
   "number_sections": true,
   "sideBar": true,
   "skip_h1_title": false,
   "title_cell": "Table of Contents",
   "title_sidebar": "Contents",
   "toc_cell": false,
   "toc_position": {},
   "toc_section_display": true,
   "toc_window_display": false
  },
  "varInspector": {
   "cols": {
    "lenName": 16,
    "lenType": 16,
    "lenVar": 40
   },
   "kernels_config": {
    "python": {
     "delete_cmd_postfix": "",
     "delete_cmd_prefix": "del ",
     "library": "var_list.py",
     "varRefreshCmd": "print(var_dic_list())"
    },
    "r": {
     "delete_cmd_postfix": ") ",
     "delete_cmd_prefix": "rm(",
     "library": "var_list.r",
     "varRefreshCmd": "cat(var_dic_list()) "
    }
   },
   "types_to_exclude": [
    "module",
    "function",
    "builtin_function_or_method",
    "instance",
    "_Feature"
   ],
   "window_display": false
  }
 },
 "nbformat": 4,
 "nbformat_minor": 4
}

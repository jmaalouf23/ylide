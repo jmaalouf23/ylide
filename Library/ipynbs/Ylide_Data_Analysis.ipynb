{
 "cells": [
  {
   "cell_type": "code",
   "execution_count": 21,
   "metadata": {},
   "outputs": [],
   "source": [
    "import sys\n",
    "import os\n",
    "\n",
    "sys.path.insert(1,'/data1/gridsan/groups/manthiram_lab/Utils')\n",
    "sys.path.insert(1,'/data1/gridsan/groups/manthiram_lab/DFT/DFT_script_gen')\n",
    "import utils\n",
    "from utils import make_xyz_from_output,checkvibs, check, no_to_symbol\n",
    "import convertxyz\n",
    "from convertxyz import mk_xyz_from_smiles_string, get_xyz_from_mol, write_xyz_from_xyz_arr,combine_labels_and_xyz\n",
    "import numpy as np\n",
    "import pandas as pd\n",
    "import pickle\n",
    "import re\n",
    "import importlib\n",
    "import cclib\n",
    "from os.path import exists\n",
    "import re\n",
    "import subprocess\n",
    "import matplotlib.pyplot as plt\n",
    "from tqdm import tqdm\n",
    "import matplotlib.pyplot as plt\n",
    "import plot as pl\n",
    "import pathlib\n",
    "from datetime import datetime, timedelta\n",
    "import pickle as pkl\n",
    "\n",
    "from rdkit import Chem"
   ]
  },
  {
   "cell_type": "code",
   "execution_count": 22,
   "metadata": {},
   "outputs": [
    {
     "data": {
      "text/plain": [
       "<module 'convertxyz' from '/data1/gridsan/groups/manthiram_lab/DFT/DFT_script_gen/convertxyz.py'>"
      ]
     },
     "execution_count": 22,
     "metadata": {},
     "output_type": "execute_result"
    }
   ],
   "source": [
    "importlib.reload(pl)\n",
    "importlib.reload(utils)\n",
    "importlib.reload(convertxyz)"
   ]
  },
  {
   "cell_type": "code",
   "execution_count": 4,
   "metadata": {},
   "outputs": [],
   "source": [
    "#Define Current directory\n",
    "cwd= '/home/gridsan/jmaalouf/vHTP/Code/ylide/Library'"
   ]
  },
  {
   "cell_type": "markdown",
   "metadata": {},
   "source": [
    "# Energy Functions"
   ]
  },
  {
   "cell_type": "code",
   "execution_count": 10,
   "metadata": {
    "jupyter": {
     "source_hidden": true
    }
   },
   "outputs": [],
   "source": [
    "def calcE(G_ox,G_red,n=1):\n",
    "    \"\"\" \n",
    "    Calculations the redox potential of a reaction using dG=-nFE-4.28 to calculate vs SHE.\n",
    "    4.28 is SHE vs vacuum.\n",
    "\n",
    "    Arguments:\n",
    "    G_ox (int): Gibbs free energy of oxidized species in hartree references to vacuum.\n",
    "    G_red (int): Gibbs free energy of reduced species in hartree references to vacuum.\n",
    "\n",
    "    Returns:\n",
    "    E vs SHE (int): Redox potential in volts references vs SHE. \n",
    "\n",
    "    \"\"\"  \n",
    "    F=96485 #Faraday's constant [=] C/mol\n",
    "    dG=G_ox-G_red\n",
    "    E= dG*2625.5*1000/(n*F) - 4.28 #Volts\n",
    "    return E\n",
    "\n",
    "\n",
    "\n",
    "\n",
    "def calcDPFE(G_ylide_h,G_ylide,solvent='gas'):\n",
    "    \"\"\" \n",
    "    Calculations the deprotonation Free Energy of a reaction, specifically going from ylide_h to ylide\n",
    "\n",
    "    Arguments:\n",
    "    ylide_h (int): Gibbs free energy of protonated ylide in hartree references to vacuum.\n",
    "    ylide (int): Gibbs free energy of ylide in hartree references to vacuum.\n",
    "\n",
    "    Returns:\n",
    "    DPFE (int): Deprotonation Free Energy in kJ/mol. \n",
    "\n",
    "    \"\"\" \n",
    "    \n",
    "    #Dictionaory of H+ energies at the M062X \n",
    "    proton_dict={\n",
    "    'gas': -0.010000,\n",
    "    'acetonitrile': -0.223572\n",
    "    }\n",
    "    \n",
    "    possible_solvents=['gas','acetonitrile']\n",
    "    assert solvent in possible_solvents, \"VALID SOLVENT NOT SPECIFIED\"\n",
    "    \n",
    "    return -(G_ylide_h-G_ylide-proton_dict[solvent])*2625.5    \n",
    "\n",
    "\n",
    "def calcGHBind(G_ylide_h,G_ylide_rad,solvent='gas'):\n",
    "    \"\"\" \n",
    "    Calculations the Hydrogen atom Binding Energy of a reaction, specifically going from ylide_rad to ylide_h\n",
    "\n",
    "    Arguments:\n",
    "    ylide_h (int): Gibbs free energy of protonated ylide in hartree references to vacuum.\n",
    "    ylide_rad (int): Gibbs free energy of ylide radical in hartree references to vacuum.\n",
    "\n",
    "    Returns:\n",
    "    GHBind (int): Hydrogen Atom Binding energy of an ylide in kJ/mol. \n",
    "\n",
    "    \"\"\" \n",
    "    \n",
    "    #Dictionaory of H atom energies at the M062X \n",
    "    Hatom_dict={\n",
    "    'gas': -0.508484,\n",
    "    'acetonitrile': -0.508404\n",
    "    }\n",
    "    \n",
    "    H2_dict={\n",
    "    'gas': -1.169741,\n",
    "    'acetonitrile':-1.169345\n",
    "    }\n",
    "    \n",
    "    possible_solvents=['gas','acetonitrile']\n",
    "    \n",
    "    assert solvent in possible_solvents, \"VALID SOLVENT NOT SPECIFIED\"\n",
    "    \n",
    "    return (G_ylide_h-G_ylide_rad-H2_dict[solvent]/2)*2625.5"
   ]
  },
  {
   "cell_type": "code",
   "execution_count": 5,
   "metadata": {},
   "outputs": [],
   "source": [
    "df=pd.read_csv('../sheets/Ylides_YlideRads_Cleaned.csv')\n",
    "y=df['Ylides'].to_list()\n",
    "yr=df['Ylides Rad'].to_list()\n",
    "yh=df['Ylides H'].to_list()"
   ]
  },
  {
   "cell_type": "markdown",
   "metadata": {},
   "source": [
    "## Get Num Atoms"
   ]
  },
  {
   "cell_type": "code",
   "execution_count": 8,
   "metadata": {},
   "outputs": [
    {
     "name": "stderr",
     "output_type": "stream",
     "text": [
      "100%|██████████| 19097/19097 [00:01<00:00, 10134.13it/s]\n"
     ]
    }
   ],
   "source": [
    "num_atoms=[]\n",
    "num_atoms_total=[]\n",
    "for i, s in enumerate(tqdm(y)):\n",
    "    mol=Chem.MolFromSmiles(s)\n",
    "    num_atoms.append(mol.GetNumAtoms())\n",
    "    mol=Chem.AddHs(mol)\n",
    "    num_atoms_total.append(mol.GetNumAtoms())"
   ]
  },
  {
   "cell_type": "code",
   "execution_count": 6,
   "metadata": {},
   "outputs": [],
   "source": [
    "with open(f\"pickled_data/num_atoms.pkl\", \"wb\") as file: \n",
    "    pickle.dump(num_atoms, file)\n",
    "    \n",
    "with open(f\"pickled_data/num_atoms_total.pkl\", \"wb\") as file: \n",
    "    pickle.dump(num_atoms_total, file)"
   ]
  },
  {
   "cell_type": "markdown",
   "metadata": {},
   "source": [
    "# Check for Failed Calcs"
   ]
  },
  {
   "cell_type": "code",
   "execution_count": 6,
   "metadata": {
    "scrolled": true
   },
   "outputs": [
    {
     "name": "stdin",
     "output_type": "stream",
     "text": [
      "Do you want to resubmit the memory allocation errors? (T/F) f\n"
     ]
    },
    {
     "name": "stderr",
     "output_type": "stream",
     "text": [
      "  1%|          | 87/9000 [00:07<10:31, 14.11it/s]"
     ]
    },
    {
     "name": "stdout",
     "output_type": "stream",
     "text": [
      "GEOMETRY OPT ERROR WITH ylide MOLECULE 1083\n"
     ]
    },
    {
     "name": "stderr",
     "output_type": "stream",
     "text": [
      "  4%|▍         | 360/9000 [00:31<10:45, 13.40it/s]  "
     ]
    },
    {
     "name": "stdout",
     "output_type": "stream",
     "text": [
      "GEOMETRY OPT ERROR WITH ylide MOLECULE 1357\n"
     ]
    },
    {
     "name": "stderr",
     "output_type": "stream",
     "text": [
      "  5%|▍         | 414/9000 [00:34<07:31, 19.01it/s]"
     ]
    },
    {
     "name": "stdout",
     "output_type": "stream",
     "text": [
      "ylide MOLECULE 1412 HAS NOT BEEN SUBMITTED\n"
     ]
    },
    {
     "name": "stderr",
     "output_type": "stream",
     "text": [
      "  5%|▍         | 427/9000 [00:35<09:01, 15.84it/s]"
     ]
    },
    {
     "name": "stdout",
     "output_type": "stream",
     "text": [
      "GEOMETRY OPT ERROR WITH ylide MOLECULE 1423\n"
     ]
    },
    {
     "name": "stderr",
     "output_type": "stream",
     "text": [
      "  8%|▊         | 719/9000 [01:00<14:36,  9.44it/s]  "
     ]
    },
    {
     "name": "stdout",
     "output_type": "stream",
     "text": [
      "GEOMETRY OPT ERROR WITH ylide MOLECULE 1717\n"
     ]
    },
    {
     "name": "stderr",
     "output_type": "stream",
     "text": [
      " 12%|█▏        | 1075/9000 [01:37<11:59, 11.01it/s] "
     ]
    },
    {
     "name": "stdout",
     "output_type": "stream",
     "text": [
      "GEOMETRY OPT ERROR WITH ylide MOLECULE 2074\n"
     ]
    },
    {
     "name": "stderr",
     "output_type": "stream",
     "text": [
      " 12%|█▏        | 1093/9000 [01:39<11:46, 11.19it/s]"
     ]
    },
    {
     "name": "stdout",
     "output_type": "stream",
     "text": [
      "GEOMETRY OPT ERROR WITH ylide MOLECULE 2090\n"
     ]
    },
    {
     "name": "stderr",
     "output_type": "stream",
     "text": [
      " 12%|█▏        | 1103/9000 [01:40<11:56, 11.02it/s]"
     ]
    },
    {
     "name": "stdout",
     "output_type": "stream",
     "text": [
      "GEOMETRY OPT ERROR WITH ylide MOLECULE 2101\n"
     ]
    },
    {
     "name": "stderr",
     "output_type": "stream",
     "text": [
      " 13%|█▎        | 1158/9000 [01:47<10:18, 12.67it/s]  "
     ]
    },
    {
     "name": "stdout",
     "output_type": "stream",
     "text": [
      "GEOMETRY OPT ERROR WITH ylide MOLECULE 2155\n"
     ]
    },
    {
     "name": "stderr",
     "output_type": "stream",
     "text": [
      " 14%|█▎        | 1226/9000 [01:54<11:06, 11.66it/s]"
     ]
    },
    {
     "name": "stdout",
     "output_type": "stream",
     "text": [
      "GEOMETRY OPT ERROR WITH ylide MOLECULE 2223\n"
     ]
    },
    {
     "name": "stderr",
     "output_type": "stream",
     "text": [
      " 14%|█▍        | 1250/9000 [01:56<13:30,  9.56it/s]"
     ]
    },
    {
     "name": "stdout",
     "output_type": "stream",
     "text": [
      "GEOMETRY OPT ERROR WITH ylide MOLECULE 2248\n"
     ]
    },
    {
     "name": "stderr",
     "output_type": "stream",
     "text": [
      " 15%|█▍        | 1319/9000 [02:02<13:46,  9.30it/s]"
     ]
    },
    {
     "name": "stdout",
     "output_type": "stream",
     "text": [
      "GEOMETRY OPT ERROR WITH ylide MOLECULE 2317\n"
     ]
    },
    {
     "name": "stderr",
     "output_type": "stream",
     "text": [
      " 15%|█▌        | 1357/9000 [02:06<13:00,  9.79it/s]"
     ]
    },
    {
     "name": "stdout",
     "output_type": "stream",
     "text": [
      "GEOMETRY OPT ERROR WITH ylide MOLECULE 2355\n"
     ]
    },
    {
     "name": "stderr",
     "output_type": "stream",
     "text": [
      " 16%|█▋        | 1476/9000 [02:20<14:45,  8.50it/s]"
     ]
    },
    {
     "name": "stdout",
     "output_type": "stream",
     "text": [
      "GEOMETRY OPT ERROR WITH ylide MOLECULE 2474\n"
     ]
    },
    {
     "name": "stderr",
     "output_type": "stream",
     "text": [
      " 17%|█▋        | 1573/9000 [02:29<10:31, 11.76it/s]"
     ]
    },
    {
     "name": "stdout",
     "output_type": "stream",
     "text": [
      "ylide MOLECULE 2570 HAS NOT BEEN SUBMITTED\n"
     ]
    },
    {
     "name": "stderr",
     "output_type": "stream",
     "text": [
      " 18%|█▊        | 1646/9000 [02:35<08:43, 14.04it/s]"
     ]
    },
    {
     "name": "stdout",
     "output_type": "stream",
     "text": [
      "ylide MOLECULE 2643 HAS NOT BEEN SUBMITTED\n"
     ]
    },
    {
     "name": "stderr",
     "output_type": "stream",
     "text": [
      " 20%|██        | 1822/9000 [02:53<10:35, 11.30it/s]"
     ]
    },
    {
     "name": "stdout",
     "output_type": "stream",
     "text": [
      "GEOMETRY OPT ERROR WITH ylide MOLECULE 2820\n"
     ]
    },
    {
     "name": "stderr",
     "output_type": "stream",
     "text": [
      " 21%|██        | 1852/9000 [02:55<11:11, 10.65it/s]"
     ]
    },
    {
     "name": "stdout",
     "output_type": "stream",
     "text": [
      "GEOMETRY OPT ERROR WITH ylide MOLECULE 2850\n"
     ]
    },
    {
     "name": "stderr",
     "output_type": "stream",
     "text": [
      " 21%|██        | 1858/9000 [02:56<11:18, 10.53it/s]"
     ]
    },
    {
     "name": "stdout",
     "output_type": "stream",
     "text": [
      "GEOMETRY OPT ERROR WITH ylide MOLECULE 2855\n",
      "GEOMETRY OPT ERROR WITH ylide MOLECULE 2856\n"
     ]
    },
    {
     "name": "stderr",
     "output_type": "stream",
     "text": [
      " 22%|██▏       | 1991/9000 [03:09<13:49,  8.45it/s]"
     ]
    },
    {
     "name": "stdout",
     "output_type": "stream",
     "text": [
      "GEOMETRY OPT ERROR WITH ylide MOLECULE 2989\n"
     ]
    },
    {
     "name": "stderr",
     "output_type": "stream",
     "text": [
      " 24%|██▎       | 2134/9000 [03:25<11:15, 10.16it/s]"
     ]
    },
    {
     "name": "stdout",
     "output_type": "stream",
     "text": [
      "GEOMETRY OPT ERROR WITH ylide MOLECULE 3131\n"
     ]
    },
    {
     "name": "stderr",
     "output_type": "stream",
     "text": [
      " 24%|██▍       | 2185/9000 [03:30<11:11, 10.14it/s]"
     ]
    },
    {
     "name": "stdout",
     "output_type": "stream",
     "text": [
      "GEOMETRY OPT ERROR WITH ylide MOLECULE 3182\n"
     ]
    },
    {
     "name": "stderr",
     "output_type": "stream",
     "text": [
      " 25%|██▌       | 2267/9000 [03:37<10:42, 10.48it/s]"
     ]
    },
    {
     "name": "stdout",
     "output_type": "stream",
     "text": [
      "GEOMETRY OPT ERROR WITH ylide MOLECULE 3265\n"
     ]
    },
    {
     "name": "stderr",
     "output_type": "stream",
     "text": [
      " 26%|██▋       | 2371/9000 [03:50<59:16,  1.86it/s]  "
     ]
    },
    {
     "name": "stdout",
     "output_type": "stream",
     "text": [
      "GEOMETRY OPT ERROR WITH ylide MOLECULE 3369\n"
     ]
    },
    {
     "name": "stderr",
     "output_type": "stream",
     "text": [
      " 28%|██▊       | 2559/9000 [04:05<10:12, 10.52it/s]"
     ]
    },
    {
     "name": "stdout",
     "output_type": "stream",
     "text": [
      "GEOMETRY OPT ERROR WITH ylide MOLECULE 3556\n"
     ]
    },
    {
     "name": "stderr",
     "output_type": "stream",
     "text": [
      " 31%|███       | 2776/9000 [04:30<09:20, 11.11it/s]"
     ]
    },
    {
     "name": "stdout",
     "output_type": "stream",
     "text": [
      "GEOMETRY OPT ERROR WITH ylide MOLECULE 3775\n"
     ]
    },
    {
     "name": "stderr",
     "output_type": "stream",
     "text": [
      " 34%|███▍      | 3055/9000 [04:59<07:58, 12.42it/s]  "
     ]
    },
    {
     "name": "stdout",
     "output_type": "stream",
     "text": [
      "GEOMETRY OPT ERROR WITH ylide MOLECULE 4052\n"
     ]
    },
    {
     "name": "stderr",
     "output_type": "stream",
     "text": [
      " 34%|███▍      | 3087/9000 [05:02<09:38, 10.22it/s]"
     ]
    },
    {
     "name": "stdout",
     "output_type": "stream",
     "text": [
      "GEOMETRY OPT ERROR WITH ylide MOLECULE 4084\n"
     ]
    },
    {
     "name": "stderr",
     "output_type": "stream",
     "text": [
      " 35%|███▍      | 3109/9000 [05:04<08:04, 12.15it/s]"
     ]
    },
    {
     "name": "stdout",
     "output_type": "stream",
     "text": [
      "GEOMETRY OPT ERROR WITH ylide MOLECULE 4107\n"
     ]
    },
    {
     "name": "stderr",
     "output_type": "stream",
     "text": [
      " 36%|███▌      | 3253/9000 [05:20<11:03,  8.67it/s]  "
     ]
    },
    {
     "name": "stdout",
     "output_type": "stream",
     "text": [
      "GEOMETRY OPT ERROR WITH ylide MOLECULE 4252\n"
     ]
    },
    {
     "name": "stderr",
     "output_type": "stream",
     "text": [
      " 37%|███▋      | 3315/9000 [05:26<08:09, 11.62it/s]"
     ]
    },
    {
     "name": "stdout",
     "output_type": "stream",
     "text": [
      "ylide MOLECULE 4312 HAS NOT BEEN SUBMITTED\n"
     ]
    },
    {
     "name": "stderr",
     "output_type": "stream",
     "text": [
      " 37%|███▋      | 3350/9000 [05:30<11:39,  8.07it/s]"
     ]
    },
    {
     "name": "stdout",
     "output_type": "stream",
     "text": [
      "GEOMETRY OPT ERROR WITH ylide MOLECULE 4347\n"
     ]
    },
    {
     "name": "stderr",
     "output_type": "stream",
     "text": [
      " 38%|███▊      | 3418/9000 [05:38<12:21,  7.53it/s]"
     ]
    },
    {
     "name": "stdout",
     "output_type": "stream",
     "text": [
      "GEOMETRY OPT ERROR WITH ylide MOLECULE 4416\n"
     ]
    },
    {
     "name": "stderr",
     "output_type": "stream",
     "text": [
      " 39%|███▊      | 3466/9000 [05:46<13:28,  6.84it/s]  "
     ]
    },
    {
     "name": "stdout",
     "output_type": "stream",
     "text": [
      "GEOMETRY OPT ERROR WITH ylide MOLECULE 4464\n"
     ]
    },
    {
     "name": "stderr",
     "output_type": "stream",
     "text": [
      " 39%|███▊      | 3482/9000 [05:48<08:59, 10.24it/s]"
     ]
    },
    {
     "name": "stdout",
     "output_type": "stream",
     "text": [
      "ylide MOLECULE 4480 HAS NOT BEEN SUBMITTED\n"
     ]
    },
    {
     "name": "stderr",
     "output_type": "stream",
     "text": [
      " 39%|███▉      | 3533/9000 [05:52<07:20, 12.42it/s]"
     ]
    },
    {
     "name": "stdout",
     "output_type": "stream",
     "text": [
      "ylide MOLECULE 4530 HAS NOT BEEN SUBMITTED\n"
     ]
    },
    {
     "name": "stderr",
     "output_type": "stream",
     "text": [
      " 40%|████      | 3618/9000 [05:59<08:22, 10.72it/s]"
     ]
    },
    {
     "name": "stdout",
     "output_type": "stream",
     "text": [
      "GEOMETRY OPT ERROR WITH ylide MOLECULE 4616\n"
     ]
    },
    {
     "name": "stderr",
     "output_type": "stream",
     "text": [
      " 44%|████▍     | 3939/9000 [06:29<08:51,  9.51it/s]"
     ]
    },
    {
     "name": "stdout",
     "output_type": "stream",
     "text": [
      "GEOMETRY OPT ERROR WITH ylide MOLECULE 4937\n"
     ]
    },
    {
     "name": "stderr",
     "output_type": "stream",
     "text": [
      " 45%|████▍     | 4009/9000 [06:36<05:58, 13.91it/s]"
     ]
    },
    {
     "name": "stdout",
     "output_type": "stream",
     "text": [
      "ylide MOLECULE 5007 HAS NOT BEEN SUBMITTED\n"
     ]
    },
    {
     "name": "stderr",
     "output_type": "stream",
     "text": [
      " 49%|████▉     | 4430/9000 [07:22<06:18, 12.08it/s]"
     ]
    },
    {
     "name": "stdout",
     "output_type": "stream",
     "text": [
      "GEOMETRY OPT ERROR WITH ylide MOLECULE 5427\n",
      "GEOMETRY OPT ERROR WITH ylide MOLECULE 5429\n"
     ]
    },
    {
     "name": "stderr",
     "output_type": "stream",
     "text": [
      " 50%|████▉     | 4456/9000 [07:25<08:37,  8.79it/s]"
     ]
    },
    {
     "name": "stdout",
     "output_type": "stream",
     "text": [
      "GEOMETRY OPT ERROR WITH ylide MOLECULE 5453\n"
     ]
    },
    {
     "name": "stderr",
     "output_type": "stream",
     "text": [
      " 50%|████▉     | 4468/9000 [07:27<09:23,  8.04it/s]"
     ]
    },
    {
     "name": "stdout",
     "output_type": "stream",
     "text": [
      "GEOMETRY OPT ERROR WITH ylide MOLECULE 5467\n"
     ]
    },
    {
     "name": "stderr",
     "output_type": "stream",
     "text": [
      " 54%|█████▍    | 4842/9000 [08:11<05:54, 11.71it/s]"
     ]
    },
    {
     "name": "stdout",
     "output_type": "stream",
     "text": [
      "GEOMETRY OPT ERROR WITH ylide MOLECULE 5839\n"
     ]
    },
    {
     "name": "stderr",
     "output_type": "stream",
     "text": [
      " 54%|█████▍    | 4878/9000 [08:15<16:49,  4.08it/s]"
     ]
    },
    {
     "name": "stdout",
     "output_type": "stream",
     "text": [
      "GEOMETRY OPT ERROR WITH ylide MOLECULE 5877\n"
     ]
    },
    {
     "name": "stderr",
     "output_type": "stream",
     "text": [
      " 55%|█████▍    | 4921/9000 [08:20<05:42, 11.90it/s]"
     ]
    },
    {
     "name": "stdout",
     "output_type": "stream",
     "text": [
      "GEOMETRY OPT ERROR WITH ylide MOLECULE 5920\n"
     ]
    },
    {
     "name": "stderr",
     "output_type": "stream",
     "text": [
      " 57%|█████▋    | 5105/9000 [08:38<08:53,  7.30it/s]"
     ]
    },
    {
     "name": "stdout",
     "output_type": "stream",
     "text": [
      "GEOMETRY OPT ERROR WITH ylide MOLECULE 6103\n"
     ]
    },
    {
     "name": "stderr",
     "output_type": "stream",
     "text": [
      " 57%|█████▋    | 5109/9000 [08:38<07:33,  8.58it/s]"
     ]
    },
    {
     "name": "stdout",
     "output_type": "stream",
     "text": [
      "GEOMETRY OPT ERROR WITH ylide MOLECULE 6107\n"
     ]
    },
    {
     "name": "stderr",
     "output_type": "stream",
     "text": [
      " 57%|█████▋    | 5151/9000 [08:42<06:49,  9.39it/s]"
     ]
    },
    {
     "name": "stdout",
     "output_type": "stream",
     "text": [
      "GEOMETRY OPT ERROR WITH ylide MOLECULE 6148\n"
     ]
    },
    {
     "name": "stderr",
     "output_type": "stream",
     "text": [
      " 58%|█████▊    | 5198/9000 [08:51<07:55,  7.99it/s]"
     ]
    },
    {
     "name": "stdout",
     "output_type": "stream",
     "text": [
      "GEOMETRY OPT ERROR WITH ylide MOLECULE 6196\n"
     ]
    },
    {
     "name": "stderr",
     "output_type": "stream",
     "text": [
      " 62%|██████▏   | 5542/9000 [09:29<04:00, 14.39it/s]"
     ]
    },
    {
     "name": "stdout",
     "output_type": "stream",
     "text": [
      "ylide MOLECULE 6539 HAS NOT BEEN SUBMITTED\n"
     ]
    },
    {
     "name": "stderr",
     "output_type": "stream",
     "text": [
      " 62%|██████▏   | 5597/9000 [09:33<03:48, 14.92it/s]"
     ]
    },
    {
     "name": "stdout",
     "output_type": "stream",
     "text": [
      "GEOMETRY OPT ERROR WITH ylide MOLECULE 6594\n"
     ]
    },
    {
     "name": "stderr",
     "output_type": "stream",
     "text": [
      " 64%|██████▎   | 5735/9000 [09:50<05:51,  9.28it/s]"
     ]
    },
    {
     "name": "stdout",
     "output_type": "stream",
     "text": [
      "GEOMETRY OPT ERROR WITH ylide MOLECULE 6733\n"
     ]
    },
    {
     "name": "stderr",
     "output_type": "stream",
     "text": [
      " 65%|██████▌   | 5866/9000 [10:05<05:40,  9.19it/s]"
     ]
    },
    {
     "name": "stdout",
     "output_type": "stream",
     "text": [
      "GEOMETRY OPT ERROR WITH ylide MOLECULE 6864\n"
     ]
    },
    {
     "name": "stderr",
     "output_type": "stream",
     "text": [
      " 66%|██████▌   | 5911/9000 [10:11<05:01, 10.24it/s]"
     ]
    },
    {
     "name": "stdout",
     "output_type": "stream",
     "text": [
      "ylide MOLECULE 6908 HAS NOT BEEN SUBMITTED\n"
     ]
    },
    {
     "name": "stderr",
     "output_type": "stream",
     "text": [
      " 66%|██████▌   | 5923/9000 [10:12<04:59, 10.26it/s]"
     ]
    },
    {
     "name": "stdout",
     "output_type": "stream",
     "text": [
      "ylide MOLECULE 6920 HAS NOT BEEN SUBMITTED\n"
     ]
    },
    {
     "name": "stderr",
     "output_type": "stream",
     "text": [
      " 66%|██████▌   | 5962/9000 [10:20<04:16, 11.86it/s]"
     ]
    },
    {
     "name": "stdout",
     "output_type": "stream",
     "text": [
      "ylide MOLECULE 6960 HAS NOT BEEN SUBMITTED\n"
     ]
    },
    {
     "name": "stderr",
     "output_type": "stream",
     "text": [
      " 67%|██████▋   | 6023/9000 [10:26<04:29, 11.05it/s]"
     ]
    },
    {
     "name": "stdout",
     "output_type": "stream",
     "text": [
      "GEOMETRY OPT ERROR WITH ylide MOLECULE 7020\n"
     ]
    },
    {
     "name": "stderr",
     "output_type": "stream",
     "text": [
      " 67%|██████▋   | 6036/9000 [10:27<03:50, 12.87it/s]"
     ]
    },
    {
     "name": "stdout",
     "output_type": "stream",
     "text": [
      "ylide MOLECULE 7034 HAS NOT BEEN SUBMITTED\n"
     ]
    },
    {
     "name": "stderr",
     "output_type": "stream",
     "text": [
      " 68%|██████▊   | 6091/9000 [10:33<04:30, 10.76it/s]"
     ]
    },
    {
     "name": "stdout",
     "output_type": "stream",
     "text": [
      "GEOMETRY OPT ERROR WITH ylide MOLECULE 7088\n"
     ]
    },
    {
     "name": "stderr",
     "output_type": "stream",
     "text": [
      " 69%|██████▊   | 6176/9000 [10:40<03:13, 14.60it/s]"
     ]
    },
    {
     "name": "stdout",
     "output_type": "stream",
     "text": [
      "GEOMETRY OPT ERROR WITH ylide MOLECULE 7172\n"
     ]
    },
    {
     "name": "stderr",
     "output_type": "stream",
     "text": [
      " 69%|██████▉   | 6208/9000 [10:42<03:04, 15.10it/s]"
     ]
    },
    {
     "name": "stdout",
     "output_type": "stream",
     "text": [
      "ylide MOLECULE 7206 HAS NOT BEEN SUBMITTED\n"
     ]
    },
    {
     "name": "stderr",
     "output_type": "stream",
     "text": [
      " 71%|███████   | 6354/9000 [10:57<03:06, 14.16it/s]"
     ]
    },
    {
     "name": "stdout",
     "output_type": "stream",
     "text": [
      "GEOMETRY OPT ERROR WITH ylide MOLECULE 7352\n"
     ]
    },
    {
     "name": "stderr",
     "output_type": "stream",
     "text": [
      " 71%|███████   | 6364/9000 [10:58<03:24, 12.91it/s]"
     ]
    },
    {
     "name": "stdout",
     "output_type": "stream",
     "text": [
      "ylide MOLECULE 7361 HAS NOT BEEN SUBMITTED\n"
     ]
    },
    {
     "name": "stderr",
     "output_type": "stream",
     "text": [
      " 72%|███████▏  | 6467/9000 [11:09<05:34,  7.57it/s]"
     ]
    },
    {
     "name": "stdout",
     "output_type": "stream",
     "text": [
      "GEOMETRY OPT ERROR WITH ylide MOLECULE 7465\n"
     ]
    },
    {
     "name": "stderr",
     "output_type": "stream",
     "text": [
      " 72%|███████▏  | 6485/9000 [11:10<03:20, 12.55it/s]"
     ]
    },
    {
     "name": "stdout",
     "output_type": "stream",
     "text": [
      "ylide MOLECULE 7484 HAS NOT BEEN SUBMITTED\n"
     ]
    },
    {
     "name": "stderr",
     "output_type": "stream",
     "text": [
      " 73%|███████▎  | 6606/9000 [11:25<03:13, 12.39it/s]"
     ]
    },
    {
     "name": "stdout",
     "output_type": "stream",
     "text": [
      "GEOMETRY OPT ERROR WITH ylide MOLECULE 7604\n"
     ]
    },
    {
     "name": "stderr",
     "output_type": "stream",
     "text": [
      " 76%|███████▌  | 6808/9000 [11:40<02:50, 12.86it/s]"
     ]
    },
    {
     "name": "stdout",
     "output_type": "stream",
     "text": [
      "ylide MOLECULE 7806 HAS NOT BEEN SUBMITTED\n"
     ]
    },
    {
     "name": "stderr",
     "output_type": "stream",
     "text": [
      " 77%|███████▋  | 6945/9000 [11:55<02:32, 13.49it/s]"
     ]
    },
    {
     "name": "stdout",
     "output_type": "stream",
     "text": [
      "ylide MOLECULE 7943 HAS NOT BEEN SUBMITTED\n",
      "ylide MOLECULE 7945 HAS NOT BEEN SUBMITTED\n"
     ]
    },
    {
     "name": "stderr",
     "output_type": "stream",
     "text": [
      " 77%|███████▋  | 6960/9000 [11:56<02:47, 12.20it/s]"
     ]
    },
    {
     "name": "stdout",
     "output_type": "stream",
     "text": [
      "GEOMETRY OPT ERROR WITH ylide MOLECULE 7957\n"
     ]
    },
    {
     "name": "stderr",
     "output_type": "stream",
     "text": [
      " 78%|███████▊  | 7057/9000 [12:02<01:34, 20.53it/s]"
     ]
    },
    {
     "name": "stdout",
     "output_type": "stream",
     "text": [
      "ylide MOLECULE 8029 HAS NOT BEEN SUBMITTED\n",
      "ylide MOLECULE 8030 HAS NOT BEEN SUBMITTED\n",
      "ylide MOLECULE 8031 HAS NOT BEEN SUBMITTED\n",
      "ylide MOLECULE 8032 HAS NOT BEEN SUBMITTED\n",
      "ylide MOLECULE 8033 HAS NOT BEEN SUBMITTED\n",
      "ylide MOLECULE 8034 HAS NOT BEEN SUBMITTED\n",
      "ylide MOLECULE 8035 HAS NOT BEEN SUBMITTED\n",
      "ylide MOLECULE 8036 HAS NOT BEEN SUBMITTED\n",
      "ylide MOLECULE 8037 HAS NOT BEEN SUBMITTED\n",
      "ylide MOLECULE 8038 HAS NOT BEEN SUBMITTED\n",
      "ylide MOLECULE 8039 HAS NOT BEEN SUBMITTED\n",
      "ylide MOLECULE 8040 HAS NOT BEEN SUBMITTED\n",
      "ylide MOLECULE 8041 HAS NOT BEEN SUBMITTED\n",
      "ylide MOLECULE 8042 HAS NOT BEEN SUBMITTED\n",
      "ylide MOLECULE 8043 HAS NOT BEEN SUBMITTED\n",
      "ylide MOLECULE 8044 HAS NOT BEEN SUBMITTED\n",
      "ylide MOLECULE 8045 HAS NOT BEEN SUBMITTED\n",
      "ylide MOLECULE 8046 HAS NOT BEEN SUBMITTED\n",
      "ylide MOLECULE 8047 HAS NOT BEEN SUBMITTED\n",
      "ylide MOLECULE 8048 HAS NOT BEEN SUBMITTED\n",
      "ylide MOLECULE 8049 HAS NOT BEEN SUBMITTED\n",
      "ylide MOLECULE 8050 HAS NOT BEEN SUBMITTED\n",
      "ylide MOLECULE 8051 HAS NOT BEEN SUBMITTED\n",
      "ylide MOLECULE 8052 HAS NOT BEEN SUBMITTED\n",
      "ylide MOLECULE 8053 HAS NOT BEEN SUBMITTED\n",
      "ylide MOLECULE 8054 HAS NOT BEEN SUBMITTED\n",
      "ylide MOLECULE 8055 HAS NOT BEEN SUBMITTED\n",
      "ylide MOLECULE 8056 HAS NOT BEEN SUBMITTED\n",
      "ylide MOLECULE 8057 HAS NOT BEEN SUBMITTED\n",
      "ylide MOLECULE 8058 HAS NOT BEEN SUBMITTED\n"
     ]
    },
    {
     "name": "stderr",
     "output_type": "stream",
     "text": [
      " 79%|███████▊  | 7074/9000 [12:02<01:01, 31.54it/s]"
     ]
    },
    {
     "name": "stdout",
     "output_type": "stream",
     "text": [
      "ylide MOLECULE 8059 HAS NOT BEEN SUBMITTED\n",
      "ylide MOLECULE 8060 HAS NOT BEEN SUBMITTED\n",
      "ylide MOLECULE 8061 HAS NOT BEEN SUBMITTED\n",
      "ylide MOLECULE 8062 HAS NOT BEEN SUBMITTED\n",
      "ylide MOLECULE 8063 HAS NOT BEEN SUBMITTED\n",
      "ylide MOLECULE 8064 HAS NOT BEEN SUBMITTED\n",
      "ylide MOLECULE 8065 HAS NOT BEEN SUBMITTED\n",
      "ylide MOLECULE 8066 HAS NOT BEEN SUBMITTED\n",
      "ylide MOLECULE 8067 HAS NOT BEEN SUBMITTED\n",
      "ylide MOLECULE 8068 HAS NOT BEEN SUBMITTED\n",
      "ylide MOLECULE 8069 HAS NOT BEEN SUBMITTED\n",
      "ylide MOLECULE 8070 HAS NOT BEEN SUBMITTED\n",
      "ylide MOLECULE 8071 HAS NOT BEEN SUBMITTED\n",
      "ylide MOLECULE 8072 HAS NOT BEEN SUBMITTED\n"
     ]
    },
    {
     "name": "stderr",
     "output_type": "stream",
     "text": [
      " 80%|███████▉  | 7194/9000 [12:14<02:33, 11.73it/s]"
     ]
    },
    {
     "name": "stdout",
     "output_type": "stream",
     "text": [
      "GEOMETRY OPT ERROR WITH ylide MOLECULE 8191\n"
     ]
    },
    {
     "name": "stderr",
     "output_type": "stream",
     "text": [
      " 81%|████████  | 7280/9000 [12:22<01:40, 17.09it/s]"
     ]
    },
    {
     "name": "stdout",
     "output_type": "stream",
     "text": [
      "UNKNOWN ERROR, ylide MOLECULE 8254 CALCULATION DID NOT FINSIH\n",
      "ylide MOLECULE 8255 HAS NOT BEEN SUBMITTED\n",
      "ylide MOLECULE 8256 HAS NOT BEEN SUBMITTED\n",
      "ylide MOLECULE 8257 HAS NOT BEEN SUBMITTED\n",
      "ylide MOLECULE 8258 HAS NOT BEEN SUBMITTED\n",
      "ylide MOLECULE 8259 HAS NOT BEEN SUBMITTED\n",
      "ylide MOLECULE 8260 HAS NOT BEEN SUBMITTED\n",
      "ylide MOLECULE 8261 HAS NOT BEEN SUBMITTED\n",
      "ylide MOLECULE 8262 HAS NOT BEEN SUBMITTED\n",
      "ylide MOLECULE 8263 HAS NOT BEEN SUBMITTED\n",
      "ylide MOLECULE 8264 HAS NOT BEEN SUBMITTED\n",
      "ylide MOLECULE 8265 HAS NOT BEEN SUBMITTED\n",
      "ylide MOLECULE 8266 HAS NOT BEEN SUBMITTED\n",
      "ylide MOLECULE 8267 HAS NOT BEEN SUBMITTED\n",
      "ylide MOLECULE 8268 HAS NOT BEEN SUBMITTED\n",
      "ylide MOLECULE 8269 HAS NOT BEEN SUBMITTED\n",
      "ylide MOLECULE 8270 HAS NOT BEEN SUBMITTED\n",
      "ylide MOLECULE 8271 HAS NOT BEEN SUBMITTED\n",
      "ylide MOLECULE 8272 HAS NOT BEEN SUBMITTED\n",
      "ylide MOLECULE 8273 HAS NOT BEEN SUBMITTED\n",
      "ylide MOLECULE 8274 HAS NOT BEEN SUBMITTED\n",
      "ylide MOLECULE 8275 HAS NOT BEEN SUBMITTED\n",
      "ylide MOLECULE 8276 HAS NOT BEEN SUBMITTED\n",
      "ylide MOLECULE 8277 HAS NOT BEEN SUBMITTED\n",
      "ylide MOLECULE 8278 HAS NOT BEEN SUBMITTED\n",
      "ylide MOLECULE 8279 HAS NOT BEEN SUBMITTED\n",
      "ylide MOLECULE 8280 HAS NOT BEEN SUBMITTED\n",
      "ylide MOLECULE 8281 HAS NOT BEEN SUBMITTED\n",
      "ylide MOLECULE 8282 HAS NOT BEEN SUBMITTED\n",
      "ylide MOLECULE 8283 HAS NOT BEEN SUBMITTED\n",
      "ylide MOLECULE 8284 HAS NOT BEEN SUBMITTED\n",
      "ylide MOLECULE 8285 HAS NOT BEEN SUBMITTED\n",
      "ylide MOLECULE 8286 HAS NOT BEEN SUBMITTED\n",
      "ylide MOLECULE 8287 HAS NOT BEEN SUBMITTED\n",
      "ylide MOLECULE 8288 HAS NOT BEEN SUBMITTED\n",
      "ylide MOLECULE 8289 HAS NOT BEEN SUBMITTED\n",
      "ylide MOLECULE 8290 HAS NOT BEEN SUBMITTED\n",
      "ylide MOLECULE 8291 HAS NOT BEEN SUBMITTED\n",
      "ylide MOLECULE 8292 HAS NOT BEEN SUBMITTED\n",
      "ylide MOLECULE 8293 HAS NOT BEEN SUBMITTED\n",
      "ylide MOLECULE 8294 HAS NOT BEEN SUBMITTED\n",
      "ylide MOLECULE 8295 HAS NOT BEEN SUBMITTED\n",
      "ylide MOLECULE 8296 HAS NOT BEEN SUBMITTED\n",
      "ylide MOLECULE 8297 HAS NOT BEEN SUBMITTED\n",
      "ylide MOLECULE 8298 HAS NOT BEEN SUBMITTED\n",
      "ylide MOLECULE 8299 HAS NOT BEEN SUBMITTED\n",
      "ylide MOLECULE 8300 HAS NOT BEEN SUBMITTED\n",
      "ylide MOLECULE 8301 HAS NOT BEEN SUBMITTED\n",
      "ylide MOLECULE 8302 HAS NOT BEEN SUBMITTED\n",
      "ylide MOLECULE 8303 HAS NOT BEEN SUBMITTED\n",
      "ylide MOLECULE 8304 HAS NOT BEEN SUBMITTED\n",
      "ylide MOLECULE 8305 HAS NOT BEEN SUBMITTED\n",
      "ylide MOLECULE 8306 HAS NOT BEEN SUBMITTED\n",
      "ylide MOLECULE 8307 HAS NOT BEEN SUBMITTED\n",
      "ylide MOLECULE 8308 HAS NOT BEEN SUBMITTED\n",
      "ylide MOLECULE 8309 HAS NOT BEEN SUBMITTED\n",
      "ylide MOLECULE 8310 HAS NOT BEEN SUBMITTED\n",
      "ylide MOLECULE 8311 HAS NOT BEEN SUBMITTED\n",
      "ylide MOLECULE 8312 HAS NOT BEEN SUBMITTED\n"
     ]
    },
    {
     "name": "stderr",
     "output_type": "stream",
     "text": [
      " 82%|████████▏ | 7362/9000 [12:22<00:49, 33.27it/s]"
     ]
    },
    {
     "name": "stdout",
     "output_type": "stream",
     "text": [
      "ylide MOLECULE 8313 HAS NOT BEEN SUBMITTED\n",
      "ylide MOLECULE 8314 HAS NOT BEEN SUBMITTED\n",
      "ylide MOLECULE 8315 HAS NOT BEEN SUBMITTED\n",
      "ylide MOLECULE 8316 HAS NOT BEEN SUBMITTED\n",
      "ylide MOLECULE 8317 HAS NOT BEEN SUBMITTED\n",
      "ylide MOLECULE 8318 HAS NOT BEEN SUBMITTED\n",
      "ylide MOLECULE 8319 HAS NOT BEEN SUBMITTED\n",
      "ylide MOLECULE 8320 HAS NOT BEEN SUBMITTED\n",
      "ylide MOLECULE 8321 HAS NOT BEEN SUBMITTED\n",
      "ylide MOLECULE 8322 HAS NOT BEEN SUBMITTED\n",
      "ylide MOLECULE 8323 HAS NOT BEEN SUBMITTED\n",
      "ylide MOLECULE 8324 HAS NOT BEEN SUBMITTED\n",
      "ylide MOLECULE 8325 HAS NOT BEEN SUBMITTED\n",
      "ylide MOLECULE 8326 HAS NOT BEEN SUBMITTED\n",
      "ylide MOLECULE 8327 HAS NOT BEEN SUBMITTED\n",
      "ylide MOLECULE 8328 HAS NOT BEEN SUBMITTED\n",
      "ylide MOLECULE 8329 HAS NOT BEEN SUBMITTED\n",
      "ylide MOLECULE 8330 HAS NOT BEEN SUBMITTED\n",
      "ylide MOLECULE 8331 HAS NOT BEEN SUBMITTED\n",
      "ylide MOLECULE 8332 HAS NOT BEEN SUBMITTED\n",
      "ylide MOLECULE 8333 HAS NOT BEEN SUBMITTED\n",
      "ylide MOLECULE 8334 HAS NOT BEEN SUBMITTED\n",
      "ylide MOLECULE 8335 HAS NOT BEEN SUBMITTED\n",
      "ylide MOLECULE 8336 HAS NOT BEEN SUBMITTED\n",
      "ylide MOLECULE 8337 HAS NOT BEEN SUBMITTED\n",
      "ylide MOLECULE 8338 HAS NOT BEEN SUBMITTED\n",
      "ylide MOLECULE 8339 HAS NOT BEEN SUBMITTED\n",
      "ylide MOLECULE 8340 HAS NOT BEEN SUBMITTED\n",
      "ylide MOLECULE 8341 HAS NOT BEEN SUBMITTED\n",
      "ylide MOLECULE 8342 HAS NOT BEEN SUBMITTED\n",
      "ylide MOLECULE 8343 HAS NOT BEEN SUBMITTED\n",
      "ylide MOLECULE 8344 HAS NOT BEEN SUBMITTED\n",
      "ylide MOLECULE 8345 HAS NOT BEEN SUBMITTED\n",
      "ylide MOLECULE 8346 HAS NOT BEEN SUBMITTED\n",
      "ylide MOLECULE 8347 HAS NOT BEEN SUBMITTED\n",
      "ylide MOLECULE 8348 HAS NOT BEEN SUBMITTED\n",
      "ylide MOLECULE 8349 HAS NOT BEEN SUBMITTED\n",
      "ylide MOLECULE 8350 HAS NOT BEEN SUBMITTED\n",
      "ylide MOLECULE 8351 HAS NOT BEEN SUBMITTED\n",
      "ylide MOLECULE 8352 HAS NOT BEEN SUBMITTED\n",
      "ylide MOLECULE 8353 HAS NOT BEEN SUBMITTED\n",
      "ylide MOLECULE 8354 HAS NOT BEEN SUBMITTED\n",
      "ylide MOLECULE 8355 HAS NOT BEEN SUBMITTED\n",
      "ylide MOLECULE 8356 HAS NOT BEEN SUBMITTED\n",
      "ylide MOLECULE 8357 HAS NOT BEEN SUBMITTED\n",
      "ylide MOLECULE 8358 HAS NOT BEEN SUBMITTED\n",
      "ylide MOLECULE 8359 HAS NOT BEEN SUBMITTED\n",
      "ylide MOLECULE 8360 HAS NOT BEEN SUBMITTED\n",
      "ylide MOLECULE 8361 HAS NOT BEEN SUBMITTED\n",
      "ylide MOLECULE 8362 HAS NOT BEEN SUBMITTED\n",
      "ylide MOLECULE 8363 HAS NOT BEEN SUBMITTED\n",
      "ylide MOLECULE 8364 HAS NOT BEEN SUBMITTED\n",
      "ylide MOLECULE 8365 HAS NOT BEEN SUBMITTED\n",
      "ylide MOLECULE 8366 HAS NOT BEEN SUBMITTED\n",
      "ylide MOLECULE 8367 HAS NOT BEEN SUBMITTED\n",
      "ylide MOLECULE 8368 HAS NOT BEEN SUBMITTED\n",
      "ylide MOLECULE 8369 HAS NOT BEEN SUBMITTED\n",
      "ylide MOLECULE 8370 HAS NOT BEEN SUBMITTED\n",
      "ylide MOLECULE 8371 HAS NOT BEEN SUBMITTED\n",
      "ylide MOLECULE 8372 HAS NOT BEEN SUBMITTED\n",
      "ylide MOLECULE 8373 HAS NOT BEEN SUBMITTED\n",
      "ylide MOLECULE 8374 HAS NOT BEEN SUBMITTED\n",
      "ylide MOLECULE 8375 HAS NOT BEEN SUBMITTED\n",
      "ylide MOLECULE 8376 HAS NOT BEEN SUBMITTED\n",
      "ylide MOLECULE 8377 HAS NOT BEEN SUBMITTED\n",
      "ylide MOLECULE 8378 HAS NOT BEEN SUBMITTED\n"
     ]
    },
    {
     "name": "stderr",
     "output_type": "stream",
     "text": [
      " 82%|████████▏ | 7410/9000 [12:22<00:34, 46.15it/s]"
     ]
    },
    {
     "name": "stdout",
     "output_type": "stream",
     "text": [
      "ylide MOLECULE 8379 HAS NOT BEEN SUBMITTED\n",
      "ylide MOLECULE 8380 HAS NOT BEEN SUBMITTED\n",
      "ylide MOLECULE 8381 HAS NOT BEEN SUBMITTED\n",
      "ylide MOLECULE 8382 HAS NOT BEEN SUBMITTED\n",
      "ylide MOLECULE 8383 HAS NOT BEEN SUBMITTED\n",
      "ylide MOLECULE 8384 HAS NOT BEEN SUBMITTED\n",
      "ylide MOLECULE 8385 HAS NOT BEEN SUBMITTED\n",
      "ylide MOLECULE 8386 HAS NOT BEEN SUBMITTED\n",
      "ylide MOLECULE 8387 HAS NOT BEEN SUBMITTED\n",
      "ylide MOLECULE 8388 HAS NOT BEEN SUBMITTED\n",
      "ylide MOLECULE 8389 HAS NOT BEEN SUBMITTED\n",
      "ylide MOLECULE 8390 HAS NOT BEEN SUBMITTED\n",
      "ylide MOLECULE 8391 HAS NOT BEEN SUBMITTED\n",
      "ylide MOLECULE 8392 HAS NOT BEEN SUBMITTED\n",
      "ylide MOLECULE 8393 HAS NOT BEEN SUBMITTED\n",
      "ylide MOLECULE 8394 HAS NOT BEEN SUBMITTED\n",
      "ylide MOLECULE 8395 HAS NOT BEEN SUBMITTED\n",
      "ylide MOLECULE 8396 HAS NOT BEEN SUBMITTED\n",
      "ylide MOLECULE 8397 HAS NOT BEEN SUBMITTED\n",
      "ylide MOLECULE 8398 HAS NOT BEEN SUBMITTED\n",
      "ylide MOLECULE 8399 HAS NOT BEEN SUBMITTED\n",
      "ylide MOLECULE 8400 HAS NOT BEEN SUBMITTED\n",
      "ylide MOLECULE 8401 HAS NOT BEEN SUBMITTED\n",
      "ylide MOLECULE 8402 HAS NOT BEEN SUBMITTED\n",
      "ylide MOLECULE 8403 HAS NOT BEEN SUBMITTED\n",
      "ylide MOLECULE 8404 HAS NOT BEEN SUBMITTED\n",
      "ylide MOLECULE 8405 HAS NOT BEEN SUBMITTED\n",
      "ylide MOLECULE 8406 HAS NOT BEEN SUBMITTED\n",
      "ylide MOLECULE 8407 HAS NOT BEEN SUBMITTED\n",
      "ylide MOLECULE 8408 HAS NOT BEEN SUBMITTED\n",
      "ylide MOLECULE 8409 HAS NOT BEEN SUBMITTED\n",
      "ylide MOLECULE 8410 HAS NOT BEEN SUBMITTED\n",
      "ylide MOLECULE 8411 HAS NOT BEEN SUBMITTED\n"
     ]
    },
    {
     "name": "stderr",
     "output_type": "stream",
     "text": [
      " 83%|████████▎ | 7462/9000 [12:27<01:23, 18.33it/s]"
     ]
    },
    {
     "name": "stdout",
     "output_type": "stream",
     "text": [
      "GEOMETRY OPT ERROR WITH ylide MOLECULE 8460\n"
     ]
    },
    {
     "name": "stderr",
     "output_type": "stream",
     "text": [
      " 85%|████████▌ | 7681/9000 [12:40<00:48, 27.21it/s]"
     ]
    },
    {
     "name": "stdout",
     "output_type": "stream",
     "text": [
      "UNKNOWN ERROR, ylide MOLECULE 8616 CALCULATION DID NOT FINSIH\n",
      "ylide MOLECULE 8617 HAS NOT BEEN SUBMITTED\n",
      "ylide MOLECULE 8618 HAS NOT BEEN SUBMITTED\n",
      "ylide MOLECULE 8619 HAS NOT BEEN SUBMITTED\n",
      "ylide MOLECULE 8620 HAS NOT BEEN SUBMITTED\n",
      "ylide MOLECULE 8621 HAS NOT BEEN SUBMITTED\n",
      "ylide MOLECULE 8622 HAS NOT BEEN SUBMITTED\n",
      "ylide MOLECULE 8623 HAS NOT BEEN SUBMITTED\n",
      "ylide MOLECULE 8624 HAS NOT BEEN SUBMITTED\n",
      "ylide MOLECULE 8625 HAS NOT BEEN SUBMITTED\n",
      "ylide MOLECULE 8626 HAS NOT BEEN SUBMITTED\n",
      "ylide MOLECULE 8627 HAS NOT BEEN SUBMITTED\n",
      "ylide MOLECULE 8628 HAS NOT BEEN SUBMITTED\n",
      "ylide MOLECULE 8629 HAS NOT BEEN SUBMITTED\n",
      "ylide MOLECULE 8630 HAS NOT BEEN SUBMITTED\n",
      "ylide MOLECULE 8631 HAS NOT BEEN SUBMITTED\n",
      "ylide MOLECULE 8632 HAS NOT BEEN SUBMITTED\n",
      "ylide MOLECULE 8633 HAS NOT BEEN SUBMITTED\n",
      "ylide MOLECULE 8634 HAS NOT BEEN SUBMITTED\n",
      "ylide MOLECULE 8635 HAS NOT BEEN SUBMITTED\n",
      "ylide MOLECULE 8636 HAS NOT BEEN SUBMITTED\n",
      "ylide MOLECULE 8637 HAS NOT BEEN SUBMITTED\n",
      "ylide MOLECULE 8638 HAS NOT BEEN SUBMITTED\n",
      "ylide MOLECULE 8639 HAS NOT BEEN SUBMITTED\n",
      "ylide MOLECULE 8640 HAS NOT BEEN SUBMITTED\n",
      "ylide MOLECULE 8641 HAS NOT BEEN SUBMITTED\n",
      "ylide MOLECULE 8642 HAS NOT BEEN SUBMITTED\n",
      "ylide MOLECULE 8643 HAS NOT BEEN SUBMITTED\n",
      "ylide MOLECULE 8644 HAS NOT BEEN SUBMITTED\n",
      "ylide MOLECULE 8645 HAS NOT BEEN SUBMITTED\n",
      "ylide MOLECULE 8646 HAS NOT BEEN SUBMITTED\n",
      "ylide MOLECULE 8647 HAS NOT BEEN SUBMITTED\n",
      "ylide MOLECULE 8648 HAS NOT BEEN SUBMITTED\n",
      "ylide MOLECULE 8649 HAS NOT BEEN SUBMITTED\n",
      "ylide MOLECULE 8650 HAS NOT BEEN SUBMITTED\n",
      "ylide MOLECULE 8651 HAS NOT BEEN SUBMITTED\n",
      "ylide MOLECULE 8652 HAS NOT BEEN SUBMITTED\n",
      "ylide MOLECULE 8653 HAS NOT BEEN SUBMITTED\n",
      "ylide MOLECULE 8654 HAS NOT BEEN SUBMITTED\n",
      "ylide MOLECULE 8655 HAS NOT BEEN SUBMITTED\n",
      "ylide MOLECULE 8656 HAS NOT BEEN SUBMITTED\n",
      "ylide MOLECULE 8657 HAS NOT BEEN SUBMITTED\n",
      "ylide MOLECULE 8658 HAS NOT BEEN SUBMITTED\n",
      "ylide MOLECULE 8659 HAS NOT BEEN SUBMITTED\n",
      "ylide MOLECULE 8660 HAS NOT BEEN SUBMITTED\n",
      "ylide MOLECULE 8661 HAS NOT BEEN SUBMITTED\n",
      "ylide MOLECULE 8662 HAS NOT BEEN SUBMITTED\n",
      "ylide MOLECULE 8663 HAS NOT BEEN SUBMITTED\n",
      "ylide MOLECULE 8664 HAS NOT BEEN SUBMITTED\n",
      "ylide MOLECULE 8665 HAS NOT BEEN SUBMITTED\n",
      "ylide MOLECULE 8666 HAS NOT BEEN SUBMITTED\n",
      "ylide MOLECULE 8667 HAS NOT BEEN SUBMITTED\n",
      "ylide MOLECULE 8668 HAS NOT BEEN SUBMITTED\n",
      "ylide MOLECULE 8669 HAS NOT BEEN SUBMITTED\n",
      "ylide MOLECULE 8670 HAS NOT BEEN SUBMITTED\n",
      "ylide MOLECULE 8671 HAS NOT BEEN SUBMITTED\n",
      "ylide MOLECULE 8672 HAS NOT BEEN SUBMITTED\n",
      "ylide MOLECULE 8673 HAS NOT BEEN SUBMITTED\n",
      "ylide MOLECULE 8674 HAS NOT BEEN SUBMITTED\n",
      "ylide MOLECULE 8675 HAS NOT BEEN SUBMITTED\n",
      "ylide MOLECULE 8676 HAS NOT BEEN SUBMITTED\n",
      "ylide MOLECULE 8677 HAS NOT BEEN SUBMITTED\n",
      "ylide MOLECULE 8678 HAS NOT BEEN SUBMITTED\n",
      "ylide MOLECULE 8679 HAS NOT BEEN SUBMITTED\n",
      "ylide MOLECULE 8680 HAS NOT BEEN SUBMITTED\n",
      "ylide MOLECULE 8681 HAS NOT BEEN SUBMITTED\n",
      "ylide MOLECULE 8682 HAS NOT BEEN SUBMITTED\n",
      "ylide MOLECULE 8683 HAS NOT BEEN SUBMITTED\n",
      "ylide MOLECULE 8684 HAS NOT BEEN SUBMITTED\n",
      "ylide MOLECULE 8685 HAS NOT BEEN SUBMITTED\n",
      "ylide MOLECULE 8686 HAS NOT BEEN SUBMITTED\n",
      "ylide MOLECULE 8687 HAS NOT BEEN SUBMITTED\n",
      "ylide MOLECULE 8688 HAS NOT BEEN SUBMITTED\n",
      "ylide MOLECULE 8689 HAS NOT BEEN SUBMITTED\n",
      "ylide MOLECULE 8690 HAS NOT BEEN SUBMITTED\n",
      "ylide MOLECULE 8691 HAS NOT BEEN SUBMITTED\n",
      "ylide MOLECULE 8692 HAS NOT BEEN SUBMITTED\n",
      "ylide MOLECULE 8693 HAS NOT BEEN SUBMITTED\n",
      "ylide MOLECULE 8694 HAS NOT BEEN SUBMITTED\n",
      "ylide MOLECULE 8695 HAS NOT BEEN SUBMITTED\n",
      "ylide MOLECULE 8696 HAS NOT BEEN SUBMITTED\n"
     ]
    },
    {
     "name": "stderr",
     "output_type": "stream",
     "text": [
      " 86%|████████▌ | 7699/9000 [12:40<00:37, 34.29it/s]"
     ]
    },
    {
     "name": "stdout",
     "output_type": "stream",
     "text": [
      "ylide MOLECULE 8697 HAS NOT BEEN SUBMITTED\n",
      "ylide MOLECULE 8698 HAS NOT BEEN SUBMITTED\n",
      "ylide MOLECULE 8699 HAS NOT BEEN SUBMITTED\n",
      "ylide MOLECULE 8700 HAS NOT BEEN SUBMITTED\n",
      "ylide MOLECULE 8701 HAS NOT BEEN SUBMITTED\n",
      "ylide MOLECULE 8702 HAS NOT BEEN SUBMITTED\n",
      "ylide MOLECULE 8703 HAS NOT BEEN SUBMITTED\n",
      "ylide MOLECULE 8704 HAS NOT BEEN SUBMITTED\n",
      "ylide MOLECULE 8705 HAS NOT BEEN SUBMITTED\n",
      "ylide MOLECULE 8706 HAS NOT BEEN SUBMITTED\n",
      "ylide MOLECULE 8707 HAS NOT BEEN SUBMITTED\n",
      "ylide MOLECULE 8708 HAS NOT BEEN SUBMITTED\n"
     ]
    },
    {
     "name": "stderr",
     "output_type": "stream",
     "text": [
      " 86%|████████▌ | 7714/9000 [12:41<00:32, 39.23it/s]"
     ]
    },
    {
     "name": "stdout",
     "output_type": "stream",
     "text": [
      "ylide MOLECULE 8709 HAS NOT BEEN SUBMITTED\n",
      "ylide MOLECULE 8710 HAS NOT BEEN SUBMITTED\n",
      "ylide MOLECULE 8711 HAS NOT BEEN SUBMITTED\n",
      "ylide MOLECULE 8712 HAS NOT BEEN SUBMITTED\n",
      "ylide MOLECULE 8713 HAS NOT BEEN SUBMITTED\n",
      "ylide MOLECULE 8714 HAS NOT BEEN SUBMITTED\n",
      "ylide MOLECULE 8715 HAS NOT BEEN SUBMITTED\n"
     ]
    },
    {
     "name": "stderr",
     "output_type": "stream",
     "text": [
      " 87%|████████▋ | 7790/9000 [12:53<03:02,  6.63it/s]"
     ]
    },
    {
     "name": "stdout",
     "output_type": "stream",
     "text": [
      "GEOMETRY OPT ERROR WITH ylide MOLECULE 8789\n"
     ]
    },
    {
     "name": "stderr",
     "output_type": "stream",
     "text": [
      " 88%|████████▊ | 7903/9000 [13:05<01:29, 12.28it/s]"
     ]
    },
    {
     "name": "stdout",
     "output_type": "stream",
     "text": [
      "UNKNOWN ERROR, ylide MOLECULE 8899 CALCULATION DID NOT FINSIH\n",
      "ylide MOLECULE 8900 HAS NOT BEEN SUBMITTED\n",
      "ylide MOLECULE 8901 HAS NOT BEEN SUBMITTED\n",
      "ylide MOLECULE 8902 HAS NOT BEEN SUBMITTED\n",
      "ylide MOLECULE 8903 HAS NOT BEEN SUBMITTED\n",
      "ylide MOLECULE 8904 HAS NOT BEEN SUBMITTED\n",
      "ylide MOLECULE 8905 HAS NOT BEEN SUBMITTED\n",
      "ylide MOLECULE 8906 HAS NOT BEEN SUBMITTED\n",
      "ylide MOLECULE 8907 HAS NOT BEEN SUBMITTED\n",
      "ylide MOLECULE 8908 HAS NOT BEEN SUBMITTED\n",
      "ylide MOLECULE 8909 HAS NOT BEEN SUBMITTED\n"
     ]
    },
    {
     "name": "stderr",
     "output_type": "stream",
     "text": [
      " 88%|████████▊ | 7919/9000 [13:05<00:51, 21.06it/s]"
     ]
    },
    {
     "name": "stdout",
     "output_type": "stream",
     "text": [
      "ylide MOLECULE 8910 HAS NOT BEEN SUBMITTED\n",
      "ylide MOLECULE 8911 HAS NOT BEEN SUBMITTED\n",
      "ylide MOLECULE 8912 HAS NOT BEEN SUBMITTED\n",
      "ylide MOLECULE 8913 HAS NOT BEEN SUBMITTED\n",
      "ylide MOLECULE 8914 HAS NOT BEEN SUBMITTED\n",
      "ylide MOLECULE 8915 HAS NOT BEEN SUBMITTED\n",
      "ylide MOLECULE 8916 HAS NOT BEEN SUBMITTED\n",
      "ylide MOLECULE 8917 HAS NOT BEEN SUBMITTED\n",
      "ylide MOLECULE 8918 HAS NOT BEEN SUBMITTED\n",
      "ylide MOLECULE 8919 HAS NOT BEEN SUBMITTED\n",
      "ylide MOLECULE 8920 HAS NOT BEEN SUBMITTED\n",
      "ylide MOLECULE 8921 HAS NOT BEEN SUBMITTED\n",
      "ylide MOLECULE 8922 HAS NOT BEEN SUBMITTED\n",
      "ylide MOLECULE 8923 HAS NOT BEEN SUBMITTED\n"
     ]
    },
    {
     "name": "stderr",
     "output_type": "stream",
     "text": [
      " 88%|████████▊ | 7934/9000 [13:06<00:32, 32.37it/s]"
     ]
    },
    {
     "name": "stdout",
     "output_type": "stream",
     "text": [
      "ylide MOLECULE 8924 HAS NOT BEEN SUBMITTED\n",
      "ylide MOLECULE 8925 HAS NOT BEEN SUBMITTED\n",
      "ylide MOLECULE 8926 HAS NOT BEEN SUBMITTED\n",
      "ylide MOLECULE 8927 HAS NOT BEEN SUBMITTED\n",
      "ylide MOLECULE 8928 HAS NOT BEEN SUBMITTED\n",
      "ylide MOLECULE 8929 HAS NOT BEEN SUBMITTED\n",
      "ylide MOLECULE 8930 HAS NOT BEEN SUBMITTED\n",
      "ylide MOLECULE 8931 HAS NOT BEEN SUBMITTED\n",
      "ylide MOLECULE 8932 HAS NOT BEEN SUBMITTED\n",
      "ylide MOLECULE 8933 HAS NOT BEEN SUBMITTED\n",
      "ylide MOLECULE 8934 HAS NOT BEEN SUBMITTED\n",
      "ylide MOLECULE 8935 HAS NOT BEEN SUBMITTED\n",
      "ylide MOLECULE 8936 HAS NOT BEEN SUBMITTED\n"
     ]
    },
    {
     "name": "stderr",
     "output_type": "stream",
     "text": [
      " 88%|████████▊ | 7955/9000 [13:06<00:22, 46.20it/s]"
     ]
    },
    {
     "name": "stdout",
     "output_type": "stream",
     "text": [
      "ylide MOLECULE 8937 HAS NOT BEEN SUBMITTED\n",
      "ylide MOLECULE 8938 HAS NOT BEEN SUBMITTED\n",
      "ylide MOLECULE 8939 HAS NOT BEEN SUBMITTED\n",
      "ylide MOLECULE 8940 HAS NOT BEEN SUBMITTED\n",
      "ylide MOLECULE 8941 HAS NOT BEEN SUBMITTED\n",
      "ylide MOLECULE 8942 HAS NOT BEEN SUBMITTED\n",
      "ylide MOLECULE 8943 HAS NOT BEEN SUBMITTED\n",
      "ylide MOLECULE 8944 HAS NOT BEEN SUBMITTED\n",
      "ylide MOLECULE 8945 HAS NOT BEEN SUBMITTED\n",
      "ylide MOLECULE 8946 HAS NOT BEEN SUBMITTED\n",
      "ylide MOLECULE 8947 HAS NOT BEEN SUBMITTED\n",
      "ylide MOLECULE 8948 HAS NOT BEEN SUBMITTED\n",
      "ylide MOLECULE 8949 HAS NOT BEEN SUBMITTED\n",
      "ylide MOLECULE 8950 HAS NOT BEEN SUBMITTED\n",
      "ylide MOLECULE 8951 HAS NOT BEEN SUBMITTED\n",
      "ylide MOLECULE 8952 HAS NOT BEEN SUBMITTED\n",
      "ylide MOLECULE 8953 HAS NOT BEEN SUBMITTED\n",
      "ylide MOLECULE 8954 HAS NOT BEEN SUBMITTED\n",
      "ylide MOLECULE 8955 HAS NOT BEEN SUBMITTED\n",
      "ylide MOLECULE 8956 HAS NOT BEEN SUBMITTED\n",
      "ylide MOLECULE 8957 HAS NOT BEEN SUBMITTED\n",
      "ylide MOLECULE 8958 HAS NOT BEEN SUBMITTED\n"
     ]
    },
    {
     "name": "stderr",
     "output_type": "stream",
     "text": [
      " 89%|████████▊ | 7976/9000 [13:06<00:16, 61.27it/s]"
     ]
    },
    {
     "name": "stdout",
     "output_type": "stream",
     "text": [
      "ylide MOLECULE 8959 HAS NOT BEEN SUBMITTED\n",
      "ylide MOLECULE 8960 HAS NOT BEEN SUBMITTED\n",
      "ylide MOLECULE 8961 HAS NOT BEEN SUBMITTED\n",
      "ylide MOLECULE 8962 HAS NOT BEEN SUBMITTED\n",
      "ylide MOLECULE 8963 HAS NOT BEEN SUBMITTED\n",
      "ylide MOLECULE 8964 HAS NOT BEEN SUBMITTED\n",
      "ylide MOLECULE 8965 HAS NOT BEEN SUBMITTED\n",
      "ylide MOLECULE 8966 HAS NOT BEEN SUBMITTED\n",
      "ylide MOLECULE 8967 HAS NOT BEEN SUBMITTED\n",
      "ylide MOLECULE 8968 HAS NOT BEEN SUBMITTED\n",
      "ylide MOLECULE 8969 HAS NOT BEEN SUBMITTED\n",
      "ylide MOLECULE 8970 HAS NOT BEEN SUBMITTED\n",
      "ylide MOLECULE 8971 HAS NOT BEEN SUBMITTED\n",
      "ylide MOLECULE 8972 HAS NOT BEEN SUBMITTED\n",
      "ylide MOLECULE 8973 HAS NOT BEEN SUBMITTED\n",
      "ylide MOLECULE 8974 HAS NOT BEEN SUBMITTED\n",
      "ylide MOLECULE 8975 HAS NOT BEEN SUBMITTED\n",
      "ylide MOLECULE 8976 HAS NOT BEEN SUBMITTED\n",
      "ylide MOLECULE 8977 HAS NOT BEEN SUBMITTED\n",
      "ylide MOLECULE 8978 HAS NOT BEEN SUBMITTED\n",
      "ylide MOLECULE 8979 HAS NOT BEEN SUBMITTED\n",
      "ylide MOLECULE 8980 HAS NOT BEEN SUBMITTED\n",
      "ylide MOLECULE 8981 HAS NOT BEEN SUBMITTED\n",
      "ylide MOLECULE 8982 HAS NOT BEEN SUBMITTED\n",
      "ylide MOLECULE 8983 HAS NOT BEEN SUBMITTED\n"
     ]
    },
    {
     "name": "stderr",
     "output_type": "stream",
     "text": [
      " 89%|████████▉ | 7990/9000 [13:06<00:13, 72.89it/s]"
     ]
    },
    {
     "name": "stdout",
     "output_type": "stream",
     "text": [
      "ylide MOLECULE 8984 HAS NOT BEEN SUBMITTED\n",
      "ylide MOLECULE 8985 HAS NOT BEEN SUBMITTED\n",
      "ylide MOLECULE 8986 HAS NOT BEEN SUBMITTED\n",
      "ylide MOLECULE 8987 HAS NOT BEEN SUBMITTED\n",
      "ylide MOLECULE 8988 HAS NOT BEEN SUBMITTED\n",
      "ylide MOLECULE 8989 HAS NOT BEEN SUBMITTED\n",
      "ylide MOLECULE 8990 HAS NOT BEEN SUBMITTED\n",
      "ylide MOLECULE 8991 HAS NOT BEEN SUBMITTED\n",
      "ylide MOLECULE 8992 HAS NOT BEEN SUBMITTED\n",
      "ylide MOLECULE 8993 HAS NOT BEEN SUBMITTED\n",
      "ylide MOLECULE 8994 HAS NOT BEEN SUBMITTED\n",
      "ylide MOLECULE 8995 HAS NOT BEEN SUBMITTED\n",
      "ylide MOLECULE 8996 HAS NOT BEEN SUBMITTED\n",
      "ylide MOLECULE 8997 HAS NOT BEEN SUBMITTED\n",
      "ylide MOLECULE 8998 HAS NOT BEEN SUBMITTED\n",
      "ylide MOLECULE 8999 HAS NOT BEEN SUBMITTED\n",
      "ylide MOLECULE 9000 HAS NOT BEEN SUBMITTED\n",
      "ylide MOLECULE 9001 HAS NOT BEEN SUBMITTED\n",
      "ylide MOLECULE 9002 HAS NOT BEEN SUBMITTED\n",
      "ylide MOLECULE 9003 HAS NOT BEEN SUBMITTED\n",
      "ylide MOLECULE 9004 HAS NOT BEEN SUBMITTED\n",
      "ylide MOLECULE 9005 HAS NOT BEEN SUBMITTED\n",
      "ylide MOLECULE 9006 HAS NOT BEEN SUBMITTED\n",
      "ylide MOLECULE 9007 HAS NOT BEEN SUBMITTED\n",
      "ylide MOLECULE 9008 HAS NOT BEEN SUBMITTED\n",
      "ylide MOLECULE 9009 HAS NOT BEEN SUBMITTED\n",
      "ylide MOLECULE 9010 HAS NOT BEEN SUBMITTED\n",
      "ylide MOLECULE 9011 HAS NOT BEEN SUBMITTED\n",
      "ylide MOLECULE 9012 HAS NOT BEEN SUBMITTED\n"
     ]
    },
    {
     "name": "stderr",
     "output_type": "stream",
     "text": [
      " 91%|█████████ | 8180/9000 [13:26<02:46,  4.94it/s]"
     ]
    },
    {
     "name": "stdout",
     "output_type": "stream",
     "text": [
      "UNKNOWN ERROR, ylide MOLECULE 9178 CALCULATION DID NOT FINSIH\n"
     ]
    },
    {
     "name": "stderr",
     "output_type": "stream",
     "text": [
      " 91%|█████████▏| 8234/9000 [13:29<00:53, 14.42it/s]"
     ]
    },
    {
     "name": "stdout",
     "output_type": "stream",
     "text": [
      "UNKNOWN ERROR, ylide MOLECULE 9207 CALCULATION DID NOT FINSIH\n",
      "ylide MOLECULE 9208 HAS NOT BEEN SUBMITTED\n",
      "ylide MOLECULE 9209 HAS NOT BEEN SUBMITTED\n",
      "ylide MOLECULE 9210 HAS NOT BEEN SUBMITTED\n",
      "ylide MOLECULE 9211 HAS NOT BEEN SUBMITTED\n",
      "ylide MOLECULE 9212 HAS NOT BEEN SUBMITTED\n",
      "ylide MOLECULE 9213 HAS NOT BEEN SUBMITTED\n",
      "ylide MOLECULE 9214 HAS NOT BEEN SUBMITTED\n",
      "ylide MOLECULE 9215 HAS NOT BEEN SUBMITTED\n",
      "ylide MOLECULE 9216 HAS NOT BEEN SUBMITTED\n",
      "ylide MOLECULE 9217 HAS NOT BEEN SUBMITTED\n",
      "ylide MOLECULE 9218 HAS NOT BEEN SUBMITTED\n",
      "ylide MOLECULE 9219 HAS NOT BEEN SUBMITTED\n",
      "ylide MOLECULE 9220 HAS NOT BEEN SUBMITTED\n",
      "ylide MOLECULE 9221 HAS NOT BEEN SUBMITTED\n",
      "ylide MOLECULE 9222 HAS NOT BEEN SUBMITTED\n",
      "ylide MOLECULE 9223 HAS NOT BEEN SUBMITTED\n",
      "ylide MOLECULE 9224 HAS NOT BEEN SUBMITTED\n",
      "ylide MOLECULE 9225 HAS NOT BEEN SUBMITTED\n",
      "ylide MOLECULE 9226 HAS NOT BEEN SUBMITTED\n",
      "ylide MOLECULE 9227 HAS NOT BEEN SUBMITTED\n",
      "ylide MOLECULE 9228 HAS NOT BEEN SUBMITTED\n",
      "ylide MOLECULE 9229 HAS NOT BEEN SUBMITTED\n",
      "ylide MOLECULE 9230 HAS NOT BEEN SUBMITTED\n",
      "ylide MOLECULE 9231 HAS NOT BEEN SUBMITTED\n",
      "ylide MOLECULE 9232 HAS NOT BEEN SUBMITTED\n",
      "ylide MOLECULE 9233 HAS NOT BEEN SUBMITTED\n",
      "ylide MOLECULE 9234 HAS NOT BEEN SUBMITTED\n",
      "ylide MOLECULE 9235 HAS NOT BEEN SUBMITTED\n",
      "ylide MOLECULE 9236 HAS NOT BEEN SUBMITTED\n",
      "ylide MOLECULE 9237 HAS NOT BEEN SUBMITTED\n",
      "ylide MOLECULE 9238 HAS NOT BEEN SUBMITTED\n",
      "ylide MOLECULE 9239 HAS NOT BEEN SUBMITTED\n",
      "ylide MOLECULE 9240 HAS NOT BEEN SUBMITTED\n",
      "ylide MOLECULE 9241 HAS NOT BEEN SUBMITTED\n",
      "ylide MOLECULE 9242 HAS NOT BEEN SUBMITTED\n",
      "ylide MOLECULE 9243 HAS NOT BEEN SUBMITTED\n",
      "ylide MOLECULE 9244 HAS NOT BEEN SUBMITTED\n",
      "ylide MOLECULE 9245 HAS NOT BEEN SUBMITTED\n",
      "ylide MOLECULE 9246 HAS NOT BEEN SUBMITTED\n"
     ]
    },
    {
     "name": "stderr",
     "output_type": "stream",
     "text": [
      " 92%|█████████▏| 8273/9000 [13:29<00:26, 27.01it/s]"
     ]
    },
    {
     "name": "stdout",
     "output_type": "stream",
     "text": [
      "ylide MOLECULE 9247 HAS NOT BEEN SUBMITTED\n",
      "ylide MOLECULE 9248 HAS NOT BEEN SUBMITTED\n",
      "ylide MOLECULE 9249 HAS NOT BEEN SUBMITTED\n",
      "ylide MOLECULE 9250 HAS NOT BEEN SUBMITTED\n",
      "ylide MOLECULE 9251 HAS NOT BEEN SUBMITTED\n",
      "ylide MOLECULE 9252 HAS NOT BEEN SUBMITTED\n",
      "ylide MOLECULE 9253 HAS NOT BEEN SUBMITTED\n",
      "ylide MOLECULE 9254 HAS NOT BEEN SUBMITTED\n",
      "ylide MOLECULE 9255 HAS NOT BEEN SUBMITTED\n",
      "ylide MOLECULE 9256 HAS NOT BEEN SUBMITTED\n",
      "ylide MOLECULE 9257 HAS NOT BEEN SUBMITTED\n",
      "ylide MOLECULE 9258 HAS NOT BEEN SUBMITTED\n",
      "ylide MOLECULE 9259 HAS NOT BEEN SUBMITTED\n",
      "ylide MOLECULE 9260 HAS NOT BEEN SUBMITTED\n",
      "ylide MOLECULE 9261 HAS NOT BEEN SUBMITTED\n",
      "ylide MOLECULE 9262 HAS NOT BEEN SUBMITTED\n",
      "ylide MOLECULE 9263 HAS NOT BEEN SUBMITTED\n",
      "ylide MOLECULE 9264 HAS NOT BEEN SUBMITTED\n",
      "ylide MOLECULE 9265 HAS NOT BEEN SUBMITTED\n",
      "ylide MOLECULE 9266 HAS NOT BEEN SUBMITTED\n",
      "ylide MOLECULE 9267 HAS NOT BEEN SUBMITTED\n",
      "ylide MOLECULE 9268 HAS NOT BEEN SUBMITTED\n",
      "ylide MOLECULE 9269 HAS NOT BEEN SUBMITTED\n",
      "ylide MOLECULE 9270 HAS NOT BEEN SUBMITTED\n",
      "ylide MOLECULE 9271 HAS NOT BEEN SUBMITTED\n",
      "ylide MOLECULE 9272 HAS NOT BEEN SUBMITTED\n",
      "ylide MOLECULE 9273 HAS NOT BEEN SUBMITTED\n"
     ]
    },
    {
     "name": "stderr",
     "output_type": "stream",
     "text": [
      " 92%|█████████▏| 8315/9000 [13:29<00:14, 48.09it/s]"
     ]
    },
    {
     "name": "stdout",
     "output_type": "stream",
     "text": [
      "ylide MOLECULE 9274 HAS NOT BEEN SUBMITTED\n",
      "ylide MOLECULE 9275 HAS NOT BEEN SUBMITTED\n",
      "ylide MOLECULE 9276 HAS NOT BEEN SUBMITTED\n",
      "ylide MOLECULE 9277 HAS NOT BEEN SUBMITTED\n",
      "ylide MOLECULE 9278 HAS NOT BEEN SUBMITTED\n",
      "ylide MOLECULE 9279 HAS NOT BEEN SUBMITTED\n",
      "ylide MOLECULE 9280 HAS NOT BEEN SUBMITTED\n",
      "ylide MOLECULE 9281 HAS NOT BEEN SUBMITTED\n",
      "ylide MOLECULE 9282 HAS NOT BEEN SUBMITTED\n",
      "ylide MOLECULE 9283 HAS NOT BEEN SUBMITTED\n",
      "ylide MOLECULE 9284 HAS NOT BEEN SUBMITTED\n",
      "ylide MOLECULE 9285 HAS NOT BEEN SUBMITTED\n",
      "ylide MOLECULE 9286 HAS NOT BEEN SUBMITTED\n",
      "ylide MOLECULE 9287 HAS NOT BEEN SUBMITTED\n",
      "ylide MOLECULE 9288 HAS NOT BEEN SUBMITTED\n",
      "ylide MOLECULE 9289 HAS NOT BEEN SUBMITTED\n",
      "ylide MOLECULE 9290 HAS NOT BEEN SUBMITTED\n",
      "ylide MOLECULE 9291 HAS NOT BEEN SUBMITTED\n",
      "ylide MOLECULE 9292 HAS NOT BEEN SUBMITTED\n",
      "ylide MOLECULE 9293 HAS NOT BEEN SUBMITTED\n",
      "ylide MOLECULE 9294 HAS NOT BEEN SUBMITTED\n",
      "ylide MOLECULE 9295 HAS NOT BEEN SUBMITTED\n",
      "ylide MOLECULE 9296 HAS NOT BEEN SUBMITTED\n",
      "ylide MOLECULE 9297 HAS NOT BEEN SUBMITTED\n",
      "ylide MOLECULE 9298 HAS NOT BEEN SUBMITTED\n",
      "ylide MOLECULE 9299 HAS NOT BEEN SUBMITTED\n",
      "ylide MOLECULE 9300 HAS NOT BEEN SUBMITTED\n",
      "ylide MOLECULE 9301 HAS NOT BEEN SUBMITTED\n",
      "ylide MOLECULE 9302 HAS NOT BEEN SUBMITTED\n",
      "ylide MOLECULE 9303 HAS NOT BEEN SUBMITTED\n",
      "ylide MOLECULE 9304 HAS NOT BEEN SUBMITTED\n",
      "ylide MOLECULE 9305 HAS NOT BEEN SUBMITTED\n",
      "ylide MOLECULE 9306 HAS NOT BEEN SUBMITTED\n",
      "ylide MOLECULE 9307 HAS NOT BEEN SUBMITTED\n",
      "ylide MOLECULE 9308 HAS NOT BEEN SUBMITTED\n",
      "ylide MOLECULE 9309 HAS NOT BEEN SUBMITTED\n",
      "ylide MOLECULE 9310 HAS NOT BEEN SUBMITTED\n",
      "ylide MOLECULE 9311 HAS NOT BEEN SUBMITTED\n",
      "ylide MOLECULE 9312 HAS NOT BEEN SUBMITTED\n",
      "ylide MOLECULE 9313 HAS NOT BEEN SUBMITTED\n",
      "ylide MOLECULE 9314 HAS NOT BEEN SUBMITTED\n",
      "ylide MOLECULE 9315 HAS NOT BEEN SUBMITTED\n",
      "ylide MOLECULE 9316 HAS NOT BEEN SUBMITTED\n",
      "ylide MOLECULE 9317 HAS NOT BEEN SUBMITTED\n",
      "ylide MOLECULE 9318 HAS NOT BEEN SUBMITTED\n"
     ]
    },
    {
     "name": "stderr",
     "output_type": "stream",
     "text": [
      " 93%|█████████▎| 8352/9000 [13:30<00:08, 76.47it/s]"
     ]
    },
    {
     "name": "stdout",
     "output_type": "stream",
     "text": [
      "ylide MOLECULE 9319 HAS NOT BEEN SUBMITTED\n",
      "ylide MOLECULE 9320 HAS NOT BEEN SUBMITTED\n",
      "ylide MOLECULE 9321 HAS NOT BEEN SUBMITTED\n",
      "ylide MOLECULE 9322 HAS NOT BEEN SUBMITTED\n",
      "ylide MOLECULE 9323 HAS NOT BEEN SUBMITTED\n",
      "ylide MOLECULE 9324 HAS NOT BEEN SUBMITTED\n",
      "ylide MOLECULE 9325 HAS NOT BEEN SUBMITTED\n",
      "ylide MOLECULE 9326 HAS NOT BEEN SUBMITTED\n",
      "ylide MOLECULE 9327 HAS NOT BEEN SUBMITTED\n",
      "ylide MOLECULE 9328 HAS NOT BEEN SUBMITTED\n",
      "ylide MOLECULE 9329 HAS NOT BEEN SUBMITTED\n",
      "ylide MOLECULE 9330 HAS NOT BEEN SUBMITTED\n",
      "ylide MOLECULE 9331 HAS NOT BEEN SUBMITTED\n",
      "ylide MOLECULE 9332 HAS NOT BEEN SUBMITTED\n",
      "ylide MOLECULE 9333 HAS NOT BEEN SUBMITTED\n",
      "ylide MOLECULE 9334 HAS NOT BEEN SUBMITTED\n",
      "ylide MOLECULE 9335 HAS NOT BEEN SUBMITTED\n",
      "ylide MOLECULE 9336 HAS NOT BEEN SUBMITTED\n",
      "ylide MOLECULE 9337 HAS NOT BEEN SUBMITTED\n",
      "ylide MOLECULE 9338 HAS NOT BEEN SUBMITTED\n",
      "ylide MOLECULE 9339 HAS NOT BEEN SUBMITTED\n",
      "ylide MOLECULE 9340 HAS NOT BEEN SUBMITTED\n",
      "ylide MOLECULE 9341 HAS NOT BEEN SUBMITTED\n",
      "ylide MOLECULE 9342 HAS NOT BEEN SUBMITTED\n",
      "ylide MOLECULE 9343 HAS NOT BEEN SUBMITTED\n",
      "ylide MOLECULE 9344 HAS NOT BEEN SUBMITTED\n",
      "ylide MOLECULE 9345 HAS NOT BEEN SUBMITTED\n",
      "ylide MOLECULE 9346 HAS NOT BEEN SUBMITTED\n",
      "ylide MOLECULE 9347 HAS NOT BEEN SUBMITTED\n",
      "ylide MOLECULE 9348 HAS NOT BEEN SUBMITTED\n",
      "ylide MOLECULE 9349 HAS NOT BEEN SUBMITTED\n",
      "ylide MOLECULE 9350 HAS NOT BEEN SUBMITTED\n",
      "ylide MOLECULE 9351 HAS NOT BEEN SUBMITTED\n",
      "ylide MOLECULE 9352 HAS NOT BEEN SUBMITTED\n",
      "ylide MOLECULE 9353 HAS NOT BEEN SUBMITTED\n",
      "ylide MOLECULE 9354 HAS NOT BEEN SUBMITTED\n",
      "ylide MOLECULE 9355 HAS NOT BEEN SUBMITTED\n",
      "ylide MOLECULE 9356 HAS NOT BEEN SUBMITTED\n",
      "ylide MOLECULE 9357 HAS NOT BEEN SUBMITTED\n"
     ]
    },
    {
     "name": "stderr",
     "output_type": "stream",
     "text": [
      " 94%|█████████▎| 8429/9000 [13:37<00:57,  9.98it/s]"
     ]
    },
    {
     "name": "stdout",
     "output_type": "stream",
     "text": [
      "GEOMETRY OPT ERROR WITH ylide MOLECULE 9428\n"
     ]
    },
    {
     "name": "stderr",
     "output_type": "stream",
     "text": [
      " 94%|█████████▍| 8443/9000 [13:38<00:55,  9.98it/s]"
     ]
    },
    {
     "name": "stdout",
     "output_type": "stream",
     "text": [
      "GEOMETRY OPT ERROR WITH ylide MOLECULE 9442\n"
     ]
    },
    {
     "name": "stderr",
     "output_type": "stream",
     "text": [
      " 94%|█████████▍| 8455/9000 [13:39<00:49, 10.94it/s]"
     ]
    },
    {
     "name": "stdout",
     "output_type": "stream",
     "text": [
      "ylide MOLECULE 9452 HAS NOT BEEN SUBMITTED\n"
     ]
    },
    {
     "name": "stderr",
     "output_type": "stream",
     "text": [
      " 94%|█████████▍| 8473/9000 [13:41<00:49, 10.55it/s]"
     ]
    },
    {
     "name": "stdout",
     "output_type": "stream",
     "text": [
      "GEOMETRY OPT ERROR WITH ylide MOLECULE 9470\n"
     ]
    },
    {
     "name": "stderr",
     "output_type": "stream",
     "text": [
      " 95%|█████████▍| 8513/9000 [13:45<00:44, 11.01it/s]"
     ]
    },
    {
     "name": "stdout",
     "output_type": "stream",
     "text": [
      "GEOMETRY OPT ERROR WITH ylide MOLECULE 9510\n"
     ]
    },
    {
     "name": "stderr",
     "output_type": "stream",
     "text": [
      " 95%|█████████▍| 8515/9000 [13:45<00:44, 10.89it/s]"
     ]
    },
    {
     "name": "stdout",
     "output_type": "stream",
     "text": [
      "UNKNOWN ERROR, ylide MOLECULE 9514 CALCULATION DID NOT FINSIH\n"
     ]
    },
    {
     "name": "stderr",
     "output_type": "stream",
     "text": [
      " 95%|█████████▍| 8517/9000 [13:45<00:53,  9.08it/s]"
     ]
    },
    {
     "name": "stdout",
     "output_type": "stream",
     "text": [
      "ylide MOLECULE 9515 HAS NOT BEEN SUBMITTED\n",
      "ylide MOLECULE 9516 HAS NOT BEEN SUBMITTED\n",
      "ylide MOLECULE 9517 HAS NOT BEEN SUBMITTED\n",
      "ylide MOLECULE 9518 HAS NOT BEEN SUBMITTED\n",
      "ylide MOLECULE 9519 HAS NOT BEEN SUBMITTED\n",
      "ylide MOLECULE 9520 HAS NOT BEEN SUBMITTED\n",
      "ylide MOLECULE 9521 HAS NOT BEEN SUBMITTED\n",
      "ylide MOLECULE 9522 HAS NOT BEEN SUBMITTED\n",
      "ylide MOLECULE 9523 HAS NOT BEEN SUBMITTED\n",
      "ylide MOLECULE 9524 HAS NOT BEEN SUBMITTED\n"
     ]
    },
    {
     "name": "stderr",
     "output_type": "stream",
     "text": [
      " 95%|█████████▍| 8531/9000 [13:45<00:29, 15.70it/s]"
     ]
    },
    {
     "name": "stdout",
     "output_type": "stream",
     "text": [
      "ylide MOLECULE 9525 HAS NOT BEEN SUBMITTED\n",
      "ylide MOLECULE 9526 HAS NOT BEEN SUBMITTED\n",
      "ylide MOLECULE 9527 HAS NOT BEEN SUBMITTED\n",
      "ylide MOLECULE 9528 HAS NOT BEEN SUBMITTED\n",
      "ylide MOLECULE 9529 HAS NOT BEEN SUBMITTED\n",
      "ylide MOLECULE 9530 HAS NOT BEEN SUBMITTED\n",
      "ylide MOLECULE 9531 HAS NOT BEEN SUBMITTED\n",
      "ylide MOLECULE 9532 HAS NOT BEEN SUBMITTED\n",
      "ylide MOLECULE 9533 HAS NOT BEEN SUBMITTED\n",
      "ylide MOLECULE 9534 HAS NOT BEEN SUBMITTED\n",
      "ylide MOLECULE 9535 HAS NOT BEEN SUBMITTED\n",
      "ylide MOLECULE 9536 HAS NOT BEEN SUBMITTED\n",
      "ylide MOLECULE 9537 HAS NOT BEEN SUBMITTED\n",
      "ylide MOLECULE 9538 HAS NOT BEEN SUBMITTED\n"
     ]
    },
    {
     "name": "stderr",
     "output_type": "stream",
     "text": [
      " 95%|█████████▍| 8541/9000 [13:45<00:22, 20.71it/s]"
     ]
    },
    {
     "name": "stdout",
     "output_type": "stream",
     "text": [
      "ylide MOLECULE 9539 HAS NOT BEEN SUBMITTED\n",
      "ylide MOLECULE 9540 HAS NOT BEEN SUBMITTED\n",
      "ylide MOLECULE 9541 HAS NOT BEEN SUBMITTED\n",
      "ylide MOLECULE 9542 HAS NOT BEEN SUBMITTED\n",
      "ylide MOLECULE 9543 HAS NOT BEEN SUBMITTED\n",
      "ylide MOLECULE 9544 HAS NOT BEEN SUBMITTED\n",
      "ylide MOLECULE 9545 HAS NOT BEEN SUBMITTED\n",
      "ylide MOLECULE 9546 HAS NOT BEEN SUBMITTED\n",
      "ylide MOLECULE 9547 HAS NOT BEEN SUBMITTED\n",
      "ylide MOLECULE 9548 HAS NOT BEEN SUBMITTED\n",
      "ylide MOLECULE 9549 HAS NOT BEEN SUBMITTED\n",
      "ylide MOLECULE 9550 HAS NOT BEEN SUBMITTED\n",
      "ylide MOLECULE 9551 HAS NOT BEEN SUBMITTED\n",
      "ylide MOLECULE 9552 HAS NOT BEEN SUBMITTED\n",
      "ylide MOLECULE 9553 HAS NOT BEEN SUBMITTED\n",
      "ylide MOLECULE 9554 HAS NOT BEEN SUBMITTED\n",
      "ylide MOLECULE 9555 HAS NOT BEEN SUBMITTED\n",
      "ylide MOLECULE 9556 HAS NOT BEEN SUBMITTED\n",
      "ylide MOLECULE 9557 HAS NOT BEEN SUBMITTED\n",
      "ylide MOLECULE 9558 HAS NOT BEEN SUBMITTED\n",
      "ylide MOLECULE 9559 HAS NOT BEEN SUBMITTED\n",
      "ylide MOLECULE 9560 HAS NOT BEEN SUBMITTED\n",
      "ylide MOLECULE 9561 HAS NOT BEEN SUBMITTED\n",
      "ylide MOLECULE 9562 HAS NOT BEEN SUBMITTED\n",
      "ylide MOLECULE 9563 HAS NOT BEEN SUBMITTED\n",
      "ylide MOLECULE 9564 HAS NOT BEEN SUBMITTED\n",
      "ylide MOLECULE 9565 HAS NOT BEEN SUBMITTED\n",
      "ylide MOLECULE 9566 HAS NOT BEEN SUBMITTED\n",
      "ylide MOLECULE 9567 HAS NOT BEEN SUBMITTED\n",
      "ylide MOLECULE 9568 HAS NOT BEEN SUBMITTED\n",
      "ylide MOLECULE 9569 HAS NOT BEEN SUBMITTED\n",
      "ylide MOLECULE 9570 HAS NOT BEEN SUBMITTED\n",
      "ylide MOLECULE 9571 HAS NOT BEEN SUBMITTED\n",
      "ylide MOLECULE 9572 HAS NOT BEEN SUBMITTED\n",
      "ylide MOLECULE 9573 HAS NOT BEEN SUBMITTED\n",
      "ylide MOLECULE 9574 HAS NOT BEEN SUBMITTED\n",
      "ylide MOLECULE 9575 HAS NOT BEEN SUBMITTED\n",
      "ylide MOLECULE 9576 HAS NOT BEEN SUBMITTED\n",
      "ylide MOLECULE 9577 HAS NOT BEEN SUBMITTED\n",
      "ylide MOLECULE 9578 HAS NOT BEEN SUBMITTED\n",
      "ylide MOLECULE 9579 HAS NOT BEEN SUBMITTED\n",
      "ylide MOLECULE 9580 HAS NOT BEEN SUBMITTED\n",
      "ylide MOLECULE 9581 HAS NOT BEEN SUBMITTED\n"
     ]
    },
    {
     "name": "stderr",
     "output_type": "stream",
     "text": [
      " 96%|█████████▌| 8613/9000 [13:48<00:36, 10.53it/s]"
     ]
    },
    {
     "name": "stdout",
     "output_type": "stream",
     "text": [
      "ylide MOLECULE 9611 HAS NOT BEEN SUBMITTED\n"
     ]
    },
    {
     "name": "stderr",
     "output_type": "stream",
     "text": [
      " 98%|█████████▊| 8798/9000 [14:04<00:11, 18.25it/s]"
     ]
    },
    {
     "name": "stdout",
     "output_type": "stream",
     "text": [
      "UNKNOWN ERROR, ylide MOLECULE 9762 CALCULATION DID NOT FINSIH\n",
      "ylide MOLECULE 9763 HAS NOT BEEN SUBMITTED\n",
      "ylide MOLECULE 9764 HAS NOT BEEN SUBMITTED\n",
      "ylide MOLECULE 9765 HAS NOT BEEN SUBMITTED\n",
      "ylide MOLECULE 9766 HAS NOT BEEN SUBMITTED\n",
      "ylide MOLECULE 9767 HAS NOT BEEN SUBMITTED\n",
      "ylide MOLECULE 9768 HAS NOT BEEN SUBMITTED\n",
      "ylide MOLECULE 9769 HAS NOT BEEN SUBMITTED\n",
      "ylide MOLECULE 9770 HAS NOT BEEN SUBMITTED\n",
      "ylide MOLECULE 9771 HAS NOT BEEN SUBMITTED\n",
      "ylide MOLECULE 9772 HAS NOT BEEN SUBMITTED\n",
      "ylide MOLECULE 9773 HAS NOT BEEN SUBMITTED\n",
      "ylide MOLECULE 9774 HAS NOT BEEN SUBMITTED\n",
      "ylide MOLECULE 9775 HAS NOT BEEN SUBMITTED\n",
      "ylide MOLECULE 9776 HAS NOT BEEN SUBMITTED\n",
      "ylide MOLECULE 9777 HAS NOT BEEN SUBMITTED\n",
      "ylide MOLECULE 9778 HAS NOT BEEN SUBMITTED\n",
      "ylide MOLECULE 9779 HAS NOT BEEN SUBMITTED\n",
      "ylide MOLECULE 9780 HAS NOT BEEN SUBMITTED\n",
      "ylide MOLECULE 9781 HAS NOT BEEN SUBMITTED\n",
      "ylide MOLECULE 9782 HAS NOT BEEN SUBMITTED\n",
      "ylide MOLECULE 9783 HAS NOT BEEN SUBMITTED\n",
      "ylide MOLECULE 9784 HAS NOT BEEN SUBMITTED\n",
      "ylide MOLECULE 9785 HAS NOT BEEN SUBMITTED\n",
      "ylide MOLECULE 9786 HAS NOT BEEN SUBMITTED\n",
      "ylide MOLECULE 9787 HAS NOT BEEN SUBMITTED\n",
      "ylide MOLECULE 9788 HAS NOT BEEN SUBMITTED\n",
      "ylide MOLECULE 9789 HAS NOT BEEN SUBMITTED\n",
      "ylide MOLECULE 9790 HAS NOT BEEN SUBMITTED\n",
      "ylide MOLECULE 9791 HAS NOT BEEN SUBMITTED\n",
      "ylide MOLECULE 9792 HAS NOT BEEN SUBMITTED\n",
      "ylide MOLECULE 9793 HAS NOT BEEN SUBMITTED\n",
      "ylide MOLECULE 9794 HAS NOT BEEN SUBMITTED\n",
      "ylide MOLECULE 9795 HAS NOT BEEN SUBMITTED\n",
      "ylide MOLECULE 9796 HAS NOT BEEN SUBMITTED\n",
      "ylide MOLECULE 9797 HAS NOT BEEN SUBMITTED\n",
      "ylide MOLECULE 9798 HAS NOT BEEN SUBMITTED\n",
      "ylide MOLECULE 9799 HAS NOT BEEN SUBMITTED\n"
     ]
    },
    {
     "name": "stderr",
     "output_type": "stream",
     "text": [
      " 98%|█████████▊| 8833/9000 [14:04<00:05, 31.68it/s]"
     ]
    },
    {
     "name": "stdout",
     "output_type": "stream",
     "text": [
      "ylide MOLECULE 9800 HAS NOT BEEN SUBMITTED\n",
      "ylide MOLECULE 9801 HAS NOT BEEN SUBMITTED\n",
      "ylide MOLECULE 9802 HAS NOT BEEN SUBMITTED\n",
      "ylide MOLECULE 9803 HAS NOT BEEN SUBMITTED\n",
      "ylide MOLECULE 9804 HAS NOT BEEN SUBMITTED\n",
      "ylide MOLECULE 9805 HAS NOT BEEN SUBMITTED\n",
      "ylide MOLECULE 9806 HAS NOT BEEN SUBMITTED\n",
      "ylide MOLECULE 9807 HAS NOT BEEN SUBMITTED\n",
      "ylide MOLECULE 9808 HAS NOT BEEN SUBMITTED\n",
      "ylide MOLECULE 9809 HAS NOT BEEN SUBMITTED\n",
      "ylide MOLECULE 9810 HAS NOT BEEN SUBMITTED\n",
      "ylide MOLECULE 9811 HAS NOT BEEN SUBMITTED\n",
      "ylide MOLECULE 9812 HAS NOT BEEN SUBMITTED\n",
      "ylide MOLECULE 9813 HAS NOT BEEN SUBMITTED\n",
      "ylide MOLECULE 9814 HAS NOT BEEN SUBMITTED\n",
      "ylide MOLECULE 9815 HAS NOT BEEN SUBMITTED\n",
      "ylide MOLECULE 9816 HAS NOT BEEN SUBMITTED\n",
      "ylide MOLECULE 9817 HAS NOT BEEN SUBMITTED\n",
      "ylide MOLECULE 9818 HAS NOT BEEN SUBMITTED\n",
      "ylide MOLECULE 9819 HAS NOT BEEN SUBMITTED\n",
      "ylide MOLECULE 9820 HAS NOT BEEN SUBMITTED\n",
      "ylide MOLECULE 9821 HAS NOT BEEN SUBMITTED\n",
      "ylide MOLECULE 9822 HAS NOT BEEN SUBMITTED\n",
      "ylide MOLECULE 9823 HAS NOT BEEN SUBMITTED\n",
      "ylide MOLECULE 9824 HAS NOT BEEN SUBMITTED\n",
      "ylide MOLECULE 9825 HAS NOT BEEN SUBMITTED\n",
      "ylide MOLECULE 9826 HAS NOT BEEN SUBMITTED\n",
      "ylide MOLECULE 9827 HAS NOT BEEN SUBMITTED\n",
      "ylide MOLECULE 9828 HAS NOT BEEN SUBMITTED\n",
      "ylide MOLECULE 9829 HAS NOT BEEN SUBMITTED\n",
      "ylide MOLECULE 9830 HAS NOT BEEN SUBMITTED\n",
      "ylide MOLECULE 9831 HAS NOT BEEN SUBMITTED\n",
      "ylide MOLECULE 9832 HAS NOT BEEN SUBMITTED\n",
      "ylide MOLECULE 9833 HAS NOT BEEN SUBMITTED\n",
      "ylide MOLECULE 9834 HAS NOT BEEN SUBMITTED\n"
     ]
    },
    {
     "name": "stderr",
     "output_type": "stream",
     "text": [
      " 98%|█████████▊| 8865/9000 [14:05<00:03, 42.92it/s]"
     ]
    },
    {
     "name": "stdout",
     "output_type": "stream",
     "text": [
      "ylide MOLECULE 9835 HAS NOT BEEN SUBMITTED\n",
      "ylide MOLECULE 9836 HAS NOT BEEN SUBMITTED\n",
      "ylide MOLECULE 9837 HAS NOT BEEN SUBMITTED\n",
      "ylide MOLECULE 9838 HAS NOT BEEN SUBMITTED\n",
      "ylide MOLECULE 9839 HAS NOT BEEN SUBMITTED\n",
      "ylide MOLECULE 9840 HAS NOT BEEN SUBMITTED\n",
      "ylide MOLECULE 9841 HAS NOT BEEN SUBMITTED\n",
      "ylide MOLECULE 9842 HAS NOT BEEN SUBMITTED\n",
      "ylide MOLECULE 9843 HAS NOT BEEN SUBMITTED\n",
      "ylide MOLECULE 9844 HAS NOT BEEN SUBMITTED\n",
      "ylide MOLECULE 9845 HAS NOT BEEN SUBMITTED\n",
      "ylide MOLECULE 9846 HAS NOT BEEN SUBMITTED\n",
      "ylide MOLECULE 9847 HAS NOT BEEN SUBMITTED\n",
      "ylide MOLECULE 9848 HAS NOT BEEN SUBMITTED\n",
      "ylide MOLECULE 9849 HAS NOT BEEN SUBMITTED\n",
      "ylide MOLECULE 9850 HAS NOT BEEN SUBMITTED\n",
      "ylide MOLECULE 9851 HAS NOT BEEN SUBMITTED\n",
      "ylide MOLECULE 9852 HAS NOT BEEN SUBMITTED\n",
      "ylide MOLECULE 9853 HAS NOT BEEN SUBMITTED\n",
      "ylide MOLECULE 9854 HAS NOT BEEN SUBMITTED\n",
      "ylide MOLECULE 9855 HAS NOT BEEN SUBMITTED\n",
      "ylide MOLECULE 9856 HAS NOT BEEN SUBMITTED\n",
      "ylide MOLECULE 9857 HAS NOT BEEN SUBMITTED\n",
      "ylide MOLECULE 9858 HAS NOT BEEN SUBMITTED\n",
      "ylide MOLECULE 9859 HAS NOT BEEN SUBMITTED\n",
      "ylide MOLECULE 9860 HAS NOT BEEN SUBMITTED\n",
      "ylide MOLECULE 9861 HAS NOT BEEN SUBMITTED\n",
      "ylide MOLECULE 9862 HAS NOT BEEN SUBMITTED\n",
      "ylide MOLECULE 9863 HAS NOT BEEN SUBMITTED\n",
      "ylide MOLECULE 9864 HAS NOT BEEN SUBMITTED\n",
      "ylide MOLECULE 9865 HAS NOT BEEN SUBMITTED\n",
      "ylide MOLECULE 9866 HAS NOT BEEN SUBMITTED\n",
      "ylide MOLECULE 9867 HAS NOT BEEN SUBMITTED\n",
      "ylide MOLECULE 9868 HAS NOT BEEN SUBMITTED\n",
      "ylide MOLECULE 9869 HAS NOT BEEN SUBMITTED\n",
      "ylide MOLECULE 9870 HAS NOT BEEN SUBMITTED\n",
      "ylide MOLECULE 9871 HAS NOT BEEN SUBMITTED\n",
      "ylide MOLECULE 9872 HAS NOT BEEN SUBMITTED\n",
      "ylide MOLECULE 9873 HAS NOT BEEN SUBMITTED\n",
      "ylide MOLECULE 9874 HAS NOT BEEN SUBMITTED\n",
      "ylide MOLECULE 9875 HAS NOT BEEN SUBMITTED\n",
      "ylide MOLECULE 9876 HAS NOT BEEN SUBMITTED\n",
      "ylide MOLECULE 9877 HAS NOT BEEN SUBMITTED\n",
      "ylide MOLECULE 9878 HAS NOT BEEN SUBMITTED\n",
      "ylide MOLECULE 9879 HAS NOT BEEN SUBMITTED\n",
      "ylide MOLECULE 9880 HAS NOT BEEN SUBMITTED\n",
      "ylide MOLECULE 9881 HAS NOT BEEN SUBMITTED\n",
      "ylide MOLECULE 9882 HAS NOT BEEN SUBMITTED\n",
      "ylide MOLECULE 9883 HAS NOT BEEN SUBMITTED\n",
      "ylide MOLECULE 9884 HAS NOT BEEN SUBMITTED\n",
      "ylide MOLECULE 9885 HAS NOT BEEN SUBMITTED\n"
     ]
    },
    {
     "name": "stderr",
     "output_type": "stream",
     "text": [
      " 99%|█████████▉| 8950/9000 [14:05<00:00, 79.30it/s]"
     ]
    },
    {
     "name": "stdout",
     "output_type": "stream",
     "text": [
      "ylide MOLECULE 9886 HAS NOT BEEN SUBMITTED\n",
      "ylide MOLECULE 9887 HAS NOT BEEN SUBMITTED\n",
      "ylide MOLECULE 9888 HAS NOT BEEN SUBMITTED\n",
      "ylide MOLECULE 9889 HAS NOT BEEN SUBMITTED\n",
      "ylide MOLECULE 9890 HAS NOT BEEN SUBMITTED\n",
      "ylide MOLECULE 9891 HAS NOT BEEN SUBMITTED\n",
      "ylide MOLECULE 9892 HAS NOT BEEN SUBMITTED\n",
      "ylide MOLECULE 9893 HAS NOT BEEN SUBMITTED\n",
      "ylide MOLECULE 9894 HAS NOT BEEN SUBMITTED\n",
      "ylide MOLECULE 9895 HAS NOT BEEN SUBMITTED\n",
      "ylide MOLECULE 9896 HAS NOT BEEN SUBMITTED\n",
      "ylide MOLECULE 9897 HAS NOT BEEN SUBMITTED\n",
      "ylide MOLECULE 9898 HAS NOT BEEN SUBMITTED\n",
      "ylide MOLECULE 9899 HAS NOT BEEN SUBMITTED\n",
      "ylide MOLECULE 9900 HAS NOT BEEN SUBMITTED\n",
      "ylide MOLECULE 9901 HAS NOT BEEN SUBMITTED\n",
      "ylide MOLECULE 9902 HAS NOT BEEN SUBMITTED\n",
      "ylide MOLECULE 9903 HAS NOT BEEN SUBMITTED\n",
      "ylide MOLECULE 9904 HAS NOT BEEN SUBMITTED\n",
      "ylide MOLECULE 9905 HAS NOT BEEN SUBMITTED\n",
      "ylide MOLECULE 9906 HAS NOT BEEN SUBMITTED\n",
      "ylide MOLECULE 9907 HAS NOT BEEN SUBMITTED\n",
      "ylide MOLECULE 9908 HAS NOT BEEN SUBMITTED\n",
      "ylide MOLECULE 9909 HAS NOT BEEN SUBMITTED\n",
      "ylide MOLECULE 9910 HAS NOT BEEN SUBMITTED\n",
      "ylide MOLECULE 9911 HAS NOT BEEN SUBMITTED\n",
      "ylide MOLECULE 9912 HAS NOT BEEN SUBMITTED\n",
      "ylide MOLECULE 9913 HAS NOT BEEN SUBMITTED\n",
      "ylide MOLECULE 9914 HAS NOT BEEN SUBMITTED\n",
      "ylide MOLECULE 9915 HAS NOT BEEN SUBMITTED\n",
      "ylide MOLECULE 9916 HAS NOT BEEN SUBMITTED\n",
      "ylide MOLECULE 9917 HAS NOT BEEN SUBMITTED\n",
      "ylide MOLECULE 9918 HAS NOT BEEN SUBMITTED\n",
      "ylide MOLECULE 9919 HAS NOT BEEN SUBMITTED\n",
      "ylide MOLECULE 9920 HAS NOT BEEN SUBMITTED\n",
      "ylide MOLECULE 9921 HAS NOT BEEN SUBMITTED\n",
      "ylide MOLECULE 9922 HAS NOT BEEN SUBMITTED\n",
      "ylide MOLECULE 9923 HAS NOT BEEN SUBMITTED\n",
      "ylide MOLECULE 9924 HAS NOT BEEN SUBMITTED\n",
      "ylide MOLECULE 9925 HAS NOT BEEN SUBMITTED\n",
      "ylide MOLECULE 9926 HAS NOT BEEN SUBMITTED\n",
      "ylide MOLECULE 9927 HAS NOT BEEN SUBMITTED\n",
      "ylide MOLECULE 9928 HAS NOT BEEN SUBMITTED\n",
      "ylide MOLECULE 9929 HAS NOT BEEN SUBMITTED\n",
      "ylide MOLECULE 9930 HAS NOT BEEN SUBMITTED\n",
      "ylide MOLECULE 9931 HAS NOT BEEN SUBMITTED\n",
      "ylide MOLECULE 9932 HAS NOT BEEN SUBMITTED\n",
      "ylide MOLECULE 9933 HAS NOT BEEN SUBMITTED\n",
      "ylide MOLECULE 9934 HAS NOT BEEN SUBMITTED\n",
      "ylide MOLECULE 9935 HAS NOT BEEN SUBMITTED\n",
      "ylide MOLECULE 9936 HAS NOT BEEN SUBMITTED\n",
      "ylide MOLECULE 9937 HAS NOT BEEN SUBMITTED\n",
      "ylide MOLECULE 9938 HAS NOT BEEN SUBMITTED\n",
      "ylide MOLECULE 9939 HAS NOT BEEN SUBMITTED\n",
      "ylide MOLECULE 9940 HAS NOT BEEN SUBMITTED\n",
      "ylide MOLECULE 9941 HAS NOT BEEN SUBMITTED\n",
      "ylide MOLECULE 9942 HAS NOT BEEN SUBMITTED\n",
      "ylide MOLECULE 9943 HAS NOT BEEN SUBMITTED\n",
      "ylide MOLECULE 9944 HAS NOT BEEN SUBMITTED\n",
      "ylide MOLECULE 9945 HAS NOT BEEN SUBMITTED\n",
      "ylide MOLECULE 9946 HAS NOT BEEN SUBMITTED\n",
      "ylide MOLECULE 9947 HAS NOT BEEN SUBMITTED\n",
      "ylide MOLECULE 9948 HAS NOT BEEN SUBMITTED\n",
      "ylide MOLECULE 9949 HAS NOT BEEN SUBMITTED\n",
      "ylide MOLECULE 9950 HAS NOT BEEN SUBMITTED\n",
      "ylide MOLECULE 9951 HAS NOT BEEN SUBMITTED\n",
      "ylide MOLECULE 9952 HAS NOT BEEN SUBMITTED\n",
      "ylide MOLECULE 9953 HAS NOT BEEN SUBMITTED\n",
      "ylide MOLECULE 9954 HAS NOT BEEN SUBMITTED\n",
      "ylide MOLECULE 9955 HAS NOT BEEN SUBMITTED\n",
      "ylide MOLECULE 9956 HAS NOT BEEN SUBMITTED\n",
      "ylide MOLECULE 9957 HAS NOT BEEN SUBMITTED\n",
      "ylide MOLECULE 9958 HAS NOT BEEN SUBMITTED\n",
      "ylide MOLECULE 9959 HAS NOT BEEN SUBMITTED\n",
      "ylide MOLECULE 9960 HAS NOT BEEN SUBMITTED\n",
      "ylide MOLECULE 9961 HAS NOT BEEN SUBMITTED\n",
      "ylide MOLECULE 9962 HAS NOT BEEN SUBMITTED\n",
      "ylide MOLECULE 9963 HAS NOT BEEN SUBMITTED\n",
      "ylide MOLECULE 9964 HAS NOT BEEN SUBMITTED\n",
      "ylide MOLECULE 9965 HAS NOT BEEN SUBMITTED\n",
      "ylide MOLECULE 9966 HAS NOT BEEN SUBMITTED\n",
      "ylide MOLECULE 9967 HAS NOT BEEN SUBMITTED\n",
      "ylide MOLECULE 9968 HAS NOT BEEN SUBMITTED\n",
      "ylide MOLECULE 9969 HAS NOT BEEN SUBMITTED\n"
     ]
    },
    {
     "name": "stderr",
     "output_type": "stream",
     "text": [
      "100%|█████████▉| 8981/9000 [14:05<00:00, 88.82it/s]"
     ]
    },
    {
     "name": "stdout",
     "output_type": "stream",
     "text": [
      "ylide MOLECULE 9970 HAS NOT BEEN SUBMITTED\n",
      "ylide MOLECULE 9971 HAS NOT BEEN SUBMITTED\n",
      "ylide MOLECULE 9972 HAS NOT BEEN SUBMITTED\n",
      "ylide MOLECULE 9973 HAS NOT BEEN SUBMITTED\n",
      "ylide MOLECULE 9974 HAS NOT BEEN SUBMITTED\n",
      "ylide MOLECULE 9975 HAS NOT BEEN SUBMITTED\n",
      "ylide MOLECULE 9976 HAS NOT BEEN SUBMITTED\n",
      "ylide MOLECULE 9977 HAS NOT BEEN SUBMITTED\n",
      "ylide MOLECULE 9978 HAS NOT BEEN SUBMITTED\n",
      "ylide MOLECULE 9979 HAS NOT BEEN SUBMITTED\n",
      "ylide MOLECULE 9980 HAS NOT BEEN SUBMITTED\n",
      "ylide MOLECULE 9981 HAS NOT BEEN SUBMITTED\n",
      "ylide MOLECULE 9982 HAS NOT BEEN SUBMITTED\n",
      "ylide MOLECULE 9983 HAS NOT BEEN SUBMITTED\n",
      "ylide MOLECULE 9984 HAS NOT BEEN SUBMITTED\n"
     ]
    },
    {
     "name": "stderr",
     "output_type": "stream",
     "text": [
      "100%|██████████| 9000/9000 [14:05<00:00, 10.64it/s]\n",
      "  0%|          | 1/9000 [00:00<15:38,  9.59it/s]"
     ]
    },
    {
     "name": "stdout",
     "output_type": "stream",
     "text": [
      "ylide MOLECULE 9985 HAS NOT BEEN SUBMITTED\n",
      "ylide MOLECULE 9986 HAS NOT BEEN SUBMITTED\n",
      "ylide MOLECULE 9987 HAS NOT BEEN SUBMITTED\n",
      "ylide MOLECULE 9988 HAS NOT BEEN SUBMITTED\n",
      "ylide MOLECULE 9989 HAS NOT BEEN SUBMITTED\n",
      "ylide MOLECULE 9990 HAS NOT BEEN SUBMITTED\n",
      "ylide MOLECULE 9991 HAS NOT BEEN SUBMITTED\n",
      "ylide MOLECULE 9992 HAS NOT BEEN SUBMITTED\n",
      "ylide MOLECULE 9993 HAS NOT BEEN SUBMITTED\n",
      "ylide MOLECULE 9994 HAS NOT BEEN SUBMITTED\n",
      "ylide MOLECULE 9995 HAS NOT BEEN SUBMITTED\n",
      "ylide MOLECULE 9996 HAS NOT BEEN SUBMITTED\n",
      "ylide MOLECULE 9997 HAS NOT BEEN SUBMITTED\n",
      "ylide MOLECULE 9998 HAS NOT BEEN SUBMITTED\n",
      "ylide MOLECULE 9999 HAS NOT BEEN SUBMITTED\n",
      "\n"
     ]
    },
    {
     "name": "stderr",
     "output_type": "stream",
     "text": [
      "  1%|          | 50/9000 [00:05<14:13, 10.49it/s]"
     ]
    },
    {
     "name": "stdout",
     "output_type": "stream",
     "text": [
      "GEOMETRY OPT ERROR WITH ylide_h MOLECULE 1048\n",
      "GEOMETRY OPT ERROR WITH ylide_h MOLECULE 1049\n"
     ]
    },
    {
     "name": "stderr",
     "output_type": "stream",
     "text": [
      "  1%|          | 90/9000 [00:10<15:07,  9.82it/s]"
     ]
    },
    {
     "name": "stdout",
     "output_type": "stream",
     "text": [
      "GEOMETRY OPT ERROR WITH ylide_h MOLECULE 1088\n"
     ]
    },
    {
     "name": "stderr",
     "output_type": "stream",
     "text": [
      "  3%|▎         | 247/9000 [00:30<13:09, 11.08it/s]  "
     ]
    },
    {
     "name": "stdout",
     "output_type": "stream",
     "text": [
      "GEOMETRY OPT ERROR WITH ylide_h MOLECULE 1244\n"
     ]
    },
    {
     "name": "stderr",
     "output_type": "stream",
     "text": [
      "  4%|▍         | 351/9000 [00:39<13:44, 10.49it/s]"
     ]
    },
    {
     "name": "stdout",
     "output_type": "stream",
     "text": [
      "GEOMETRY OPT ERROR WITH ylide_h MOLECULE 1349\n"
     ]
    },
    {
     "name": "stderr",
     "output_type": "stream",
     "text": [
      "  4%|▍         | 355/9000 [00:39<13:20, 10.79it/s]"
     ]
    },
    {
     "name": "stdout",
     "output_type": "stream",
     "text": [
      "GEOMETRY OPT ERROR WITH ylide_h MOLECULE 1352\n",
      "GEOMETRY OPT ERROR WITH ylide_h MOLECULE 1353\n"
     ]
    },
    {
     "name": "stderr",
     "output_type": "stream",
     "text": [
      "  4%|▍         | 361/9000 [00:40<12:00, 11.98it/s]"
     ]
    },
    {
     "name": "stdout",
     "output_type": "stream",
     "text": [
      "GEOMETRY OPT ERROR WITH ylide_h MOLECULE 1357\n"
     ]
    },
    {
     "name": "stderr",
     "output_type": "stream",
     "text": [
      "  4%|▍         | 387/9000 [00:42<12:28, 11.50it/s]"
     ]
    },
    {
     "name": "stdout",
     "output_type": "stream",
     "text": [
      "GEOMETRY OPT ERROR WITH ylide_h MOLECULE 1385\n"
     ]
    },
    {
     "name": "stderr",
     "output_type": "stream",
     "text": [
      "  5%|▍         | 411/9000 [00:46<26:20,  5.44it/s]  "
     ]
    },
    {
     "name": "stdout",
     "output_type": "stream",
     "text": [
      "GEOMETRY OPT ERROR WITH ylide_h MOLECULE 1410\n"
     ]
    },
    {
     "name": "stderr",
     "output_type": "stream",
     "text": [
      "  5%|▍         | 415/9000 [00:47<19:30,  7.33it/s]"
     ]
    },
    {
     "name": "stdout",
     "output_type": "stream",
     "text": [
      "GEOMETRY OPT ERROR WITH ylide_h MOLECULE 1412\n"
     ]
    },
    {
     "name": "stderr",
     "output_type": "stream",
     "text": [
      "  6%|▌         | 543/9000 [00:59<12:05, 11.66it/s]"
     ]
    },
    {
     "name": "stdout",
     "output_type": "stream",
     "text": [
      "GEOMETRY OPT ERROR WITH ylide_h MOLECULE 1541\n"
     ]
    },
    {
     "name": "stderr",
     "output_type": "stream",
     "text": [
      "  6%|▋         | 569/9000 [01:01<12:40, 11.08it/s]"
     ]
    },
    {
     "name": "stdout",
     "output_type": "stream",
     "text": [
      "GEOMETRY OPT ERROR WITH ylide_h MOLECULE 1566\n"
     ]
    },
    {
     "name": "stderr",
     "output_type": "stream",
     "text": [
      "  7%|▋         | 627/9000 [01:07<15:56,  8.76it/s]"
     ]
    },
    {
     "name": "stdout",
     "output_type": "stream",
     "text": [
      "GEOMETRY OPT ERROR WITH ylide_h MOLECULE 1624\n"
     ]
    },
    {
     "name": "stderr",
     "output_type": "stream",
     "text": [
      "  7%|▋         | 637/9000 [01:08<15:15,  9.14it/s]"
     ]
    },
    {
     "name": "stdout",
     "output_type": "stream",
     "text": [
      "GEOMETRY OPT ERROR WITH ylide_h MOLECULE 1634\n"
     ]
    },
    {
     "name": "stderr",
     "output_type": "stream",
     "text": [
      "  9%|▊         | 766/9000 [01:24<12:43, 10.79it/s]  "
     ]
    },
    {
     "name": "stdout",
     "output_type": "stream",
     "text": [
      "GEOMETRY OPT ERROR WITH ylide_h MOLECULE 1764\n"
     ]
    },
    {
     "name": "stderr",
     "output_type": "stream",
     "text": [
      "  9%|▊         | 786/9000 [01:26<13:38, 10.04it/s]"
     ]
    },
    {
     "name": "stdout",
     "output_type": "stream",
     "text": [
      "GEOMETRY OPT ERROR WITH ylide_h MOLECULE 1784\n"
     ]
    },
    {
     "name": "stderr",
     "output_type": "stream",
     "text": [
      "  9%|▉         | 832/9000 [01:30<11:42, 11.63it/s]"
     ]
    },
    {
     "name": "stdout",
     "output_type": "stream",
     "text": [
      "GEOMETRY OPT ERROR WITH ylide_h MOLECULE 1830\n"
     ]
    },
    {
     "name": "stderr",
     "output_type": "stream",
     "text": [
      " 10%|▉         | 862/9000 [01:33<11:54, 11.38it/s]"
     ]
    },
    {
     "name": "stdout",
     "output_type": "stream",
     "text": [
      "GEOMETRY OPT ERROR WITH ylide_h MOLECULE 1860\n"
     ]
    },
    {
     "name": "stderr",
     "output_type": "stream",
     "text": [
      " 10%|▉         | 874/9000 [01:34<13:36,  9.95it/s]"
     ]
    },
    {
     "name": "stdout",
     "output_type": "stream",
     "text": [
      "GEOMETRY OPT ERROR WITH ylide_h MOLECULE 1872\n"
     ]
    },
    {
     "name": "stderr",
     "output_type": "stream",
     "text": [
      " 12%|█▏        | 1062/9000 [01:52<11:56, 11.07it/s]"
     ]
    },
    {
     "name": "stdout",
     "output_type": "stream",
     "text": [
      "GEOMETRY OPT ERROR WITH ylide_h MOLECULE 2058\n"
     ]
    },
    {
     "name": "stderr",
     "output_type": "stream",
     "text": [
      " 14%|█▍        | 1296/9000 [02:14<13:26,  9.55it/s]"
     ]
    },
    {
     "name": "stdout",
     "output_type": "stream",
     "text": [
      "GEOMETRY OPT ERROR WITH ylide_h MOLECULE 2293\n"
     ]
    },
    {
     "name": "stderr",
     "output_type": "stream",
     "text": [
      " 15%|█▌        | 1375/9000 [02:24<12:21, 10.28it/s]"
     ]
    },
    {
     "name": "stdout",
     "output_type": "stream",
     "text": [
      "GEOMETRY OPT ERROR WITH ylide_h MOLECULE 2374\n"
     ]
    },
    {
     "name": "stderr",
     "output_type": "stream",
     "text": [
      " 16%|█▌        | 1396/9000 [02:26<10:56, 11.59it/s]"
     ]
    },
    {
     "name": "stdout",
     "output_type": "stream",
     "text": [
      "GEOMETRY OPT ERROR WITH ylide_h MOLECULE 2393\n"
     ]
    },
    {
     "name": "stderr",
     "output_type": "stream",
     "text": [
      " 17%|█▋        | 1574/9000 [02:41<11:56, 10.36it/s]"
     ]
    },
    {
     "name": "stdout",
     "output_type": "stream",
     "text": [
      "GEOMETRY OPT ERROR WITH ylide_h MOLECULE 2573\n"
     ]
    },
    {
     "name": "stderr",
     "output_type": "stream",
     "text": [
      " 18%|█▊        | 1582/9000 [02:42<11:57, 10.34it/s]"
     ]
    },
    {
     "name": "stdout",
     "output_type": "stream",
     "text": [
      "GEOMETRY OPT ERROR WITH ylide_h MOLECULE 2580\n"
     ]
    },
    {
     "name": "stderr",
     "output_type": "stream",
     "text": [
      " 18%|█▊        | 1588/9000 [02:42<11:18, 10.92it/s]"
     ]
    },
    {
     "name": "stdout",
     "output_type": "stream",
     "text": [
      "GEOMETRY OPT ERROR WITH ylide_h MOLECULE 2586\n"
     ]
    },
    {
     "name": "stderr",
     "output_type": "stream",
     "text": [
      " 18%|█▊        | 1598/9000 [02:43<11:16, 10.93it/s]"
     ]
    },
    {
     "name": "stdout",
     "output_type": "stream",
     "text": [
      "GEOMETRY OPT ERROR WITH ylide_h MOLECULE 2595\n"
     ]
    },
    {
     "name": "stderr",
     "output_type": "stream",
     "text": [
      " 19%|█▉        | 1724/9000 [02:56<12:20,  9.83it/s]  "
     ]
    },
    {
     "name": "stdout",
     "output_type": "stream",
     "text": [
      "GEOMETRY OPT ERROR WITH ylide_h MOLECULE 2723\n"
     ]
    },
    {
     "name": "stderr",
     "output_type": "stream",
     "text": [
      " 19%|█▉        | 1731/9000 [02:57<13:01,  9.31it/s]"
     ]
    },
    {
     "name": "stdout",
     "output_type": "stream",
     "text": [
      "GEOMETRY OPT ERROR WITH ylide_h MOLECULE 2729\n"
     ]
    },
    {
     "name": "stderr",
     "output_type": "stream",
     "text": [
      " 19%|█▉        | 1746/9000 [02:59<11:41, 10.34it/s]"
     ]
    },
    {
     "name": "stdout",
     "output_type": "stream",
     "text": [
      "GEOMETRY OPT ERROR WITH ylide_h MOLECULE 2743\n"
     ]
    },
    {
     "name": "stderr",
     "output_type": "stream",
     "text": [
      " 21%|██        | 1898/9000 [03:14<10:52, 10.89it/s]"
     ]
    },
    {
     "name": "stdout",
     "output_type": "stream",
     "text": [
      "GEOMETRY OPT ERROR WITH ylide_h MOLECULE 2896\n"
     ]
    },
    {
     "name": "stderr",
     "output_type": "stream",
     "text": [
      " 21%|██▏       | 1929/9000 [03:19<12:58,  9.08it/s]"
     ]
    },
    {
     "name": "stdout",
     "output_type": "stream",
     "text": [
      "GEOMETRY OPT ERROR WITH ylide_h MOLECULE 2926\n",
      "GEOMETRY OPT ERROR WITH ylide_h MOLECULE 2927\n",
      "GEOMETRY OPT ERROR WITH ylide_h MOLECULE 2928\n"
     ]
    },
    {
     "name": "stderr",
     "output_type": "stream",
     "text": [
      " 22%|██▏       | 1959/9000 [03:22<10:30, 11.17it/s]"
     ]
    },
    {
     "name": "stdout",
     "output_type": "stream",
     "text": [
      "GEOMETRY OPT ERROR WITH ylide_h MOLECULE 2956\n"
     ]
    },
    {
     "name": "stderr",
     "output_type": "stream",
     "text": [
      " 23%|██▎       | 2075/9000 [03:32<11:40,  9.89it/s]"
     ]
    },
    {
     "name": "stdout",
     "output_type": "stream",
     "text": [
      "GEOMETRY OPT ERROR WITH ylide_h MOLECULE 3073\n"
     ]
    },
    {
     "name": "stderr",
     "output_type": "stream",
     "text": [
      " 24%|██▍       | 2168/9000 [03:40<12:52,  8.85it/s]"
     ]
    },
    {
     "name": "stdout",
     "output_type": "stream",
     "text": [
      "GEOMETRY OPT ERROR WITH ylide_h MOLECULE 3166\n"
     ]
    },
    {
     "name": "stderr",
     "output_type": "stream",
     "text": [
      " 24%|██▍       | 2186/9000 [03:42<12:28,  9.10it/s]"
     ]
    },
    {
     "name": "stdout",
     "output_type": "stream",
     "text": [
      "GEOMETRY OPT ERROR WITH ylide_h MOLECULE 3184\n"
     ]
    },
    {
     "name": "stderr",
     "output_type": "stream",
     "text": [
      " 25%|██▌       | 2273/9000 [03:52<33:05,  3.39it/s]"
     ]
    },
    {
     "name": "stdout",
     "output_type": "stream",
     "text": [
      "GEOMETRY OPT ERROR WITH ylide_h MOLECULE 3271\n"
     ]
    },
    {
     "name": "stderr",
     "output_type": "stream",
     "text": [
      " 26%|██▋       | 2381/9000 [04:03<10:55, 10.10it/s]"
     ]
    },
    {
     "name": "stdout",
     "output_type": "stream",
     "text": [
      "GEOMETRY OPT ERROR WITH ylide_h MOLECULE 3379\n"
     ]
    },
    {
     "name": "stderr",
     "output_type": "stream",
     "text": [
      " 28%|██▊       | 2496/9000 [04:14<09:33, 11.35it/s]"
     ]
    },
    {
     "name": "stdout",
     "output_type": "stream",
     "text": [
      "GEOMETRY OPT ERROR WITH ylide_h MOLECULE 3494\n"
     ]
    },
    {
     "name": "stderr",
     "output_type": "stream",
     "text": [
      " 28%|██▊       | 2528/9000 [04:17<10:26, 10.33it/s]"
     ]
    },
    {
     "name": "stdout",
     "output_type": "stream",
     "text": [
      "GEOMETRY OPT ERROR WITH ylide_h MOLECULE 3526\n"
     ]
    },
    {
     "name": "stderr",
     "output_type": "stream",
     "text": [
      " 29%|██▉       | 2619/9000 [04:27<08:36, 12.35it/s]  "
     ]
    },
    {
     "name": "stdout",
     "output_type": "stream",
     "text": [
      "GEOMETRY OPT ERROR WITH ylide_h MOLECULE 3616\n"
     ]
    },
    {
     "name": "stderr",
     "output_type": "stream",
     "text": [
      " 29%|██▉       | 2653/9000 [04:30<09:05, 11.63it/s]"
     ]
    },
    {
     "name": "stdout",
     "output_type": "stream",
     "text": [
      "GEOMETRY OPT ERROR WITH ylide_h MOLECULE 3651\n"
     ]
    },
    {
     "name": "stderr",
     "output_type": "stream",
     "text": [
      " 31%|███       | 2771/9000 [04:40<09:17, 11.17it/s]"
     ]
    },
    {
     "name": "stdout",
     "output_type": "stream",
     "text": [
      "GEOMETRY OPT ERROR WITH ylide_h MOLECULE 3770\n"
     ]
    },
    {
     "name": "stderr",
     "output_type": "stream",
     "text": [
      " 32%|███▏      | 2854/9000 [04:50<17:21,  5.90it/s]"
     ]
    },
    {
     "name": "stdout",
     "output_type": "stream",
     "text": [
      "GEOMETRY OPT ERROR WITH ylide_h MOLECULE 3852\n"
     ]
    },
    {
     "name": "stderr",
     "output_type": "stream",
     "text": [
      " 34%|███▍      | 3078/9000 [05:11<07:31, 13.11it/s]"
     ]
    },
    {
     "name": "stdout",
     "output_type": "stream",
     "text": [
      "GEOMETRY OPT ERROR WITH ylide_h MOLECULE 4075\n"
     ]
    },
    {
     "name": "stderr",
     "output_type": "stream",
     "text": [
      " 35%|███▍      | 3134/9000 [05:17<08:38, 11.31it/s]"
     ]
    },
    {
     "name": "stdout",
     "output_type": "stream",
     "text": [
      "GEOMETRY OPT ERROR WITH ylide_h MOLECULE 4132\n"
     ]
    },
    {
     "name": "stderr",
     "output_type": "stream",
     "text": [
      " 36%|███▌      | 3258/9000 [05:30<07:26, 12.85it/s]  "
     ]
    },
    {
     "name": "stdout",
     "output_type": "stream",
     "text": [
      "GEOMETRY OPT ERROR WITH ylide_h MOLECULE 4256\n"
     ]
    },
    {
     "name": "stderr",
     "output_type": "stream",
     "text": [
      " 38%|███▊      | 3425/9000 [05:47<11:49,  7.85it/s]"
     ]
    },
    {
     "name": "stdout",
     "output_type": "stream",
     "text": [
      "GEOMETRY OPT ERROR WITH ylide_h MOLECULE 4423\n"
     ]
    },
    {
     "name": "stderr",
     "output_type": "stream",
     "text": [
      " 39%|███▉      | 3489/9000 [05:57<10:27,  8.79it/s]  "
     ]
    },
    {
     "name": "stdout",
     "output_type": "stream",
     "text": [
      "GEOMETRY OPT ERROR WITH ylide_h MOLECULE 4486\n"
     ]
    },
    {
     "name": "stderr",
     "output_type": "stream",
     "text": [
      " 39%|███▉      | 3525/9000 [06:00<08:59, 10.15it/s]"
     ]
    },
    {
     "name": "stdout",
     "output_type": "stream",
     "text": [
      "GEOMETRY OPT ERROR WITH ylide_h MOLECULE 4524\n"
     ]
    },
    {
     "name": "stderr",
     "output_type": "stream",
     "text": [
      " 39%|███▉      | 3545/9000 [06:02<07:40, 11.84it/s]"
     ]
    },
    {
     "name": "stdout",
     "output_type": "stream",
     "text": [
      "GEOMETRY OPT ERROR WITH ylide_h MOLECULE 4544\n"
     ]
    },
    {
     "name": "stderr",
     "output_type": "stream",
     "text": [
      " 40%|███▉      | 3579/9000 [06:05<08:39, 10.43it/s]"
     ]
    },
    {
     "name": "stdout",
     "output_type": "stream",
     "text": [
      "GEOMETRY OPT ERROR WITH ylide_h MOLECULE 4577\n"
     ]
    },
    {
     "name": "stderr",
     "output_type": "stream",
     "text": [
      " 40%|████      | 3621/9000 [06:09<07:42, 11.63it/s]"
     ]
    },
    {
     "name": "stdout",
     "output_type": "stream",
     "text": [
      "GEOMETRY OPT ERROR WITH ylide_h MOLECULE 4618\n"
     ]
    },
    {
     "name": "stderr",
     "output_type": "stream",
     "text": [
      " 40%|████      | 3625/9000 [06:09<07:40, 11.68it/s]"
     ]
    },
    {
     "name": "stdout",
     "output_type": "stream",
     "text": [
      "GEOMETRY OPT ERROR WITH ylide_h MOLECULE 4622\n"
     ]
    },
    {
     "name": "stderr",
     "output_type": "stream",
     "text": [
      " 42%|████▏     | 3756/9000 [06:23<06:34, 13.30it/s]"
     ]
    },
    {
     "name": "stdout",
     "output_type": "stream",
     "text": [
      "GEOMETRY OPT ERROR WITH ylide_h MOLECULE 4753\n"
     ]
    },
    {
     "name": "stderr",
     "output_type": "stream",
     "text": [
      " 42%|████▏     | 3778/9000 [06:25<08:11, 10.63it/s]"
     ]
    },
    {
     "name": "stdout",
     "output_type": "stream",
     "text": [
      "GEOMETRY OPT ERROR WITH ylide_h MOLECULE 4776\n"
     ]
    },
    {
     "name": "stderr",
     "output_type": "stream",
     "text": [
      " 42%|████▏     | 3796/9000 [06:26<06:58, 12.44it/s]"
     ]
    },
    {
     "name": "stdout",
     "output_type": "stream",
     "text": [
      "GEOMETRY OPT ERROR WITH ylide_h MOLECULE 4792\n"
     ]
    },
    {
     "name": "stderr",
     "output_type": "stream",
     "text": [
      " 43%|████▎     | 3903/9000 [06:35<06:55, 12.26it/s]"
     ]
    },
    {
     "name": "stdout",
     "output_type": "stream",
     "text": [
      "GEOMETRY OPT ERROR WITH ylide_h MOLECULE 4899\n"
     ]
    },
    {
     "name": "stderr",
     "output_type": "stream",
     "text": [
      " 45%|████▍     | 4009/9000 [06:45<09:39,  8.62it/s]"
     ]
    },
    {
     "name": "stdout",
     "output_type": "stream",
     "text": [
      "GEOMETRY OPT ERROR WITH ylide_h MOLECULE 5007\n"
     ]
    },
    {
     "name": "stderr",
     "output_type": "stream",
     "text": [
      " 45%|████▍     | 4021/9000 [06:47<08:13, 10.08it/s]"
     ]
    },
    {
     "name": "stdout",
     "output_type": "stream",
     "text": [
      "GEOMETRY OPT ERROR WITH ylide_h MOLECULE 5018\n"
     ]
    },
    {
     "name": "stderr",
     "output_type": "stream",
     "text": [
      " 46%|████▌     | 4110/9000 [06:56<06:38, 12.26it/s]"
     ]
    },
    {
     "name": "stdout",
     "output_type": "stream",
     "text": [
      "GEOMETRY OPT ERROR WITH ylide_h MOLECULE 5108\n",
      "GEOMETRY OPT ERROR WITH ylide_h MOLECULE 5109\n"
     ]
    },
    {
     "name": "stderr",
     "output_type": "stream",
     "text": [
      " 46%|████▌     | 4130/9000 [06:58<07:17, 11.12it/s]"
     ]
    },
    {
     "name": "stdout",
     "output_type": "stream",
     "text": [
      "GEOMETRY OPT ERROR WITH ylide_h MOLECULE 5128\n",
      "GEOMETRY OPT ERROR WITH ylide_h MOLECULE 5129\n"
     ]
    },
    {
     "name": "stderr",
     "output_type": "stream",
     "text": [
      " 46%|████▌     | 4140/9000 [06:59<07:42, 10.51it/s]"
     ]
    },
    {
     "name": "stdout",
     "output_type": "stream",
     "text": [
      "GEOMETRY OPT ERROR WITH ylide_h MOLECULE 5138\n"
     ]
    },
    {
     "name": "stderr",
     "output_type": "stream",
     "text": [
      " 47%|████▋     | 4232/9000 [07:07<07:05, 11.21it/s]"
     ]
    },
    {
     "name": "stdout",
     "output_type": "stream",
     "text": [
      "GEOMETRY OPT ERROR WITH ylide_h MOLECULE 5229\n"
     ]
    },
    {
     "name": "stderr",
     "output_type": "stream",
     "text": [
      " 47%|████▋     | 4247/9000 [07:08<07:50, 10.10it/s]"
     ]
    },
    {
     "name": "stdout",
     "output_type": "stream",
     "text": [
      "GEOMETRY OPT ERROR WITH ylide_h MOLECULE 5244\n"
     ]
    },
    {
     "name": "stderr",
     "output_type": "stream",
     "text": [
      " 48%|████▊     | 4309/9000 [07:14<08:28,  9.22it/s]"
     ]
    },
    {
     "name": "stdout",
     "output_type": "stream",
     "text": [
      "GEOMETRY OPT ERROR WITH ylide_h MOLECULE 5308\n"
     ]
    },
    {
     "name": "stderr",
     "output_type": "stream",
     "text": [
      " 48%|████▊     | 4363/9000 [07:22<28:27,  2.71it/s]"
     ]
    },
    {
     "name": "stdout",
     "output_type": "stream",
     "text": [
      "GEOMETRY OPT ERROR WITH ylide_h MOLECULE 5362\n"
     ]
    },
    {
     "name": "stderr",
     "output_type": "stream",
     "text": [
      " 53%|█████▎    | 4778/9000 [08:08<06:56, 10.13it/s]"
     ]
    },
    {
     "name": "stdout",
     "output_type": "stream",
     "text": [
      "GEOMETRY OPT ERROR WITH ylide_h MOLECULE 5775\n"
     ]
    },
    {
     "name": "stderr",
     "output_type": "stream",
     "text": [
      " 54%|█████▍    | 4876/9000 [08:16<06:30, 10.56it/s]"
     ]
    },
    {
     "name": "stdout",
     "output_type": "stream",
     "text": [
      "GEOMETRY OPT ERROR WITH ylide_h MOLECULE 5874\n"
     ]
    },
    {
     "name": "stderr",
     "output_type": "stream",
     "text": [
      " 56%|█████▌    | 5015/9000 [08:31<06:30, 10.20it/s]"
     ]
    },
    {
     "name": "stdout",
     "output_type": "stream",
     "text": [
      "GEOMETRY OPT ERROR WITH ylide_h MOLECULE 6013\n"
     ]
    },
    {
     "name": "stderr",
     "output_type": "stream",
     "text": [
      " 56%|█████▌    | 5061/9000 [08:35<06:23, 10.28it/s]"
     ]
    },
    {
     "name": "stdout",
     "output_type": "stream",
     "text": [
      "GEOMETRY OPT ERROR WITH ylide_h MOLECULE 6059\n"
     ]
    },
    {
     "name": "stderr",
     "output_type": "stream",
     "text": [
      " 58%|█████▊    | 5231/9000 [08:53<15:17,  4.11it/s]"
     ]
    },
    {
     "name": "stdout",
     "output_type": "stream",
     "text": [
      "GEOMETRY OPT ERROR WITH ylide_h MOLECULE 6230\n"
     ]
    },
    {
     "name": "stderr",
     "output_type": "stream",
     "text": [
      " 58%|█████▊    | 5249/9000 [08:56<07:12,  8.67it/s]"
     ]
    },
    {
     "name": "stdout",
     "output_type": "stream",
     "text": [
      "GEOMETRY OPT ERROR WITH ylide_h MOLECULE 6246\n"
     ]
    },
    {
     "name": "stderr",
     "output_type": "stream",
     "text": [
      " 59%|█████▉    | 5330/9000 [09:04<05:49, 10.50it/s]"
     ]
    },
    {
     "name": "stdout",
     "output_type": "stream",
     "text": [
      "GEOMETRY OPT ERROR WITH ylide_h MOLECULE 6327\n"
     ]
    },
    {
     "name": "stderr",
     "output_type": "stream",
     "text": [
      " 61%|██████▏   | 5526/9000 [09:26<05:30, 10.52it/s]"
     ]
    },
    {
     "name": "stdout",
     "output_type": "stream",
     "text": [
      "GEOMETRY OPT ERROR WITH ylide_h MOLECULE 6524\n"
     ]
    },
    {
     "name": "stderr",
     "output_type": "stream",
     "text": [
      " 62%|██████▏   | 5561/9000 [09:29<05:06, 11.20it/s]"
     ]
    },
    {
     "name": "stdout",
     "output_type": "stream",
     "text": [
      "GEOMETRY OPT ERROR WITH ylide_h MOLECULE 6559\n"
     ]
    },
    {
     "name": "stderr",
     "output_type": "stream",
     "text": [
      " 62%|██████▏   | 5573/9000 [09:30<05:39, 10.08it/s]"
     ]
    },
    {
     "name": "stdout",
     "output_type": "stream",
     "text": [
      "GEOMETRY OPT ERROR WITH ylide_h MOLECULE 6571\n"
     ]
    },
    {
     "name": "stderr",
     "output_type": "stream",
     "text": [
      " 63%|██████▎   | 5696/9000 [09:44<07:15,  7.59it/s]"
     ]
    },
    {
     "name": "stdout",
     "output_type": "stream",
     "text": [
      "GEOMETRY OPT ERROR WITH ylide_h MOLECULE 6694\n"
     ]
    },
    {
     "name": "stderr",
     "output_type": "stream",
     "text": [
      " 64%|██████▍   | 5749/9000 [09:51<07:34,  7.16it/s]"
     ]
    },
    {
     "name": "stdout",
     "output_type": "stream",
     "text": [
      "GEOMETRY OPT ERROR WITH ylide_h MOLECULE 6748\n"
     ]
    },
    {
     "name": "stderr",
     "output_type": "stream",
     "text": [
      " 66%|██████▌   | 5917/9000 [10:12<04:50, 10.63it/s]"
     ]
    },
    {
     "name": "stdout",
     "output_type": "stream",
     "text": [
      "GEOMETRY OPT ERROR WITH ylide_h MOLECULE 6914\n"
     ]
    },
    {
     "name": "stderr",
     "output_type": "stream",
     "text": [
      " 69%|██████▉   | 6239/9000 [10:47<05:03,  9.11it/s]"
     ]
    },
    {
     "name": "stdout",
     "output_type": "stream",
     "text": [
      "GEOMETRY OPT ERROR WITH ylide_h MOLECULE 7238\n"
     ]
    },
    {
     "name": "stderr",
     "output_type": "stream",
     "text": [
      " 69%|██████▉   | 6243/9000 [10:48<05:00,  9.19it/s]"
     ]
    },
    {
     "name": "stdout",
     "output_type": "stream",
     "text": [
      "GEOMETRY OPT ERROR WITH ylide_h MOLECULE 7240\n"
     ]
    },
    {
     "name": "stderr",
     "output_type": "stream",
     "text": [
      " 70%|███████   | 6313/9000 [10:56<07:49,  5.72it/s]"
     ]
    },
    {
     "name": "stdout",
     "output_type": "stream",
     "text": [
      "GEOMETRY OPT ERROR WITH ylide_h MOLECULE 7311\n"
     ]
    },
    {
     "name": "stderr",
     "output_type": "stream",
     "text": [
      " 72%|███████▏  | 6468/9000 [11:10<03:30, 12.02it/s]"
     ]
    },
    {
     "name": "stdout",
     "output_type": "stream",
     "text": [
      "GEOMETRY OPT ERROR WITH ylide_h MOLECULE 7466\n"
     ]
    },
    {
     "name": "stderr",
     "output_type": "stream",
     "text": [
      " 73%|███████▎  | 6583/9000 [11:21<03:39, 11.03it/s]"
     ]
    },
    {
     "name": "stdout",
     "output_type": "stream",
     "text": [
      "GEOMETRY OPT ERROR WITH ylide_h MOLECULE 7581\n"
     ]
    },
    {
     "name": "stderr",
     "output_type": "stream",
     "text": [
      " 74%|███████▍  | 6642/9000 [11:29<03:15, 12.06it/s]"
     ]
    },
    {
     "name": "stdout",
     "output_type": "stream",
     "text": [
      "GEOMETRY OPT ERROR WITH ylide_h MOLECULE 7639\n"
     ]
    },
    {
     "name": "stderr",
     "output_type": "stream",
     "text": [
      " 75%|███████▍  | 6731/9000 [11:36<04:13,  8.97it/s]"
     ]
    },
    {
     "name": "stdout",
     "output_type": "stream",
     "text": [
      "GEOMETRY OPT ERROR WITH ylide_h MOLECULE 7729\n"
     ]
    },
    {
     "name": "stderr",
     "output_type": "stream",
     "text": [
      " 76%|███████▌  | 6833/9000 [11:46<03:24, 10.60it/s]"
     ]
    },
    {
     "name": "stdout",
     "output_type": "stream",
     "text": [
      "GEOMETRY OPT ERROR WITH ylide_h MOLECULE 7833\n"
     ]
    },
    {
     "name": "stderr",
     "output_type": "stream",
     "text": [
      " 76%|███████▌  | 6854/9000 [11:49<03:06, 11.48it/s]"
     ]
    },
    {
     "name": "stdout",
     "output_type": "stream",
     "text": [
      "GEOMETRY OPT ERROR WITH ylide_h MOLECULE 7852\n"
     ]
    },
    {
     "name": "stderr",
     "output_type": "stream",
     "text": [
      " 76%|███████▋  | 6871/9000 [11:51<05:29,  6.46it/s]"
     ]
    },
    {
     "name": "stdout",
     "output_type": "stream",
     "text": [
      "GEOMETRY OPT ERROR WITH ylide_h MOLECULE 7869\n"
     ]
    },
    {
     "name": "stderr",
     "output_type": "stream",
     "text": [
      " 77%|███████▋  | 6889/9000 [11:54<07:11,  4.89it/s]"
     ]
    },
    {
     "name": "stdout",
     "output_type": "stream",
     "text": [
      "GEOMETRY OPT ERROR WITH ylide_h MOLECULE 7887\n"
     ]
    },
    {
     "name": "stderr",
     "output_type": "stream",
     "text": [
      " 78%|███████▊  | 7040/9000 [12:07<02:54, 11.26it/s]"
     ]
    },
    {
     "name": "stdout",
     "output_type": "stream",
     "text": [
      "GEOMETRY OPT ERROR WITH ylide_h MOLECULE 8038\n",
      "GEOMETRY OPT ERROR WITH ylide_h MOLECULE 8040\n"
     ]
    },
    {
     "name": "stderr",
     "output_type": "stream",
     "text": [
      " 79%|███████▉  | 7104/9000 [12:14<03:06, 10.19it/s]"
     ]
    },
    {
     "name": "stdout",
     "output_type": "stream",
     "text": [
      "GEOMETRY OPT ERROR WITH ylide_h MOLECULE 8102\n"
     ]
    },
    {
     "name": "stderr",
     "output_type": "stream",
     "text": [
      " 79%|███████▉  | 7128/9000 [12:16<02:51, 10.91it/s]"
     ]
    },
    {
     "name": "stdout",
     "output_type": "stream",
     "text": [
      "GEOMETRY OPT ERROR WITH ylide_h MOLECULE 8126\n"
     ]
    },
    {
     "name": "stderr",
     "output_type": "stream",
     "text": [
      " 80%|███████▉  | 7172/9000 [12:21<03:04,  9.88it/s]"
     ]
    },
    {
     "name": "stdout",
     "output_type": "stream",
     "text": [
      "GEOMETRY OPT ERROR WITH ylide_h MOLECULE 8170\n"
     ]
    },
    {
     "name": "stderr",
     "output_type": "stream",
     "text": [
      " 80%|████████  | 7223/9000 [12:27<06:36,  4.48it/s]"
     ]
    },
    {
     "name": "stdout",
     "output_type": "stream",
     "text": [
      "GEOMETRY OPT ERROR WITH ylide_h MOLECULE 8222\n"
     ]
    },
    {
     "name": "stderr",
     "output_type": "stream",
     "text": [
      " 81%|████████  | 7287/9000 [12:34<02:50, 10.02it/s]"
     ]
    },
    {
     "name": "stdout",
     "output_type": "stream",
     "text": [
      "GEOMETRY OPT ERROR WITH ylide_h MOLECULE 8286\n",
      "GEOMETRY OPT ERROR WITH ylide_h MOLECULE 8287\n"
     ]
    },
    {
     "name": "stderr",
     "output_type": "stream",
     "text": [
      " 81%|████████▏ | 7319/9000 [12:37<02:27, 11.43it/s]"
     ]
    },
    {
     "name": "stdout",
     "output_type": "stream",
     "text": [
      "GEOMETRY OPT ERROR WITH ylide_h MOLECULE 8317\n"
     ]
    },
    {
     "name": "stderr",
     "output_type": "stream",
     "text": [
      " 82%|████████▏ | 7349/9000 [12:40<02:49,  9.77it/s]"
     ]
    },
    {
     "name": "stdout",
     "output_type": "stream",
     "text": [
      "GEOMETRY OPT ERROR WITH ylide_h MOLECULE 8347\n"
     ]
    },
    {
     "name": "stderr",
     "output_type": "stream",
     "text": [
      " 85%|████████▍ | 7623/9000 [13:07<01:51, 12.36it/s]"
     ]
    },
    {
     "name": "stdout",
     "output_type": "stream",
     "text": [
      "GEOMETRY OPT ERROR WITH ylide_h MOLECULE 8622\n"
     ]
    },
    {
     "name": "stderr",
     "output_type": "stream",
     "text": [
      " 86%|████████▌ | 7708/9000 [13:14<02:18,  9.32it/s]"
     ]
    },
    {
     "name": "stdout",
     "output_type": "stream",
     "text": [
      "GEOMETRY OPT ERROR WITH ylide_h MOLECULE 8706\n"
     ]
    },
    {
     "name": "stderr",
     "output_type": "stream",
     "text": [
      " 86%|████████▌ | 7737/9000 [13:18<03:13,  6.54it/s]"
     ]
    },
    {
     "name": "stdout",
     "output_type": "stream",
     "text": [
      "GEOMETRY OPT ERROR WITH ylide_h MOLECULE 8735\n"
     ]
    },
    {
     "name": "stderr",
     "output_type": "stream",
     "text": [
      " 86%|████████▋ | 7770/9000 [13:22<03:27,  5.92it/s]"
     ]
    },
    {
     "name": "stdout",
     "output_type": "stream",
     "text": [
      "GEOMETRY OPT ERROR WITH ylide_h MOLECULE 8769\n"
     ]
    },
    {
     "name": "stderr",
     "output_type": "stream",
     "text": [
      " 88%|████████▊ | 7960/9000 [13:43<01:56,  8.96it/s]"
     ]
    },
    {
     "name": "stdout",
     "output_type": "stream",
     "text": [
      "GEOMETRY OPT ERROR WITH ylide_h MOLECULE 8958\n"
     ]
    },
    {
     "name": "stderr",
     "output_type": "stream",
     "text": [
      " 91%|█████████ | 8187/9000 [14:10<01:14, 10.95it/s]"
     ]
    },
    {
     "name": "stdout",
     "output_type": "stream",
     "text": [
      "GEOMETRY OPT ERROR WITH ylide_h MOLECULE 9184\n"
     ]
    },
    {
     "name": "stderr",
     "output_type": "stream",
     "text": [
      " 91%|█████████ | 8191/9000 [14:11<01:31,  8.82it/s]"
     ]
    },
    {
     "name": "stdout",
     "output_type": "stream",
     "text": [
      "GEOMETRY OPT ERROR WITH ylide_h MOLECULE 9189\n"
     ]
    },
    {
     "name": "stderr",
     "output_type": "stream",
     "text": [
      " 94%|█████████▍| 8464/9000 [14:40<01:10,  7.63it/s]"
     ]
    },
    {
     "name": "stdout",
     "output_type": "stream",
     "text": [
      "GEOMETRY OPT ERROR WITH ylide_h MOLECULE 9462\n"
     ]
    },
    {
     "name": "stderr",
     "output_type": "stream",
     "text": [
      " 94%|█████████▍| 8502/9000 [14:44<01:19,  6.24it/s]"
     ]
    },
    {
     "name": "stdout",
     "output_type": "stream",
     "text": [
      "GEOMETRY OPT ERROR WITH ylide_h MOLECULE 9502\n"
     ]
    },
    {
     "name": "stderr",
     "output_type": "stream",
     "text": [
      " 95%|█████████▍| 8536/9000 [14:50<00:51,  8.93it/s]"
     ]
    },
    {
     "name": "stdout",
     "output_type": "stream",
     "text": [
      "GEOMETRY OPT ERROR WITH ylide_h MOLECULE 9533\n"
     ]
    },
    {
     "name": "stderr",
     "output_type": "stream",
     "text": [
      " 95%|█████████▌| 8558/9000 [14:52<00:44, 10.03it/s]"
     ]
    },
    {
     "name": "stdout",
     "output_type": "stream",
     "text": [
      "GEOMETRY OPT ERROR WITH ylide_h MOLECULE 9556\n"
     ]
    },
    {
     "name": "stderr",
     "output_type": "stream",
     "text": [
      " 96%|█████████▌| 8618/9000 [14:58<00:35, 10.91it/s]"
     ]
    },
    {
     "name": "stdout",
     "output_type": "stream",
     "text": [
      "GEOMETRY OPT ERROR WITH ylide_h MOLECULE 9617\n"
     ]
    },
    {
     "name": "stderr",
     "output_type": "stream",
     "text": [
      " 96%|█████████▌| 8634/9000 [14:59<00:32, 11.27it/s]"
     ]
    },
    {
     "name": "stdout",
     "output_type": "stream",
     "text": [
      "GEOMETRY OPT ERROR WITH ylide_h MOLECULE 9631\n"
     ]
    },
    {
     "name": "stderr",
     "output_type": "stream",
     "text": [
      " 96%|█████████▋| 8676/9000 [15:03<00:28, 11.43it/s]"
     ]
    },
    {
     "name": "stdout",
     "output_type": "stream",
     "text": [
      "GEOMETRY OPT ERROR WITH ylide_h MOLECULE 9674\n"
     ]
    },
    {
     "name": "stderr",
     "output_type": "stream",
     "text": [
      " 97%|█████████▋| 8715/9000 [15:06<00:22, 12.68it/s]"
     ]
    },
    {
     "name": "stdout",
     "output_type": "stream",
     "text": [
      "GEOMETRY OPT ERROR WITH ylide_h MOLECULE 9713\n"
     ]
    },
    {
     "name": "stderr",
     "output_type": "stream",
     "text": [
      "100%|█████████▉| 8968/9000 [15:32<00:02, 12.14it/s]"
     ]
    },
    {
     "name": "stdout",
     "output_type": "stream",
     "text": [
      "GEOMETRY OPT ERROR WITH ylide_h MOLECULE 9966\n"
     ]
    },
    {
     "name": "stderr",
     "output_type": "stream",
     "text": [
      "100%|██████████| 9000/9000 [15:35<00:00,  9.62it/s]"
     ]
    },
    {
     "name": "stdout",
     "output_type": "stream",
     "text": [
      "\n"
     ]
    },
    {
     "name": "stderr",
     "output_type": "stream",
     "text": [
      "\n"
     ]
    }
   ],
   "source": [
    "trueChoices = ['true', 't','T']\n",
    "falseChoices = ['false', 'f','F']\n",
    "\n",
    "inp=input(\"Do you want to resubmit the memory allocation errors? (T/F)\").lower()\n",
    "\n",
    "assert inp in trueChoices or inp in falseChoices\n",
    "if inp in trueChoices:\n",
    "    resubmit=True\n",
    "elif inp in falseChoices:\n",
    "    resubmit=False\n",
    "\n",
    "orig_dir='/home/gridsan/groups/manthiram_lab/vHTP/Code/ylide/Library'\n",
    "#ylide_type=[['ylide',''],['ylide_rad','_y_h_opt'],['ylide_h','']]\n",
    "ylide_type=[['ylide',''],['ylide_h','']]\n",
    "#ylide_type=[['ylide','_gas_preopt'],['ylide_rad','_gas_preopt'],['ylide_h','_gas_preopt']]\n",
    "#ylide_type=[['ylide_rad','_gas_preopt']]\n",
    "#ylide_type=[['ylide_rad','_y_h_opt']]\n",
    "#ylide_type=[['ylide','_gas_preopt'],['ylide_h','_gas_preopt']]\n",
    "failed_dict={}\n",
    "\n",
    "functional='M062X'\n",
    "basis= 'Def2TZVP'\n",
    "solvorgas='gas'\n",
    "solvmethod='SMD'\n",
    "solvent='acetonitrile'\n",
    "\n",
    "start=1000\n",
    "stop=10000\n",
    "n=stop-start\n",
    "error_occurred=False\n",
    "\n",
    "for v,y_list in enumerate(ylide_type):\n",
    "    \n",
    "    y=y_list[0]\n",
    "    sub_suff=y_list[1]\n",
    "    \n",
    "    failed_dict[f'{y}{sub_suff}']=[]\n",
    "    \n",
    "    for i in tqdm(range(start,stop)):\n",
    "        n_str=str(i).zfill(7)\n",
    "        \n",
    "        \n",
    "        assert solvorgas == 'gas' or solvorgas=='solv','SOLVORGAS NOT SET TO A VALID VALUE'\n",
    "        \n",
    "        if solvorgas=='gas':\n",
    "            path=pathlib.Path(os.path.join(orig_dir, 'Calcs', str(i).zfill(7) , y, functional, basis,'gas', f'{str(i).zfill(7)}_{y}{sub_suff}.log'))\n",
    "            \n",
    "        elif solvorgas=='solv':\n",
    "            path=pathlib.Path(os.path.join(orig_dir, 'Calcs',str(i).zfill(7) , y, functional, basis,solvent,solvmethod, f'{str(i).zfill(7)}_{y}{sub_suff}.log'))\n",
    "        \n",
    "        par_path=path.parent.absolute()\n",
    "        \n",
    "        if exists(path):\n",
    "            \n",
    "            if check(path, 'Normal termination of Gaussian', count=2)==False:\n",
    "                error_occurred=True\n",
    "                \n",
    "                if check(str(path),'galloc:  could not allocate memory.'):\n",
    "                    \n",
    "                    print(f'MEMRORY ALLOCATION ERROR WITH {y}{sub_suff} MOLECULE {i}')\n",
    "                    failed_dict[f'{y}{sub_suff}'].append(i)\n",
    "                    \n",
    "                    if resubmit:\n",
    "                        os.chdir(par_path)\n",
    "                        subprocess.run(f'sbatch {n_str}_{y}{sub_suff}.sh',shell=True)\n",
    "                        os.chdir(orig_dir)\n",
    "                                \n",
    "                elif check(str(path),'Converged',120):\n",
    "                    print(f'GEOMETRY OPT ERROR WITH {y}{sub_suff} MOLECULE {i}')\n",
    "                    #failed_dict[f'{y}{sub_suff}'].append(i)\n",
    "                    \n",
    "                else:\n",
    "                    #Try one more time to extract the data because there could still be some optimized geometry\n",
    "                    #steps that can be extracted\n",
    "                    print(f'UNKNOWN ERROR, {y}{sub_suff} MOLECULE {i} CALCULATION DID NOT FINSIH')\n",
    "                    failed_dict[f'{y}{sub_suff}'].append(i)\n",
    "                    \n",
    "                    if resubmit:\n",
    "                        os.chdir(par_path)\n",
    "                        #subprocess.run(f'sbatch {n_str}_{y}{sub_suff}.sh',shell=True)\n",
    "                        os.chdir(orig_dir)\n",
    "        else:\n",
    "            print(f'{y} MOLECULE {i}{sub_suff} HAS NOT BEEN SUBMITTED')\n",
    "            failed_dict[f'{y}{sub_suff}'].append(i)\n",
    "            \n",
    "            if resubmit:\n",
    "                os.chdir(par_path)\n",
    "                subprocess.run(f'sbatch {n_str}_{y}{sub_suff}.sh',shell=True)\n",
    "                os.chdir(orig_dir)\n",
    "                \n",
    "    if error_occurred==False:\n",
    "        print(f'NO ERRORS WITH {y}{sub_suff}')\n",
    "        \n",
    "        \n",
    "    error_occurred=False\n",
    "    print('')\n",
    "    \n"
   ]
  },
  {
   "cell_type": "code",
   "execution_count": 12,
   "metadata": {},
   "outputs": [
    {
     "data": {
      "text/plain": [
       "78"
      ]
     },
     "execution_count": 12,
     "metadata": {},
     "output_type": "execute_result"
    }
   ],
   "source": [
    "len(failed_dict['ylide_h'])"
   ]
  },
  {
   "cell_type": "code",
   "execution_count": 8,
   "metadata": {},
   "outputs": [],
   "source": [
    "#os.chdir(cwd)\n",
    "with open(f\"/data1/groups/manthiram_lab/vHTP/Code/ylide/Library/python_scripts/dicts/failed_dict_{solvorgas}_{'0629'}.pkl\", \"wb\") as file: \n",
    "    pickle.dump(failed_dict, file)"
   ]
  },
  {
   "cell_type": "code",
   "execution_count": 9,
   "metadata": {},
   "outputs": [],
   "source": [
    "#os.chdir(cwd)\n",
    "with open(f\"/data1/groups/manthiram_lab/vHTP/Code/ylide/Library/python_scripts/dicts/failed_dict_{solvorgas}_{'0626'}.pkl\", \"wb\") as file: \n",
    "    pickle.dump(failed_dict, file)"
   ]
  },
  {
   "cell_type": "code",
   "execution_count": 17,
   "metadata": {},
   "outputs": [],
   "source": [
    "os.chdir(cwd)\n",
    "with open(f\"pickled_data/failed_dict_{solvorgas}.pkl\", \"wb\") as file: \n",
    "    pickle.dump(failed_dict, file)\n",
    "#failed_dict"
   ]
  },
  {
   "cell_type": "code",
   "execution_count": 7,
   "metadata": {},
   "outputs": [
    {
     "name": "stdout",
     "output_type": "stream",
     "text": [
      "ylide has 894 failures and a fail percentage of 9.933333333333334%\n",
      "ylide_h has 0 failures and a fail percentage of 0.0%\n"
     ]
    }
   ],
   "source": [
    "for key, value in failed_dict.items():\n",
    "    print(f'{key} has {len(value)} failures and a fail percentage of {len(value)/n*100}%')"
   ]
  },
  {
   "cell_type": "markdown",
   "metadata": {},
   "source": [
    "# Extract Data"
   ]
  },
  {
   "cell_type": "code",
   "execution_count": 27,
   "metadata": {},
   "outputs": [
    {
     "name": "stderr",
     "output_type": "stream",
     "text": [
      "100%|██████████| 1/1 [00:00<00:00,  1.38it/s]\n",
      "100%|██████████| 1/1 [00:00<00:00, 1895.30it/s]\n",
      "100%|██████████| 1/1 [00:00<00:00,  3.94it/s]\n"
     ]
    }
   ],
   "source": [
    "functional='M062X'\n",
    "basis= 'Def2TZVP'\n",
    "solvorgas='gas'\n",
    "solvmethod='SMD'\n",
    "\n",
    "\n",
    "orig_dir='/home/gridsan/groups/manthiram_lab/vHTP/Code/ylide/Library'\n",
    "if solvorgas=='gas':\n",
    "    solvent='gas'\n",
    "    ylide_type=[['ylide',''],['ylide_rad','_y_h_opt'],['ylide_h','']]\n",
    "    #ylide_type=[['ylide_h','']]\n",
    "else:\n",
    "    solvent='acetonitrile'\n",
    "    ylide_type=[['ylide','_gas_preopt'],['ylide_rad','_gas_preopt'],['ylide_h','_gas_preopt'] ]\n",
    "\n",
    "start=1335\n",
    "stop=1336\n",
    "n=stop-start\n",
    "data=np.empty((n,10))\n",
    "atom_coords=[] #Dim1= Ylide Dim2=Ylide Rad Dim3= Ylide_H\n",
    "atom_labels=[] #Dim1= Ylide Dim2=Ylide Rad Dim3= Ylide_H\n",
    "wall_time=[] #Calculation time in seconds\n",
    "\n",
    "for v,y_list in enumerate(ylide_type):\n",
    "    \n",
    "    y=y_list[0]\n",
    "    sub_suff=y_list[1]\n",
    "    \n",
    "    temp_atom_coords=[]\n",
    "    temp_atom_labels=[]\n",
    "    temp_wall_time=[]\n",
    "    \n",
    "    for k,i in enumerate(tqdm(range(start,stop))):\n",
    "        n_str=str(i).zfill(7)\n",
    "\n",
    "        \n",
    "        \n",
    "        assert solvorgas == 'gas' or solvorgas=='solv','SOLVORGAS NOT SET TO A VALID VALUE'\n",
    "        \n",
    "        if solvorgas=='gas':\n",
    "            path=pathlib.Path(os.path.join(orig_dir, 'Calcs', str(i).zfill(7) , y, functional, basis,'gas', f'{str(i).zfill(7)}_{y}{sub_suff}.log'))\n",
    "            \n",
    "        elif solvorgas=='solv':\n",
    "            path=pathlib.Path(os.path.join(orig_dir, 'Calcs',str(i).zfill(7) , y, functional, basis,solvent,solvmethod, f'{str(i).zfill(7)}_{y}{sub_suff}.log'))\n",
    "        \n",
    "        \n",
    "        \n",
    "        if exists(path): #If calculation was run\n",
    "            \n",
    "            if check(path, 'Normal termination of Gaussian',count=2): #If calculation was run successfully\n",
    "                try:\n",
    "                    \n",
    "                    temp_data=cclib.io.ccread(str(path))\n",
    "\n",
    "                    meta_data=temp_data.metadata\n",
    "                    data[k,2*v]=temp_data.enthalpy\n",
    "                    data[k,2*v+1]=temp_data.freeenergy\n",
    "                    data[k,6]=checkvibs(temp_data.vibfreqs,asint=True)\n",
    "                    temp_atom_coords.append(temp_data.atomcoords[-1,:,:])\n",
    "                    temp_atom_labels.append([no_to_symbol(x) for x in temp_data.atomnos])\n",
    "                    temp_wall_time.append(sum(meta_data['wall_time'][i].seconds for i in range(len(meta_data['wall_time']))))\n",
    "                    \n",
    "                    continue\n",
    "                except Exception as e:\n",
    "                    exc_type, exc_obj, exc_tb = sys.exc_info()\n",
    "                    fname = os.path.split(exc_tb.tb_frame.f_code.co_filename)[1]\n",
    "                    print(e)       \n",
    "                    print(exc_type, fname, exc_tb.tb_lineno)\n",
    "\n",
    "                    data[k,2*v]= 1\n",
    "                    data[k,2*v+1]= 1\n",
    "                    data[k,6]=-1\n",
    "                    temp_atom_coords.append([])\n",
    "                    temp_atom_labels.append([])\n",
    "                    temp_wall_time.append(0)\n",
    "                    continue\n",
    "            else: #Run unseccessfully\n",
    "                \n",
    "                #Check if geometry did not optimize\n",
    "                if check(str(path),'Converged',120):\n",
    "                    \n",
    "                    temp_data=cclib.io.ccread(str(path))\n",
    "                    meta_data=temp_data.metadata\n",
    "                    data[k,2*v]=1\n",
    "                    data[k,2*v+1]=1\n",
    "                    data[k,6]=1\n",
    "                    temp_atom_coords.append(temp_data.atomcoords[-1,:,:])\n",
    "                    temp_atom_labels.append([no_to_symbol(x) for x in temp_data.atomnos])\n",
    "                    temp_wall_time.append(0)\n",
    "                    continue\n",
    "                \n",
    "                else:\n",
    "                    data[k,2*v]= 1\n",
    "                    data[k,2*v+1]= 1\n",
    "                    data[k,6]=-1\n",
    "                    temp_atom_coords.append([])\n",
    "                    temp_atom_labels.append([])\n",
    "                    temp_wall_time.append(0)\n",
    "                    continue\n",
    "        else:\n",
    "            data[k,2*v]= 1\n",
    "            data[k,2*v+1]= 1\n",
    "            data[k,6]=-1\n",
    "            temp_atom_coords.append([])\n",
    "            temp_atom_labels.append([])\n",
    "            temp_wall_time.append(0)\n",
    "            continue\n",
    "\n",
    "    atom_coords.append(temp_atom_coords)\n",
    "    atom_labels.append(temp_atom_labels)\n",
    "    wall_time.append(temp_wall_time)"
   ]
  },
  {
   "cell_type": "code",
   "execution_count": 28,
   "metadata": {},
   "outputs": [],
   "source": [
    "tmp=combine_labels_and_xyz(atom_labels[2][0],atom_coords[2][0])\n",
    "write_xyz_from_xyz_arr(tmp,'temp',include_total_atoms=True)\n"
   ]
  },
  {
   "cell_type": "markdown",
   "metadata": {},
   "source": [
    "# Get Atom Labels & Coords"
   ]
  },
  {
   "cell_type": "code",
   "execution_count": 96,
   "metadata": {},
   "outputs": [
    {
     "name": "stderr",
     "output_type": "stream",
     "text": [
      "100%|██████████| 2/2 [00:00<00:00, 1027.13it/s]\n",
      "100%|██████████| 2/2 [00:00<00:00, 1278.56it/s]\n",
      "100%|██████████| 2/2 [00:00<00:00, 1314.21it/s]\n"
     ]
    }
   ],
   "source": [
    "functional='M062X'\n",
    "basis= 'Def2TZVP'\n",
    "solvorgas='gas'\n",
    "solvmethod='SMD'\n",
    "\n",
    "orig_dir='/home/gridsan/groups/manthiram_lab/vHTP/Code/ylide/Library'\n",
    "if solvorgas=='gas':\n",
    "    solvent=='gas'\n",
    "    ylide_type=[['ylide',''],['ylide_rad','_y_h_opt'],['ylide_h','']]\n",
    "    #ylide_type=[['ylide_h','']]\n",
    "else:\n",
    "    solvent='acetonitrile'\n",
    "    ylide_type=[['ylide','_gas_preopt'],['ylide_rad','_gas_preopt'],['ylide_h','_gas_preopt'] ]\n",
    "\n",
    "start=0\n",
    "stop=2\n",
    "n=stop-start\n",
    "data=np.empty((n,10))\n",
    "atom_coords=[] #Dim1= Ylide Dim2=Ylide Rad Dim3= Ylide_H\n",
    "atom_labels=[] #Dim1= Ylide Dim2=Ylide Rad Dim3= Ylide_H\n",
    "wall_time=[] #Calculation time in seconds\n",
    "\n",
    "for v,y_list in enumerate(ylide_type):\n",
    "    \n",
    "    y=y_list[0]\n",
    "    sub_suff=y_list[1]\n",
    "    \n",
    "    temp_atom_coords=[]\n",
    "    temp_atom_labels=[]\n",
    "    temp_wall_time=[]\n",
    "    \n",
    "    for k,i in enumerate(tqdm(range(start,stop))):\n",
    "        n_str=str(i).zfill(7)\n",
    "\n",
    "        \n",
    "        \n",
    "        assert solvorgas == 'gas' or solvorgas=='solv','SOLVORGAS NOT SET TO A VALID VALUE'\n",
    "        \n",
    "        if solvorgas=='gas':\n",
    "            path=pathlib.Path(os.path.join(orig_dir, 'Calcs', str(i).zfill(7) , y, functional, basis,'gas', f'{str(i).zfill(7)}_{y}{sub_suff}.xyz'))\n",
    "            \n",
    "        elif solvorgas=='solv':\n",
    "            path=pathlib.Path(os.path.join(orig_dir, 'Calcs',str(i).zfill(7) , y, functional, basis,solvent,solvmethod, f'{str(i).zfill(7)}_{y}{sub_suff}.xyz'))\n",
    "        \n",
    "        \n",
    "        \n",
    "        if exists(path): #If calculation was run\n",
    "            \n",
    "            try:\n",
    "                temp_temp_atom_labels=[]\n",
    "                temp_temp_atom_coords=[]\n",
    "                \n",
    "                with open(path) as fp:\n",
    "                    Lines = fp.readlines()\n",
    "                    for line in Lines:\n",
    "                        l=line.strip().split()\n",
    "                        if len(l)>0:\n",
    "                            temp_temp_atom_labels.append(l[0])\n",
    "                            temp_temp_atom_coords.append(l[1:])\n",
    "                temp_atom_labels.append(temp_temp_atom_labels)\n",
    "                temp_atom_coords.append(np.array(temp_temp_atom_coords,dtype='float'))\n",
    "\n",
    "                #temp_data=cclib.io.ccread(str(path))\n",
    "\n",
    "#                     meta_data=temp_data.metadata\n",
    "#                     data[k,2*v]=temp_data.enthalpy\n",
    "#                     data[k,2*v+1]=temp_data.freeenergy\n",
    "#                     data[k,6]=checkvibs(temp_data.vibfreqs,asint=True)\n",
    "#                     temp_atom_coords.append(temp_data.atomcoords[-1,:,:])\n",
    "                #temp_atom_labels.append([no_to_symbol(x) for x in temp_data.atomnos])\n",
    "#                     temp_wall_time.append(sum(meta_data['wall_time'][i].seconds for i in range(len(meta_data['wall_time']))))\n",
    "                continue\n",
    "            except Exception as e:\n",
    "                exc_type, exc_obj, exc_tb = sys.exc_info()\n",
    "                fname = os.path.split(exc_tb.tb_frame.f_code.co_filename)[1]\n",
    "                print(e)       \n",
    "                print(exc_type, fname, exc_tb.tb_lineno)\n",
    "\n",
    "                data[k,2*v]= 1\n",
    "                data[k,2*v+1]= 1\n",
    "                data[k,6]=-1\n",
    "                temp_atom_coords.append([])\n",
    "                temp_atom_labels.append([])\n",
    "                temp_wall_time.append(0)\n",
    "                continue\n",
    "\n",
    "        else:\n",
    "            data[k,2*v]= 1\n",
    "            data[k,2*v+1]= 1\n",
    "            data[k,6]=-1\n",
    "            temp_atom_coords.append([])\n",
    "            temp_atom_labels.append([])\n",
    "            temp_wall_time.append(0)\n",
    "            continue\n",
    "\n",
    "    atom_coords.append(temp_atom_coords)\n",
    "    atom_labels.append(temp_atom_labels)\n",
    "#     wall_time.append(temp_wall_time)"
   ]
  },
  {
   "cell_type": "code",
   "execution_count": 97,
   "metadata": {
    "collapsed": true,
    "jupyter": {
     "outputs_hidden": true
    }
   },
   "outputs": [
    {
     "data": {
      "text/plain": [
       "[array([[ 2.939539, -0.135209,  0.747927],\n",
       "        [ 1.63468 , -0.036508, -0.004242],\n",
       "        [ 1.61755 ,  0.053363, -1.22989 ],\n",
       "        [ 0.603924, -0.064416,  0.854854],\n",
       "        [-0.83583 ,  0.02553 ,  0.285024],\n",
       "        [-1.038649, -1.167609, -0.613622],\n",
       "        [-0.954057,  1.34706 , -0.43042 ],\n",
       "        [-1.704374, -0.034578,  1.511128],\n",
       "        [ 2.992552, -1.077977,  1.301215],\n",
       "        [ 3.769893, -0.111218,  0.034963],\n",
       "        [ 3.052782,  0.711862,  1.431589],\n",
       "        [-2.102653, -1.209357, -0.868551],\n",
       "        [-0.754258, -2.078542, -0.076667],\n",
       "        [-0.464144, -1.057745, -1.536077],\n",
       "        [-0.612027,  2.149589,  0.231366],\n",
       "        [-0.383695,  1.333745, -1.361849],\n",
       "        [-2.011635,  1.496307, -0.671436],\n",
       "        [-1.530584, -0.98244 ,  2.031974],\n",
       "        [-2.748865,  0.024012,  1.189201],\n",
       "        [-1.470148,  0.814132,  2.16286 ]]),\n",
       " array([[-0.52282 ,  0.227167,  1.499165],\n",
       "        [-0.502109, -0.138309,  0.035565],\n",
       "        [-1.287269, -1.394155, -0.244137],\n",
       "        [-0.90237 ,  0.993851, -0.877743],\n",
       "        [ 0.969373, -0.538844, -0.3286  ],\n",
       "        [ 1.947614,  0.373112, -0.190648],\n",
       "        [ 1.858974,  1.53446 ,  0.198112],\n",
       "        [ 3.258893, -0.145782, -0.567412],\n",
       "        [ 4.297148, -0.574889, -0.871618],\n",
       "        [-0.057622, -0.576963,  2.078423],\n",
       "        [-0.009757,  1.177586,  1.662068],\n",
       "        [-1.570806,  0.3372  ,  1.795906],\n",
       "        [-2.337906, -1.19418 , -0.011871],\n",
       "        [-1.184054, -1.655428, -1.302726],\n",
       "        [-0.913244, -2.202467,  0.39325 ],\n",
       "        [-1.976906,  1.157517, -0.747272],\n",
       "        [-0.371851,  1.909013, -0.605536],\n",
       "        [-0.695289,  0.711112, -1.914926]])]"
      ]
     },
     "execution_count": 97,
     "metadata": {},
     "output_type": "execute_result"
    }
   ],
   "source": [
    "atom_coords[0]"
   ]
  },
  {
   "cell_type": "code",
   "execution_count": 70,
   "metadata": {},
   "outputs": [],
   "source": [
    "with open(f\"../pickled_data/atom_labels.pkl\",\"wb\") as file:\n",
    "    pickle.dump(atom_labels, file)"
   ]
  },
  {
   "cell_type": "code",
   "execution_count": 19,
   "metadata": {},
   "outputs": [
    {
     "data": {
      "text/plain": [
       "1876.582"
      ]
     },
     "execution_count": 19,
     "metadata": {},
     "output_type": "execute_result"
    }
   ],
   "source": [
    "np.mean(wall_time[2][:])"
   ]
  },
  {
   "cell_type": "markdown",
   "metadata": {},
   "source": [
    "#### Wall Times For Different Triples Conditons"
   ]
  },
  {
   "cell_type": "markdown",
   "metadata": {},
   "source": [
    "[5,1,1] wall_time: [1816, 2098, 2524, 2864, 1405, 1256, 1628, 1559, 1741, 1783] <br>\n",
    "[10,1,2] wall_time: [[1800, 0, 0, 0, 1398, 1248, 1618, 1560, 1732, 1787]] <br>\n",
    "[5,2,1] wall_time: [3784, 0, 5337, 0, 0, 2829, 0, 3480, 3763, 0] <br>\n",
    "\n",
    "There seems to be no effect from number of threads, it seems that we still have an effect from RAM and it scales pretty linearly so I will use 1 node per calculation"
   ]
  },
  {
   "cell_type": "code",
   "execution_count": 20,
   "metadata": {},
   "outputs": [
    {
     "name": "stderr",
     "output_type": "stream",
     "text": [
      "100%|██████████| 1000/1000 [00:00<00:00, 551519.26it/s]\n",
      "100%|██████████| 1000/1000 [00:00<00:00, 674759.33it/s]\n",
      "100%|██████████| 1000/1000 [00:00<00:00, 703270.29it/s]"
     ]
    },
    {
     "name": "stdout",
     "output_type": "stream",
     "text": [
      "CALCULATING REDOX POTENTIALS\n",
      "CALCULATING DPFE\n",
      "CALCULATING GHBind \n"
     ]
    },
    {
     "name": "stderr",
     "output_type": "stream",
     "text": [
      "\n"
     ]
    }
   ],
   "source": [
    "print('CALCULATING REDOX POTENTIALS')    \n",
    "for i, v in enumerate(tqdm(range(np.shape(data)[0]))):\n",
    "    data[i,7]=calcE(data[i,3],data[i,1])\n",
    "    \n",
    "    \n",
    "print('CALCULATING DPFE')\n",
    "for i, v in enumerate(tqdm(range(np.shape(data)[0]))):\n",
    "    data[i,8]=calcDPFE(data[i,5],data[i,1],solvent=solvent)\n",
    "\n",
    "print('CALCULATING GHBind ')\n",
    "for i, v in enumerate(tqdm(range(np.shape(data)[0]))):\n",
    "    data[i,9]=calcGHBind(data[i,5],data[i,3],solvent='gas')\n",
    "    "
   ]
  },
  {
   "cell_type": "code",
   "execution_count": 12,
   "metadata": {},
   "outputs": [
    {
     "name": "stdout",
     "output_type": "stream",
     "text": [
      "/home/gridsan/groups/manthiram_lab/vHTP/Code/ylide/Library\n"
     ]
    }
   ],
   "source": [
    "!pwd"
   ]
  },
  {
   "cell_type": "code",
   "execution_count": 21,
   "metadata": {},
   "outputs": [],
   "source": [
    "#Save Extracted data\n",
    "cwd='/home/gridsan/jmaalouf/vHTP/Code/ylide/Library'\n",
    "os.chdir(cwd)\n",
    "\n",
    "with open(f\"../pickled_data/atom_labels.pkl\",\"wb\") as file:\n",
    "    pickle.dump(atom_labels, file)\n",
    "\n",
    "with open(f\"pickled_data/wall_time_{solvorgas}.pkl\", \"wb\") as file: \n",
    "    pickle.dump(wall_time, file)\n",
    "\n",
    "with open(f\"pickled_data/atom_coords_{solvorgas}.pkl\", \"wb\") as file: \n",
    "    pickle.dump(atom_coords, file)\n",
    "\n",
    "\n",
    "np.save(f'pickled_data/data_{solvorgas}.npy', data)\n"
   ]
  },
  {
   "cell_type": "code",
   "execution_count": 58,
   "metadata": {},
   "outputs": [],
   "source": [
    "df=pd.DataFrame(data, columns=['ylide_enthalpy','ylide_freeenergy','ylide_rad_enthalpy','ylide_rad_freeenergy','ylide_h_enthalpy','ylide_h_freeenergy','Vibs All Positivse','Redox Potential (V vs SHE)','Deprotonation Free Energy (kJ/mol)'])"
   ]
  },
  {
   "cell_type": "code",
   "execution_count": 43,
   "metadata": {},
   "outputs": [],
   "source": [
    "#df.to_csv('ylide_calcs_6-311++G**.csv')"
   ]
  }
 ],
 "metadata": {
  "kernelspec": {
   "display_name": "ml",
   "language": "python",
   "name": "ml"
  },
  "language_info": {
   "codemirror_mode": {
    "name": "ipython",
    "version": 3
   },
   "file_extension": ".py",
   "mimetype": "text/x-python",
   "name": "python",
   "nbconvert_exporter": "python",
   "pygments_lexer": "ipython3",
   "version": "3.8.5"
  },
  "latex_envs": {
   "LaTeX_envs_menu_present": true,
   "autoclose": false,
   "autocomplete": true,
   "bibliofile": "biblio.bib",
   "cite_by": "apalike",
   "current_citInitial": 1,
   "eqLabelWithNumbers": true,
   "eqNumInitial": 1,
   "hotkeys": {
    "equation": "Ctrl-E",
    "itemize": "Ctrl-I"
   },
   "labels_anchors": false,
   "latex_user_defs": false,
   "report_style_numbering": false,
   "user_envs_cfg": false
  },
  "toc": {
   "base_numbering": 1,
   "nav_menu": {},
   "number_sections": true,
   "sideBar": true,
   "skip_h1_title": false,
   "title_cell": "Table of Contents",
   "title_sidebar": "Contents",
   "toc_cell": false,
   "toc_position": {},
   "toc_section_display": true,
   "toc_window_display": false
  },
  "varInspector": {
   "cols": {
    "lenName": 16,
    "lenType": 16,
    "lenVar": 40
   },
   "kernels_config": {
    "python": {
     "delete_cmd_postfix": "",
     "delete_cmd_prefix": "del ",
     "library": "var_list.py",
     "varRefreshCmd": "print(var_dic_list())"
    },
    "r": {
     "delete_cmd_postfix": ") ",
     "delete_cmd_prefix": "rm(",
     "library": "var_list.r",
     "varRefreshCmd": "cat(var_dic_list()) "
    }
   },
   "types_to_exclude": [
    "module",
    "function",
    "builtin_function_or_method",
    "instance",
    "_Feature"
   ],
   "window_display": false
  }
 },
 "nbformat": 4,
 "nbformat_minor": 4
}

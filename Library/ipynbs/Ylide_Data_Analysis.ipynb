{
 "cells": [
  {
   "cell_type": "code",
   "execution_count": 1,
   "metadata": {},
   "outputs": [],
   "source": [
    "import sys\n",
    "import os\n",
    "\n",
    "sys.path.insert(1,'/data1/gridsan/groups/manthiram_lab/Utils')\n",
    "sys.path.insert(1,'/data1/gridsan/groups/manthiram_lab/DFT/DFT_script_gen')\n",
    "import utils\n",
    "from utils import make_xyz_from_output,checkvibs, check, no_to_symbol\n",
    "import convertxyz\n",
    "from convertxyz import mk_xyz_from_smiles_string, get_xyz_from_mol, write_xyz_from_xyz_arr,combine_labels_and_xyz\n",
    "import numpy as np\n",
    "import pandas as pd\n",
    "import pickle\n",
    "import re\n",
    "import importlib\n",
    "import cclib\n",
    "from os.path import exists\n",
    "import re\n",
    "import subprocess\n",
    "import matplotlib.pyplot as plt\n",
    "from tqdm import tqdm\n",
    "import matplotlib.pyplot as plt\n",
    "import plot as pl\n",
    "import pathlib\n",
    "from datetime import datetime, timedelta\n",
    "import pickle as pkl\n",
    "\n",
    "from rdkit import Chem"
   ]
  },
  {
   "cell_type": "code",
   "execution_count": 2,
   "metadata": {},
   "outputs": [
    {
     "data": {
      "text/plain": [
       "<module 'convertxyz' from '/data1/gridsan/groups/manthiram_lab/DFT/DFT_script_gen/convertxyz.py'>"
      ]
     },
     "execution_count": 2,
     "metadata": {},
     "output_type": "execute_result"
    }
   ],
   "source": [
    "importlib.reload(pl)\n",
    "importlib.reload(utils)\n",
    "importlib.reload(convertxyz)"
   ]
  },
  {
   "cell_type": "code",
   "execution_count": 3,
   "metadata": {},
   "outputs": [],
   "source": [
    "#Define Current directory\n",
    "cwd= '/home/gridsan/jmaalouf/vHTP/Code/ylide/Library'"
   ]
  },
  {
   "cell_type": "markdown",
   "metadata": {},
   "source": [
    "# Energy Functions"
   ]
  },
  {
   "cell_type": "code",
   "execution_count": 4,
   "metadata": {
    "jupyter": {
     "source_hidden": true
    }
   },
   "outputs": [],
   "source": [
    "def calcE(G_ox,G_red,n=1):\n",
    "    \"\"\" \n",
    "    Calculations the redox potential of a reaction using dG=-nFE-4.28 to calculate vs SHE.\n",
    "    4.28 is SHE vs vacuum.\n",
    "\n",
    "    Arguments:\n",
    "    G_ox (int): Gibbs free energy of oxidized species in hartree references to vacuum.\n",
    "    G_red (int): Gibbs free energy of reduced species in hartree references to vacuum.\n",
    "\n",
    "    Returns:\n",
    "    E vs SHE (int): Redox potential in volts references vs SHE. \n",
    "\n",
    "    \"\"\"  \n",
    "    F=96485 #Faraday's constant [=] C/mol\n",
    "    dG=G_ox-G_red\n",
    "    E= dG*2625.5*1000/(n*F) - 4.28 #Volts\n",
    "    return E\n",
    "\n",
    "\n",
    "\n",
    "\n",
    "def calcDPFE(G_ylide_h,G_ylide,solvent='gas'):\n",
    "    \"\"\" \n",
    "    Calculations the deprotonation Free Energy of a reaction, specifically going from ylide_h to ylide\n",
    "\n",
    "    Arguments:\n",
    "    ylide_h (int): Gibbs free energy of protonated ylide in hartree references to vacuum.\n",
    "    ylide (int): Gibbs free energy of ylide in hartree references to vacuum.\n",
    "\n",
    "    Returns:\n",
    "    DPFE (int): Deprotonation Free Energy in kJ/mol. \n",
    "\n",
    "    \"\"\" \n",
    "    \n",
    "    #Dictionaory of H+ energies at the M062X \n",
    "    proton_dict={\n",
    "    'gas': -0.010000,\n",
    "    'acetonitrile': -0.223572\n",
    "    }\n",
    "    \n",
    "    possible_solvents=['gas','acetonitrile']\n",
    "    assert solvent in possible_solvents, \"VALID SOLVENT NOT SPECIFIED\"\n",
    "    \n",
    "    return -(G_ylide_h-G_ylide-proton_dict[solvent])*2625.5    \n",
    "\n",
    "\n",
    "def calcGHBind(G_ylide_h,G_ylide_rad,solvent='gas'):\n",
    "    \"\"\" \n",
    "    Calculations the Hydrogen atom Binding Energy of a reaction, specifically going from ylide_rad to ylide_h\n",
    "\n",
    "    Arguments:\n",
    "    ylide_h (int): Gibbs free energy of protonated ylide in hartree references to vacuum.\n",
    "    ylide_rad (int): Gibbs free energy of ylide radical in hartree references to vacuum.\n",
    "\n",
    "    Returns:\n",
    "    GHBind (int): Hydrogen Atom Binding energy of an ylide in kJ/mol. \n",
    "\n",
    "    \"\"\" \n",
    "    \n",
    "    #Dictionaory of H atom energies at the M062X \n",
    "    Hatom_dict={\n",
    "    'gas': -0.508484,\n",
    "    'acetonitrile': -0.508404\n",
    "    }\n",
    "    \n",
    "    H2_dict={\n",
    "    'gas': -1.169741,\n",
    "    'acetonitrile':-1.169345\n",
    "    }\n",
    "    \n",
    "    possible_solvents=['gas','acetonitrile']\n",
    "    \n",
    "    assert solvent in possible_solvents, \"VALID SOLVENT NOT SPECIFIED\"\n",
    "    \n",
    "    return (G_ylide_h-G_ylide_rad-H2_dict[solvent]/2)*2625.5"
   ]
  },
  {
   "cell_type": "code",
   "execution_count": 3,
   "metadata": {},
   "outputs": [],
   "source": [
    "df=pd.read_csv('../sheets/Ylides_YlideRads_Cleaned.csv')\n",
    "y=df['Ylides'].to_list()\n",
    "yr=df['Ylides Rad'].to_list()\n",
    "yh=df['Ylides H'].to_list()"
   ]
  },
  {
   "cell_type": "markdown",
   "metadata": {},
   "source": [
    "## Get Num Atoms"
   ]
  },
  {
   "cell_type": "code",
   "execution_count": 6,
   "metadata": {},
   "outputs": [
    {
     "name": "stderr",
     "output_type": "stream",
     "text": [
      "100%|██████████| 19097/19097 [00:01<00:00, 9561.11it/s]\n"
     ]
    }
   ],
   "source": [
    "num_atoms=[]\n",
    "num_atoms_total=[]\n",
    "for i, s in enumerate(tqdm(y)):\n",
    "    mol=Chem.MolFromSmiles(s)\n",
    "    num_atoms.append(mol.GetNumAtoms())\n",
    "    mol=Chem.AddHs(mol)\n",
    "    num_atoms_total.append(mol.GetNumAtoms())"
   ]
  },
  {
   "cell_type": "code",
   "execution_count": 8,
   "metadata": {},
   "outputs": [],
   "source": [
    "with open(f\"../pickled_data/num_atoms.pkl\", \"wb\") as file: \n",
    "    pickle.dump(num_atoms, file)\n",
    "    \n",
    "with open(f\"../pickled_data/num_atoms_total.pkl\", \"wb\") as file: \n",
    "    pickle.dump(num_atoms_total, file)"
   ]
  },
  {
   "cell_type": "markdown",
   "metadata": {},
   "source": [
    "# Check for Failed Calcs"
   ]
  },
  {
   "cell_type": "code",
   "execution_count": 10,
   "metadata": {
    "scrolled": true
   },
   "outputs": [
    {
     "name": "stdin",
     "output_type": "stream",
     "text": [
      "Do you want to resubmit the memory allocation errors? (T/F) f\n"
     ]
    },
    {
     "name": "stderr",
     "output_type": "stream",
     "text": [
      "  0%|          | 32/10000 [00:00<01:07, 148.45it/s]"
     ]
    },
    {
     "name": "stdout",
     "output_type": "stream",
     "text": [
      "MEMRORY ALLOCATION ERROR WITH ylide_h_gas_preopt MOLECULE 3\n",
      "MEMRORY ALLOCATION ERROR WITH ylide_h_gas_preopt MOLECULE 4\n",
      "MEMRORY ALLOCATION ERROR WITH ylide_h_gas_preopt MOLECULE 8\n",
      "MEMRORY ALLOCATION ERROR WITH ylide_h_gas_preopt MOLECULE 13\n",
      "MEMRORY ALLOCATION ERROR WITH ylide_h_gas_preopt MOLECULE 15\n",
      "MEMRORY ALLOCATION ERROR WITH ylide_h_gas_preopt MOLECULE 19\n",
      "MEMRORY ALLOCATION ERROR WITH ylide_h_gas_preopt MOLECULE 21\n",
      "MEMRORY ALLOCATION ERROR WITH ylide_h_gas_preopt MOLECULE 23\n",
      "MEMRORY ALLOCATION ERROR WITH ylide_h_gas_preopt MOLECULE 25\n"
     ]
    },
    {
     "name": "stderr",
     "output_type": "stream",
     "text": [
      "  1%|          | 61/10000 [00:00<01:13, 134.45it/s]"
     ]
    },
    {
     "name": "stdout",
     "output_type": "stream",
     "text": [
      "MEMRORY ALLOCATION ERROR WITH ylide_h_gas_preopt MOLECULE 34\n",
      "MEMRORY ALLOCATION ERROR WITH ylide_h_gas_preopt MOLECULE 39\n",
      "MEMRORY ALLOCATION ERROR WITH ylide_h_gas_preopt MOLECULE 43\n",
      "MEMRORY ALLOCATION ERROR WITH ylide_h_gas_preopt MOLECULE 49\n",
      "MEMRORY ALLOCATION ERROR WITH ylide_h_gas_preopt MOLECULE 51\n",
      "MEMRORY ALLOCATION ERROR WITH ylide_h_gas_preopt MOLECULE 55\n",
      "MEMRORY ALLOCATION ERROR WITH ylide_h_gas_preopt MOLECULE 57\n"
     ]
    },
    {
     "name": "stderr",
     "output_type": "stream",
     "text": [
      "  1%|          | 75/10000 [00:00<01:14, 133.97it/s]"
     ]
    },
    {
     "name": "stdout",
     "output_type": "stream",
     "text": [
      "MEMRORY ALLOCATION ERROR WITH ylide_h_gas_preopt MOLECULE 62\n",
      "MEMRORY ALLOCATION ERROR WITH ylide_h_gas_preopt MOLECULE 70\n",
      "MEMRORY ALLOCATION ERROR WITH ylide_h_gas_preopt MOLECULE 74\n",
      "MEMRORY ALLOCATION ERROR WITH ylide_h_gas_preopt MOLECULE 76\n",
      "MEMRORY ALLOCATION ERROR WITH ylide_h_gas_preopt MOLECULE 82\n",
      "MEMRORY ALLOCATION ERROR WITH ylide_h_gas_preopt MOLECULE 84\n"
     ]
    },
    {
     "name": "stderr",
     "output_type": "stream",
     "text": [
      "  1%|          | 111/10000 [00:00<01:14, 132.49it/s]"
     ]
    },
    {
     "name": "stdout",
     "output_type": "stream",
     "text": [
      "MEMRORY ALLOCATION ERROR WITH ylide_h_gas_preopt MOLECULE 85\n",
      "MEMRORY ALLOCATION ERROR WITH ylide_h_gas_preopt MOLECULE 94\n",
      "MEMRORY ALLOCATION ERROR WITH ylide_h_gas_preopt MOLECULE 95\n",
      "MEMRORY ALLOCATION ERROR WITH ylide_h_gas_preopt MOLECULE 103\n",
      "MEMRORY ALLOCATION ERROR WITH ylide_h_gas_preopt MOLECULE 110\n",
      "MEMRORY ALLOCATION ERROR WITH ylide_h_gas_preopt MOLECULE 116\n",
      "MEMRORY ALLOCATION ERROR WITH ylide_h_gas_preopt MOLECULE 121\n",
      "MEMRORY ALLOCATION ERROR WITH ylide_h_gas_preopt MOLECULE 125\n"
     ]
    },
    {
     "name": "stderr",
     "output_type": "stream",
     "text": [
      "  1%|▏         | 147/10000 [00:01<01:08, 143.42it/s]"
     ]
    },
    {
     "name": "stdout",
     "output_type": "stream",
     "text": [
      "MEMRORY ALLOCATION ERROR WITH ylide_h_gas_preopt MOLECULE 127\n",
      "MEMRORY ALLOCATION ERROR WITH ylide_h_gas_preopt MOLECULE 129\n",
      "MEMRORY ALLOCATION ERROR WITH ylide_h_gas_preopt MOLECULE 136\n",
      "MEMRORY ALLOCATION ERROR WITH ylide_h_gas_preopt MOLECULE 137\n",
      "MEMRORY ALLOCATION ERROR WITH ylide_h_gas_preopt MOLECULE 146\n",
      "MEMRORY ALLOCATION ERROR WITH ylide_h_gas_preopt MOLECULE 149\n",
      "MEMRORY ALLOCATION ERROR WITH ylide_h_gas_preopt MOLECULE 150\n",
      "MEMRORY ALLOCATION ERROR WITH ylide_h_gas_preopt MOLECULE 151\n"
     ]
    },
    {
     "name": "stderr",
     "output_type": "stream",
     "text": [
      "  2%|▏         | 162/10000 [00:01<01:09, 141.27it/s]"
     ]
    },
    {
     "name": "stdout",
     "output_type": "stream",
     "text": [
      "MEMRORY ALLOCATION ERROR WITH ylide_h_gas_preopt MOLECULE 157\n",
      "MEMRORY ALLOCATION ERROR WITH ylide_h_gas_preopt MOLECULE 160\n",
      "MEMRORY ALLOCATION ERROR WITH ylide_h_gas_preopt MOLECULE 163\n",
      "MEMRORY ALLOCATION ERROR WITH ylide_h_gas_preopt MOLECULE 168\n",
      "MEMRORY ALLOCATION ERROR WITH ylide_h_gas_preopt MOLECULE 171\n",
      "MEMRORY ALLOCATION ERROR WITH ylide_h_gas_preopt MOLECULE 174\n"
     ]
    },
    {
     "name": "stderr",
     "output_type": "stream",
     "text": [
      "  2%|▏         | 189/10000 [00:01<02:04, 78.53it/s] "
     ]
    },
    {
     "name": "stdout",
     "output_type": "stream",
     "text": [
      "MEMRORY ALLOCATION ERROR WITH ylide_h_gas_preopt MOLECULE 181\n",
      "MEMRORY ALLOCATION ERROR WITH ylide_h_gas_preopt MOLECULE 185\n",
      "MEMRORY ALLOCATION ERROR WITH ylide_h_gas_preopt MOLECULE 191\n",
      "MEMRORY ALLOCATION ERROR WITH ylide_h_gas_preopt MOLECULE 196\n"
     ]
    },
    {
     "name": "stderr",
     "output_type": "stream",
     "text": [
      "  2%|▏         | 228/10000 [00:02<01:58, 82.62it/s]"
     ]
    },
    {
     "name": "stdout",
     "output_type": "stream",
     "text": [
      "MEMRORY ALLOCATION ERROR WITH ylide_h_gas_preopt MOLECULE 198\n",
      "MEMRORY ALLOCATION ERROR WITH ylide_h_gas_preopt MOLECULE 199\n",
      "MEMRORY ALLOCATION ERROR WITH ylide_h_gas_preopt MOLECULE 203\n",
      "MEMRORY ALLOCATION ERROR WITH ylide_h_gas_preopt MOLECULE 209\n",
      "MEMRORY ALLOCATION ERROR WITH ylide_h_gas_preopt MOLECULE 210\n",
      "MEMRORY ALLOCATION ERROR WITH ylide_h_gas_preopt MOLECULE 211\n",
      "MEMRORY ALLOCATION ERROR WITH ylide_h_gas_preopt MOLECULE 222\n",
      "MEMRORY ALLOCATION ERROR WITH ylide_h_gas_preopt MOLECULE 224\n",
      "MEMRORY ALLOCATION ERROR WITH ylide_h_gas_preopt MOLECULE 227\n"
     ]
    },
    {
     "name": "stderr",
     "output_type": "stream",
     "text": [
      "  3%|▎         | 251/10000 [00:02<01:36, 101.20it/s]"
     ]
    },
    {
     "name": "stdout",
     "output_type": "stream",
     "text": [
      "MEMRORY ALLOCATION ERROR WITH ylide_h_gas_preopt MOLECULE 228\n",
      "MEMRORY ALLOCATION ERROR WITH ylide_h_gas_preopt MOLECULE 231\n",
      "MEMRORY ALLOCATION ERROR WITH ylide_h_gas_preopt MOLECULE 233\n",
      "MEMRORY ALLOCATION ERROR WITH ylide_h_gas_preopt MOLECULE 245\n",
      "MEMRORY ALLOCATION ERROR WITH ylide_h_gas_preopt MOLECULE 250\n",
      "MEMRORY ALLOCATION ERROR WITH ylide_h_gas_preopt MOLECULE 251\n",
      "MEMRORY ALLOCATION ERROR WITH ylide_h_gas_preopt MOLECULE 254\n",
      "MEMRORY ALLOCATION ERROR WITH ylide_h_gas_preopt MOLECULE 255\n",
      "MEMRORY ALLOCATION ERROR WITH ylide_h_gas_preopt MOLECULE 256\n",
      "MEMRORY ALLOCATION ERROR WITH ylide_h_gas_preopt MOLECULE 260\n",
      "MEMRORY ALLOCATION ERROR WITH ylide_h_gas_preopt MOLECULE 263\n"
     ]
    },
    {
     "name": "stderr",
     "output_type": "stream",
     "text": [
      "  3%|▎         | 280/10000 [00:02<01:30, 107.30it/s]"
     ]
    },
    {
     "name": "stdout",
     "output_type": "stream",
     "text": [
      "MEMRORY ALLOCATION ERROR WITH ylide_h_gas_preopt MOLECULE 264\n",
      "MEMRORY ALLOCATION ERROR WITH ylide_h_gas_preopt MOLECULE 268\n",
      "MEMRORY ALLOCATION ERROR WITH ylide_h_gas_preopt MOLECULE 269\n",
      "MEMRORY ALLOCATION ERROR WITH ylide_h_gas_preopt MOLECULE 272\n",
      "MEMRORY ALLOCATION ERROR WITH ylide_h_gas_preopt MOLECULE 277\n"
     ]
    },
    {
     "name": "stderr",
     "output_type": "stream",
     "text": [
      "  3%|▎         | 293/10000 [00:02<02:06, 76.98it/s] "
     ]
    },
    {
     "name": "stdout",
     "output_type": "stream",
     "text": [
      "MEMRORY ALLOCATION ERROR WITH ylide_h_gas_preopt MOLECULE 285\n",
      "MEMRORY ALLOCATION ERROR WITH ylide_h_gas_preopt MOLECULE 287\n",
      "MEMRORY ALLOCATION ERROR WITH ylide_h_gas_preopt MOLECULE 292\n",
      "MEMRORY ALLOCATION ERROR WITH ylide_h_gas_preopt MOLECULE 295\n",
      "MEMRORY ALLOCATION ERROR WITH ylide_h_gas_preopt MOLECULE 297\n",
      "MEMRORY ALLOCATION ERROR WITH ylide_h_gas_preopt MOLECULE 298\n",
      "MEMRORY ALLOCATION ERROR WITH ylide_h_gas_preopt MOLECULE 300\n"
     ]
    },
    {
     "name": "stderr",
     "output_type": "stream",
     "text": [
      "  3%|▎         | 314/10000 [00:03<02:11, 73.52it/s]"
     ]
    },
    {
     "name": "stdout",
     "output_type": "stream",
     "text": [
      "MEMRORY ALLOCATION ERROR WITH ylide_h_gas_preopt MOLECULE 301\n",
      "MEMRORY ALLOCATION ERROR WITH ylide_h_gas_preopt MOLECULE 307\n",
      "MEMRORY ALLOCATION ERROR WITH ylide_h_gas_preopt MOLECULE 311\n",
      "MEMRORY ALLOCATION ERROR WITH ylide_h_gas_preopt MOLECULE 314\n",
      "MEMRORY ALLOCATION ERROR WITH ylide_h_gas_preopt MOLECULE 316\n"
     ]
    },
    {
     "name": "stderr",
     "output_type": "stream",
     "text": [
      "  3%|▎         | 341/10000 [00:03<01:46, 91.09it/s]"
     ]
    },
    {
     "name": "stdout",
     "output_type": "stream",
     "text": [
      "MEMRORY ALLOCATION ERROR WITH ylide_h_gas_preopt MOLECULE 317\n",
      "MEMRORY ALLOCATION ERROR WITH ylide_h_gas_preopt MOLECULE 334\n",
      "MEMRORY ALLOCATION ERROR WITH ylide_h_gas_preopt MOLECULE 338\n",
      "MEMRORY ALLOCATION ERROR WITH ylide_h_gas_preopt MOLECULE 340\n",
      "MEMRORY ALLOCATION ERROR WITH ylide_h_gas_preopt MOLECULE 342\n",
      "MEMRORY ALLOCATION ERROR WITH ylide_h_gas_preopt MOLECULE 351\n"
     ]
    },
    {
     "name": "stderr",
     "output_type": "stream",
     "text": [
      "  4%|▍         | 397/10000 [00:03<01:21, 118.40it/s]"
     ]
    },
    {
     "name": "stdout",
     "output_type": "stream",
     "text": [
      "MEMRORY ALLOCATION ERROR WITH ylide_h_gas_preopt MOLECULE 353\n",
      "MEMRORY ALLOCATION ERROR WITH ylide_h_gas_preopt MOLECULE 354\n",
      "MEMRORY ALLOCATION ERROR WITH ylide_h_gas_preopt MOLECULE 375\n",
      "MEMRORY ALLOCATION ERROR WITH ylide_h_gas_preopt MOLECULE 382\n",
      "MEMRORY ALLOCATION ERROR WITH ylide_h_gas_preopt MOLECULE 396\n",
      "MEMRORY ALLOCATION ERROR WITH ylide_h_gas_preopt MOLECULE 404\n",
      "MEMRORY ALLOCATION ERROR WITH ylide_h_gas_preopt MOLECULE 405\n"
     ]
    },
    {
     "name": "stderr",
     "output_type": "stream",
     "text": [
      "  4%|▍         | 440/10000 [00:03<01:06, 144.38it/s]"
     ]
    },
    {
     "name": "stdout",
     "output_type": "stream",
     "text": [
      "MEMRORY ALLOCATION ERROR WITH ylide_h_gas_preopt MOLECULE 418\n",
      "MEMRORY ALLOCATION ERROR WITH ylide_h_gas_preopt MOLECULE 419\n",
      "MEMRORY ALLOCATION ERROR WITH ylide_h_gas_preopt MOLECULE 421\n",
      "MEMRORY ALLOCATION ERROR WITH ylide_h_gas_preopt MOLECULE 425\n",
      "MEMRORY ALLOCATION ERROR WITH ylide_h_gas_preopt MOLECULE 433\n",
      "MEMRORY ALLOCATION ERROR WITH ylide_h_gas_preopt MOLECULE 439\n",
      "MEMRORY ALLOCATION ERROR WITH ylide_h_gas_preopt MOLECULE 449\n",
      "MEMRORY ALLOCATION ERROR WITH ylide_h_gas_preopt MOLECULE 451\n",
      "MEMRORY ALLOCATION ERROR WITH ylide_h_gas_preopt MOLECULE 460\n"
     ]
    },
    {
     "name": "stderr",
     "output_type": "stream",
     "text": [
      "  5%|▍         | 492/10000 [00:03<00:53, 178.15it/s]"
     ]
    },
    {
     "name": "stdout",
     "output_type": "stream",
     "text": [
      "MEMRORY ALLOCATION ERROR WITH ylide_h_gas_preopt MOLECULE 462\n",
      "MEMRORY ALLOCATION ERROR WITH ylide_h_gas_preopt MOLECULE 465\n",
      "MEMRORY ALLOCATION ERROR WITH ylide_h_gas_preopt MOLECULE 468\n",
      "MEMRORY ALLOCATION ERROR WITH ylide_h_gas_preopt MOLECULE 469\n",
      "MEMRORY ALLOCATION ERROR WITH ylide_h_gas_preopt MOLECULE 474\n",
      "MEMRORY ALLOCATION ERROR WITH ylide_h_gas_preopt MOLECULE 475\n",
      "MEMRORY ALLOCATION ERROR WITH ylide_h_gas_preopt MOLECULE 482\n",
      "MEMRORY ALLOCATION ERROR WITH ylide_h_gas_preopt MOLECULE 490\n",
      "MEMRORY ALLOCATION ERROR WITH ylide_h_gas_preopt MOLECULE 491\n",
      "MEMRORY ALLOCATION ERROR WITH ylide_h_gas_preopt MOLECULE 492\n",
      "MEMRORY ALLOCATION ERROR WITH ylide_h_gas_preopt MOLECULE 493\n"
     ]
    },
    {
     "name": "stderr",
     "output_type": "stream",
     "text": [
      "  5%|▌         | 514/10000 [00:04<01:03, 148.61it/s]"
     ]
    },
    {
     "name": "stdout",
     "output_type": "stream",
     "text": [
      "MEMRORY ALLOCATION ERROR WITH ylide_h_gas_preopt MOLECULE 504\n",
      "MEMRORY ALLOCATION ERROR WITH ylide_h_gas_preopt MOLECULE 505\n",
      "MEMRORY ALLOCATION ERROR WITH ylide_h_gas_preopt MOLECULE 517\n"
     ]
    },
    {
     "name": "stderr",
     "output_type": "stream",
     "text": [
      "  6%|▌         | 560/10000 [00:04<00:53, 175.19it/s]"
     ]
    },
    {
     "name": "stdout",
     "output_type": "stream",
     "text": [
      "MEMRORY ALLOCATION ERROR WITH ylide_h_gas_preopt MOLECULE 526\n",
      "MEMRORY ALLOCATION ERROR WITH ylide_h_gas_preopt MOLECULE 529\n",
      "MEMRORY ALLOCATION ERROR WITH ylide_h_gas_preopt MOLECULE 531\n",
      "MEMRORY ALLOCATION ERROR WITH ylide_h_gas_preopt MOLECULE 542\n",
      "MEMRORY ALLOCATION ERROR WITH ylide_h_gas_preopt MOLECULE 544\n",
      "MEMRORY ALLOCATION ERROR WITH ylide_h_gas_preopt MOLECULE 545\n",
      "MEMRORY ALLOCATION ERROR WITH ylide_h_gas_preopt MOLECULE 552\n",
      "MEMRORY ALLOCATION ERROR WITH ylide_h_gas_preopt MOLECULE 554\n",
      "MEMRORY ALLOCATION ERROR WITH ylide_h_gas_preopt MOLECULE 558\n",
      "MEMRORY ALLOCATION ERROR WITH ylide_h_gas_preopt MOLECULE 559\n",
      "MEMRORY ALLOCATION ERROR WITH ylide_h_gas_preopt MOLECULE 560\n",
      "MEMRORY ALLOCATION ERROR WITH ylide_h_gas_preopt MOLECULE 565\n",
      "MEMRORY ALLOCATION ERROR WITH ylide_h_gas_preopt MOLECULE 567\n"
     ]
    },
    {
     "name": "stderr",
     "output_type": "stream",
     "text": [
      "  6%|▌         | 580/10000 [00:04<00:59, 158.51it/s]"
     ]
    },
    {
     "name": "stdout",
     "output_type": "stream",
     "text": [
      "MEMRORY ALLOCATION ERROR WITH ylide_h_gas_preopt MOLECULE 568\n",
      "MEMRORY ALLOCATION ERROR WITH ylide_h_gas_preopt MOLECULE 573\n",
      "MEMRORY ALLOCATION ERROR WITH ylide_h_gas_preopt MOLECULE 575\n",
      "MEMRORY ALLOCATION ERROR WITH ylide_h_gas_preopt MOLECULE 579\n",
      "MEMRORY ALLOCATION ERROR WITH ylide_h_gas_preopt MOLECULE 580\n",
      "MEMRORY ALLOCATION ERROR WITH ylide_h_gas_preopt MOLECULE 583\n",
      "MEMRORY ALLOCATION ERROR WITH ylide_h_gas_preopt MOLECULE 584\n",
      "MEMRORY ALLOCATION ERROR WITH ylide_h_gas_preopt MOLECULE 587\n",
      "MEMRORY ALLOCATION ERROR WITH ylide_h_gas_preopt MOLECULE 589\n",
      "MEMRORY ALLOCATION ERROR WITH ylide_h_gas_preopt MOLECULE 590\n",
      "MEMRORY ALLOCATION ERROR WITH ylide_h_gas_preopt MOLECULE 591\n"
     ]
    },
    {
     "name": "stderr",
     "output_type": "stream",
     "text": [
      "  6%|▋         | 629/10000 [00:04<00:59, 157.40it/s]"
     ]
    },
    {
     "name": "stdout",
     "output_type": "stream",
     "text": [
      "MEMRORY ALLOCATION ERROR WITH ylide_h_gas_preopt MOLECULE 593\n",
      "MEMRORY ALLOCATION ERROR WITH ylide_h_gas_preopt MOLECULE 595\n",
      "MEMRORY ALLOCATION ERROR WITH ylide_h_gas_preopt MOLECULE 596\n",
      "MEMRORY ALLOCATION ERROR WITH ylide_h_gas_preopt MOLECULE 602\n",
      "MEMRORY ALLOCATION ERROR WITH ylide_h_gas_preopt MOLECULE 621\n",
      "MEMRORY ALLOCATION ERROR WITH ylide_h_gas_preopt MOLECULE 625\n",
      "MEMRORY ALLOCATION ERROR WITH ylide_h_gas_preopt MOLECULE 627\n",
      "MEMRORY ALLOCATION ERROR WITH ylide_h_gas_preopt MOLECULE 628\n",
      "MEMRORY ALLOCATION ERROR WITH ylide_h_gas_preopt MOLECULE 633\n"
     ]
    },
    {
     "name": "stderr",
     "output_type": "stream",
     "text": [
      "  6%|▋         | 649/10000 [00:04<01:17, 120.21it/s]"
     ]
    },
    {
     "name": "stdout",
     "output_type": "stream",
     "text": [
      "MEMRORY ALLOCATION ERROR WITH ylide_h_gas_preopt MOLECULE 635\n",
      "MEMRORY ALLOCATION ERROR WITH ylide_h_gas_preopt MOLECULE 638\n",
      "MEMRORY ALLOCATION ERROR WITH ylide_h_gas_preopt MOLECULE 641\n"
     ]
    },
    {
     "name": "stderr",
     "output_type": "stream",
     "text": [
      " 13%|█▎        | 1304/10000 [00:19<02:56, 49.18it/s]"
     ]
    },
    {
     "name": "stdout",
     "output_type": "stream",
     "text": [
      "MEMRORY ALLOCATION ERROR WITH ylide_h_gas_preopt MOLECULE 1277\n",
      "MEMRORY ALLOCATION ERROR WITH ylide_h_gas_preopt MOLECULE 1281\n",
      "MEMRORY ALLOCATION ERROR WITH ylide_h_gas_preopt MOLECULE 1293\n",
      "MEMRORY ALLOCATION ERROR WITH ylide_h_gas_preopt MOLECULE 1297\n",
      "MEMRORY ALLOCATION ERROR WITH ylide_h_gas_preopt MOLECULE 1303\n",
      "MEMRORY ALLOCATION ERROR WITH ylide_h_gas_preopt MOLECULE 1304\n",
      "MEMRORY ALLOCATION ERROR WITH ylide_h_gas_preopt MOLECULE 1308\n",
      "MEMRORY ALLOCATION ERROR WITH ylide_h_gas_preopt MOLECULE 1311\n"
     ]
    },
    {
     "name": "stderr",
     "output_type": "stream",
     "text": [
      " 13%|█▎        | 1337/10000 [00:19<01:59, 72.29it/s]"
     ]
    },
    {
     "name": "stdout",
     "output_type": "stream",
     "text": [
      "MEMRORY ALLOCATION ERROR WITH ylide_h_gas_preopt MOLECULE 1322\n",
      "MEMRORY ALLOCATION ERROR WITH ylide_h_gas_preopt MOLECULE 1323\n",
      "MEMRORY ALLOCATION ERROR WITH ylide_h_gas_preopt MOLECULE 1324\n",
      "MEMRORY ALLOCATION ERROR WITH ylide_h_gas_preopt MOLECULE 1335\n",
      "MEMRORY ALLOCATION ERROR WITH ylide_h_gas_preopt MOLECULE 1336\n",
      "MEMRORY ALLOCATION ERROR WITH ylide_h_gas_preopt MOLECULE 1337\n"
     ]
    },
    {
     "name": "stderr",
     "output_type": "stream",
     "text": [
      " 14%|█▎        | 1366/10000 [00:19<01:32, 93.68it/s]"
     ]
    },
    {
     "name": "stdout",
     "output_type": "stream",
     "text": [
      "MEMRORY ALLOCATION ERROR WITH ylide_h_gas_preopt MOLECULE 1347\n",
      "MEMRORY ALLOCATION ERROR WITH ylide_h_gas_preopt MOLECULE 1353\n",
      "MEMRORY ALLOCATION ERROR WITH ylide_h_gas_preopt MOLECULE 1356\n",
      "MEMRORY ALLOCATION ERROR WITH ylide_h_gas_preopt MOLECULE 1360\n",
      "MEMRORY ALLOCATION ERROR WITH ylide_h_gas_preopt MOLECULE 1365\n",
      "MEMRORY ALLOCATION ERROR WITH ylide_h_gas_preopt MOLECULE 1367\n",
      "MEMRORY ALLOCATION ERROR WITH ylide_h_gas_preopt MOLECULE 1373\n"
     ]
    },
    {
     "name": "stderr",
     "output_type": "stream",
     "text": [
      " 14%|█▍        | 1406/10000 [00:20<01:11, 120.96it/s]"
     ]
    },
    {
     "name": "stdout",
     "output_type": "stream",
     "text": [
      "MEMRORY ALLOCATION ERROR WITH ylide_h_gas_preopt MOLECULE 1376\n",
      "MEMRORY ALLOCATION ERROR WITH ylide_h_gas_preopt MOLECULE 1378\n",
      "MEMRORY ALLOCATION ERROR WITH ylide_h_gas_preopt MOLECULE 1383\n",
      "MEMRORY ALLOCATION ERROR WITH ylide_h_gas_preopt MOLECULE 1390\n",
      "MEMRORY ALLOCATION ERROR WITH ylide_h_gas_preopt MOLECULE 1394\n",
      "MEMRORY ALLOCATION ERROR WITH ylide_h_gas_preopt MOLECULE 1405\n",
      "MEMRORY ALLOCATION ERROR WITH ylide_h_gas_preopt MOLECULE 1406\n",
      "MEMRORY ALLOCATION ERROR WITH ylide_h_gas_preopt MOLECULE 1410\n",
      "MEMRORY ALLOCATION ERROR WITH ylide_h_gas_preopt MOLECULE 1412\n"
     ]
    },
    {
     "name": "stderr",
     "output_type": "stream",
     "text": [
      " 14%|█▍        | 1437/10000 [00:20<01:08, 125.31it/s]"
     ]
    },
    {
     "name": "stdout",
     "output_type": "stream",
     "text": [
      "MEMRORY ALLOCATION ERROR WITH ylide_h_gas_preopt MOLECULE 1414\n",
      "MEMRORY ALLOCATION ERROR WITH ylide_h_gas_preopt MOLECULE 1416\n",
      "MEMRORY ALLOCATION ERROR WITH ylide_h_gas_preopt MOLECULE 1420\n",
      "MEMRORY ALLOCATION ERROR WITH ylide_h_gas_preopt MOLECULE 1425\n",
      "MEMRORY ALLOCATION ERROR WITH ylide_h_gas_preopt MOLECULE 1428\n",
      "MEMRORY ALLOCATION ERROR WITH ylide_h_gas_preopt MOLECULE 1430\n",
      "MEMRORY ALLOCATION ERROR WITH ylide_h_gas_preopt MOLECULE 1434\n",
      "MEMRORY ALLOCATION ERROR WITH ylide_h_gas_preopt MOLECULE 1439\n",
      "MEMRORY ALLOCATION ERROR WITH ylide_h_gas_preopt MOLECULE 1450\n"
     ]
    },
    {
     "name": "stderr",
     "output_type": "stream",
     "text": [
      " 15%|█▍        | 1485/10000 [00:20<00:51, 164.01it/s]"
     ]
    },
    {
     "name": "stdout",
     "output_type": "stream",
     "text": [
      "MEMRORY ALLOCATION ERROR WITH ylide_h_gas_preopt MOLECULE 1452\n",
      "MEMRORY ALLOCATION ERROR WITH ylide_h_gas_preopt MOLECULE 1455\n",
      "MEMRORY ALLOCATION ERROR WITH ylide_h_gas_preopt MOLECULE 1459\n",
      "MEMRORY ALLOCATION ERROR WITH ylide_h_gas_preopt MOLECULE 1463\n",
      "MEMRORY ALLOCATION ERROR WITH ylide_h_gas_preopt MOLECULE 1465\n",
      "MEMRORY ALLOCATION ERROR WITH ylide_h_gas_preopt MOLECULE 1473\n",
      "MEMRORY ALLOCATION ERROR WITH ylide_h_gas_preopt MOLECULE 1477\n",
      "MEMRORY ALLOCATION ERROR WITH ylide_h_gas_preopt MOLECULE 1482\n",
      "MEMRORY ALLOCATION ERROR WITH ylide_h_gas_preopt MOLECULE 1484\n",
      "MEMRORY ALLOCATION ERROR WITH ylide_h_gas_preopt MOLECULE 1485\n"
     ]
    },
    {
     "name": "stderr",
     "output_type": "stream",
     "text": [
      " 15%|█▌        | 1531/10000 [00:20<00:45, 185.52it/s]"
     ]
    },
    {
     "name": "stdout",
     "output_type": "stream",
     "text": [
      "MEMRORY ALLOCATION ERROR WITH ylide_h_gas_preopt MOLECULE 1492\n",
      "MEMRORY ALLOCATION ERROR WITH ylide_h_gas_preopt MOLECULE 1494\n",
      "MEMRORY ALLOCATION ERROR WITH ylide_h_gas_preopt MOLECULE 1503\n",
      "MEMRORY ALLOCATION ERROR WITH ylide_h_gas_preopt MOLECULE 1504\n",
      "MEMRORY ALLOCATION ERROR WITH ylide_h_gas_preopt MOLECULE 1508\n",
      "MEMRORY ALLOCATION ERROR WITH ylide_h_gas_preopt MOLECULE 1526\n",
      "MEMRORY ALLOCATION ERROR WITH ylide_h_gas_preopt MOLECULE 1530\n",
      "MEMRORY ALLOCATION ERROR WITH ylide_h_gas_preopt MOLECULE 1533\n",
      "MEMRORY ALLOCATION ERROR WITH ylide_h_gas_preopt MOLECULE 1535\n"
     ]
    },
    {
     "name": "stderr",
     "output_type": "stream",
     "text": [
      " 16%|█▌        | 1552/10000 [00:21<01:02, 135.25it/s]"
     ]
    },
    {
     "name": "stdout",
     "output_type": "stream",
     "text": [
      "MEMRORY ALLOCATION ERROR WITH ylide_h_gas_preopt MOLECULE 1537\n",
      "MEMRORY ALLOCATION ERROR WITH ylide_h_gas_preopt MOLECULE 1538\n",
      "MEMRORY ALLOCATION ERROR WITH ylide_h_gas_preopt MOLECULE 1539\n",
      "MEMRORY ALLOCATION ERROR WITH ylide_h_gas_preopt MOLECULE 1541\n",
      "MEMRORY ALLOCATION ERROR WITH ylide_h_gas_preopt MOLECULE 1549\n",
      "MEMRORY ALLOCATION ERROR WITH ylide_h_gas_preopt MOLECULE 1551\n"
     ]
    },
    {
     "name": "stderr",
     "output_type": "stream",
     "text": [
      " 16%|█▌        | 1569/10000 [00:21<01:32, 90.79it/s] "
     ]
    },
    {
     "name": "stdout",
     "output_type": "stream",
     "text": [
      "MEMRORY ALLOCATION ERROR WITH ylide_h_gas_preopt MOLECULE 1560\n",
      "MEMRORY ALLOCATION ERROR WITH ylide_h_gas_preopt MOLECULE 1564\n"
     ]
    },
    {
     "name": "stderr",
     "output_type": "stream",
     "text": [
      " 16%|█▌        | 1605/10000 [00:21<01:09, 120.23it/s]"
     ]
    },
    {
     "name": "stdout",
     "output_type": "stream",
     "text": [
      "MEMRORY ALLOCATION ERROR WITH ylide_h_gas_preopt MOLECULE 1569\n",
      "MEMRORY ALLOCATION ERROR WITH ylide_h_gas_preopt MOLECULE 1578\n",
      "MEMRORY ALLOCATION ERROR WITH ylide_h_gas_preopt MOLECULE 1582\n",
      "MEMRORY ALLOCATION ERROR WITH ylide_h_gas_preopt MOLECULE 1585\n",
      "MEMRORY ALLOCATION ERROR WITH ylide_h_gas_preopt MOLECULE 1586\n",
      "MEMRORY ALLOCATION ERROR WITH ylide_h_gas_preopt MOLECULE 1589\n",
      "MEMRORY ALLOCATION ERROR WITH ylide_h_gas_preopt MOLECULE 1590\n",
      "MEMRORY ALLOCATION ERROR WITH ylide_h_gas_preopt MOLECULE 1601\n",
      "MEMRORY ALLOCATION ERROR WITH ylide_h_gas_preopt MOLECULE 1602\n",
      "MEMRORY ALLOCATION ERROR WITH ylide_h_gas_preopt MOLECULE 1603\n",
      "MEMRORY ALLOCATION ERROR WITH ylide_h_gas_preopt MOLECULE 1604\n",
      "MEMRORY ALLOCATION ERROR WITH ylide_h_gas_preopt MOLECULE 1605\n"
     ]
    },
    {
     "name": "stderr",
     "output_type": "stream",
     "text": [
      " 16%|█▋        | 1634/10000 [00:22<01:24, 99.08it/s] "
     ]
    },
    {
     "name": "stdout",
     "output_type": "stream",
     "text": [
      "MEMRORY ALLOCATION ERROR WITH ylide_h_gas_preopt MOLECULE 1606\n",
      "MEMRORY ALLOCATION ERROR WITH ylide_h_gas_preopt MOLECULE 1615\n",
      "MEMRORY ALLOCATION ERROR WITH ylide_h_gas_preopt MOLECULE 1622\n",
      "MEMRORY ALLOCATION ERROR WITH ylide_h_gas_preopt MOLECULE 1623\n",
      "MEMRORY ALLOCATION ERROR WITH ylide_h_gas_preopt MOLECULE 1625\n",
      "MEMRORY ALLOCATION ERROR WITH ylide_h_gas_preopt MOLECULE 1627\n",
      "MEMRORY ALLOCATION ERROR WITH ylide_h_gas_preopt MOLECULE 1634\n",
      "MEMRORY ALLOCATION ERROR WITH ylide_h_gas_preopt MOLECULE 1645\n"
     ]
    },
    {
     "name": "stderr",
     "output_type": "stream",
     "text": [
      " 17%|█▋        | 1664/10000 [00:22<01:15, 110.47it/s]"
     ]
    },
    {
     "name": "stdout",
     "output_type": "stream",
     "text": [
      "MEMRORY ALLOCATION ERROR WITH ylide_h_gas_preopt MOLECULE 1648\n",
      "MEMRORY ALLOCATION ERROR WITH ylide_h_gas_preopt MOLECULE 1654\n",
      "MEMRORY ALLOCATION ERROR WITH ylide_h_gas_preopt MOLECULE 1655\n",
      "MEMRORY ALLOCATION ERROR WITH ylide_h_gas_preopt MOLECULE 1658\n",
      "MEMRORY ALLOCATION ERROR WITH ylide_h_gas_preopt MOLECULE 1663\n",
      "MEMRORY ALLOCATION ERROR WITH ylide_h_gas_preopt MOLECULE 1665\n",
      "MEMRORY ALLOCATION ERROR WITH ylide_h_gas_preopt MOLECULE 1669\n",
      "MEMRORY ALLOCATION ERROR WITH ylide_h_gas_preopt MOLECULE 1676\n"
     ]
    },
    {
     "name": "stderr",
     "output_type": "stream",
     "text": [
      " 17%|█▋        | 1698/10000 [00:22<01:01, 134.38it/s]"
     ]
    },
    {
     "name": "stdout",
     "output_type": "stream",
     "text": [
      "MEMRORY ALLOCATION ERROR WITH ylide_h_gas_preopt MOLECULE 1677\n",
      "MEMRORY ALLOCATION ERROR WITH ylide_h_gas_preopt MOLECULE 1681\n",
      "MEMRORY ALLOCATION ERROR WITH ylide_h_gas_preopt MOLECULE 1684\n",
      "MEMRORY ALLOCATION ERROR WITH ylide_h_gas_preopt MOLECULE 1694\n",
      "MEMRORY ALLOCATION ERROR WITH ylide_h_gas_preopt MOLECULE 1695\n",
      "MEMRORY ALLOCATION ERROR WITH ylide_h_gas_preopt MOLECULE 1700\n",
      "MEMRORY ALLOCATION ERROR WITH ylide_h_gas_preopt MOLECULE 1701\n"
     ]
    },
    {
     "name": "stderr",
     "output_type": "stream",
     "text": [
      " 17%|█▋        | 1734/10000 [00:22<01:12, 113.75it/s]"
     ]
    },
    {
     "name": "stdout",
     "output_type": "stream",
     "text": [
      "MEMRORY ALLOCATION ERROR WITH ylide_h_gas_preopt MOLECULE 1709\n",
      "MEMRORY ALLOCATION ERROR WITH ylide_h_gas_preopt MOLECULE 1710\n",
      "MEMRORY ALLOCATION ERROR WITH ylide_h_gas_preopt MOLECULE 1711\n",
      "MEMRORY ALLOCATION ERROR WITH ylide_h_gas_preopt MOLECULE 1716\n",
      "MEMRORY ALLOCATION ERROR WITH ylide_h_gas_preopt MOLECULE 1718\n",
      "MEMRORY ALLOCATION ERROR WITH ylide_h_gas_preopt MOLECULE 1720\n",
      "MEMRORY ALLOCATION ERROR WITH ylide_h_gas_preopt MOLECULE 1733\n",
      "MEMRORY ALLOCATION ERROR WITH ylide_h_gas_preopt MOLECULE 1736\n",
      "MEMRORY ALLOCATION ERROR WITH ylide_h_gas_preopt MOLECULE 1737\n"
     ]
    },
    {
     "name": "stderr",
     "output_type": "stream",
     "text": [
      " 18%|█▊        | 1778/10000 [00:23<00:57, 142.24it/s]"
     ]
    },
    {
     "name": "stdout",
     "output_type": "stream",
     "text": [
      "MEMRORY ALLOCATION ERROR WITH ylide_h_gas_preopt MOLECULE 1740\n",
      "MEMRORY ALLOCATION ERROR WITH ylide_h_gas_preopt MOLECULE 1747\n",
      "MEMRORY ALLOCATION ERROR WITH ylide_h_gas_preopt MOLECULE 1750\n",
      "MEMRORY ALLOCATION ERROR WITH ylide_h_gas_preopt MOLECULE 1756\n",
      "MEMRORY ALLOCATION ERROR WITH ylide_h_gas_preopt MOLECULE 1759\n",
      "MEMRORY ALLOCATION ERROR WITH ylide_h_gas_preopt MOLECULE 1761\n",
      "MEMRORY ALLOCATION ERROR WITH ylide_h_gas_preopt MOLECULE 1763\n",
      "MEMRORY ALLOCATION ERROR WITH ylide_h_gas_preopt MOLECULE 1767\n",
      "MEMRORY ALLOCATION ERROR WITH ylide_h_gas_preopt MOLECULE 1777\n"
     ]
    },
    {
     "name": "stderr",
     "output_type": "stream",
     "text": [
      " 18%|█▊        | 1818/10000 [00:23<00:51, 159.84it/s]"
     ]
    },
    {
     "name": "stdout",
     "output_type": "stream",
     "text": [
      "MEMRORY ALLOCATION ERROR WITH ylide_h_gas_preopt MOLECULE 1783\n",
      "MEMRORY ALLOCATION ERROR WITH ylide_h_gas_preopt MOLECULE 1787\n",
      "MEMRORY ALLOCATION ERROR WITH ylide_h_gas_preopt MOLECULE 1790\n",
      "MEMRORY ALLOCATION ERROR WITH ylide_h_gas_preopt MOLECULE 1799\n",
      "MEMRORY ALLOCATION ERROR WITH ylide_h_gas_preopt MOLECULE 1800\n",
      "MEMRORY ALLOCATION ERROR WITH ylide_h_gas_preopt MOLECULE 1805\n",
      "MEMRORY ALLOCATION ERROR WITH ylide_h_gas_preopt MOLECULE 1806\n",
      "MEMRORY ALLOCATION ERROR WITH ylide_h_gas_preopt MOLECULE 1807\n",
      "MEMRORY ALLOCATION ERROR WITH ylide_h_gas_preopt MOLECULE 1811\n"
     ]
    },
    {
     "name": "stderr",
     "output_type": "stream",
     "text": [
      " 18%|█▊        | 1836/10000 [00:23<01:01, 132.51it/s]"
     ]
    },
    {
     "name": "stdout",
     "output_type": "stream",
     "text": [
      "MEMRORY ALLOCATION ERROR WITH ylide_h_gas_preopt MOLECULE 1818\n",
      "MEMRORY ALLOCATION ERROR WITH ylide_h_gas_preopt MOLECULE 1820\n",
      "MEMRORY ALLOCATION ERROR WITH ylide_h_gas_preopt MOLECULE 1821\n",
      "MEMRORY ALLOCATION ERROR WITH ylide_h_gas_preopt MOLECULE 1827\n",
      "MEMRORY ALLOCATION ERROR WITH ylide_h_gas_preopt MOLECULE 1828\n",
      "MEMRORY ALLOCATION ERROR WITH ylide_h_gas_preopt MOLECULE 1829\n",
      "MEMRORY ALLOCATION ERROR WITH ylide_h_gas_preopt MOLECULE 1831\n",
      "MEMRORY ALLOCATION ERROR WITH ylide_h_gas_preopt MOLECULE 1832\n",
      "MEMRORY ALLOCATION ERROR WITH ylide_h_gas_preopt MOLECULE 1836\n",
      "MEMRORY ALLOCATION ERROR WITH ylide_h_gas_preopt MOLECULE 1838\n",
      "MEMRORY ALLOCATION ERROR WITH ylide_h_gas_preopt MOLECULE 1841\n"
     ]
    },
    {
     "name": "stderr",
     "output_type": "stream",
     "text": [
      " 19%|█▊        | 1874/10000 [00:23<00:56, 142.92it/s]"
     ]
    },
    {
     "name": "stdout",
     "output_type": "stream",
     "text": [
      "MEMRORY ALLOCATION ERROR WITH ylide_h_gas_preopt MOLECULE 1842\n",
      "MEMRORY ALLOCATION ERROR WITH ylide_h_gas_preopt MOLECULE 1843\n",
      "MEMRORY ALLOCATION ERROR WITH ylide_h_gas_preopt MOLECULE 1844\n",
      "MEMRORY ALLOCATION ERROR WITH ylide_h_gas_preopt MOLECULE 1853\n",
      "MEMRORY ALLOCATION ERROR WITH ylide_h_gas_preopt MOLECULE 1857\n",
      "MEMRORY ALLOCATION ERROR WITH ylide_h_gas_preopt MOLECULE 1863\n",
      "MEMRORY ALLOCATION ERROR WITH ylide_h_gas_preopt MOLECULE 1870\n",
      "MEMRORY ALLOCATION ERROR WITH ylide_h_gas_preopt MOLECULE 1873\n",
      "MEMRORY ALLOCATION ERROR WITH ylide_h_gas_preopt MOLECULE 1879\n",
      "MEMRORY ALLOCATION ERROR WITH ylide_h_gas_preopt MOLECULE 1882\n"
     ]
    },
    {
     "name": "stderr",
     "output_type": "stream",
     "text": [
      " 19%|█▉        | 1900/10000 [00:23<00:50, 159.35it/s]"
     ]
    },
    {
     "name": "stdout",
     "output_type": "stream",
     "text": [
      "MEMRORY ALLOCATION ERROR WITH ylide_h_gas_preopt MOLECULE 1883\n",
      "MEMRORY ALLOCATION ERROR WITH ylide_h_gas_preopt MOLECULE 1884\n",
      "MEMRORY ALLOCATION ERROR WITH ylide_h_gas_preopt MOLECULE 1885\n",
      "MEMRORY ALLOCATION ERROR WITH ylide_h_gas_preopt MOLECULE 1887\n",
      "MEMRORY ALLOCATION ERROR WITH ylide_h_gas_preopt MOLECULE 1895\n",
      "MEMRORY ALLOCATION ERROR WITH ylide_h_gas_preopt MOLECULE 1899\n",
      "MEMRORY ALLOCATION ERROR WITH ylide_h_gas_preopt MOLECULE 1902\n",
      "MEMRORY ALLOCATION ERROR WITH ylide_h_gas_preopt MOLECULE 1904\n"
     ]
    },
    {
     "name": "stderr",
     "output_type": "stream",
     "text": [
      " 75%|███████▍  | 7466/10000 [01:43<00:46, 54.52it/s] "
     ]
    },
    {
     "name": "stdout",
     "output_type": "stream",
     "text": [
      "MEMRORY ALLOCATION ERROR WITH ylide_h_gas_preopt MOLECULE 7452\n",
      "MEMRORY ALLOCATION ERROR WITH ylide_h_gas_preopt MOLECULE 7453\n",
      "MEMRORY ALLOCATION ERROR WITH ylide_h_gas_preopt MOLECULE 7455\n",
      "MEMRORY ALLOCATION ERROR WITH ylide_h_gas_preopt MOLECULE 7458\n",
      "MEMRORY ALLOCATION ERROR WITH ylide_h_gas_preopt MOLECULE 7459\n",
      "MEMRORY ALLOCATION ERROR WITH ylide_h_gas_preopt MOLECULE 7461\n",
      "MEMRORY ALLOCATION ERROR WITH ylide_h_gas_preopt MOLECULE 7465\n",
      "MEMRORY ALLOCATION ERROR WITH ylide_h_gas_preopt MOLECULE 7466\n"
     ]
    },
    {
     "name": "stderr",
     "output_type": "stream",
     "text": [
      " 75%|███████▌  | 7510/10000 [01:43<00:28, 87.42it/s]"
     ]
    },
    {
     "name": "stdout",
     "output_type": "stream",
     "text": [
      "MEMRORY ALLOCATION ERROR WITH ylide_h_gas_preopt MOLECULE 7480\n",
      "MEMRORY ALLOCATION ERROR WITH ylide_h_gas_preopt MOLECULE 7485\n",
      "MEMRORY ALLOCATION ERROR WITH ylide_h_gas_preopt MOLECULE 7490\n",
      "MEMRORY ALLOCATION ERROR WITH ylide_h_gas_preopt MOLECULE 7494\n",
      "MEMRORY ALLOCATION ERROR WITH ylide_h_gas_preopt MOLECULE 7495\n",
      "MEMRORY ALLOCATION ERROR WITH ylide_h_gas_preopt MOLECULE 7509\n",
      "MEMRORY ALLOCATION ERROR WITH ylide_h_gas_preopt MOLECULE 7510\n",
      "MEMRORY ALLOCATION ERROR WITH ylide_h_gas_preopt MOLECULE 7512\n",
      "MEMRORY ALLOCATION ERROR WITH ylide_h_gas_preopt MOLECULE 7515\n"
     ]
    },
    {
     "name": "stderr",
     "output_type": "stream",
     "text": [
      " 75%|███████▌  | 7544/10000 [01:43<00:21, 113.39it/s]"
     ]
    },
    {
     "name": "stdout",
     "output_type": "stream",
     "text": [
      "MEMRORY ALLOCATION ERROR WITH ylide_h_gas_preopt MOLECULE 7517\n",
      "MEMRORY ALLOCATION ERROR WITH ylide_h_gas_preopt MOLECULE 7520\n",
      "MEMRORY ALLOCATION ERROR WITH ylide_h_gas_preopt MOLECULE 7525\n",
      "MEMRORY ALLOCATION ERROR WITH ylide_h_gas_preopt MOLECULE 7527\n",
      "MEMRORY ALLOCATION ERROR WITH ylide_h_gas_preopt MOLECULE 7531\n",
      "MEMRORY ALLOCATION ERROR WITH ylide_h_gas_preopt MOLECULE 7532\n",
      "MEMRORY ALLOCATION ERROR WITH ylide_h_gas_preopt MOLECULE 7536\n",
      "MEMRORY ALLOCATION ERROR WITH ylide_h_gas_preopt MOLECULE 7543\n",
      "MEMRORY ALLOCATION ERROR WITH ylide_h_gas_preopt MOLECULE 7547\n"
     ]
    },
    {
     "name": "stderr",
     "output_type": "stream",
     "text": [
      " 76%|███████▌  | 7560/10000 [01:43<00:23, 104.25it/s]"
     ]
    },
    {
     "name": "stdout",
     "output_type": "stream",
     "text": [
      "MEMRORY ALLOCATION ERROR WITH ylide_h_gas_preopt MOLECULE 7552\n",
      "MEMRORY ALLOCATION ERROR WITH ylide_h_gas_preopt MOLECULE 7554\n",
      "MEMRORY ALLOCATION ERROR WITH ylide_h_gas_preopt MOLECULE 7555\n",
      "MEMRORY ALLOCATION ERROR WITH ylide_h_gas_preopt MOLECULE 7559\n",
      "MEMRORY ALLOCATION ERROR WITH ylide_h_gas_preopt MOLECULE 7560\n"
     ]
    },
    {
     "name": "stderr",
     "output_type": "stream",
     "text": [
      " 76%|███████▌  | 7600/10000 [01:44<00:19, 122.49it/s]"
     ]
    },
    {
     "name": "stdout",
     "output_type": "stream",
     "text": [
      "MEMRORY ALLOCATION ERROR WITH ylide_h_gas_preopt MOLECULE 7565\n",
      "MEMRORY ALLOCATION ERROR WITH ylide_h_gas_preopt MOLECULE 7566\n",
      "MEMRORY ALLOCATION ERROR WITH ylide_h_gas_preopt MOLECULE 7572\n",
      "MEMRORY ALLOCATION ERROR WITH ylide_h_gas_preopt MOLECULE 7573\n",
      "MEMRORY ALLOCATION ERROR WITH ylide_h_gas_preopt MOLECULE 7576\n",
      "MEMRORY ALLOCATION ERROR WITH ylide_h_gas_preopt MOLECULE 7577\n",
      "MEMRORY ALLOCATION ERROR WITH ylide_h_gas_preopt MOLECULE 7586\n",
      "MEMRORY ALLOCATION ERROR WITH ylide_h_gas_preopt MOLECULE 7599\n",
      "MEMRORY ALLOCATION ERROR WITH ylide_h_gas_preopt MOLECULE 7602\n"
     ]
    },
    {
     "name": "stderr",
     "output_type": "stream",
     "text": [
      " 76%|███████▌  | 7615/10000 [01:44<00:23, 102.01it/s]"
     ]
    },
    {
     "name": "stdout",
     "output_type": "stream",
     "text": [
      "MEMRORY ALLOCATION ERROR WITH ylide_h_gas_preopt MOLECULE 7605\n",
      "MEMRORY ALLOCATION ERROR WITH ylide_h_gas_preopt MOLECULE 7610\n",
      "MEMRORY ALLOCATION ERROR WITH ylide_h_gas_preopt MOLECULE 7611\n",
      "MEMRORY ALLOCATION ERROR WITH ylide_h_gas_preopt MOLECULE 7612\n",
      "MEMRORY ALLOCATION ERROR WITH ylide_h_gas_preopt MOLECULE 7614\n",
      "MEMRORY ALLOCATION ERROR WITH ylide_h_gas_preopt MOLECULE 7619\n"
     ]
    },
    {
     "name": "stderr",
     "output_type": "stream",
     "text": [
      " 76%|███████▋  | 7649/10000 [01:44<00:20, 116.85it/s]"
     ]
    },
    {
     "name": "stdout",
     "output_type": "stream",
     "text": [
      "MEMRORY ALLOCATION ERROR WITH ylide_h_gas_preopt MOLECULE 7621\n",
      "MEMRORY ALLOCATION ERROR WITH ylide_h_gas_preopt MOLECULE 7625\n",
      "MEMRORY ALLOCATION ERROR WITH ylide_h_gas_preopt MOLECULE 7640\n",
      "MEMRORY ALLOCATION ERROR WITH ylide_h_gas_preopt MOLECULE 7642\n",
      "MEMRORY ALLOCATION ERROR WITH ylide_h_gas_preopt MOLECULE 7646\n",
      "MEMRORY ALLOCATION ERROR WITH ylide_h_gas_preopt MOLECULE 7647\n",
      "MEMRORY ALLOCATION ERROR WITH ylide_h_gas_preopt MOLECULE 7648\n"
     ]
    },
    {
     "name": "stderr",
     "output_type": "stream",
     "text": [
      " 77%|███████▋  | 7663/10000 [01:44<00:21, 110.56it/s]"
     ]
    },
    {
     "name": "stdout",
     "output_type": "stream",
     "text": [
      "MEMRORY ALLOCATION ERROR WITH ylide_h_gas_preopt MOLECULE 7650\n",
      "MEMRORY ALLOCATION ERROR WITH ylide_h_gas_preopt MOLECULE 7651\n",
      "MEMRORY ALLOCATION ERROR WITH ylide_h_gas_preopt MOLECULE 7655\n",
      "MEMRORY ALLOCATION ERROR WITH ylide_h_gas_preopt MOLECULE 7656\n",
      "MEMRORY ALLOCATION ERROR WITH ylide_h_gas_preopt MOLECULE 7662\n",
      "MEMRORY ALLOCATION ERROR WITH ylide_h_gas_preopt MOLECULE 7663\n",
      "MEMRORY ALLOCATION ERROR WITH ylide_h_gas_preopt MOLECULE 7664\n"
     ]
    },
    {
     "name": "stderr",
     "output_type": "stream",
     "text": [
      " 77%|███████▋  | 7676/10000 [01:45<00:32, 72.48it/s] "
     ]
    },
    {
     "name": "stdout",
     "output_type": "stream",
     "text": [
      "MEMRORY ALLOCATION ERROR WITH ylide_h_gas_preopt MOLECULE 7665\n",
      "MEMRORY ALLOCATION ERROR WITH ylide_h_gas_preopt MOLECULE 7668\n",
      "MEMRORY ALLOCATION ERROR WITH ylide_h_gas_preopt MOLECULE 7670\n",
      "MEMRORY ALLOCATION ERROR WITH ylide_h_gas_preopt MOLECULE 7672\n",
      "MEMRORY ALLOCATION ERROR WITH ylide_h_gas_preopt MOLECULE 7674\n"
     ]
    },
    {
     "name": "stderr",
     "output_type": "stream",
     "text": [
      "100%|██████████| 10000/10000 [02:16<00:00, 73.29it/s]"
     ]
    },
    {
     "name": "stdout",
     "output_type": "stream",
     "text": [
      "\n"
     ]
    },
    {
     "name": "stderr",
     "output_type": "stream",
     "text": [
      "\n"
     ]
    }
   ],
   "source": [
    "trueChoices = ['true', 't','T']\n",
    "falseChoices = ['false', 'f','F']\n",
    "\n",
    "inp=input(\"Do you want to resubmit the memory allocation errors? (T/F)\").lower()\n",
    "\n",
    "assert inp in trueChoices or inp in falseChoices\n",
    "if inp in trueChoices:\n",
    "    resubmit=True\n",
    "elif inp in falseChoices:\n",
    "    resubmit=False\n",
    "\n",
    "orig_dir='/home/gridsan/groups/manthiram_lab/vHTP/Code/ylide/Library'\n",
    "\n",
    "#failed_dict={}\n",
    "#geom_failed_dict={}\n",
    "\n",
    "functional='M062X'\n",
    "basis= 'Def2SVPD'\n",
    "solvorgas='solv'\n",
    "solvmethod='SMD'\n",
    "solvent='acetonitrile'\n",
    "\n",
    "if solvorgas== 'gas':\n",
    "    ylide_type=[['ylide',''],['ylide_rad','_y_h_opt'],['ylide_h','']]\n",
    "elif solvorgas =='solv':\n",
    "    ylide_type=[['ylide','_gas_preopt'],['ylide_rad','_gas_preopt'],['ylide_h','_gas_preopt']]\n",
    "    ylide_type=[['ylide_h','_gas_preopt']]\n",
    "\n",
    "start=0\n",
    "stop=10000\n",
    "n=stop-start\n",
    "error_occurred=False\n",
    "\n",
    "for v,y_list in enumerate(ylide_type):\n",
    "    \n",
    "    y=y_list[0]\n",
    "    sub_suff=y_list[1]\n",
    "    \n",
    "    failed_dict[f'{y}{sub_suff}']=[]\n",
    "    geom_failed_dict[f'{y}{sub_suff}']=[]\n",
    "    \n",
    "    for i in tqdm(range(start,stop)):\n",
    "        n_str=str(i).zfill(7)\n",
    "        \n",
    "        \n",
    "        assert solvorgas == 'gas' or solvorgas=='solv','SOLVORGAS NOT SET TO A VALID VALUE'\n",
    "        \n",
    "        if solvorgas=='gas':\n",
    "            path=pathlib.Path(os.path.join(orig_dir, 'Calcs', str(i).zfill(7) , y, functional, basis,'gas', f'{str(i).zfill(7)}_{y}{sub_suff}.log'))\n",
    "            \n",
    "        elif solvorgas=='solv':\n",
    "            path=pathlib.Path(os.path.join(orig_dir, 'Calcs',str(i).zfill(7) , y, functional, basis,solvent,solvmethod, f'{str(i).zfill(7)}_{y}{sub_suff}.log'))\n",
    "        \n",
    "        par_path=path.parent.absolute()\n",
    "        \n",
    "        if exists(path):\n",
    "            \n",
    "            if check(path, 'Normal termination of Gaussian', count=2)==False:\n",
    "                error_occurred=True\n",
    "                \n",
    "                if check(str(path),'galloc:  could not allocate memory.'):\n",
    "                    \n",
    "                    #print(f'MEMRORY ALLOCATION ERROR WITH {y}{sub_suff} MOLECULE {i}')\n",
    "                    failed_dict[f'{y}{sub_suff}'].append(i)\n",
    "                    \n",
    "                    if resubmit:\n",
    "                        os.chdir(par_path)\n",
    "                        subprocess.run(f'sbatch {n_str}_{y}{sub_suff}.sh',shell=True)\n",
    "                        os.chdir(orig_dir)\n",
    "                                \n",
    "                elif check(str(path),'Converged',120):\n",
    "                    #print(f'GEOMETRY OPT ERROR WITH {y}{sub_suff} MOLECULE {i}')\n",
    "                    #failed_dict[f'{y}{sub_suff}'].append(i)\n",
    "                    geom_failed_dict[f'{y}{sub_suff}'].append(i)\n",
    "                    \n",
    "                else:\n",
    "                    #Try one more time to extract the data because there could still be some optimized geometry\n",
    "                    #steps that can be extracted\n",
    "                    #print(f'UNKNOWN ERROR, {y}{sub_suff} MOLECULE {i} CALCULATION DID NOT FINSIH')\n",
    "                    failed_dict[f'{y}{sub_suff}'].append(i)\n",
    "                    \n",
    "                    if resubmit:\n",
    "                        os.chdir(par_path)\n",
    "                        #subprocess.run(f'sbatch {n_str}_{y}{sub_suff}.sh',shell=True)\n",
    "                        os.chdir(orig_dir)\n",
    "        else:\n",
    "            #print(f'{y} MOLECULE {i}{sub_suff} HAS NOT BEEN SUBMITTED')\n",
    "            failed_dict[f'{y}{sub_suff}'].append(i)\n",
    "            \n",
    "            if resubmit:\n",
    "                os.chdir(par_path)\n",
    "                subprocess.run(f'sbatch {n_str}_{y}{sub_suff}.sh',shell=True)\n",
    "                os.chdir(orig_dir)\n",
    "                \n",
    "    if error_occurred==False:\n",
    "        print(f'NO ERRORS WITH {y}{sub_suff}')\n",
    "        \n",
    "        \n",
    "    error_occurred=False\n",
    "    print('')\n",
    "    \n"
   ]
  },
  {
   "cell_type": "code",
   "execution_count": 11,
   "metadata": {},
   "outputs": [
    {
     "data": {
      "text/plain": [
       "0"
      ]
     },
     "execution_count": 11,
     "metadata": {},
     "output_type": "execute_result"
    }
   ],
   "source": [
    "len(failed_dict['ylide_rad_y_h_opt'])"
   ]
  },
  {
   "cell_type": "code",
   "execution_count": 17,
   "metadata": {},
   "outputs": [
    {
     "data": {
      "text/plain": [
       "[118, 264]"
      ]
     },
     "execution_count": 17,
     "metadata": {},
     "output_type": "execute_result"
    }
   ],
   "source": [
    "geom_failed_dict['ylide_rad_y_h_opt']"
   ]
  },
  {
   "cell_type": "code",
   "execution_count": 18,
   "metadata": {},
   "outputs": [
    {
     "data": {
      "text/plain": [
       "[118, 262, 264, 266, 324, 480, 485]"
      ]
     },
     "execution_count": 18,
     "metadata": {},
     "output_type": "execute_result"
    }
   ],
   "source": [
    "failed_dict['ylide_rad_y_h_opt']"
   ]
  },
  {
   "cell_type": "code",
   "execution_count": 13,
   "metadata": {},
   "outputs": [],
   "source": [
    "with open(f\"/data1/groups/manthiram_lab/vHTP/Code/ylide/Library/python_scripts/dicts/failed_dict_{solvorgas}_{'0801'}.pkl\", \"wb\") as file: \n",
    "    pickle.dump(failed_dict, file)"
   ]
  },
  {
   "cell_type": "code",
   "execution_count": 9,
   "metadata": {},
   "outputs": [],
   "source": [
    "#os.chdir(cwd)\n",
    "with open(f\"/data1/groups/manthiram_lab/vHTP/Code/ylide/Library/python_scripts/dicts/failed_dict_{solvorgas}_{'0626'}.pkl\", \"wb\") as file: \n",
    "    pickle.dump(failed_dict, file)"
   ]
  },
  {
   "cell_type": "code",
   "execution_count": null,
   "metadata": {},
   "outputs": [],
   "source": [
    "with open(f\"../pickled_data/failed_dict_{solvorgas}.pkl\", \"wb\") as file: \n",
    "    pickle.dump(failed_dict, file)"
   ]
  },
  {
   "cell_type": "code",
   "execution_count": 22,
   "metadata": {},
   "outputs": [],
   "source": [
    "with open(f\"../pickled_data/geom_failed_dict_{solvorgas}.pkl\", \"wb\") as file: \n",
    "    pickle.dump(geom_failed_dict, file)"
   ]
  },
  {
   "cell_type": "code",
   "execution_count": 11,
   "metadata": {},
   "outputs": [
    {
     "name": "stdout",
     "output_type": "stream",
     "text": [
      "ylide_gas_preopt has 269 failures and a fail percentage of 2.69%\n",
      "ylide_h_gas_preopt has 8638 failures and a fail percentage of 86.38%\n"
     ]
    }
   ],
   "source": [
    "for key, value in failed_dict.items():\n",
    "    print(f'{key} has {len(value)} failures and a fail percentage of {len(value)/n*100}%')"
   ]
  },
  {
   "cell_type": "code",
   "execution_count": 12,
   "metadata": {},
   "outputs": [
    {
     "name": "stdout",
     "output_type": "stream",
     "text": [
      "ylide_gas_preopt has 122 failures and a fail percentage of 1.22%\n",
      "ylide_h_gas_preopt has 44 failures and a fail percentage of 0.44%\n"
     ]
    }
   ],
   "source": [
    "for key, value in geom_failed_dict.items():\n",
    "    print(f'{key} has {len(value)} failures and a fail percentage of {len(value)/n*100}%')"
   ]
  },
  {
   "cell_type": "markdown",
   "metadata": {},
   "source": [
    "# Extract Data"
   ]
  },
  {
   "cell_type": "code",
   "execution_count": 27,
   "metadata": {},
   "outputs": [
    {
     "name": "stderr",
     "output_type": "stream",
     "text": [
      "100%|██████████| 1/1 [00:00<00:00,  1.38it/s]\n",
      "100%|██████████| 1/1 [00:00<00:00, 1895.30it/s]\n",
      "100%|██████████| 1/1 [00:00<00:00,  3.94it/s]\n"
     ]
    }
   ],
   "source": [
    "functional='M062X'\n",
    "basis= 'Def2TZVP'\n",
    "solvorgas='gas'\n",
    "solvmethod='SMD'\n",
    "\n",
    "\n",
    "orig_dir='/home/gridsan/groups/manthiram_lab/vHTP/Code/ylide/Library'\n",
    "if solvorgas=='gas':\n",
    "    solvent='gas'\n",
    "    ylide_type=[['ylide',''],['ylide_rad','_y_h_opt'],['ylide_h','']]\n",
    "    #ylide_type=[['ylide_h','']]\n",
    "else:\n",
    "    solvent='acetonitrile'\n",
    "    ylide_type=[['ylide','_gas_preopt'],['ylide_rad','_gas_preopt'],['ylide_h','_gas_preopt'] ]\n",
    "\n",
    "start=1335\n",
    "stop=1336\n",
    "n=stop-start\n",
    "data=np.empty((n,10))\n",
    "atom_coords=[] #Dim1= Ylide Dim2=Ylide Rad Dim3= Ylide_H\n",
    "atom_labels=[] #Dim1= Ylide Dim2=Ylide Rad Dim3= Ylide_H\n",
    "wall_time=[] #Calculation time in seconds\n",
    "\n",
    "for v,y_list in enumerate(ylide_type):\n",
    "    \n",
    "    y=y_list[0]\n",
    "    sub_suff=y_list[1]\n",
    "    \n",
    "    temp_atom_coords=[]\n",
    "    temp_atom_labels=[]\n",
    "    temp_wall_time=[]\n",
    "    \n",
    "    for k,i in enumerate(tqdm(range(start,stop))):\n",
    "        n_str=str(i).zfill(7)\n",
    "\n",
    "        \n",
    "        \n",
    "        assert solvorgas == 'gas' or solvorgas=='solv','SOLVORGAS NOT SET TO A VALID VALUE'\n",
    "        \n",
    "        if solvorgas=='gas':\n",
    "            path=pathlib.Path(os.path.join(orig_dir, 'Calcs', str(i).zfill(7) , y, functional, basis,'gas', f'{str(i).zfill(7)}_{y}{sub_suff}.log'))\n",
    "            \n",
    "        elif solvorgas=='solv':\n",
    "            path=pathlib.Path(os.path.join(orig_dir, 'Calcs',str(i).zfill(7) , y, functional, basis,solvent,solvmethod, f'{str(i).zfill(7)}_{y}{sub_suff}.log'))\n",
    "        \n",
    "        \n",
    "        \n",
    "        if exists(path): #If calculation was run\n",
    "            \n",
    "            if check(path, 'Normal termination of Gaussian',count=2): #If calculation was run successfully\n",
    "                try:\n",
    "                    \n",
    "                    temp_data=cclib.io.ccread(str(path))\n",
    "\n",
    "                    meta_data=temp_data.metadata\n",
    "                    data[k,2*v]=temp_data.enthalpy\n",
    "                    data[k,2*v+1]=temp_data.freeenergy\n",
    "                    data[k,6]=checkvibs(temp_data.vibfreqs,asint=True)\n",
    "                    temp_atom_coords.append(temp_data.atomcoords[-1,:,:])\n",
    "                    temp_atom_labels.append([no_to_symbol(x) for x in temp_data.atomnos])\n",
    "                    temp_wall_time.append(sum(meta_data['wall_time'][i].seconds for i in range(len(meta_data['wall_time']))))\n",
    "                    \n",
    "                    continue\n",
    "                except Exception as e:\n",
    "                    exc_type, exc_obj, exc_tb = sys.exc_info()\n",
    "                    fname = os.path.split(exc_tb.tb_frame.f_code.co_filename)[1]\n",
    "                    print(e)       \n",
    "                    print(exc_type, fname, exc_tb.tb_lineno)\n",
    "\n",
    "                    data[k,2*v]= 1\n",
    "                    data[k,2*v+1]= 1\n",
    "                    data[k,6]=-1\n",
    "                    temp_atom_coords.append([])\n",
    "                    temp_atom_labels.append([])\n",
    "                    temp_wall_time.append(0)\n",
    "                    continue\n",
    "            else: #Run unseccessfully\n",
    "                \n",
    "                #Check if geometry did not optimize\n",
    "                if check(str(path),'Converged',120):\n",
    "                    \n",
    "                    temp_data=cclib.io.ccread(str(path))\n",
    "                    meta_data=temp_data.metadata\n",
    "                    data[k,2*v]=1\n",
    "                    data[k,2*v+1]=1\n",
    "                    data[k,6]=1\n",
    "                    temp_atom_coords.append(temp_data.atomcoords[-1,:,:])\n",
    "                    temp_atom_labels.append([no_to_symbol(x) for x in temp_data.atomnos])\n",
    "                    temp_wall_time.append(0)\n",
    "                    continue\n",
    "                \n",
    "                else:\n",
    "                    data[k,2*v]= 1\n",
    "                    data[k,2*v+1]= 1\n",
    "                    data[k,6]=-1\n",
    "                    temp_atom_coords.append([])\n",
    "                    temp_atom_labels.append([])\n",
    "                    temp_wall_time.append(0)\n",
    "                    continue\n",
    "        else:\n",
    "            data[k,2*v]= 1\n",
    "            data[k,2*v+1]= 1\n",
    "            data[k,6]=-1\n",
    "            temp_atom_coords.append([])\n",
    "            temp_atom_labels.append([])\n",
    "            temp_wall_time.append(0)\n",
    "            continue\n",
    "\n",
    "    atom_coords.append(temp_atom_coords)\n",
    "    atom_labels.append(temp_atom_labels)\n",
    "    wall_time.append(temp_wall_time)"
   ]
  },
  {
   "cell_type": "code",
   "execution_count": 28,
   "metadata": {},
   "outputs": [],
   "source": [
    "tmp=combine_labels_and_xyz(atom_labels[2][0],atom_coords[2][0])\n",
    "write_xyz_from_xyz_arr(tmp,'temp',include_total_atoms=True)\n"
   ]
  },
  {
   "cell_type": "markdown",
   "metadata": {},
   "source": [
    "# Get Atom Labels & Coords"
   ]
  },
  {
   "cell_type": "code",
   "execution_count": 96,
   "metadata": {},
   "outputs": [
    {
     "name": "stderr",
     "output_type": "stream",
     "text": [
      "100%|██████████| 2/2 [00:00<00:00, 1027.13it/s]\n",
      "100%|██████████| 2/2 [00:00<00:00, 1278.56it/s]\n",
      "100%|██████████| 2/2 [00:00<00:00, 1314.21it/s]\n"
     ]
    }
   ],
   "source": [
    "functional='M062X'\n",
    "basis= 'Def2TZVP'\n",
    "solvorgas='gas'\n",
    "solvmethod='SMD'\n",
    "\n",
    "orig_dir='/home/gridsan/groups/manthiram_lab/vHTP/Code/ylide/Library'\n",
    "if solvorgas=='gas':\n",
    "    solvent=='gas'\n",
    "    ylide_type=[['ylide',''],['ylide_rad','_y_h_opt'],['ylide_h','']]\n",
    "    #ylide_type=[['ylide_h','']]\n",
    "else:\n",
    "    solvent='acetonitrile'\n",
    "    ylide_type=[['ylide','_gas_preopt'],['ylide_rad','_gas_preopt'],['ylide_h','_gas_preopt'] ]\n",
    "\n",
    "start=0\n",
    "stop=2\n",
    "n=stop-start\n",
    "data=np.empty((n,10))\n",
    "atom_coords=[] #Dim1= Ylide Dim2=Ylide Rad Dim3= Ylide_H\n",
    "atom_labels=[] #Dim1= Ylide Dim2=Ylide Rad Dim3= Ylide_H\n",
    "wall_time=[] #Calculation time in seconds\n",
    "\n",
    "for v,y_list in enumerate(ylide_type):\n",
    "    \n",
    "    y=y_list[0]\n",
    "    sub_suff=y_list[1]\n",
    "    \n",
    "    temp_atom_coords=[]\n",
    "    temp_atom_labels=[]\n",
    "    temp_wall_time=[]\n",
    "    \n",
    "    for k,i in enumerate(tqdm(range(start,stop))):\n",
    "        n_str=str(i).zfill(7)\n",
    "\n",
    "        \n",
    "        \n",
    "        assert solvorgas == 'gas' or solvorgas=='solv','SOLVORGAS NOT SET TO A VALID VALUE'\n",
    "        \n",
    "        if solvorgas=='gas':\n",
    "            path=pathlib.Path(os.path.join(orig_dir, 'Calcs', str(i).zfill(7) , y, functional, basis,'gas', f'{str(i).zfill(7)}_{y}{sub_suff}.xyz'))\n",
    "            \n",
    "        elif solvorgas=='solv':\n",
    "            path=pathlib.Path(os.path.join(orig_dir, 'Calcs',str(i).zfill(7) , y, functional, basis,solvent,solvmethod, f'{str(i).zfill(7)}_{y}{sub_suff}.xyz'))\n",
    "        \n",
    "        \n",
    "        \n",
    "        if exists(path): #If calculation was run\n",
    "            \n",
    "            try:\n",
    "                temp_temp_atom_labels=[]\n",
    "                temp_temp_atom_coords=[]\n",
    "                \n",
    "                with open(path) as fp:\n",
    "                    Lines = fp.readlines()\n",
    "                    for line in Lines:\n",
    "                        l=line.strip().split()\n",
    "                        if len(l)>0:\n",
    "                            temp_temp_atom_labels.append(l[0])\n",
    "                            temp_temp_atom_coords.append(l[1:])\n",
    "                temp_atom_labels.append(temp_temp_atom_labels)\n",
    "                temp_atom_coords.append(np.array(temp_temp_atom_coords,dtype='float'))\n",
    "\n",
    "                #temp_data=cclib.io.ccread(str(path))\n",
    "\n",
    "#                     meta_data=temp_data.metadata\n",
    "#                     data[k,2*v]=temp_data.enthalpy\n",
    "#                     data[k,2*v+1]=temp_data.freeenergy\n",
    "#                     data[k,6]=checkvibs(temp_data.vibfreqs,asint=True)\n",
    "#                     temp_atom_coords.append(temp_data.atomcoords[-1,:,:])\n",
    "                #temp_atom_labels.append([no_to_symbol(x) for x in temp_data.atomnos])\n",
    "#                     temp_wall_time.append(sum(meta_data['wall_time'][i].seconds for i in range(len(meta_data['wall_time']))))\n",
    "                continue\n",
    "            except Exception as e:\n",
    "                exc_type, exc_obj, exc_tb = sys.exc_info()\n",
    "                fname = os.path.split(exc_tb.tb_frame.f_code.co_filename)[1]\n",
    "                print(e)       \n",
    "                print(exc_type, fname, exc_tb.tb_lineno)\n",
    "\n",
    "                data[k,2*v]= 1\n",
    "                data[k,2*v+1]= 1\n",
    "                data[k,6]=-1\n",
    "                temp_atom_coords.append([])\n",
    "                temp_atom_labels.append([])\n",
    "                temp_wall_time.append(0)\n",
    "                continue\n",
    "\n",
    "        else:\n",
    "            data[k,2*v]= 1\n",
    "            data[k,2*v+1]= 1\n",
    "            data[k,6]=-1\n",
    "            temp_atom_coords.append([])\n",
    "            temp_atom_labels.append([])\n",
    "            temp_wall_time.append(0)\n",
    "            continue\n",
    "\n",
    "    atom_coords.append(temp_atom_coords)\n",
    "    atom_labels.append(temp_atom_labels)\n",
    "#     wall_time.append(temp_wall_time)"
   ]
  },
  {
   "cell_type": "code",
   "execution_count": 97,
   "metadata": {
    "collapsed": true,
    "jupyter": {
     "outputs_hidden": true
    }
   },
   "outputs": [
    {
     "data": {
      "text/plain": [
       "[array([[ 2.939539, -0.135209,  0.747927],\n",
       "        [ 1.63468 , -0.036508, -0.004242],\n",
       "        [ 1.61755 ,  0.053363, -1.22989 ],\n",
       "        [ 0.603924, -0.064416,  0.854854],\n",
       "        [-0.83583 ,  0.02553 ,  0.285024],\n",
       "        [-1.038649, -1.167609, -0.613622],\n",
       "        [-0.954057,  1.34706 , -0.43042 ],\n",
       "        [-1.704374, -0.034578,  1.511128],\n",
       "        [ 2.992552, -1.077977,  1.301215],\n",
       "        [ 3.769893, -0.111218,  0.034963],\n",
       "        [ 3.052782,  0.711862,  1.431589],\n",
       "        [-2.102653, -1.209357, -0.868551],\n",
       "        [-0.754258, -2.078542, -0.076667],\n",
       "        [-0.464144, -1.057745, -1.536077],\n",
       "        [-0.612027,  2.149589,  0.231366],\n",
       "        [-0.383695,  1.333745, -1.361849],\n",
       "        [-2.011635,  1.496307, -0.671436],\n",
       "        [-1.530584, -0.98244 ,  2.031974],\n",
       "        [-2.748865,  0.024012,  1.189201],\n",
       "        [-1.470148,  0.814132,  2.16286 ]]),\n",
       " array([[-0.52282 ,  0.227167,  1.499165],\n",
       "        [-0.502109, -0.138309,  0.035565],\n",
       "        [-1.287269, -1.394155, -0.244137],\n",
       "        [-0.90237 ,  0.993851, -0.877743],\n",
       "        [ 0.969373, -0.538844, -0.3286  ],\n",
       "        [ 1.947614,  0.373112, -0.190648],\n",
       "        [ 1.858974,  1.53446 ,  0.198112],\n",
       "        [ 3.258893, -0.145782, -0.567412],\n",
       "        [ 4.297148, -0.574889, -0.871618],\n",
       "        [-0.057622, -0.576963,  2.078423],\n",
       "        [-0.009757,  1.177586,  1.662068],\n",
       "        [-1.570806,  0.3372  ,  1.795906],\n",
       "        [-2.337906, -1.19418 , -0.011871],\n",
       "        [-1.184054, -1.655428, -1.302726],\n",
       "        [-0.913244, -2.202467,  0.39325 ],\n",
       "        [-1.976906,  1.157517, -0.747272],\n",
       "        [-0.371851,  1.909013, -0.605536],\n",
       "        [-0.695289,  0.711112, -1.914926]])]"
      ]
     },
     "execution_count": 97,
     "metadata": {},
     "output_type": "execute_result"
    }
   ],
   "source": [
    "atom_coords[0]"
   ]
  },
  {
   "cell_type": "code",
   "execution_count": 70,
   "metadata": {},
   "outputs": [],
   "source": [
    "with open(f\"../pickled_data/atom_labels.pkl\",\"wb\") as file:\n",
    "    pickle.dump(atom_labels, file)"
   ]
  },
  {
   "cell_type": "code",
   "execution_count": 19,
   "metadata": {},
   "outputs": [
    {
     "data": {
      "text/plain": [
       "1876.582"
      ]
     },
     "execution_count": 19,
     "metadata": {},
     "output_type": "execute_result"
    }
   ],
   "source": [
    "np.mean(wall_time[2][:])"
   ]
  },
  {
   "cell_type": "markdown",
   "metadata": {},
   "source": [
    "#### Wall Times For Different Triples Conditons"
   ]
  },
  {
   "cell_type": "markdown",
   "metadata": {},
   "source": [
    "[5,1,1] wall_time: [1816, 2098, 2524, 2864, 1405, 1256, 1628, 1559, 1741, 1783] <br>\n",
    "[10,1,2] wall_time: [[1800, 0, 0, 0, 1398, 1248, 1618, 1560, 1732, 1787]] <br>\n",
    "[5,2,1] wall_time: [3784, 0, 5337, 0, 0, 2829, 0, 3480, 3763, 0] <br>\n",
    "\n",
    "There seems to be no effect from number of threads, it seems that we still have an effect from RAM and it scales pretty linearly so I will use 1 node per calculation"
   ]
  },
  {
   "cell_type": "code",
   "execution_count": 20,
   "metadata": {},
   "outputs": [
    {
     "name": "stderr",
     "output_type": "stream",
     "text": [
      "100%|██████████| 1000/1000 [00:00<00:00, 551519.26it/s]\n",
      "100%|██████████| 1000/1000 [00:00<00:00, 674759.33it/s]\n",
      "100%|██████████| 1000/1000 [00:00<00:00, 703270.29it/s]"
     ]
    },
    {
     "name": "stdout",
     "output_type": "stream",
     "text": [
      "CALCULATING REDOX POTENTIALS\n",
      "CALCULATING DPFE\n",
      "CALCULATING GHBind \n"
     ]
    },
    {
     "name": "stderr",
     "output_type": "stream",
     "text": [
      "\n"
     ]
    }
   ],
   "source": [
    "print('CALCULATING REDOX POTENTIALS')    \n",
    "for i, v in enumerate(tqdm(range(np.shape(data)[0]))):\n",
    "    data[i,7]=calcE(data[i,3],data[i,1])\n",
    "    \n",
    "    \n",
    "print('CALCULATING DPFE')\n",
    "for i, v in enumerate(tqdm(range(np.shape(data)[0]))):\n",
    "    data[i,8]=calcDPFE(data[i,5],data[i,1],solvent=solvent)\n",
    "\n",
    "print('CALCULATING GHBind ')\n",
    "for i, v in enumerate(tqdm(range(np.shape(data)[0]))):\n",
    "    data[i,9]=calcGHBind(data[i,5],data[i,3],solvent='gas')\n",
    "    "
   ]
  },
  {
   "cell_type": "code",
   "execution_count": 12,
   "metadata": {},
   "outputs": [
    {
     "name": "stdout",
     "output_type": "stream",
     "text": [
      "/home/gridsan/groups/manthiram_lab/vHTP/Code/ylide/Library\n"
     ]
    }
   ],
   "source": [
    "!pwd"
   ]
  },
  {
   "cell_type": "code",
   "execution_count": 21,
   "metadata": {},
   "outputs": [],
   "source": [
    "#Save Extracted data\n",
    "cwd='/home/gridsan/jmaalouf/vHTP/Code/ylide/Library'\n",
    "os.chdir(cwd)\n",
    "\n",
    "with open(f\"../pickled_data/atom_labels.pkl\",\"wb\") as file:\n",
    "    pickle.dump(atom_labels, file)\n",
    "\n",
    "with open(f\"pickled_data/wall_time_{solvorgas}.pkl\", \"wb\") as file: \n",
    "    pickle.dump(wall_time, file)\n",
    "\n",
    "with open(f\"pickled_data/atom_coords_{solvorgas}.pkl\", \"wb\") as file: \n",
    "    pickle.dump(atom_coords, file)\n",
    "\n",
    "\n",
    "np.save(f'pickled_data/data_{solvorgas}.npy', data)\n"
   ]
  },
  {
   "cell_type": "code",
   "execution_count": 58,
   "metadata": {},
   "outputs": [],
   "source": [
    "df=pd.DataFrame(data, columns=['ylide_enthalpy','ylide_freeenergy','ylide_rad_enthalpy','ylide_rad_freeenergy','ylide_h_enthalpy','ylide_h_freeenergy','Vibs All Positivse','Redox Potential (V vs SHE)','Deprotonation Free Energy (kJ/mol)'])"
   ]
  },
  {
   "cell_type": "code",
   "execution_count": 43,
   "metadata": {},
   "outputs": [],
   "source": [
    "#df.to_csv('ylide_calcs_6-311++G**.csv')"
   ]
  }
 ],
 "metadata": {
  "kernelspec": {
   "display_name": "ml",
   "language": "python",
   "name": "ml"
  },
  "language_info": {
   "codemirror_mode": {
    "name": "ipython",
    "version": 3
   },
   "file_extension": ".py",
   "mimetype": "text/x-python",
   "name": "python",
   "nbconvert_exporter": "python",
   "pygments_lexer": "ipython3",
   "version": "3.8.5"
  },
  "latex_envs": {
   "LaTeX_envs_menu_present": true,
   "autoclose": false,
   "autocomplete": true,
   "bibliofile": "biblio.bib",
   "cite_by": "apalike",
   "current_citInitial": 1,
   "eqLabelWithNumbers": true,
   "eqNumInitial": 1,
   "hotkeys": {
    "equation": "Ctrl-E",
    "itemize": "Ctrl-I"
   },
   "labels_anchors": false,
   "latex_user_defs": false,
   "report_style_numbering": false,
   "user_envs_cfg": false
  },
  "toc": {
   "base_numbering": 1,
   "nav_menu": {},
   "number_sections": true,
   "sideBar": true,
   "skip_h1_title": false,
   "title_cell": "Table of Contents",
   "title_sidebar": "Contents",
   "toc_cell": false,
   "toc_position": {},
   "toc_section_display": true,
   "toc_window_display": false
  },
  "varInspector": {
   "cols": {
    "lenName": 16,
    "lenType": 16,
    "lenVar": 40
   },
   "kernels_config": {
    "python": {
     "delete_cmd_postfix": "",
     "delete_cmd_prefix": "del ",
     "library": "var_list.py",
     "varRefreshCmd": "print(var_dic_list())"
    },
    "r": {
     "delete_cmd_postfix": ") ",
     "delete_cmd_prefix": "rm(",
     "library": "var_list.r",
     "varRefreshCmd": "cat(var_dic_list()) "
    }
   },
   "types_to_exclude": [
    "module",
    "function",
    "builtin_function_or_method",
    "instance",
    "_Feature"
   ],
   "window_display": false
  }
 },
 "nbformat": 4,
 "nbformat_minor": 4
}

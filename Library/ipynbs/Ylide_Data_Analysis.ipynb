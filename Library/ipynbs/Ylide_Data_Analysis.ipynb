{
 "cells": [
  {
   "cell_type": "code",
   "execution_count": 27,
   "metadata": {},
   "outputs": [],
   "source": [
    "import sys\n",
    "import os\n",
    "from os.path import exists\n",
    "import numpy as np\n",
    "import pandas as pd\n",
    "import pickle as pkl\n",
    "import matplotlib.pyplot as plt\n",
    "from energy_functions import calcE, calcDPFE, calcGHBind\n",
    "sys.path.insert(1,'/data1/gridsan/groups/manthiram_lab/Utils')\n",
    "sys.path.insert(1,'/data1/gridsan/groups/manthiram_lab/QMkit')\n",
    "from dft_utils import checkvibs, check, no_to_symbol\n",
    "from gen_3D import get_xyz_from_xyz_arr,combine_labels_and_xyz\n",
    "\n",
    "import cclib\n",
    "import plot as pl\n",
    "import pathlib\n",
    "from tqdm import tqdm\n",
    "from datetime import datetime, timedelta\n",
    "from rdkit import Chem"
   ]
  },
  {
   "cell_type": "code",
   "execution_count": 2,
   "metadata": {},
   "outputs": [],
   "source": [
    "#Define Current directory\n",
    "cwd= '/home/gridsan/jmaalouf/vHTP/Code/ylide/Library'"
   ]
  },
  {
   "cell_type": "markdown",
   "metadata": {},
   "source": [
    "# Load Data"
   ]
  },
  {
   "cell_type": "code",
   "execution_count": 3,
   "metadata": {},
   "outputs": [],
   "source": [
    "df=pd.read_csv('../sheets/Ylides_YlideRads_Cleaned.csv')\n",
    "y=df['Ylides'].to_list()\n",
    "yr=df['Ylides Rad'].to_list()\n",
    "yh=df['Ylides H'].to_list()"
   ]
  },
  {
   "cell_type": "markdown",
   "metadata": {},
   "source": [
    "## Get Num Atoms"
   ]
  },
  {
   "cell_type": "code",
   "execution_count": 4,
   "metadata": {},
   "outputs": [
    {
     "name": "stderr",
     "output_type": "stream",
     "text": [
      "100%|██████████| 19097/19097 [00:01<00:00, 10149.81it/s]\n"
     ]
    }
   ],
   "source": [
    "num_atoms=[]\n",
    "num_atoms_total=[]\n",
    "for i, s in enumerate(tqdm(y)):\n",
    "    mol=Chem.MolFromSmiles(s)\n",
    "    num_atoms.append(mol.GetNumAtoms())\n",
    "    mol=Chem.AddHs(mol)\n",
    "    num_atoms_total.append(mol.GetNumAtoms())"
   ]
  },
  {
   "cell_type": "code",
   "execution_count": 8,
   "metadata": {},
   "outputs": [],
   "source": [
    "with open(f\"../pickled_data/num_atoms.pkl\", \"wb\") as file: \n",
    "    pickle.dump(num_atoms, file)\n",
    "    \n",
    "with open(f\"../pickled_data/num_atoms_total.pkl\", \"wb\") as file: \n",
    "    pickle.dump(num_atoms_total, file)"
   ]
  },
  {
   "cell_type": "markdown",
   "metadata": {},
   "source": [
    "# Check for Failed Calcs"
   ]
  },
  {
   "cell_type": "code",
   "execution_count": 17,
   "metadata": {
    "collapsed": true,
    "jupyter": {
     "outputs_hidden": true
    },
    "scrolled": true
   },
   "outputs": [
    {
     "name": "stdin",
     "output_type": "stream",
     "text": [
      "Do you want to resubmit the memory allocation errors? (T/F) f\n"
     ]
    },
    {
     "name": "stderr",
     "output_type": "stream",
     "text": [
      "100%|██████████| 13/13 [00:00<00:00, 25.36it/s]\n",
      "  9%|▊         | 7/82 [00:00<00:01, 65.96it/s]"
     ]
    },
    {
     "name": "stdout",
     "output_type": "stream",
     "text": [
      "\n"
     ]
    },
    {
     "name": "stderr",
     "output_type": "stream",
     "text": [
      "100%|██████████| 82/82 [00:05<00:00, 16.09it/s]\n",
      "  8%|▊         | 2/25 [00:00<00:01, 18.77it/s]"
     ]
    },
    {
     "name": "stdout",
     "output_type": "stream",
     "text": [
      "\n"
     ]
    },
    {
     "name": "stderr",
     "output_type": "stream",
     "text": [
      "100%|██████████| 25/25 [00:01<00:00, 14.68it/s]"
     ]
    },
    {
     "name": "stdout",
     "output_type": "stream",
     "text": [
      "\n"
     ]
    },
    {
     "name": "stderr",
     "output_type": "stream",
     "text": [
      "\n"
     ]
    }
   ],
   "source": [
    "trueChoices = ['true', 't','T']\n",
    "falseChoices = ['false', 'f','F']\n",
    "\n",
    "inp=input(\"Do you want to resubmit the memory allocation errors? (T/F)\").lower()\n",
    "\n",
    "assert inp in trueChoices or inp in falseChoices\n",
    "if inp in trueChoices:\n",
    "    resubmit=True\n",
    "elif inp in falseChoices:\n",
    "    resubmit=False\n",
    "\n",
    "orig_dir='/home/gridsan/groups/manthiram_lab/vHTP/Code/ylide/Library'\n",
    "\n",
    "failed_dict={}\n",
    "geom_failed_dict={}\n",
    "\n",
    "functional='M062X'\n",
    "basis= 'Def2SVPD'\n",
    "solvorgas='solv'\n",
    "solvmethod='SMD'\n",
    "solvent='acetonitrile'\n",
    "\n",
    "if solvorgas== 'gas':\n",
    "    ylide_type=[['ylide',''],['ylide_rad','_y_h_opt'],['ylide_h','']]\n",
    "elif solvorgas =='solv':\n",
    "    ylide_type=[['ylide','_gas_preopt'],['ylide_rad','_gas_preopt'],['ylide_h','_gas_preopt']]\n",
    "    #ylide_type=[['ylide','_gas_preopt'],['ylide_h','_gas_preopt']]\n",
    "\n",
    "start=0\n",
    "stop=10000\n",
    "n=stop-start\n",
    "error_occurred=Falsez\n",
    "\n",
    "for v,y_list in enumerate(ylide_type):\n",
    "    \n",
    "    y=y_list[0]\n",
    "    sub_suff=y_list[1]\n",
    "    \n",
    "    failed_dict[f'{y}{sub_suff}']=[]\n",
    "    geom_failed_dict[f'{y}{sub_suff}']=[]\n",
    "    \n",
    "    for i in tqdm(range(start,stop)):\n",
    "    #for i in tqdm(failed_dict_08_23[f'{y}{sub_suff}']):\n",
    "        n_str=str(i).zfill(7)\n",
    "        \n",
    "        \n",
    "        assert solvorgas == 'gas' or solvorgas=='solv','SOLVORGAS NOT SET TO A VALID VALUE'\n",
    "        \n",
    "        if solvorgas=='gas':\n",
    "            path=pathlib.Path(os.path.join(orig_dir, 'Calcs', str(i).zfill(7) , y, functional, basis,'gas', f'{str(i).zfill(7)}_{y}{sub_suff}.log'))\n",
    "            \n",
    "        elif solvorgas=='solv':\n",
    "            path=pathlib.Path(os.path.join(orig_dir, 'Calcs',str(i).zfill(7) , y, functional, basis,solvent,solvmethod, f'{str(i).zfill(7)}_{y}{sub_suff}.log'))\n",
    "        \n",
    "        par_path=path.parent.absolute()\n",
    "        \n",
    "        if exists(path):\n",
    "            \n",
    "            if check(path, 'Normal termination of Gaussian', count=2)==False:\n",
    "                error_occurred=True\n",
    "                \n",
    "                if check(str(path),'galloc:  could not allocate memory.'):\n",
    "                    \n",
    "                    #print(f'MEMRORY ALLOCATION ERROR WITH {y}{sub_suff} MOLECULE {i}')\n",
    "                    failed_dict[f'{y}{sub_suff}'].append(i)\n",
    "                    \n",
    "                    if resubmit:\n",
    "                        os.chdir(par_path)\n",
    "                        subprocess.run(f'sbatch {n_str}_{y}{sub_suff}.sh',shell=True)\n",
    "                        os.chdir(orig_dir)\n",
    "                                \n",
    "                elif check(str(path),'Converged',120):\n",
    "                    #print(f'GEOMETRY OPT ERROR WITH {y}{sub_suff} MOLECULE {i}')\n",
    "                    #failed_dict[f'{y}{sub_suff}'].append(i)\n",
    "                    geom_failed_dict[f'{y}{sub_suff}'].append(i)\n",
    "                    \n",
    "                else:\n",
    "                    #Try one more time to extract the data because there could still be some optimized geometry\n",
    "                    #steps that can be extracted\n",
    "                    #print(f'UNKNOWN ERROR, {y}{sub_suff} MOLECULE {i} CALCULATION DID NOT FINSIH')\n",
    "                    failed_dict[f'{y}{sub_suff}'].append(i)\n",
    "                    \n",
    "                    if resubmit:\n",
    "                        os.chdir(par_path)\n",
    "                        #subprocess.run(f'sbatch {n_str}_{y}{sub_suff}.sh',shell=True)\n",
    "                        os.chdir(orig_dir)\n",
    "        else:\n",
    "            #print(f'{y} MOLECULE {i}{sub_suff} HAS NOT BEEN SUBMITTED')\n",
    "            failed_dict[f'{y}{sub_suff}'].append(i)\n",
    "            \n",
    "            if resubmit:\n",
    "                os.chdir(par_path)\n",
    "                subprocess.run(f'sbatch {n_str}_{y}{sub_suff}.sh',shell=True)\n",
    "                os.chdir(orig_dir)\n",
    "                \n",
    "    if error_occurred==False:\n",
    "        print(f'NO ERRORS WITH {y}{sub_suff}')\n",
    "        \n",
    "        \n",
    "    error_occurred=False\n",
    "    print('')\n",
    "    \n"
   ]
  },
  {
   "cell_type": "markdown",
   "metadata": {},
   "source": [
    "### Save Dictionaries"
   ]
  },
  {
   "cell_type": "code",
   "execution_count": 14,
   "metadata": {},
   "outputs": [],
   "source": [
    "with open(f\"/data1/groups/manthiram_lab/vHTP/Code/ylide/Library/python_scripts/dicts/failed_dict_{solvorgas}_{'0823'}.pkl\", \"wb\") as file: \n",
    "    pkl.dump(failed_dict, file)"
   ]
  },
  {
   "cell_type": "code",
   "execution_count": 15,
   "metadata": {},
   "outputs": [],
   "source": [
    "with open(f\"/data1/groups/manthiram_lab/vHTP/Code/ylide/Library/python_scripts/dicts/failed_dict_{solvorgas}_{'0823'}.pkl\",\"rb\") as file:\n",
    "    pickle_off = pkl.Unpickler(file)\n",
    "    failed_dict_08_23= pickle_off.load()"
   ]
  },
  {
   "cell_type": "code",
   "execution_count": null,
   "metadata": {},
   "outputs": [],
   "source": [
    "with open(f\"../pickled_data/failed_dict_{solvorgas}.pkl\", \"wb\") as file: \n",
    "    pickle.dump(failed_dict, file)"
   ]
  },
  {
   "cell_type": "code",
   "execution_count": 22,
   "metadata": {},
   "outputs": [],
   "source": [
    "with open(f\"../pickled_data/geom_failed_dict_{solvorgas}.pkl\", \"wb\") as file: \n",
    "    pickle.dump(geom_failed_dict, file)"
   ]
  },
  {
   "cell_type": "markdown",
   "metadata": {},
   "source": [
    "#### Visualize contents of dictionaries"
   ]
  },
  {
   "cell_type": "code",
   "execution_count": 18,
   "metadata": {},
   "outputs": [
    {
     "name": "stdout",
     "output_type": "stream",
     "text": [
      "ylide_gas_preopt has 13 failures and a fail percentage of 0.13%\n",
      "ylide_rad_gas_preopt has 82 failures and a fail percentage of 0.8200000000000001%\n",
      "ylide_h_gas_preopt has 25 failures and a fail percentage of 0.25%\n"
     ]
    }
   ],
   "source": [
    "for key, value in failed_dict.items():\n",
    "    print(f'{key} has {len(value)} failures and a fail percentage of {len(value)/n*100}%')"
   ]
  },
  {
   "cell_type": "code",
   "execution_count": 19,
   "metadata": {},
   "outputs": [
    {
     "name": "stdout",
     "output_type": "stream",
     "text": [
      "ylide_gas_preopt has 0 failures and a fail percentage of 0.0%\n",
      "ylide_rad_gas_preopt has 0 failures and a fail percentage of 0.0%\n",
      "ylide_h_gas_preopt has 0 failures and a fail percentage of 0.0%\n"
     ]
    }
   ],
   "source": [
    "for key, value in geom_failed_dict.items():\n",
    "    print(f'{key} has {len(value)} failures and a fail percentage of {len(value)/n*100}%')"
   ]
  },
  {
   "cell_type": "markdown",
   "metadata": {},
   "source": [
    "#### Wall Times For Different Triples Conditons"
   ]
  },
  {
   "cell_type": "markdown",
   "metadata": {},
   "source": [
    "[5,1,1] wall_time: [1816, 2098, 2524, 2864, 1405, 1256, 1628, 1559, 1741, 1783] <br>\n",
    "[10,1,2] wall_time: [[1800, 0, 0, 0, 1398, 1248, 1618, 1560, 1732, 1787]] <br>\n",
    "[5,2,1] wall_time: [3784, 0, 5337, 0, 0, 2829, 0, 3480, 3763, 0] <br>\n",
    "\n",
    "There seems to be no effect from number of threads, it seems that we still have an effect from RAM and it scales pretty linearly so I will use 1 node per calculation"
   ]
  },
  {
   "cell_type": "code",
   "execution_count": 20,
   "metadata": {},
   "outputs": [
    {
     "name": "stderr",
     "output_type": "stream",
     "text": [
      "100%|██████████| 1000/1000 [00:00<00:00, 551519.26it/s]\n",
      "100%|██████████| 1000/1000 [00:00<00:00, 674759.33it/s]\n",
      "100%|██████████| 1000/1000 [00:00<00:00, 703270.29it/s]"
     ]
    },
    {
     "name": "stdout",
     "output_type": "stream",
     "text": [
      "CALCULATING REDOX POTENTIALS\n",
      "CALCULATING DPFE\n",
      "CALCULATING GHBind \n"
     ]
    },
    {
     "name": "stderr",
     "output_type": "stream",
     "text": [
      "\n"
     ]
    }
   ],
   "source": [
    "print('CALCULATING REDOX POTENTIALS')    \n",
    "for i, v in enumerate(tqdm(range(np.shape(data)[0]))):\n",
    "    data[i,7]=calcE(data[i,3],data[i,1])\n",
    "    \n",
    "    \n",
    "print('CALCULATING DPFE')\n",
    "for i, v in enumerate(tqdm(range(np.shape(data)[0]))):\n",
    "    data[i,8]=calcDPFE(data[i,5],data[i,1],solvent=solvent)\n",
    "\n",
    "print('CALCULATING GHBind ')\n",
    "for i, v in enumerate(tqdm(range(np.shape(data)[0]))):\n",
    "    data[i,9]=calcGHBind(data[i,5],data[i,3],solvent='gas')\n",
    "    "
   ]
  }
 ],
 "metadata": {
  "kernelspec": {
   "display_name": "ml",
   "language": "python",
   "name": "ml"
  },
  "language_info": {
   "codemirror_mode": {
    "name": "ipython",
    "version": 3
   },
   "file_extension": ".py",
   "mimetype": "text/x-python",
   "name": "python",
   "nbconvert_exporter": "python",
   "pygments_lexer": "ipython3",
   "version": "3.8.5"
  },
  "latex_envs": {
   "LaTeX_envs_menu_present": true,
   "autoclose": false,
   "autocomplete": true,
   "bibliofile": "biblio.bib",
   "cite_by": "apalike",
   "current_citInitial": 1,
   "eqLabelWithNumbers": true,
   "eqNumInitial": 1,
   "hotkeys": {
    "equation": "Ctrl-E",
    "itemize": "Ctrl-I"
   },
   "labels_anchors": false,
   "latex_user_defs": false,
   "report_style_numbering": false,
   "user_envs_cfg": false
  },
  "toc": {
   "base_numbering": 1,
   "nav_menu": {},
   "number_sections": true,
   "sideBar": true,
   "skip_h1_title": false,
   "title_cell": "Table of Contents",
   "title_sidebar": "Contents",
   "toc_cell": false,
   "toc_position": {},
   "toc_section_display": true,
   "toc_window_display": false
  },
  "varInspector": {
   "cols": {
    "lenName": 16,
    "lenType": 16,
    "lenVar": 40
   },
   "kernels_config": {
    "python": {
     "delete_cmd_postfix": "",
     "delete_cmd_prefix": "del ",
     "library": "var_list.py",
     "varRefreshCmd": "print(var_dic_list())"
    },
    "r": {
     "delete_cmd_postfix": ") ",
     "delete_cmd_prefix": "rm(",
     "library": "var_list.r",
     "varRefreshCmd": "cat(var_dic_list()) "
    }
   },
   "types_to_exclude": [
    "module",
    "function",
    "builtin_function_or_method",
    "instance",
    "_Feature"
   ],
   "window_display": false
  }
 },
 "nbformat": 4,
 "nbformat_minor": 4
}

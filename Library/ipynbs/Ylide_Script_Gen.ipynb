{
 "cells": [
  {
   "cell_type": "code",
   "execution_count": 4,
   "metadata": {},
   "outputs": [],
   "source": [
    "import sys\n",
    "import os\n",
    "import numpy as np\n",
    "import pandas as pd\n",
    "import pickle\n",
    "from tqdm import tqdm\n",
    "sys.path.insert(1,'/data1/gridsan/groups/manthiram_lab/Utils')\n",
    "sys.path.insert(1,'/data1/gridsan/groups/manthiram_lab/DFT_script_gen')\n",
    "\n",
    "from utils import make_xyz_from_array, GetCoordsFromMolBlock,mol_with_atom_index\n",
    "from dft_script_gen import gaussian,gen_gauss_sub_script\n",
    "from convertxyz import mk_smi_file, mk_xyz_from_smiles_string, get_xyz_from_mol, write_xyz_from_xyz_arr\n",
    "import xyz2mol as x2m\n",
    "\n",
    "from rdkit import Chem\n",
    "from rdkit.Chem import AllChem, Draw\n",
    "from rdkit.Chem.rdchem import Mol\n",
    "from rdkit.Chem.Draw import rdMolDraw2D,MolToImage,ShowMol,MolsToGridImage\n"
   ]
  },
  {
   "cell_type": "code",
   "execution_count": 5,
   "metadata": {},
   "outputs": [],
   "source": [
    "df=pd.read_csv('../sheets/Ylides_YlideRads_Cleaned.csv')\n",
    "y=df['Ylides'].to_list()\n",
    "yr=df['Ylides Rad'].to_list()\n",
    "yh=df['Ylides H'].to_list()"
   ]
  },
  {
   "cell_type": "code",
   "execution_count": 6,
   "metadata": {},
   "outputs": [
    {
     "name": "stderr",
     "output_type": "stream",
     "text": [
      "100%|██████████| 19097/19097 [00:01<00:00, 13513.68it/s]\n",
      "100%|██████████| 19097/19097 [00:01<00:00, 15548.35it/s]\n",
      "100%|██████████| 19097/19097 [00:01<00:00, 15860.34it/s]\n"
     ]
    }
   ],
   "source": [
    "#Get Charges on each of the ylides, ylide_rads, and ylide_h\n",
    "charges=[]\n",
    "suffix= ['','_rad','_h']\n",
    "smi_dict={''    :y,\n",
    "  '_rad' : yr,\n",
    "  '_h'   : yh\n",
    " }\n",
    "for i, suff in enumerate(suffix):\n",
    "    charges.append([])\n",
    "    for j,v in enumerate(tqdm(smi_dict[suff])):\n",
    "        mol=Chem.MolFromSmiles(v)\n",
    "        charges[i].append(Chem.rdmolops.GetFormalCharge(mol))"
   ]
  },
  {
   "cell_type": "code",
   "execution_count": 7,
   "metadata": {},
   "outputs": [],
   "source": [
    "with open(\"../pickled_data/charges.pkl\", \"wb\") as file:\n",
    "    pickle.dump(charges, file)"
   ]
  },
  {
   "cell_type": "code",
   "execution_count": 4,
   "metadata": {},
   "outputs": [],
   "source": [
    "with open('../../../../../manthiram_lab_shared/vHTP/Code/ylide/Library/python_scripts/dicts/failed_dict_gas_0629.pkl',\"rb\") as file: #This may have been overwritten in the data_analysis code\n",
    "    pickle_off = pickle.Unpickler(file)\n",
    "    y_failed = pickle_off.load()"
   ]
  },
  {
   "cell_type": "markdown",
   "metadata": {},
   "source": [
    "# Make Gas Phase Scripts"
   ]
  },
  {
   "cell_type": "markdown",
   "metadata": {},
   "source": [
    "## First make scripts for ylide and ylide_h"
   ]
  },
  {
   "cell_type": "code",
   "execution_count": 68,
   "metadata": {},
   "outputs": [
    {
     "name": "stderr",
     "output_type": "stream",
     "text": [
      "  0%|          | 0/78 [00:00<?, ?it/s]"
     ]
    },
    {
     "name": "stdout",
     "output_type": "stream",
     "text": [
      "CHIRAL STEROCHEMISTRY REMOVED, SMILES=C[N+](C)(C)[NH]C(=O)C[CH]1C[CH]2C=C[CH]1C2\n"
     ]
    },
    {
     "name": "stderr",
     "output_type": "stream",
     "text": [
      "  4%|▍         | 3/78 [00:11<05:09,  4.13s/it]"
     ]
    },
    {
     "name": "stdout",
     "output_type": "stream",
     "text": [
      "CHIRAL STEROCHEMISTRY REMOVED, SMILES=C[N+](C)(C)[NH]C(=O)CC1[CH]2C=C[CH]1C(=O)C2\n"
     ]
    },
    {
     "name": "stderr",
     "output_type": "stream",
     "text": [
      "  5%|▌         | 4/78 [00:16<05:17,  4.29s/it]"
     ]
    },
    {
     "name": "stdout",
     "output_type": "stream",
     "text": [
      "CHIRAL STEROCHEMISTRY REMOVED, SMILES=C[N+](C)(C)[NH]C(=O)CC[CH]1C[CH]2C=C[CH]1C2\n"
     ]
    },
    {
     "name": "stderr",
     "output_type": "stream",
     "text": [
      " 21%|██        | 16/78 [01:03<03:24,  3.30s/it]"
     ]
    },
    {
     "name": "stdout",
     "output_type": "stream",
     "text": [
      "CHIRAL STEROCHEMISTRY REMOVED, SMILES=C[CH]1C(=O)[CH]2C=C[CH]1C2CC(=O)[NH][N+](C)(C)C\n"
     ]
    },
    {
     "name": "stderr",
     "output_type": "stream",
     "text": [
      " 24%|██▍       | 19/78 [01:17<03:53,  3.96s/it]"
     ]
    },
    {
     "name": "stdout",
     "output_type": "stream",
     "text": [
      "CHIRAL STEROCHEMISTRY REMOVED, SMILES=CC1(C)C(CC(=O)[NH][N+](C)(C)C)[CH]2CC[CH]1C2\n"
     ]
    },
    {
     "name": "stderr",
     "output_type": "stream",
     "text": [
      " 56%|█████▋    | 44/78 [03:03<02:01,  3.57s/it]"
     ]
    },
    {
     "name": "stdout",
     "output_type": "stream",
     "text": [
      "CHIRAL STEROCHEMISTRY REMOVED, SMILES=C[N+](C)(C)[NH]C(=O)CC1C[CH]2C[CH]1[CH]1CCC[CH]21\n"
     ]
    },
    {
     "name": "stderr",
     "output_type": "stream",
     "text": [
      " 68%|██████▊   | 53/78 [03:46<01:35,  3.82s/it]"
     ]
    },
    {
     "name": "stdout",
     "output_type": "stream",
     "text": [
      "CHIRAL STEROCHEMISTRY REMOVED, SMILES=C[C]12CO[C]3(CC(=O)[NH][N+](C)(C)C)C[CH]1CC[CH]32\n"
     ]
    },
    {
     "name": "stderr",
     "output_type": "stream",
     "text": [
      "100%|██████████| 78/78 [05:38<00:00,  4.34s/it]\n"
     ]
    }
   ],
   "source": [
    "actually_make_dirs=True\n",
    "if actually_make_dirs:\n",
    "\n",
    "    z=7\n",
    "    cwd=os.getcwd()\n",
    "    calc_folder='Calcs'\n",
    "    #for i, s in enumerate(tqdm(y)):\n",
    "\n",
    "    functional='M062X'\n",
    "    basis= 'Def2TZVP'\n",
    "    solvorgas='gas' #This should only be used for gas phase, since we need the gas phase pre opt for solv\n",
    "    solvmethod='SMD'\n",
    "    solvent='acetonitrile'\n",
    "    cwd='/data1/gridsan/jmaalouf/vHTP/Code/ylide/Library'\n",
    "    shared_dir='/data1/gridsan/groups/manthiram_lab/vHTP/Code/ylide/Library/Calcs'\n",
    "    \n",
    "    molecules_ids=y_h_failed['ylide_h']\n",
    "    \n",
    "    #for i, s in enumerate(tqdm(range(1000,10000))):\n",
    "    for i, s in enumerate(tqdm(molecules_ids)):\n",
    "        assert solvorgas == 'gas' or solvorgas=='solv','SOLVORGAS NOT SET TO A VALID VALUE'\n",
    "\n",
    "        suffix= ['',] #For solv gase you probably dont need _rad \n",
    "        \n",
    "        smi_dict={\n",
    "        ''     : y,\n",
    "        '_rad' : yr,\n",
    "        '_h'   : yh\n",
    "         }\n",
    "        \n",
    "        for j, suff in enumerate(suffix): \n",
    "\n",
    "\n",
    "            if solvorgas=='gas':\n",
    "                basepath=f'{shared_dir}/{str(s).zfill(z)}/ylide{suff}/{functional}/{basis}/gas/'\n",
    "\n",
    "            elif solvorgas=='solv':\n",
    "\n",
    "                try:\n",
    "                    solvent\n",
    "                except NameError:\n",
    "                    raise Exception('PLEASE SPECIFY A SOLVENT')\n",
    "\n",
    "                basepath=f'{shared_dir}/{str(s).zfill(z)}/ylide{suff}/{functional}/{basis}/{solvent}/{solvmethod}/'\n",
    "                \n",
    "            #os.chdir(shared_dir)\n",
    "            os.makedirs(basepath,exist_ok=True)\n",
    "            #os.chdir(cwd)\n",
    "\n",
    "            smi= smi_dict[suff][s]\n",
    "            path=f'{basepath}/{str(s).zfill(z)}_ylide{suff}'\n",
    "            \n",
    "            try:\n",
    "                \n",
    "                if s in y_h_failed['ylide_h']:\n",
    "                    #mk_smi_file(smi,path)\n",
    "                    mk_xyz_from_smiles_string(smi,path,numConfs=100) #Make the .com file\n",
    "                    gaussian(path,smi,functional=functional,basis=basis,solvorgas=solvorgas,solvmethod=solvmethod,solvent=solvent,mem='180GB',n_proc_shared=48)\n",
    "                    gen_gauss_sub_script(path) #Make the .sh file\n",
    "            except Exception as e:\n",
    "                print(e)\n",
    "                exc_type, exc_obj, exc_tb = sys.exc_info()\n",
    "                fname = os.path.split(exc_tb.tb_frame.f_code.co_filename)[1]\n",
    "                print(exc_type, fname, exc_tb.tb_lineno)\n",
    "                print(f'ERROR WITH  MOLECULE NUMBER {s} smiles {path}')"
   ]
  },
  {
   "cell_type": "markdown",
   "metadata": {},
   "source": [
    "# Generate Ylide Radical Gas Phase Scripts Using Optimized Ylide_H Scripts"
   ]
  },
  {
   "cell_type": "markdown",
   "metadata": {},
   "source": [
    "### Load Relevant Arrays with info on molecules"
   ]
  },
  {
   "cell_type": "code",
   "execution_count": 11,
   "metadata": {},
   "outputs": [],
   "source": [
    "with open(\"../pickled_data/atom_coords.pkl\",\"rb\") as file: #This may have been overwritten in the data_analysis code\n",
    "    pickle_off = pickle.Unpickler(file)\n",
    "    atom_coords = pickle_off.load()\n",
    "    \n",
    "with open(\"../pickled_data/atom_coords_gas.pkl\",\"rb\") as file: #coords after gas phase calculations have run\n",
    "    pickle_off = pickle.Unpickler(file)\n",
    "    atom_coords_fully_opt = pickle_off.load()\n",
    "    \n",
    "with open(\"../pickled_data/atom_labels.pkl\",\"rb\") as file:\n",
    "    pickle_off = pickle.Unpickler(file)\n",
    "    atom_labels = pickle_off.load()\n",
    "    \n",
    "with open(\"../pickled_data/charges.pkl\",\"rb\") as file:\n",
    "    pickle_off = pickle.Unpickler(file)\n",
    "    charges = pickle_off.load()"
   ]
  },
  {
   "cell_type": "code",
   "execution_count": 9,
   "metadata": {},
   "outputs": [],
   "source": [
    "def check_ylide(mol):\n",
    "    ylide_carbo=Chem.MolFromSmiles('O=CN[N+](C)(C)C')\n",
    "    return mol.HasSubstructMatch(ylide_carbo)\n",
    "    "
   ]
  },
  {
   "cell_type": "code",
   "execution_count": 15,
   "metadata": {},
   "outputs": [],
   "source": [
    "with open(\"mols_cleaned.pkl\", \"wb\") as file:\n",
    "    pickle.dump(mols, file)"
   ]
  },
  {
   "cell_type": "code",
   "execution_count": 13,
   "metadata": {},
   "outputs": [],
   "source": [
    "temp_list=[]\n",
    "for i,m in enumerate(mols):\n",
    "    if not check_ylide(m):\n",
    "        temp_list.append(i)"
   ]
  },
  {
   "cell_type": "code",
   "execution_count": 17,
   "metadata": {},
   "outputs": [
    {
     "data": {
      "text/plain": [
       "237"
      ]
     },
     "execution_count": 17,
     "metadata": {},
     "output_type": "execute_result"
    }
   ],
   "source": [
    "len(failed_yh_to_yr)"
   ]
  },
  {
   "cell_type": "code",
   "execution_count": 76,
   "metadata": {
    "collapsed": true,
    "jupyter": {
     "outputs_hidden": true
    }
   },
   "outputs": [
    {
     "data": {
      "text/plain": [
       "[15,\n",
       " 77,\n",
       " 99,\n",
       " 100,\n",
       " 113,\n",
       " 141,\n",
       " 203,\n",
       " 204,\n",
       " 213,\n",
       " 327,\n",
       " 467,\n",
       " 648,\n",
       " 675,\n",
       " 771,\n",
       " 775,\n",
       " 778,\n",
       " 779,\n",
       " 869,\n",
       " 1036,\n",
       " 1104,\n",
       " 1310,\n",
       " 1311,\n",
       " 1439,\n",
       " 1440,\n",
       " 1848,\n",
       " 1849,\n",
       " 1858,\n",
       " 1944,\n",
       " 2170,\n",
       " 2219,\n",
       " 2367,\n",
       " 2370,\n",
       " 2451,\n",
       " 2458,\n",
       " 2499,\n",
       " 2640,\n",
       " 2776,\n",
       " 2937,\n",
       " 2939,\n",
       " 3423,\n",
       " 3996,\n",
       " 4002,\n",
       " 4143,\n",
       " 4369,\n",
       " 4370,\n",
       " 4373,\n",
       " 4535,\n",
       " 4565,\n",
       " 4690,\n",
       " 4704,\n",
       " 4777,\n",
       " 4947,\n",
       " 5175,\n",
       " 5176,\n",
       " 5183,\n",
       " 5184,\n",
       " 5241,\n",
       " 5242,\n",
       " 5243,\n",
       " 5245,\n",
       " 5445,\n",
       " 5446,\n",
       " 5543,\n",
       " 5544,\n",
       " 5595,\n",
       " 5596,\n",
       " 5840,\n",
       " 5877,\n",
       " 6039,\n",
       " 6329,\n",
       " 6330,\n",
       " 6333,\n",
       " 6338,\n",
       " 6339,\n",
       " 6343,\n",
       " 6344,\n",
       " 6347,\n",
       " 6466,\n",
       " 6493,\n",
       " 6603,\n",
       " 6830,\n",
       " 6890,\n",
       " 6926,\n",
       " 7021,\n",
       " 7064,\n",
       " 7295,\n",
       " 7297,\n",
       " 7485,\n",
       " 7490,\n",
       " 7664,\n",
       " 7665,\n",
       " 7672,\n",
       " 7788,\n",
       " 7789,\n",
       " 7908,\n",
       " 8235,\n",
       " 8392,\n",
       " 8393,\n",
       " 8394,\n",
       " 8397,\n",
       " 8399,\n",
       " 8642,\n",
       " 8795,\n",
       " 8797,\n",
       " 8799]"
      ]
     },
     "execution_count": 76,
     "metadata": {},
     "output_type": "execute_result"
    }
   ],
   "source": [
    "temp_list"
   ]
  },
  {
   "cell_type": "markdown",
   "metadata": {},
   "source": [
    "## Make list of Ylide_H mols with optimized geometries"
   ]
  },
  {
   "cell_type": "code",
   "execution_count": 19,
   "metadata": {
    "collapsed": true,
    "jupyter": {
     "outputs_hidden": true
    },
    "scrolled": true
   },
   "outputs": [
    {
     "name": "stderr",
     "output_type": "stream",
     "text": [
      "  4%|▍         | 402/10000 [00:04<01:30, 106.23it/s]"
     ]
    },
    {
     "name": "stdout",
     "output_type": "stream",
     "text": [
      "Valence of atom 8 is 5 which bigger than allowed max 4 . Stopping\n",
      "('Valence of atom', 8, 'is', 5, 'which bigger than allowed max', 4, '. Stopping')\n",
      "<class 'RuntimeError'> <ipython-input-19-f29b74cd61ea> Line Number:23\n",
      "419: DIDNT WORK,ADDING Y_H MOL FROM SMILES STRING\n"
     ]
    },
    {
     "name": "stderr",
     "output_type": "stream",
     "text": [
      "  5%|▍         | 460/10000 [00:18<18:44,  8.49it/s] "
     ]
    },
    {
     "name": "stdout",
     "output_type": "stream",
     "text": [
      "Valence of atom 8 is 2 which bigger than allowed max 1 . Stopping\n",
      "('Valence of atom', 8, 'is', 2, 'which bigger than allowed max', 1, '. Stopping')\n",
      "<class 'RuntimeError'> <ipython-input-19-f29b74cd61ea> Line Number:23\n",
      "478: DIDNT WORK,ADDING Y_H MOL FROM SMILES STRING\n"
     ]
    },
    {
     "name": "stderr",
     "output_type": "stream",
     "text": [
      "  6%|▌         | 566/10000 [00:21<05:45, 27.33it/s]"
     ]
    },
    {
     "name": "stdout",
     "output_type": "stream",
     "text": [
      "Valence of atom 10 is 5 which bigger than allowed max 4 . Stopping\n",
      "('Valence of atom', 10, 'is', 5, 'which bigger than allowed max', 4, '. Stopping')\n",
      "<class 'RuntimeError'> <ipython-input-19-f29b74cd61ea> Line Number:23\n",
      "581: DIDNT WORK,ADDING Y_H MOL FROM SMILES STRING\n"
     ]
    },
    {
     "name": "stderr",
     "output_type": "stream",
     "text": [
      "  6%|▌         | 582/10000 [00:22<07:08, 21.99it/s]"
     ]
    },
    {
     "name": "stdout",
     "output_type": "stream",
     "text": [
      "Valence of atom 10 is 5 which bigger than allowed max 4 . Stopping\n",
      "('Valence of atom', 10, 'is', 5, 'which bigger than allowed max', 4, '. Stopping')\n",
      "<class 'RuntimeError'> <ipython-input-19-f29b74cd61ea> Line Number:23\n",
      "583: DIDNT WORK,ADDING Y_H MOL FROM SMILES STRING\n"
     ]
    },
    {
     "name": "stderr",
     "output_type": "stream",
     "text": [
      "  8%|▊         | 837/10000 [00:28<01:43, 88.58it/s]"
     ]
    },
    {
     "name": "stdout",
     "output_type": "stream",
     "text": [
      "Valence of atom 9 is 5 which bigger than allowed max 4 . Stopping\n",
      "('Valence of atom', 9, 'is', 5, 'which bigger than allowed max', 4, '. Stopping')\n",
      "<class 'RuntimeError'> <ipython-input-19-f29b74cd61ea> Line Number:23\n",
      "848: DIDNT WORK,ADDING Y_H MOL FROM SMILES STRING\n"
     ]
    },
    {
     "name": "stderr",
     "output_type": "stream",
     "text": [
      "  8%|▊         | 849/10000 [01:15<3:00:20,  1.18s/it]"
     ]
    },
    {
     "name": "stdout",
     "output_type": "stream",
     "text": [
      "Valence of atom 9 is 2 which bigger than allowed max 1 . Stopping\n",
      "('Valence of atom', 9, 'is', 2, 'which bigger than allowed max', 1, '. Stopping')\n",
      "<class 'RuntimeError'> <ipython-input-19-f29b74cd61ea> Line Number:23\n",
      "852: DIDNT WORK,ADDING Y_H MOL FROM SMILES STRING\n"
     ]
    },
    {
     "name": "stderr",
     "output_type": "stream",
     "text": [
      "  9%|▊         | 871/10000 [01:15<1:31:25,  1.66it/s]"
     ]
    },
    {
     "name": "stdout",
     "output_type": "stream",
     "text": [
      "Valence of atom 8 is 5 which bigger than allowed max 4 . Stopping\n",
      "('Valence of atom', 8, 'is', 5, 'which bigger than allowed max', 4, '. Stopping')\n",
      "<class 'RuntimeError'> <ipython-input-19-f29b74cd61ea> Line Number:23\n",
      "887: DIDNT WORK,ADDING Y_H MOL FROM SMILES STRING\n"
     ]
    },
    {
     "name": "stderr",
     "output_type": "stream",
     "text": [
      " 10%|▉         | 959/10000 [01:17<17:06,  8.81it/s]  "
     ]
    },
    {
     "name": "stdout",
     "output_type": "stream",
     "text": [
      "Valence of atom 9 is 2 which bigger than allowed max 1 . Stopping\n",
      "('Valence of atom', 9, 'is', 2, 'which bigger than allowed max', 1, '. Stopping')\n",
      "<class 'RuntimeError'> <ipython-input-19-f29b74cd61ea> Line Number:23\n",
      "970: DIDNT WORK,ADDING Y_H MOL FROM SMILES STRING\n",
      "Valence of atom 2 is 2 which bigger than allowed max 1 . Stopping\n",
      "('Valence of atom', 2, 'is', 2, 'which bigger than allowed max', 1, '. Stopping')\n",
      "<class 'RuntimeError'> <ipython-input-19-f29b74cd61ea> Line Number:23\n",
      "971: DIDNT WORK,ADDING Y_H MOL FROM SMILES STRING\n"
     ]
    },
    {
     "name": "stderr",
     "output_type": "stream",
     "text": [
      " 12%|█▏        | 1218/10000 [01:26<09:44, 15.03it/s]"
     ]
    },
    {
     "name": "stdout",
     "output_type": "stream",
     "text": [
      "Valence of atom 9 is 2 which bigger than allowed max 1 . Stopping\n",
      "('Valence of atom', 9, 'is', 2, 'which bigger than allowed max', 1, '. Stopping')\n",
      "<class 'RuntimeError'> <ipython-input-19-f29b74cd61ea> Line Number:23\n",
      "1219: DIDNT WORK,ADDING Y_H MOL FROM SMILES STRING\n"
     ]
    },
    {
     "name": "stderr",
     "output_type": "stream",
     "text": [
      " 13%|█▎        | 1321/10000 [01:27<01:48, 80.20it/s]"
     ]
    },
    {
     "name": "stdout",
     "output_type": "stream",
     "text": [
      "Valence of atom 2 is 2 which bigger than allowed max 1 . Stopping\n",
      "('Valence of atom', 2, 'is', 2, 'which bigger than allowed max', 1, '. Stopping')\n",
      "<class 'RuntimeError'> <ipython-input-19-f29b74cd61ea> Line Number:23\n",
      "1335: DIDNT WORK,ADDING Y_H MOL FROM SMILES STRING\n"
     ]
    },
    {
     "name": "stderr",
     "output_type": "stream",
     "text": [
      " 14%|█▍        | 1431/10000 [01:29<01:19, 107.16it/s]"
     ]
    },
    {
     "name": "stdout",
     "output_type": "stream",
     "text": [
      "Valence of atom 9 is 2 which bigger than allowed max 1 . Stopping\n",
      "('Valence of atom', 9, 'is', 2, 'which bigger than allowed max', 1, '. Stopping')\n",
      "<class 'RuntimeError'> <ipython-input-19-f29b74cd61ea> Line Number:23\n",
      "1441: DIDNT WORK,ADDING Y_H MOL FROM SMILES STRING\n",
      "Valence of atom 2 is 2 which bigger than allowed max 1 . Stopping\n",
      "('Valence of atom', 2, 'is', 2, 'which bigger than allowed max', 1, '. Stopping')\n",
      "<class 'RuntimeError'> <ipython-input-19-f29b74cd61ea> Line Number:23\n",
      "1442: DIDNT WORK,ADDING Y_H MOL FROM SMILES STRING\n",
      "Valence of atom 2 is 2 which bigger than allowed max 1 . Stopping\n",
      "('Valence of atom', 2, 'is', 2, 'which bigger than allowed max', 1, '. Stopping')\n",
      "<class 'RuntimeError'> <ipython-input-19-f29b74cd61ea> Line Number:23\n",
      "1444: DIDNT WORK,ADDING Y_H MOL FROM SMILES STRING\n",
      "Valence of atom 2 is 2 which bigger than allowed max 1 . Stopping\n",
      "('Valence of atom', 2, 'is', 2, 'which bigger than allowed max', 1, '. Stopping')\n",
      "<class 'RuntimeError'> <ipython-input-19-f29b74cd61ea> Line Number:23\n",
      "1445: DIDNT WORK,ADDING Y_H MOL FROM SMILES STRING\n"
     ]
    },
    {
     "name": "stderr",
     "output_type": "stream",
     "text": [
      " 16%|█▌        | 1591/10000 [01:32<01:15, 111.19it/s]"
     ]
    },
    {
     "name": "stdout",
     "output_type": "stream",
     "text": [
      "Valence of atom 10 is 2 which bigger than allowed max 1 . Stopping\n",
      "('Valence of atom', 10, 'is', 2, 'which bigger than allowed max', 1, '. Stopping')\n",
      "<class 'RuntimeError'> <ipython-input-19-f29b74cd61ea> Line Number:23\n",
      "1606: DIDNT WORK,ADDING Y_H MOL FROM SMILES STRING\n"
     ]
    },
    {
     "name": "stderr",
     "output_type": "stream",
     "text": [
      " 16%|█▌        | 1610/10000 [01:32<02:01, 69.09it/s] "
     ]
    },
    {
     "name": "stdout",
     "output_type": "stream",
     "text": [
      "Valence of atom 10 is 2 which bigger than allowed max 1 . Stopping\n",
      "('Valence of atom', 10, 'is', 2, 'which bigger than allowed max', 1, '. Stopping')\n",
      "<class 'RuntimeError'> <ipython-input-19-f29b74cd61ea> Line Number:23\n",
      "1610: DIDNT WORK,ADDING Y_H MOL FROM SMILES STRING\n",
      "Valence of atom 10 is 2 which bigger than allowed max 1 . Stopping\n",
      "('Valence of atom', 10, 'is', 2, 'which bigger than allowed max', 1, '. Stopping')\n",
      "<class 'RuntimeError'> <ipython-input-19-f29b74cd61ea> Line Number:23\n",
      "1611: DIDNT WORK,ADDING Y_H MOL FROM SMILES STRING\n"
     ]
    },
    {
     "name": "stderr",
     "output_type": "stream",
     "text": [
      " 16%|█▋        | 1647/10000 [01:34<03:09, 44.16it/s]"
     ]
    },
    {
     "name": "stdout",
     "output_type": "stream",
     "text": [
      "list index out of range\n",
      "<class 'IndexError'> <ipython-input-19-f29b74cd61ea> Line Number:24\n",
      "1651: DIDNT WORK,ADDING Y_H MOL FROM SMILES STRING\n"
     ]
    },
    {
     "name": "stderr",
     "output_type": "stream",
     "text": [
      " 18%|█▊        | 1790/10000 [01:40<10:44, 12.74it/s]"
     ]
    },
    {
     "name": "stdout",
     "output_type": "stream",
     "text": [
      "Valence of atom 8 is 2 which bigger than allowed max 1 . Stopping\n",
      "('Valence of atom', 8, 'is', 2, 'which bigger than allowed max', 1, '. Stopping')\n",
      "<class 'RuntimeError'> <ipython-input-19-f29b74cd61ea> Line Number:23\n",
      "1796: DIDNT WORK,ADDING Y_H MOL FROM SMILES STRING\n",
      "Valence of atom 8 is 2 which bigger than allowed max 1 . Stopping\n",
      "('Valence of atom', 8, 'is', 2, 'which bigger than allowed max', 1, '. Stopping')\n",
      "<class 'RuntimeError'> <ipython-input-19-f29b74cd61ea> Line Number:23\n",
      "1797: DIDNT WORK,ADDING Y_H MOL FROM SMILES STRING\n"
     ]
    },
    {
     "name": "stderr",
     "output_type": "stream",
     "text": [
      " 19%|█▉        | 1896/10000 [01:42<03:32, 38.20it/s]"
     ]
    },
    {
     "name": "stdout",
     "output_type": "stream",
     "text": [
      "Valence of atom 10 is 2 which bigger than allowed max 1 . Stopping\n",
      "('Valence of atom', 10, 'is', 2, 'which bigger than allowed max', 1, '. Stopping')\n",
      "<class 'RuntimeError'> <ipython-input-19-f29b74cd61ea> Line Number:23\n",
      "1904: DIDNT WORK,ADDING Y_H MOL FROM SMILES STRING\n",
      "Valence of atom 10 is 2 which bigger than allowed max 1 . Stopping\n",
      "('Valence of atom', 10, 'is', 2, 'which bigger than allowed max', 1, '. Stopping')\n",
      "<class 'RuntimeError'> <ipython-input-19-f29b74cd61ea> Line Number:23\n",
      "1905: DIDNT WORK,ADDING Y_H MOL FROM SMILES STRING\n"
     ]
    },
    {
     "name": "stderr",
     "output_type": "stream",
     "text": [
      " 20%|██        | 2028/10000 [01:44<01:18, 101.11it/s]"
     ]
    },
    {
     "name": "stdout",
     "output_type": "stream",
     "text": [
      "Valence of atom 10 is 2 which bigger than allowed max 1 . Stopping\n",
      "('Valence of atom', 10, 'is', 2, 'which bigger than allowed max', 1, '. Stopping')\n",
      "<class 'RuntimeError'> <ipython-input-19-f29b74cd61ea> Line Number:23\n",
      "2038: DIDNT WORK,ADDING Y_H MOL FROM SMILES STRING\n"
     ]
    },
    {
     "name": "stderr",
     "output_type": "stream",
     "text": [
      " 23%|██▎       | 2295/10000 [01:48<01:00, 128.03it/s]"
     ]
    },
    {
     "name": "stdout",
     "output_type": "stream",
     "text": [
      "Valence of atom 2 is 5 which bigger than allowed max 4 . Stopping\n",
      "('Valence of atom', 2, 'is', 5, 'which bigger than allowed max', 4, '. Stopping')\n",
      "<class 'RuntimeError'> <ipython-input-19-f29b74cd61ea> Line Number:23\n",
      "2307: DIDNT WORK,ADDING Y_H MOL FROM SMILES STRING\n"
     ]
    },
    {
     "name": "stderr",
     "output_type": "stream",
     "text": [
      " 24%|██▎       | 2356/10000 [01:51<03:23, 37.65it/s] "
     ]
    },
    {
     "name": "stdout",
     "output_type": "stream",
     "text": [
      "Valence of atom 8 is 3 which bigger than allowed max 1 . Stopping\n",
      "('Valence of atom', 8, 'is', 3, 'which bigger than allowed max', 1, '. Stopping')\n",
      "<class 'RuntimeError'> <ipython-input-19-f29b74cd61ea> Line Number:23\n",
      "2366: DIDNT WORK,ADDING Y_H MOL FROM SMILES STRING\n"
     ]
    },
    {
     "name": "stderr",
     "output_type": "stream",
     "text": [
      " 24%|██▍       | 2433/10000 [01:51<01:35, 79.00it/s]"
     ]
    },
    {
     "name": "stdout",
     "output_type": "stream",
     "text": [
      "Valence of atom 9 is 5 which bigger than allowed max 4 . Stopping\n",
      "('Valence of atom', 9, 'is', 5, 'which bigger than allowed max', 4, '. Stopping')\n",
      "<class 'RuntimeError'> <ipython-input-19-f29b74cd61ea> Line Number:23\n",
      "2441: DIDNT WORK,ADDING Y_H MOL FROM SMILES STRING\n"
     ]
    },
    {
     "name": "stderr",
     "output_type": "stream",
     "text": [
      " 24%|██▍       | 2447/10000 [01:54<07:03, 17.84it/s]"
     ]
    },
    {
     "name": "stdout",
     "output_type": "stream",
     "text": [
      "Valence of atom 3 is 2 which bigger than allowed max 1 . Stopping\n",
      "('Valence of atom', 3, 'is', 2, 'which bigger than allowed max', 1, '. Stopping')\n",
      "<class 'RuntimeError'> <ipython-input-19-f29b74cd61ea> Line Number:23\n",
      "2450: DIDNT WORK,ADDING Y_H MOL FROM SMILES STRING\n",
      "Valence of atom 0 is 5 which bigger than allowed max 4 . Stopping\n",
      "('Valence of atom', 0, 'is', 5, 'which bigger than allowed max', 4, '. Stopping')\n",
      "<class 'RuntimeError'> <ipython-input-19-f29b74cd61ea> Line Number:23\n",
      "2454: DIDNT WORK,ADDING Y_H MOL FROM SMILES STRING\n",
      "Valence of atom 0 is 5 which bigger than allowed max 4 . Stopping\n",
      "('Valence of atom', 0, 'is', 5, 'which bigger than allowed max', 4, '. Stopping')\n",
      "<class 'RuntimeError'> <ipython-input-19-f29b74cd61ea> Line Number:23\n",
      "2455: DIDNT WORK,ADDING Y_H MOL FROM SMILES STRING\n",
      "Valence of atom 2 is 2 which bigger than allowed max 1 . Stopping\n",
      "('Valence of atom', 2, 'is', 2, 'which bigger than allowed max', 1, '. Stopping')\n",
      "<class 'RuntimeError'> <ipython-input-19-f29b74cd61ea> Line Number:23\n",
      "2456: DIDNT WORK,ADDING Y_H MOL FROM SMILES STRING\n"
     ]
    },
    {
     "name": "stderr",
     "output_type": "stream",
     "text": [
      " 25%|██▍       | 2457/10000 [01:56<11:47, 10.66it/s]"
     ]
    },
    {
     "name": "stdout",
     "output_type": "stream",
     "text": [
      "Valence of atom 3 is 2 which bigger than allowed max 1 . Stopping\n",
      "('Valence of atom', 3, 'is', 2, 'which bigger than allowed max', 1, '. Stopping')\n",
      "<class 'RuntimeError'> <ipython-input-19-f29b74cd61ea> Line Number:23\n",
      "2458: DIDNT WORK,ADDING Y_H MOL FROM SMILES STRING\n"
     ]
    },
    {
     "name": "stderr",
     "output_type": "stream",
     "text": [
      " 26%|██▋       | 2647/10000 [01:57<01:27, 84.45it/s] "
     ]
    },
    {
     "name": "stdout",
     "output_type": "stream",
     "text": [
      "Valence of atom 10 is 2 which bigger than allowed max 1 . Stopping\n",
      "('Valence of atom', 10, 'is', 2, 'which bigger than allowed max', 1, '. Stopping')\n",
      "<class 'RuntimeError'> <ipython-input-19-f29b74cd61ea> Line Number:23\n",
      "2664: DIDNT WORK,ADDING Y_H MOL FROM SMILES STRING\n"
     ]
    },
    {
     "name": "stderr",
     "output_type": "stream",
     "text": [
      " 27%|██▋       | 2665/10000 [01:58<01:54, 64.25it/s]"
     ]
    },
    {
     "name": "stdout",
     "output_type": "stream",
     "text": [
      "Valence of atom 11 is 2 which bigger than allowed max 1 . Stopping\n",
      "('Valence of atom', 11, 'is', 2, 'which bigger than allowed max', 1, '. Stopping')\n",
      "<class 'RuntimeError'> <ipython-input-19-f29b74cd61ea> Line Number:23\n",
      "2665: DIDNT WORK,ADDING Y_H MOL FROM SMILES STRING\n",
      "Valence of atom 3 is 2 which bigger than allowed max 1 . Stopping\n",
      "('Valence of atom', 3, 'is', 2, 'which bigger than allowed max', 1, '. Stopping')\n",
      "<class 'RuntimeError'> <ipython-input-19-f29b74cd61ea> Line Number:23\n",
      "2668: DIDNT WORK,ADDING Y_H MOL FROM SMILES STRING\n"
     ]
    },
    {
     "name": "stderr",
     "output_type": "stream",
     "text": [
      " 29%|██▊       | 2853/10000 [02:02<04:16, 27.83it/s] "
     ]
    },
    {
     "name": "stdout",
     "output_type": "stream",
     "text": [
      "list index out of range\n",
      "<class 'IndexError'> <ipython-input-19-f29b74cd61ea> Line Number:24\n",
      "2860: DIDNT WORK,ADDING Y_H MOL FROM SMILES STRING\n",
      "list index out of range\n",
      "<class 'IndexError'> <ipython-input-19-f29b74cd61ea> Line Number:24\n",
      "2862: DIDNT WORK,ADDING Y_H MOL FROM SMILES STRING\n"
     ]
    },
    {
     "name": "stderr",
     "output_type": "stream",
     "text": [
      " 29%|██▉       | 2919/10000 [02:05<04:08, 28.44it/s]"
     ]
    },
    {
     "name": "stdout",
     "output_type": "stream",
     "text": [
      "Valence of atom 8 is 2 which bigger than allowed max 1 . Stopping\n",
      "('Valence of atom', 8, 'is', 2, 'which bigger than allowed max', 1, '. Stopping')\n",
      "<class 'RuntimeError'> <ipython-input-19-f29b74cd61ea> Line Number:23\n",
      "2926: DIDNT WORK,ADDING Y_H MOL FROM SMILES STRING\n",
      "Valence of atom 8 is 2 which bigger than allowed max 1 . Stopping\n",
      "('Valence of atom', 8, 'is', 2, 'which bigger than allowed max', 1, '. Stopping')\n",
      "<class 'RuntimeError'> <ipython-input-19-f29b74cd61ea> Line Number:23\n",
      "2927: DIDNT WORK,ADDING Y_H MOL FROM SMILES STRING\n",
      "Valence of atom 8 is 2 which bigger than allowed max 1 . Stopping\n",
      "('Valence of atom', 8, 'is', 2, 'which bigger than allowed max', 1, '. Stopping')\n",
      "<class 'RuntimeError'> <ipython-input-19-f29b74cd61ea> Line Number:23\n",
      "2928: DIDNT WORK,ADDING Y_H MOL FROM SMILES STRING\n",
      "Valence of atom 11 is 2 which bigger than allowed max 1 . Stopping\n",
      "('Valence of atom', 11, 'is', 2, 'which bigger than allowed max', 1, '. Stopping')\n",
      "<class 'RuntimeError'> <ipython-input-19-f29b74cd61ea> Line Number:23\n",
      "2930: DIDNT WORK,ADDING Y_H MOL FROM SMILES STRING\n"
     ]
    },
    {
     "name": "stderr",
     "output_type": "stream",
     "text": [
      " 30%|███       | 3018/10000 [02:09<02:42, 42.86it/s]"
     ]
    },
    {
     "name": "stdout",
     "output_type": "stream",
     "text": [
      "Valence of atom 11 is 2 which bigger than allowed max 1 . Stopping\n",
      "('Valence of atom', 11, 'is', 2, 'which bigger than allowed max', 1, '. Stopping')\n",
      "<class 'RuntimeError'> <ipython-input-19-f29b74cd61ea> Line Number:23\n",
      "3020: DIDNT WORK,ADDING Y_H MOL FROM SMILES STRING\n",
      "Valence of atom 11 is 2 which bigger than allowed max 1 . Stopping\n",
      "('Valence of atom', 11, 'is', 2, 'which bigger than allowed max', 1, '. Stopping')\n",
      "<class 'RuntimeError'> <ipython-input-19-f29b74cd61ea> Line Number:23\n",
      "3021: DIDNT WORK,ADDING Y_H MOL FROM SMILES STRING\n"
     ]
    },
    {
     "name": "stderr",
     "output_type": "stream",
     "text": [
      " 31%|███       | 3074/10000 [02:10<02:39, 43.40it/s]"
     ]
    },
    {
     "name": "stdout",
     "output_type": "stream",
     "text": [
      "Valence of atom 4 is 5 which bigger than allowed max 4 . Stopping\n",
      "('Valence of atom', 4, 'is', 5, 'which bigger than allowed max', 4, '. Stopping')\n",
      "<class 'RuntimeError'> <ipython-input-19-f29b74cd61ea> Line Number:23\n",
      "3084: DIDNT WORK,ADDING Y_H MOL FROM SMILES STRING\n"
     ]
    },
    {
     "name": "stderr",
     "output_type": "stream",
     "text": [
      " 32%|███▏      | 3190/10000 [02:36<11:25,  9.94it/s]  "
     ]
    },
    {
     "name": "stdout",
     "output_type": "stream",
     "text": [
      "Valence of atom 8 is 2 which bigger than allowed max 1 . Stopping\n",
      "('Valence of atom', 8, 'is', 2, 'which bigger than allowed max', 1, '. Stopping')\n",
      "<class 'RuntimeError'> <ipython-input-19-f29b74cd61ea> Line Number:23\n",
      "3192: DIDNT WORK,ADDING Y_H MOL FROM SMILES STRING\n",
      "Valence of atom 9 is 2 which bigger than allowed max 1 . Stopping\n",
      "('Valence of atom', 9, 'is', 2, 'which bigger than allowed max', 1, '. Stopping')\n",
      "<class 'RuntimeError'> <ipython-input-19-f29b74cd61ea> Line Number:23\n",
      "3193: DIDNT WORK,ADDING Y_H MOL FROM SMILES STRING\n",
      "Valence of atom 2 is 2 which bigger than allowed max 1 . Stopping\n",
      "('Valence of atom', 2, 'is', 2, 'which bigger than allowed max', 1, '. Stopping')\n",
      "<class 'RuntimeError'> <ipython-input-19-f29b74cd61ea> Line Number:23\n",
      "3194: DIDNT WORK,ADDING Y_H MOL FROM SMILES STRING\n"
     ]
    },
    {
     "name": "stderr",
     "output_type": "stream",
     "text": [
      " 37%|███▋      | 3653/10000 [02:49<03:53, 27.21it/s]"
     ]
    },
    {
     "name": "stdout",
     "output_type": "stream",
     "text": [
      "Valence of atom 8 is 2 which bigger than allowed max 1 . Stopping\n",
      "('Valence of atom', 8, 'is', 2, 'which bigger than allowed max', 1, '. Stopping')\n",
      "<class 'RuntimeError'> <ipython-input-19-f29b74cd61ea> Line Number:23\n",
      "3658: DIDNT WORK,ADDING Y_H MOL FROM SMILES STRING\n"
     ]
    },
    {
     "name": "stderr",
     "output_type": "stream",
     "text": [
      " 38%|███▊      | 3786/10000 [02:51<02:26, 42.49it/s]"
     ]
    },
    {
     "name": "stdout",
     "output_type": "stream",
     "text": [
      "Valence of atom 8 is 2 which bigger than allowed max 1 . Stopping\n",
      "('Valence of atom', 8, 'is', 2, 'which bigger than allowed max', 1, '. Stopping')\n",
      "<class 'RuntimeError'> <ipython-input-19-f29b74cd61ea> Line Number:23\n",
      "3793: DIDNT WORK,ADDING Y_H MOL FROM SMILES STRING\n"
     ]
    },
    {
     "name": "stderr",
     "output_type": "stream",
     "text": [
      " 38%|███▊      | 3849/10000 [02:51<01:29, 68.43it/s]"
     ]
    },
    {
     "name": "stdout",
     "output_type": "stream",
     "text": [
      "Valence of atom 10 is 2 which bigger than allowed max 1 . Stopping\n",
      "('Valence of atom', 10, 'is', 2, 'which bigger than allowed max', 1, '. Stopping')\n",
      "<class 'RuntimeError'> <ipython-input-19-f29b74cd61ea> Line Number:23\n",
      "3860: DIDNT WORK,ADDING Y_H MOL FROM SMILES STRING\n"
     ]
    },
    {
     "name": "stderr",
     "output_type": "stream",
     "text": [
      " 40%|████      | 4029/10000 [02:55<01:13, 80.93it/s]"
     ]
    },
    {
     "name": "stdout",
     "output_type": "stream",
     "text": [
      "Valence of atom 12 is 2 which bigger than allowed max 1 . Stopping\n",
      "('Valence of atom', 12, 'is', 2, 'which bigger than allowed max', 1, '. Stopping')\n",
      "<class 'RuntimeError'> <ipython-input-19-f29b74cd61ea> Line Number:23\n",
      "4041: DIDNT WORK,ADDING Y_H MOL FROM SMILES STRING\n",
      "Valence of atom 13 is 2 which bigger than allowed max 1 . Stopping\n",
      "('Valence of atom', 13, 'is', 2, 'which bigger than allowed max', 1, '. Stopping')\n",
      "<class 'RuntimeError'> <ipython-input-19-f29b74cd61ea> Line Number:23\n",
      "4042: DIDNT WORK,ADDING Y_H MOL FROM SMILES STRING\n"
     ]
    },
    {
     "name": "stderr",
     "output_type": "stream",
     "text": [
      " 40%|████      | 4045/10000 [02:56<03:18, 29.98it/s]"
     ]
    },
    {
     "name": "stdout",
     "output_type": "stream",
     "text": [
      "Valence of atom 11 is 2 which bigger than allowed max 1 . Stopping\n",
      "('Valence of atom', 11, 'is', 2, 'which bigger than allowed max', 1, '. Stopping')\n",
      "<class 'RuntimeError'> <ipython-input-19-f29b74cd61ea> Line Number:23\n",
      "4045: DIDNT WORK,ADDING Y_H MOL FROM SMILES STRING\n"
     ]
    },
    {
     "name": "stderr",
     "output_type": "stream",
     "text": [
      " 41%|████      | 4122/10000 [02:57<01:50, 53.10it/s]"
     ]
    },
    {
     "name": "stdout",
     "output_type": "stream",
     "text": [
      "Valence of atom 10 is 2 which bigger than allowed max 1 . Stopping\n",
      "('Valence of atom', 10, 'is', 2, 'which bigger than allowed max', 1, '. Stopping')\n",
      "<class 'RuntimeError'> <ipython-input-19-f29b74cd61ea> Line Number:23\n",
      "4129: DIDNT WORK,ADDING Y_H MOL FROM SMILES STRING\n",
      "Valence of atom 8 is 2 which bigger than allowed max 1 . Stopping\n",
      "('Valence of atom', 8, 'is', 2, 'which bigger than allowed max', 1, '. Stopping')\n",
      "<class 'RuntimeError'> <ipython-input-19-f29b74cd61ea> Line Number:23\n",
      "4130: DIDNT WORK,ADDING Y_H MOL FROM SMILES STRING\n"
     ]
    },
    {
     "name": "stderr",
     "output_type": "stream",
     "text": [
      " 41%|████▏     | 4131/10000 [02:58<03:52, 25.20it/s]"
     ]
    },
    {
     "name": "stdout",
     "output_type": "stream",
     "text": [
      "Valence of atom 9 is 3 which bigger than allowed max 1 . Stopping\n",
      "('Valence of atom', 9, 'is', 3, 'which bigger than allowed max', 1, '. Stopping')\n",
      "<class 'RuntimeError'> <ipython-input-19-f29b74cd61ea> Line Number:23\n",
      "4131: DIDNT WORK,ADDING Y_H MOL FROM SMILES STRING\n",
      "Valence of atom 12 is 2 which bigger than allowed max 1 . Stopping\n",
      "('Valence of atom', 12, 'is', 2, 'which bigger than allowed max', 1, '. Stopping')\n",
      "<class 'RuntimeError'> <ipython-input-19-f29b74cd61ea> Line Number:23\n",
      "4132: DIDNT WORK,ADDING Y_H MOL FROM SMILES STRING\n"
     ]
    },
    {
     "name": "stderr",
     "output_type": "stream",
     "text": [
      " 43%|████▎     | 4276/10000 [03:00<01:03, 89.70it/s]"
     ]
    },
    {
     "name": "stdout",
     "output_type": "stream",
     "text": [
      "Valence of atom 2 is 2 which bigger than allowed max 1 . Stopping\n",
      "('Valence of atom', 2, 'is', 2, 'which bigger than allowed max', 1, '. Stopping')\n",
      "<class 'RuntimeError'> <ipython-input-19-f29b74cd61ea> Line Number:23\n",
      "4287: DIDNT WORK,ADDING Y_H MOL FROM SMILES STRING\n",
      "Valence of atom 0 is 5 which bigger than allowed max 4 . Stopping\n",
      "('Valence of atom', 0, 'is', 5, 'which bigger than allowed max', 4, '. Stopping')\n",
      "<class 'RuntimeError'> <ipython-input-19-f29b74cd61ea> Line Number:23\n",
      "4288: DIDNT WORK,ADDING Y_H MOL FROM SMILES STRING\n",
      "Valence of atom 0 is 5 which bigger than allowed max 4 . Stopping\n",
      "('Valence of atom', 0, 'is', 5, 'which bigger than allowed max', 4, '. Stopping')\n",
      "<class 'RuntimeError'> <ipython-input-19-f29b74cd61ea> Line Number:23\n",
      "4289: DIDNT WORK,ADDING Y_H MOL FROM SMILES STRING\n"
     ]
    },
    {
     "name": "stderr",
     "output_type": "stream",
     "text": [
      " 43%|████▎     | 4290/10000 [03:02<04:17, 22.15it/s]"
     ]
    },
    {
     "name": "stdout",
     "output_type": "stream",
     "text": [
      "Valence of atom 4 is 2 which bigger than allowed max 1 . Stopping\n",
      "('Valence of atom', 4, 'is', 2, 'which bigger than allowed max', 1, '. Stopping')\n",
      "<class 'RuntimeError'> <ipython-input-19-f29b74cd61ea> Line Number:23\n",
      "4292: DIDNT WORK,ADDING Y_H MOL FROM SMILES STRING\n",
      "Valence of atom 4 is 2 which bigger than allowed max 1 . Stopping\n",
      "('Valence of atom', 4, 'is', 2, 'which bigger than allowed max', 1, '. Stopping')\n",
      "<class 'RuntimeError'> <ipython-input-19-f29b74cd61ea> Line Number:23\n",
      "4294: DIDNT WORK,ADDING Y_H MOL FROM SMILES STRING\n",
      "Valence of atom 3 is 2 which bigger than allowed max 1 . Stopping\n",
      "('Valence of atom', 3, 'is', 2, 'which bigger than allowed max', 1, '. Stopping')\n",
      "<class 'RuntimeError'> <ipython-input-19-f29b74cd61ea> Line Number:23\n",
      "4296: DIDNT WORK,ADDING Y_H MOL FROM SMILES STRING\n",
      "Valence of atom 2 is 2 which bigger than allowed max 1 . Stopping\n",
      "('Valence of atom', 2, 'is', 2, 'which bigger than allowed max', 1, '. Stopping')\n",
      "<class 'RuntimeError'> <ipython-input-19-f29b74cd61ea> Line Number:23\n",
      "4297: DIDNT WORK,ADDING Y_H MOL FROM SMILES STRING\n"
     ]
    },
    {
     "name": "stderr",
     "output_type": "stream",
     "text": [
      " 44%|████▍     | 4419/10000 [03:05<01:20, 69.71it/s]"
     ]
    },
    {
     "name": "stdout",
     "output_type": "stream",
     "text": [
      "Valence of atom 8 is 2 which bigger than allowed max 1 . Stopping\n",
      "('Valence of atom', 8, 'is', 2, 'which bigger than allowed max', 1, '. Stopping')\n",
      "<class 'RuntimeError'> <ipython-input-19-f29b74cd61ea> Line Number:23\n",
      "4431: DIDNT WORK,ADDING Y_H MOL FROM SMILES STRING\n",
      "Valence of atom 9 is 2 which bigger than allowed max 1 . Stopping\n",
      "('Valence of atom', 9, 'is', 2, 'which bigger than allowed max', 1, '. Stopping')\n",
      "<class 'RuntimeError'> <ipython-input-19-f29b74cd61ea> Line Number:23\n",
      "4432: DIDNT WORK,ADDING Y_H MOL FROM SMILES STRING\n"
     ]
    },
    {
     "name": "stderr",
     "output_type": "stream",
     "text": [
      " 47%|████▋     | 4670/10000 [03:08<00:33, 159.08it/s]"
     ]
    },
    {
     "name": "stdout",
     "output_type": "stream",
     "text": [
      "Valence of atom 8 is 3 which bigger than allowed max 1 . Stopping\n",
      "('Valence of atom', 8, 'is', 3, 'which bigger than allowed max', 1, '. Stopping')\n",
      "<class 'RuntimeError'> <ipython-input-19-f29b74cd61ea> Line Number:23\n",
      "4683: DIDNT WORK,ADDING Y_H MOL FROM SMILES STRING\n",
      "Valence of atom 12 is 2 which bigger than allowed max 1 . Stopping\n",
      "('Valence of atom', 12, 'is', 2, 'which bigger than allowed max', 1, '. Stopping')\n",
      "<class 'RuntimeError'> <ipython-input-19-f29b74cd61ea> Line Number:23\n",
      "4684: DIDNT WORK,ADDING Y_H MOL FROM SMILES STRING\n"
     ]
    },
    {
     "name": "stderr",
     "output_type": "stream",
     "text": [
      " 50%|████▉     | 4966/10000 [03:11<00:28, 176.42it/s]"
     ]
    },
    {
     "name": "stdout",
     "output_type": "stream",
     "text": [
      "list index out of range\n",
      "<class 'IndexError'> <ipython-input-19-f29b74cd61ea> Line Number:24\n",
      "4981: DIDNT WORK,ADDING Y_H MOL FROM SMILES STRING\n"
     ]
    },
    {
     "name": "stderr",
     "output_type": "stream",
     "text": [
      " 50%|████▉     | 4999/10000 [03:14<03:33, 23.44it/s] "
     ]
    },
    {
     "name": "stdout",
     "output_type": "stream",
     "text": [
      "list index out of range\n",
      "<class 'IndexError'> <ipython-input-19-f29b74cd61ea> Line Number:24\n",
      "5001: DIDNT WORK,ADDING Y_H MOL FROM SMILES STRING\n"
     ]
    },
    {
     "name": "stderr",
     "output_type": "stream",
     "text": [
      " 50%|█████     | 5043/10000 [03:18<06:36, 12.51it/s]"
     ]
    },
    {
     "name": "stdout",
     "output_type": "stream",
     "text": [
      "Valence of atom 8 is 3 which bigger than allowed max 1 . Stopping\n",
      "('Valence of atom', 8, 'is', 3, 'which bigger than allowed max', 1, '. Stopping')\n",
      "<class 'RuntimeError'> <ipython-input-19-f29b74cd61ea> Line Number:23\n",
      "5051: DIDNT WORK,ADDING Y_H MOL FROM SMILES STRING\n",
      "Valence of atom 8 is 3 which bigger than allowed max 1 . Stopping\n",
      "('Valence of atom', 8, 'is', 3, 'which bigger than allowed max', 1, '. Stopping')\n",
      "<class 'RuntimeError'> <ipython-input-19-f29b74cd61ea> Line Number:23\n",
      "5052: DIDNT WORK,ADDING Y_H MOL FROM SMILES STRING\n"
     ]
    },
    {
     "name": "stderr",
     "output_type": "stream",
     "text": [
      " 51%|█████     | 5055/10000 [03:19<06:16, 13.13it/s]"
     ]
    },
    {
     "name": "stdout",
     "output_type": "stream",
     "text": [
      "Valence of atom 12 is 2 which bigger than allowed max 1 . Stopping\n",
      "('Valence of atom', 12, 'is', 2, 'which bigger than allowed max', 1, '. Stopping')\n",
      "<class 'RuntimeError'> <ipython-input-19-f29b74cd61ea> Line Number:23\n",
      "5056: DIDNT WORK,ADDING Y_H MOL FROM SMILES STRING\n"
     ]
    },
    {
     "name": "stderr",
     "output_type": "stream",
     "text": [
      " 52%|█████▏    | 5162/10000 [03:21<02:11, 36.74it/s]"
     ]
    },
    {
     "name": "stdout",
     "output_type": "stream",
     "text": [
      "list index out of range\n",
      "<class 'IndexError'> <ipython-input-19-f29b74cd61ea> Line Number:24\n",
      "5171: DIDNT WORK,ADDING Y_H MOL FROM SMILES STRING\n"
     ]
    },
    {
     "name": "stderr",
     "output_type": "stream",
     "text": [
      " 54%|█████▎    | 5358/10000 [03:23<00:32, 140.77it/s]"
     ]
    },
    {
     "name": "stdout",
     "output_type": "stream",
     "text": [
      "list index out of range\n",
      "<class 'IndexError'> <ipython-input-19-f29b74cd61ea> Line Number:24\n",
      "5371: DIDNT WORK,ADDING Y_H MOL FROM SMILES STRING\n"
     ]
    },
    {
     "name": "stderr",
     "output_type": "stream",
     "text": [
      " 55%|█████▍    | 5464/10000 [03:28<01:23, 54.05it/s] "
     ]
    },
    {
     "name": "stdout",
     "output_type": "stream",
     "text": [
      "Valence of atom 10 is 2 which bigger than allowed max 1 . Stopping\n",
      "('Valence of atom', 10, 'is', 2, 'which bigger than allowed max', 1, '. Stopping')\n",
      "<class 'RuntimeError'> <ipython-input-19-f29b74cd61ea> Line Number:23\n",
      "5470: DIDNT WORK,ADDING Y_H MOL FROM SMILES STRING\n",
      "Valence of atom 12 is 2 which bigger than allowed max 1 . Stopping\n",
      "('Valence of atom', 12, 'is', 2, 'which bigger than allowed max', 1, '. Stopping')\n",
      "<class 'RuntimeError'> <ipython-input-19-f29b74cd61ea> Line Number:23\n",
      "5474: DIDNT WORK,ADDING Y_H MOL FROM SMILES STRING\n"
     ]
    },
    {
     "name": "stderr",
     "output_type": "stream",
     "text": [
      " 56%|█████▌    | 5584/10000 [03:33<03:17, 22.32it/s]"
     ]
    },
    {
     "name": "stdout",
     "output_type": "stream",
     "text": [
      "Valence of atom 8 is 2 which bigger than allowed max 1 . Stopping\n",
      "('Valence of atom', 8, 'is', 2, 'which bigger than allowed max', 1, '. Stopping')\n",
      "<class 'RuntimeError'> <ipython-input-19-f29b74cd61ea> Line Number:23\n",
      "5595: DIDNT WORK,ADDING Y_H MOL FROM SMILES STRING\n"
     ]
    },
    {
     "name": "stderr",
     "output_type": "stream",
     "text": [
      " 56%|█████▌    | 5596/10000 [03:33<02:49, 25.93it/s]"
     ]
    },
    {
     "name": "stdout",
     "output_type": "stream",
     "text": [
      "Valence of atom 12 is 2 which bigger than allowed max 1 . Stopping\n",
      "('Valence of atom', 12, 'is', 2, 'which bigger than allowed max', 1, '. Stopping')\n",
      "<class 'RuntimeError'> <ipython-input-19-f29b74cd61ea> Line Number:23\n",
      "5596: DIDNT WORK,ADDING Y_H MOL FROM SMILES STRING\n",
      "Valence of atom 5 is 2 which bigger than allowed max 1 . Stopping\n",
      "('Valence of atom', 5, 'is', 2, 'which bigger than allowed max', 1, '. Stopping')\n",
      "<class 'RuntimeError'> <ipython-input-19-f29b74cd61ea> Line Number:23\n",
      "5597: DIDNT WORK,ADDING Y_H MOL FROM SMILES STRING\n"
     ]
    },
    {
     "name": "stderr",
     "output_type": "stream",
     "text": [
      " 61%|██████▏   | 6126/10000 [03:42<00:31, 122.66it/s]"
     ]
    },
    {
     "name": "stdout",
     "output_type": "stream",
     "text": [
      "Valence of atom 13 is 2 which bigger than allowed max 1 . Stopping\n",
      "('Valence of atom', 13, 'is', 2, 'which bigger than allowed max', 1, '. Stopping')\n",
      "<class 'RuntimeError'> <ipython-input-19-f29b74cd61ea> Line Number:23\n",
      "6134: DIDNT WORK,ADDING Y_H MOL FROM SMILES STRING\n",
      "Valence of atom 9 is 2 which bigger than allowed max 1 . Stopping\n",
      "('Valence of atom', 9, 'is', 2, 'which bigger than allowed max', 1, '. Stopping')\n",
      "<class 'RuntimeError'> <ipython-input-19-f29b74cd61ea> Line Number:23\n",
      "6140: DIDNT WORK,ADDING Y_H MOL FROM SMILES STRING\n"
     ]
    },
    {
     "name": "stderr",
     "output_type": "stream",
     "text": [
      " 61%|██████▏   | 6141/10000 [03:44<01:56, 33.26it/s] "
     ]
    },
    {
     "name": "stdout",
     "output_type": "stream",
     "text": [
      "Valence of atom 7 is 5 which bigger than allowed max 4 . Stopping\n",
      "('Valence of atom', 7, 'is', 5, 'which bigger than allowed max', 4, '. Stopping')\n",
      "<class 'RuntimeError'> <ipython-input-19-f29b74cd61ea> Line Number:23\n",
      "6141: DIDNT WORK,ADDING Y_H MOL FROM SMILES STRING\n"
     ]
    },
    {
     "name": "stderr",
     "output_type": "stream",
     "text": [
      " 62%|██████▏   | 6246/10000 [03:52<06:44,  9.29it/s]"
     ]
    },
    {
     "name": "stdout",
     "output_type": "stream",
     "text": [
      "Valence of atom 10 is 3 which bigger than allowed max 1 . Stopping\n",
      "('Valence of atom', 10, 'is', 3, 'which bigger than allowed max', 1, '. Stopping')\n",
      "<class 'RuntimeError'> <ipython-input-19-f29b74cd61ea> Line Number:23\n",
      "6251: DIDNT WORK,ADDING Y_H MOL FROM SMILES STRING\n",
      "Valence of atom 11 is 2 which bigger than allowed max 1 . Stopping\n",
      "('Valence of atom', 11, 'is', 2, 'which bigger than allowed max', 1, '. Stopping')\n",
      "<class 'RuntimeError'> <ipython-input-19-f29b74cd61ea> Line Number:23\n",
      "6252: DIDNT WORK,ADDING Y_H MOL FROM SMILES STRING\n",
      "Valence of atom 11 is 2 which bigger than allowed max 1 . Stopping\n",
      "('Valence of atom', 11, 'is', 2, 'which bigger than allowed max', 1, '. Stopping')\n",
      "<class 'RuntimeError'> <ipython-input-19-f29b74cd61ea> Line Number:23\n",
      "6253: DIDNT WORK,ADDING Y_H MOL FROM SMILES STRING\n"
     ]
    },
    {
     "name": "stderr",
     "output_type": "stream",
     "text": [
      " 64%|██████▍   | 6450/10000 [03:57<02:09, 27.38it/s] "
     ]
    },
    {
     "name": "stdout",
     "output_type": "stream",
     "text": [
      "Valence of atom 13 is 2 which bigger than allowed max 1 . Stopping\n",
      "('Valence of atom', 13, 'is', 2, 'which bigger than allowed max', 1, '. Stopping')\n",
      "<class 'RuntimeError'> <ipython-input-19-f29b74cd61ea> Line Number:23\n",
      "6461: DIDNT WORK,ADDING Y_H MOL FROM SMILES STRING\n"
     ]
    },
    {
     "name": "stderr",
     "output_type": "stream",
     "text": [
      " 65%|██████▍   | 6462/10000 [03:58<02:51, 20.60it/s]"
     ]
    },
    {
     "name": "stdout",
     "output_type": "stream",
     "text": [
      "Valence of atom 3 is 2 which bigger than allowed max 1 . Stopping\n",
      "('Valence of atom', 3, 'is', 2, 'which bigger than allowed max', 1, '. Stopping')\n",
      "<class 'RuntimeError'> <ipython-input-19-f29b74cd61ea> Line Number:23\n",
      "6470: DIDNT WORK,ADDING Y_H MOL FROM SMILES STRING\n"
     ]
    },
    {
     "name": "stderr",
     "output_type": "stream",
     "text": [
      " 66%|██████▌   | 6595/10000 [04:02<01:47, 31.69it/s]"
     ]
    },
    {
     "name": "stdout",
     "output_type": "stream",
     "text": [
      "Valence of atom 8 is 2 which bigger than allowed max 1 . Stopping\n",
      "('Valence of atom', 8, 'is', 2, 'which bigger than allowed max', 1, '. Stopping')\n",
      "<class 'RuntimeError'> <ipython-input-19-f29b74cd61ea> Line Number:23\n",
      "6598: DIDNT WORK,ADDING Y_H MOL FROM SMILES STRING\n",
      "Valence of atom 11 is 2 which bigger than allowed max 1 . Stopping\n",
      "('Valence of atom', 11, 'is', 2, 'which bigger than allowed max', 1, '. Stopping')\n",
      "<class 'RuntimeError'> <ipython-input-19-f29b74cd61ea> Line Number:23\n",
      "6599: DIDNT WORK,ADDING Y_H MOL FROM SMILES STRING\n"
     ]
    },
    {
     "name": "stderr",
     "output_type": "stream",
     "text": [
      " 68%|██████▊   | 6835/10000 [04:06<00:24, 131.07it/s]"
     ]
    },
    {
     "name": "stdout",
     "output_type": "stream",
     "text": [
      "Valence of atom 10 is 3 which bigger than allowed max 1 . Stopping\n",
      "('Valence of atom', 10, 'is', 3, 'which bigger than allowed max', 1, '. Stopping')\n",
      "<class 'RuntimeError'> <ipython-input-19-f29b74cd61ea> Line Number:23\n",
      "6843: DIDNT WORK,ADDING Y_H MOL FROM SMILES STRING\n",
      "Valence of atom 14 is 2 which bigger than allowed max 1 . Stopping\n",
      "('Valence of atom', 14, 'is', 2, 'which bigger than allowed max', 1, '. Stopping')\n",
      "<class 'RuntimeError'> <ipython-input-19-f29b74cd61ea> Line Number:23\n",
      "6850: DIDNT WORK,ADDING Y_H MOL FROM SMILES STRING\n"
     ]
    },
    {
     "name": "stderr",
     "output_type": "stream",
     "text": [
      " 69%|██████▊   | 6851/10000 [04:09<02:51, 18.33it/s] "
     ]
    },
    {
     "name": "stdout",
     "output_type": "stream",
     "text": [
      "Valence of atom 13 is 2 which bigger than allowed max 1 . Stopping\n",
      "('Valence of atom', 13, 'is', 2, 'which bigger than allowed max', 1, '. Stopping')\n",
      "<class 'RuntimeError'> <ipython-input-19-f29b74cd61ea> Line Number:23\n",
      "6851: DIDNT WORK,ADDING Y_H MOL FROM SMILES STRING\n",
      "Valence of atom 13 is 2 which bigger than allowed max 1 . Stopping\n",
      "('Valence of atom', 13, 'is', 2, 'which bigger than allowed max', 1, '. Stopping')\n",
      "<class 'RuntimeError'> <ipython-input-19-f29b74cd61ea> Line Number:23\n",
      "6852: DIDNT WORK,ADDING Y_H MOL FROM SMILES STRING\n",
      "Valence of atom 12 is 2 which bigger than allowed max 1 . Stopping\n",
      "('Valence of atom', 12, 'is', 2, 'which bigger than allowed max', 1, '. Stopping')\n",
      "<class 'RuntimeError'> <ipython-input-19-f29b74cd61ea> Line Number:23\n",
      "6853: DIDNT WORK,ADDING Y_H MOL FROM SMILES STRING\n",
      "Valence of atom 3 is 2 which bigger than allowed max 1 . Stopping\n",
      "('Valence of atom', 3, 'is', 2, 'which bigger than allowed max', 1, '. Stopping')\n",
      "<class 'RuntimeError'> <ipython-input-19-f29b74cd61ea> Line Number:23\n",
      "6856: DIDNT WORK,ADDING Y_H MOL FROM SMILES STRING\n",
      "Valence of atom 3 is 2 which bigger than allowed max 1 . Stopping\n",
      "('Valence of atom', 3, 'is', 2, 'which bigger than allowed max', 1, '. Stopping')\n",
      "<class 'RuntimeError'> <ipython-input-19-f29b74cd61ea> Line Number:23\n",
      "6857: DIDNT WORK,ADDING Y_H MOL FROM SMILES STRING\n"
     ]
    },
    {
     "name": "stderr",
     "output_type": "stream",
     "text": [
      " 70%|███████   | 7040/10000 [04:16<01:44, 28.24it/s]"
     ]
    },
    {
     "name": "stdout",
     "output_type": "stream",
     "text": [
      "Valence of atom 10 is 3 which bigger than allowed max 1 . Stopping\n",
      "('Valence of atom', 10, 'is', 3, 'which bigger than allowed max', 1, '. Stopping')\n",
      "<class 'RuntimeError'> <ipython-input-19-f29b74cd61ea> Line Number:23\n",
      "7044: DIDNT WORK,ADDING Y_H MOL FROM SMILES STRING\n"
     ]
    },
    {
     "name": "stderr",
     "output_type": "stream",
     "text": [
      " 70%|███████   | 7050/10000 [04:16<01:56, 25.28it/s]"
     ]
    },
    {
     "name": "stdout",
     "output_type": "stream",
     "text": [
      "Valence of atom 8 is 5 which bigger than allowed max 4 . Stopping\n",
      "('Valence of atom', 8, 'is', 5, 'which bigger than allowed max', 4, '. Stopping')\n",
      "<class 'RuntimeError'> <ipython-input-19-f29b74cd61ea> Line Number:23\n",
      "7067: DIDNT WORK,ADDING Y_H MOL FROM SMILES STRING\n"
     ]
    },
    {
     "name": "stderr",
     "output_type": "stream",
     "text": [
      " 74%|███████▍  | 7387/10000 [04:43<03:52, 11.24it/s] "
     ]
    },
    {
     "name": "stdout",
     "output_type": "stream",
     "text": [
      "Valence of atom 9 is 2 which bigger than allowed max 1 . Stopping\n",
      "('Valence of atom', 9, 'is', 2, 'which bigger than allowed max', 1, '. Stopping')\n",
      "<class 'RuntimeError'> <ipython-input-19-f29b74cd61ea> Line Number:23\n",
      "7400: DIDNT WORK,ADDING Y_H MOL FROM SMILES STRING\n"
     ]
    },
    {
     "name": "stderr",
     "output_type": "stream",
     "text": [
      " 74%|███████▍  | 7401/10000 [04:43<03:13, 13.44it/s]"
     ]
    },
    {
     "name": "stdout",
     "output_type": "stream",
     "text": [
      "Valence of atom 8 is 3 which bigger than allowed max 1 . Stopping\n",
      "('Valence of atom', 8, 'is', 3, 'which bigger than allowed max', 1, '. Stopping')\n",
      "<class 'RuntimeError'> <ipython-input-19-f29b74cd61ea> Line Number:23\n",
      "7401: DIDNT WORK,ADDING Y_H MOL FROM SMILES STRING\n",
      "Valence of atom 9 is 2 which bigger than allowed max 1 . Stopping\n",
      "('Valence of atom', 9, 'is', 2, 'which bigger than allowed max', 1, '. Stopping')\n",
      "<class 'RuntimeError'> <ipython-input-19-f29b74cd61ea> Line Number:23\n",
      "7402: DIDNT WORK,ADDING Y_H MOL FROM SMILES STRING\n",
      "Valence of atom 13 is 2 which bigger than allowed max 1 . Stopping\n",
      "('Valence of atom', 13, 'is', 2, 'which bigger than allowed max', 1, '. Stopping')\n",
      "<class 'RuntimeError'> <ipython-input-19-f29b74cd61ea> Line Number:23\n",
      "7406: DIDNT WORK,ADDING Y_H MOL FROM SMILES STRING\n"
     ]
    },
    {
     "name": "stderr",
     "output_type": "stream",
     "text": [
      " 76%|███████▌  | 7577/10000 [04:49<00:37, 64.76it/s]"
     ]
    },
    {
     "name": "stdout",
     "output_type": "stream",
     "text": [
      "list index out of range\n",
      "<class 'IndexError'> <ipython-input-19-f29b74cd61ea> Line Number:24\n",
      "7578: DIDNT WORK,ADDING Y_H MOL FROM SMILES STRING\n"
     ]
    },
    {
     "name": "stderr",
     "output_type": "stream",
     "text": [
      " 76%|███████▌  | 7604/10000 [04:52<02:32, 15.68it/s]"
     ]
    },
    {
     "name": "stdout",
     "output_type": "stream",
     "text": [
      "Valence of atom 12 is 2 which bigger than allowed max 1 . Stopping\n",
      "('Valence of atom', 12, 'is', 2, 'which bigger than allowed max', 1, '. Stopping')\n",
      "<class 'RuntimeError'> <ipython-input-19-f29b74cd61ea> Line Number:23\n",
      "7611: DIDNT WORK,ADDING Y_H MOL FROM SMILES STRING\n"
     ]
    },
    {
     "name": "stderr",
     "output_type": "stream",
     "text": [
      " 79%|███████▉  | 7894/10000 [04:57<01:16, 27.55it/s] "
     ]
    },
    {
     "name": "stdout",
     "output_type": "stream",
     "text": [
      "Valence of atom 8 is 2 which bigger than allowed max 1 . Stopping\n",
      "('Valence of atom', 8, 'is', 2, 'which bigger than allowed max', 1, '. Stopping')\n",
      "<class 'RuntimeError'> <ipython-input-19-f29b74cd61ea> Line Number:23\n",
      "7913: DIDNT WORK,ADDING Y_H MOL FROM SMILES STRING\n"
     ]
    },
    {
     "name": "stderr",
     "output_type": "stream",
     "text": [
      " 79%|███████▉  | 7914/10000 [04:57<01:07, 31.06it/s]"
     ]
    },
    {
     "name": "stdout",
     "output_type": "stream",
     "text": [
      "Valence of atom 12 is 2 which bigger than allowed max 1 . Stopping\n",
      "('Valence of atom', 12, 'is', 2, 'which bigger than allowed max', 1, '. Stopping')\n",
      "<class 'RuntimeError'> <ipython-input-19-f29b74cd61ea> Line Number:23\n",
      "7914: DIDNT WORK,ADDING Y_H MOL FROM SMILES STRING\n",
      "Valence of atom 2 is 3 which bigger than allowed max 1 . Stopping\n",
      "('Valence of atom', 2, 'is', 3, 'which bigger than allowed max', 1, '. Stopping')\n",
      "<class 'RuntimeError'> <ipython-input-19-f29b74cd61ea> Line Number:23\n",
      "7915: DIDNT WORK,ADDING Y_H MOL FROM SMILES STRING\n",
      "Valence of atom 2 is 3 which bigger than allowed max 1 . Stopping\n",
      "('Valence of atom', 2, 'is', 3, 'which bigger than allowed max', 1, '. Stopping')\n",
      "<class 'RuntimeError'> <ipython-input-19-f29b74cd61ea> Line Number:23\n",
      "7916: DIDNT WORK,ADDING Y_H MOL FROM SMILES STRING\n",
      "Valence of atom 13 is 2 which bigger than allowed max 1 . Stopping\n",
      "('Valence of atom', 13, 'is', 2, 'which bigger than allowed max', 1, '. Stopping')\n",
      "<class 'RuntimeError'> <ipython-input-19-f29b74cd61ea> Line Number:23\n",
      "7917: DIDNT WORK,ADDING Y_H MOL FROM SMILES STRING\n",
      "Valence of atom 13 is 2 which bigger than allowed max 1 . Stopping\n",
      "('Valence of atom', 13, 'is', 2, 'which bigger than allowed max', 1, '. Stopping')\n",
      "<class 'RuntimeError'> <ipython-input-19-f29b74cd61ea> Line Number:23\n",
      "7918: DIDNT WORK,ADDING Y_H MOL FROM SMILES STRING\n",
      "Valence of atom 10 is 2 which bigger than allowed max 1 . Stopping\n",
      "('Valence of atom', 10, 'is', 2, 'which bigger than allowed max', 1, '. Stopping')\n",
      "<class 'RuntimeError'> <ipython-input-19-f29b74cd61ea> Line Number:23\n",
      "7919: DIDNT WORK,ADDING Y_H MOL FROM SMILES STRING\n"
     ]
    },
    {
     "name": "stderr",
     "output_type": "stream",
     "text": [
      " 81%|████████  | 8072/10000 [05:07<01:54, 16.85it/s]"
     ]
    },
    {
     "name": "stdout",
     "output_type": "stream",
     "text": [
      "Valence of atom 9 is 2 which bigger than allowed max 1 . Stopping\n",
      "('Valence of atom', 9, 'is', 2, 'which bigger than allowed max', 1, '. Stopping')\n",
      "<class 'RuntimeError'> <ipython-input-19-f29b74cd61ea> Line Number:23\n",
      "8081: DIDNT WORK,ADDING Y_H MOL FROM SMILES STRING\n"
     ]
    },
    {
     "name": "stderr",
     "output_type": "stream",
     "text": [
      " 81%|████████  | 8082/10000 [05:07<01:42, 18.73it/s]"
     ]
    },
    {
     "name": "stdout",
     "output_type": "stream",
     "text": [
      "Valence of atom 9 is 2 which bigger than allowed max 1 . Stopping\n",
      "('Valence of atom', 9, 'is', 2, 'which bigger than allowed max', 1, '. Stopping')\n",
      "<class 'RuntimeError'> <ipython-input-19-f29b74cd61ea> Line Number:23\n",
      "8082: DIDNT WORK,ADDING Y_H MOL FROM SMILES STRING\n"
     ]
    },
    {
     "name": "stderr",
     "output_type": "stream",
     "text": [
      " 84%|████████▍ | 8436/10000 [05:13<00:22, 70.94it/s] "
     ]
    },
    {
     "name": "stdout",
     "output_type": "stream",
     "text": [
      "list index out of range\n",
      "<class 'IndexError'> <ipython-input-19-f29b74cd61ea> Line Number:24\n",
      "8438: DIDNT WORK,ADDING Y_H MOL FROM SMILES STRING\n"
     ]
    },
    {
     "name": "stderr",
     "output_type": "stream",
     "text": [
      " 84%|████████▍ | 8449/10000 [05:15<01:19, 19.60it/s]"
     ]
    },
    {
     "name": "stdout",
     "output_type": "stream",
     "text": [
      "Valence of atom 9 is 5 which bigger than allowed max 4 . Stopping\n",
      "('Valence of atom', 9, 'is', 5, 'which bigger than allowed max', 4, '. Stopping')\n",
      "<class 'RuntimeError'> <ipython-input-19-f29b74cd61ea> Line Number:23\n",
      "8457: DIDNT WORK,ADDING Y_H MOL FROM SMILES STRING\n"
     ]
    },
    {
     "name": "stderr",
     "output_type": "stream",
     "text": [
      " 85%|████████▍ | 8458/10000 [06:15<52:40,  2.05s/it]"
     ]
    },
    {
     "name": "stdout",
     "output_type": "stream",
     "text": [
      "Valence of atom 8 is 5 which bigger than allowed max 4 . Stopping\n",
      "('Valence of atom', 8, 'is', 5, 'which bigger than allowed max', 4, '. Stopping')\n",
      "<class 'RuntimeError'> <ipython-input-19-f29b74cd61ea> Line Number:23\n",
      "8458: DIDNT WORK,ADDING Y_H MOL FROM SMILES STRING\n"
     ]
    },
    {
     "name": "stderr",
     "output_type": "stream",
     "text": [
      " 85%|████████▍ | 8459/10000 [07:10<7:42:53, 18.02s/it]"
     ]
    },
    {
     "name": "stdout",
     "output_type": "stream",
     "text": [
      "Valence of atom 7 is 5 which bigger than allowed max 4 . Stopping\n",
      "('Valence of atom', 7, 'is', 5, 'which bigger than allowed max', 4, '. Stopping')\n",
      "<class 'RuntimeError'> <ipython-input-19-f29b74cd61ea> Line Number:23\n",
      "8459: DIDNT WORK,ADDING Y_H MOL FROM SMILES STRING\n"
     ]
    },
    {
     "name": "stderr",
     "output_type": "stream",
     "text": [
      " 85%|████████▍ | 8460/10000 [08:31<15:43:17, 36.75s/it]"
     ]
    },
    {
     "name": "stdout",
     "output_type": "stream",
     "text": [
      "Valence of atom 10 is 5 which bigger than allowed max 4 . Stopping\n",
      "('Valence of atom', 10, 'is', 5, 'which bigger than allowed max', 4, '. Stopping')\n",
      "<class 'RuntimeError'> <ipython-input-19-f29b74cd61ea> Line Number:23\n",
      "8460: DIDNT WORK,ADDING Y_H MOL FROM SMILES STRING\n"
     ]
    },
    {
     "name": "stderr",
     "output_type": "stream",
     "text": [
      " 85%|████████▌ | 8522/10000 [09:04<2:26:02,  5.93s/it] "
     ]
    },
    {
     "name": "stdout",
     "output_type": "stream",
     "text": [
      "Valence of atom 11 is 2 which bigger than allowed max 1 . Stopping\n",
      "('Valence of atom', 11, 'is', 2, 'which bigger than allowed max', 1, '. Stopping')\n",
      "<class 'RuntimeError'> <ipython-input-19-f29b74cd61ea> Line Number:23\n",
      "8526: DIDNT WORK,ADDING Y_H MOL FROM SMILES STRING\n",
      "Valence of atom 11 is 2 which bigger than allowed max 1 . Stopping\n",
      "('Valence of atom', 11, 'is', 2, 'which bigger than allowed max', 1, '. Stopping')\n",
      "<class 'RuntimeError'> <ipython-input-19-f29b74cd61ea> Line Number:23\n",
      "8527: DIDNT WORK,ADDING Y_H MOL FROM SMILES STRING\n",
      "Valence of atom 9 is 2 which bigger than allowed max 1 . Stopping\n",
      "('Valence of atom', 9, 'is', 2, 'which bigger than allowed max', 1, '. Stopping')\n",
      "<class 'RuntimeError'> <ipython-input-19-f29b74cd61ea> Line Number:23\n",
      "8528: DIDNT WORK,ADDING Y_H MOL FROM SMILES STRING\n"
     ]
    },
    {
     "name": "stderr",
     "output_type": "stream",
     "text": [
      " 86%|████████▌ | 8550/10000 [09:06<1:11:00,  2.94s/it]"
     ]
    },
    {
     "name": "stdout",
     "output_type": "stream",
     "text": [
      "Valence of atom 7 is 5 which bigger than allowed max 4 . Stopping\n",
      "('Valence of atom', 7, 'is', 5, 'which bigger than allowed max', 4, '. Stopping')\n",
      "<class 'RuntimeError'> <ipython-input-19-f29b74cd61ea> Line Number:23\n",
      "8562: DIDNT WORK,ADDING Y_H MOL FROM SMILES STRING\n"
     ]
    },
    {
     "name": "stderr",
     "output_type": "stream",
     "text": [
      " 86%|████████▌ | 8563/10000 [09:06<49:29,  2.07s/it]  "
     ]
    },
    {
     "name": "stdout",
     "output_type": "stream",
     "text": [
      "Valence of atom 0 is 5 which bigger than allowed max 4 . Stopping\n",
      "('Valence of atom', 0, 'is', 5, 'which bigger than allowed max', 4, '. Stopping')\n",
      "<class 'RuntimeError'> <ipython-input-19-f29b74cd61ea> Line Number:23\n",
      "8563: DIDNT WORK,ADDING Y_H MOL FROM SMILES STRING\n"
     ]
    },
    {
     "name": "stderr",
     "output_type": "stream",
     "text": [
      " 86%|████████▋ | 8638/10000 [09:07<05:51,  3.88it/s]"
     ]
    },
    {
     "name": "stdout",
     "output_type": "stream",
     "text": [
      "Valence of atom 16 is 5 which bigger than allowed max 4 . Stopping\n",
      "('Valence of atom', 16, 'is', 5, 'which bigger than allowed max', 4, '. Stopping')\n",
      "<class 'RuntimeError'> <ipython-input-19-f29b74cd61ea> Line Number:23\n",
      "8647: DIDNT WORK,ADDING Y_H MOL FROM SMILES STRING\n"
     ]
    },
    {
     "name": "stderr",
     "output_type": "stream",
     "text": [
      " 86%|████████▋ | 8648/10000 [09:10<05:30,  4.09it/s]"
     ]
    },
    {
     "name": "stdout",
     "output_type": "stream",
     "text": [
      "Valence of atom 16 is 5 which bigger than allowed max 4 . Stopping\n",
      "('Valence of atom', 16, 'is', 5, 'which bigger than allowed max', 4, '. Stopping')\n",
      "<class 'RuntimeError'> <ipython-input-19-f29b74cd61ea> Line Number:23\n",
      "8653: DIDNT WORK,ADDING Y_H MOL FROM SMILES STRING\n"
     ]
    },
    {
     "name": "stderr",
     "output_type": "stream",
     "text": [
      " 89%|████████▊ | 8854/10000 [09:19<00:26, 42.63it/s]"
     ]
    },
    {
     "name": "stdout",
     "output_type": "stream",
     "text": [
      "Valence of atom 10 is 2 which bigger than allowed max 1 . Stopping\n",
      "('Valence of atom', 10, 'is', 2, 'which bigger than allowed max', 1, '. Stopping')\n",
      "<class 'RuntimeError'> <ipython-input-19-f29b74cd61ea> Line Number:23\n",
      "8855: DIDNT WORK,ADDING Y_H MOL FROM SMILES STRING\n"
     ]
    },
    {
     "name": "stderr",
     "output_type": "stream",
     "text": [
      " 90%|████████▉ | 8956/10000 [09:22<00:28, 36.74it/s]"
     ]
    },
    {
     "name": "stdout",
     "output_type": "stream",
     "text": [
      "Valence of atom 15 is 5 which bigger than allowed max 4 . Stopping\n",
      "('Valence of atom', 15, 'is', 5, 'which bigger than allowed max', 4, '. Stopping')\n",
      "<class 'RuntimeError'> <ipython-input-19-f29b74cd61ea> Line Number:23\n",
      "8961: DIDNT WORK,ADDING Y_H MOL FROM SMILES STRING\n"
     ]
    },
    {
     "name": "stderr",
     "output_type": "stream",
     "text": [
      " 90%|█████████ | 9004/10000 [09:25<00:41, 23.75it/s]"
     ]
    },
    {
     "name": "stdout",
     "output_type": "stream",
     "text": [
      "Valence of atom 12 is 2 which bigger than allowed max 1 . Stopping\n",
      "('Valence of atom', 12, 'is', 2, 'which bigger than allowed max', 1, '. Stopping')\n",
      "<class 'RuntimeError'> <ipython-input-19-f29b74cd61ea> Line Number:23\n",
      "9016: DIDNT WORK,ADDING Y_H MOL FROM SMILES STRING\n"
     ]
    },
    {
     "name": "stderr",
     "output_type": "stream",
     "text": [
      " 92%|█████████▏| 9245/10000 [09:29<00:20, 36.16it/s] "
     ]
    },
    {
     "name": "stdout",
     "output_type": "stream",
     "text": [
      "Valence of atom 14 is 2 which bigger than allowed max 1 . Stopping\n",
      "('Valence of atom', 14, 'is', 2, 'which bigger than allowed max', 1, '. Stopping')\n",
      "<class 'RuntimeError'> <ipython-input-19-f29b74cd61ea> Line Number:23\n",
      "9264: DIDNT WORK,ADDING Y_H MOL FROM SMILES STRING\n"
     ]
    },
    {
     "name": "stderr",
     "output_type": "stream",
     "text": [
      " 93%|█████████▎| 9265/10000 [09:30<00:25, 28.43it/s]"
     ]
    },
    {
     "name": "stdout",
     "output_type": "stream",
     "text": [
      "Valence of atom 13 is 2 which bigger than allowed max 1 . Stopping\n",
      "('Valence of atom', 13, 'is', 2, 'which bigger than allowed max', 1, '. Stopping')\n",
      "<class 'RuntimeError'> <ipython-input-19-f29b74cd61ea> Line Number:23\n",
      "9267: DIDNT WORK,ADDING Y_H MOL FROM SMILES STRING\n"
     ]
    },
    {
     "name": "stderr",
     "output_type": "stream",
     "text": [
      " 94%|█████████▍| 9402/10000 [09:38<01:33,  6.42it/s]"
     ]
    },
    {
     "name": "stdout",
     "output_type": "stream",
     "text": [
      "Valence of atom 11 is 3 which bigger than allowed max 1 . Stopping\n",
      "('Valence of atom', 11, 'is', 3, 'which bigger than allowed max', 1, '. Stopping')\n",
      "<class 'RuntimeError'> <ipython-input-19-f29b74cd61ea> Line Number:23\n",
      "9402: DIDNT WORK,ADDING Y_H MOL FROM SMILES STRING\n",
      "Valence of atom 12 is 2 which bigger than allowed max 1 . Stopping\n",
      "('Valence of atom', 12, 'is', 2, 'which bigger than allowed max', 1, '. Stopping')\n",
      "<class 'RuntimeError'> <ipython-input-19-f29b74cd61ea> Line Number:23\n",
      "9403: DIDNT WORK,ADDING Y_H MOL FROM SMILES STRING\n",
      "Valence of atom 8 is 2 which bigger than allowed max 1 . Stopping\n",
      "('Valence of atom', 8, 'is', 2, 'which bigger than allowed max', 1, '. Stopping')\n",
      "<class 'RuntimeError'> <ipython-input-19-f29b74cd61ea> Line Number:23\n",
      "9406: DIDNT WORK,ADDING Y_H MOL FROM SMILES STRING\n"
     ]
    },
    {
     "name": "stderr",
     "output_type": "stream",
     "text": [
      " 95%|█████████▍| 9469/10000 [09:40<00:29, 17.76it/s]"
     ]
    },
    {
     "name": "stdout",
     "output_type": "stream",
     "text": [
      "list index out of range\n",
      "<class 'IndexError'> <ipython-input-19-f29b74cd61ea> Line Number:24\n",
      "9473: DIDNT WORK,ADDING Y_H MOL FROM SMILES STRING\n"
     ]
    },
    {
     "name": "stderr",
     "output_type": "stream",
     "text": [
      " 96%|█████████▋| 9650/10000 [09:43<00:09, 38.33it/s] "
     ]
    },
    {
     "name": "stdout",
     "output_type": "stream",
     "text": [
      "Valence of atom 12 is 2 which bigger than allowed max 1 . Stopping\n",
      "('Valence of atom', 12, 'is', 2, 'which bigger than allowed max', 1, '. Stopping')\n",
      "<class 'RuntimeError'> <ipython-input-19-f29b74cd61ea> Line Number:23\n",
      "9660: DIDNT WORK,ADDING Y_H MOL FROM SMILES STRING\n"
     ]
    },
    {
     "name": "stderr",
     "output_type": "stream",
     "text": [
      " 97%|█████████▋| 9662/10000 [09:44<00:11, 29.05it/s]"
     ]
    },
    {
     "name": "stdout",
     "output_type": "stream",
     "text": [
      "Valence of atom 8 is 2 which bigger than allowed max 1 . Stopping\n",
      "('Valence of atom', 8, 'is', 2, 'which bigger than allowed max', 1, '. Stopping')\n",
      "<class 'RuntimeError'> <ipython-input-19-f29b74cd61ea> Line Number:23\n",
      "9666: DIDNT WORK,ADDING Y_H MOL FROM SMILES STRING\n"
     ]
    },
    {
     "name": "stderr",
     "output_type": "stream",
     "text": [
      " 97%|█████████▋| 9686/10000 [09:45<00:11, 26.46it/s]"
     ]
    },
    {
     "name": "stdout",
     "output_type": "stream",
     "text": [
      "Valence of atom 28 is 2 which bigger than allowed max 1 . Stopping\n",
      "('Valence of atom', 28, 'is', 2, 'which bigger than allowed max', 1, '. Stopping')\n",
      "<class 'RuntimeError'> <ipython-input-19-f29b74cd61ea> Line Number:23\n",
      "9693: DIDNT WORK,ADDING Y_H MOL FROM SMILES STRING\n"
     ]
    },
    {
     "name": "stderr",
     "output_type": "stream",
     "text": [
      " 98%|█████████▊| 9843/10000 [09:52<00:06, 22.87it/s]"
     ]
    },
    {
     "name": "stdout",
     "output_type": "stream",
     "text": [
      "Valence of atom 14 is 2 which bigger than allowed max 1 . Stopping\n",
      "('Valence of atom', 14, 'is', 2, 'which bigger than allowed max', 1, '. Stopping')\n",
      "<class 'RuntimeError'> <ipython-input-19-f29b74cd61ea> Line Number:23\n",
      "9851: DIDNT WORK,ADDING Y_H MOL FROM SMILES STRING\n",
      "Valence of atom 14 is 2 which bigger than allowed max 1 . Stopping\n",
      "('Valence of atom', 14, 'is', 2, 'which bigger than allowed max', 1, '. Stopping')\n",
      "<class 'RuntimeError'> <ipython-input-19-f29b74cd61ea> Line Number:23\n",
      "9852: DIDNT WORK,ADDING Y_H MOL FROM SMILES STRING\n"
     ]
    },
    {
     "name": "stderr",
     "output_type": "stream",
     "text": [
      "100%|██████████| 10000/10000 [09:55<00:00, 16.78it/s]\n"
     ]
    }
   ],
   "source": [
    "\"\"\"\n",
    "This block of code gets the optimized y_h geometry, then converts the xyz array into a rdkit mol object\n",
    "We need the mole object to be able to subsequently remove the H atom and make an ylide_rad starting geometry.\n",
    "\n",
    "If the conversion fails then the geometry is generating using the function mk_xyz_from_smiles_string()\n",
    "\n",
    "Common Erros: atom coords were not extracted so I am passing in [] which will throw an error. Need to fix in\n",
    "Ylide_Data_Analysis\n",
    "\"\"\"\n",
    "yr_redo=[]\n",
    "failed_yh_to_yr=[]\n",
    "ylide_carbo=Chem.MolFromSmiles('O=CN[N+](C)(C)C')\n",
    "n=len(atom_coords[2])\n",
    "mols=[]\n",
    "start=0\n",
    "stop=10000\n",
    "for i,s in enumerate(tqdm(range(start,stop))):\n",
    "\n",
    "    try:\n",
    "        charge=charges[2][s]\n",
    "        make_xyz_from_array('temp_xyz',atom_coords_fully_opt[2][s],atom_labels[2][s],include_charge=True,charge=charge)\n",
    "        atoms, charge_read, coordinates = x2m.read_xyz_file('temp_xyz.xyz') \n",
    "        mol = x2m.xyz2mol(atoms, coordinates, charge=charge) #Can also use charge read defined on the previous line\n",
    "        if mol[0].HasSubstructMatch(ylide_carbo):\n",
    "            mols.append(mol[0])\n",
    "        else:\n",
    "            yr_redo.append(s)\n",
    "            failed_yh_to_yr.append(s)\n",
    "            temp_mol=mk_xyz_from_smiles_string(yh[s],'',numConfs=100,conf_id=False,randomseed=0xf00d,return_mol=True,write_file=False)\n",
    "            mols.append(temp_mol)\n",
    "    except Exception as e:\n",
    "        \n",
    "        failed_yh_to_yr.append(s) #This is mainly for record keeping at this point\n",
    "\n",
    "        #print(f'{i}: DIDNT WORK,ADDING [Ar]')  \n",
    "        #mols.append(Chem.MolFromSmiles('[Ar]')) #This should really be changed to append ylide_h mols that is MMMF optimized instead of [Ar]\n",
    "        \n",
    "        exc_type, exc_obj, exc_tb = sys.exc_info()\n",
    "        fname = os.path.split(exc_tb.tb_frame.f_code.co_filename)[1]\n",
    "        print(e)       \n",
    "        print(exc_type, fname, f'Line Number:{exc_tb.tb_lineno}')\n",
    "        \n",
    "        print(f'{s}: DIDNT WORK,ADDING Y_H MOL FROM SMILES STRING')\n",
    "        temp_mol=mk_xyz_from_smiles_string(yh[s],'',numConfs=100,conf_id=False,randomseed=0xf00d,return_mol=True,write_file=False)\n",
    "        mols.append(temp_mol)\n",
    "\n",
    "        \n",
    "#All the errors are from molecules that did not converge\n",
    "    \n",
    "if os.path.exists('temp_xyz.xyz'):\n",
    "    os.remove('temp_xyz.xyz')\n",
    "else:\n",
    "    print(\"The file does not exist\")\n",
    "    \n"
   ]
  },
  {
   "cell_type": "code",
   "execution_count": 20,
   "metadata": {},
   "outputs": [],
   "source": [
    "with open(\"../pickled_data/mol.pkl\", \"wb\") as file:\n",
    "    pickle.dump(mols, file)"
   ]
  },
  {
   "cell_type": "markdown",
   "metadata": {},
   "source": [
    "### Remove H Atom From Ylide and Make N Radical"
   ]
  },
  {
   "cell_type": "code",
   "execution_count": 27,
   "metadata": {},
   "outputs": [
    {
     "name": "stderr",
     "output_type": "stream",
     "text": [
      "100%|██████████| 10000/10000 [00:02<00:00, 4318.27it/s]\n"
     ]
    }
   ],
   "source": [
    "\"\"\"\n",
    "Get the indices of the hydrogen and radicals and store them in a list\n",
    "so that we know which hydrogens to remove\n",
    "\n",
    "\"\"\"\n",
    "\n",
    "new_ylide_rad_xyz=[]\n",
    "ylide_count=0\n",
    "H_remove_index=[]\n",
    "N_index=[]\n",
    "for i,m in enumerate(tqdm(mols)):\n",
    "    \n",
    "    for atom in m.GetAtoms():\n",
    "        if atom.GetSymbol() == 'N':\n",
    "            \n",
    "            neighbors=atom.GetNeighbors()\n",
    "            neighbor_symbols=[x.GetSymbol() for x in neighbors]\n",
    "            \n",
    "            if 'H' in neighbor_symbols and 'N' in neighbor_symbols and 'C' in neighbor_symbols: #Check that the correct neighbors are connected\n",
    "                \n",
    "                for n in neighbors:\n",
    "                    if n.GetSymbol()=='N':\n",
    "                        if n.GetFormalCharge()==1: #Make sure the connected N has a formal charge of 1\n",
    "\n",
    "                            index=neighbor_symbols.index('H')\n",
    "                            n_index=atom.GetIdx()\n",
    "\n",
    "                            H_remove_index.append(neighbors[index].GetIdx())\n",
    "                            N_index.append(n_index)\n",
    "                            if i != len(H_remove_index)-1:\n",
    "                                print(i+start)\n",
    "                            \n",
    "\n",
    "        if atom.GetSymbol() == 'Ar':\n",
    "            H_remove_index.append(-1)\n",
    "            N_index.append(-1)\n",
    "    "
   ]
  },
  {
   "cell_type": "code",
   "execution_count": 30,
   "metadata": {},
   "outputs": [
    {
     "name": "stderr",
     "output_type": "stream",
     "text": [
      "100%|██████████| 10000/10000 [00:00<00:00, 20381.70it/s]\n"
     ]
    }
   ],
   "source": [
    "\"\"\"\n",
    "Remove hydrogen and make N a radical\n",
    "\n",
    "\"\"\"\n",
    "\n",
    "failed_removal=[]\n",
    "ylide_rad_opt=[]\n",
    "for i,h in enumerate(tqdm(H_remove_index)):\n",
    "    try:\n",
    "        m=mols[i]\n",
    "        m2=Chem.rdchem.RWMol(m)\n",
    "        n_index=N_index[i]\n",
    "        m2.GetAtomWithIdx(n_index).SetNumRadicalElectrons(1)\n",
    "        m2.RemoveAtom(h)\n",
    "        \n",
    "        ylide_rad_opt.append(m2.GetMol())\n",
    "        \n",
    "    except Exception as e:\n",
    "        failed_removal.append(i+start)\n",
    "        #print(f'Exception Found with {i+start}')\n",
    "        #ylide_rad_opt.append(Chem.MolFromSmiles('[Ar]')) #This needs to be updated to use mk_xyz_from_smiles_string()\n",
    "        exc_type, exc_obj, exc_tb = sys.exc_info()\n",
    "        fname = os.path.split(exc_tb.tb_frame.f_code.co_filename)[1]\n",
    "        #print(e)       \n",
    "        #print(exc_type, fname, exc_tb.tb_lineno)\n",
    "        temp_mol=mk_xyz_from_smiles_string(yr[i + start],'',numConfs=100,conf_id=False,randomseed=0xf00d,return_mol=True,write_file=False)\n",
    "        ylide_rad_opt.append(temp_mol)\n",
    "        "
   ]
  },
  {
   "cell_type": "code",
   "execution_count": 32,
   "metadata": {},
   "outputs": [
    {
     "name": "stderr",
     "output_type": "stream",
     "text": [
      "100%|██████████| 10000/10000 [00:02<00:00, 4620.91it/s]\n"
     ]
    }
   ],
   "source": [
    "#Get xyz_coords\n",
    "ylide_rad_xyz_coords=[]\n",
    "for i,m in enumerate(tqdm(ylide_rad_opt)):\n",
    "    try:\n",
    "        mb=Chem.MolToMolBlock(m)\n",
    "        xyz=GetCoordsFromMolBlock(mb)\n",
    "        ylide_rad_xyz_coords.append(xyz)\n",
    "    except Exception as e:\n",
    "        print(i)"
   ]
  },
  {
   "cell_type": "markdown",
   "metadata": {},
   "source": [
    "## Save new radical lists"
   ]
  },
  {
   "cell_type": "code",
   "execution_count": 36,
   "metadata": {},
   "outputs": [],
   "source": [
    "overwrite=True\n",
    "if overwrite:\n",
    "    with open(\"../pickled_data/y_rad_from_y_h_xyz_gas.pkl\", \"wb\") as file: #coordinates of y_rad with optimized y_h geometries\n",
    "        pickle.dump(ylide_rad_xyz_coords, file)\n",
    "with open(\"/data1/groups/manthiram_lab/vHTP/Code/ylide/Library/python_scripts/failed_yh_toyr.pkl\", \"wb\") as file:\n",
    "    pickle.dump(failed_yh_to_yr, file)"
   ]
  },
  {
   "cell_type": "code",
   "execution_count": 51,
   "metadata": {},
   "outputs": [],
   "source": [
    "\n",
    "with open(\"../../../../../manthiram_lab_shared/vHTP/Code/ylide/Library/python_scripts/dicts/failed_yh_to_yr.pkl\", \"wb\") as file: #coordinates of y_rad with optimized y_h geometries\n",
    "    pickle.dump(failed_yh_to_yr, file)"
   ]
  },
  {
   "cell_type": "markdown",
   "metadata": {},
   "source": [
    "# Make QM files for y_rad gas from from optimized y_h geometries"
   ]
  },
  {
   "cell_type": "code",
   "execution_count": 37,
   "metadata": {},
   "outputs": [],
   "source": [
    "with open(\"../pickled_data/y_rad_from_y_h_xyz_gas.pkl\",\"rb\") as file: #reload coordinates of y_rad with optimized y_h geometries\n",
    "    pickle_off = pickle.Unpickler(file)\n",
    "    y_rad_from_y_h = pickle_off.load()"
   ]
  },
  {
   "cell_type": "code",
   "execution_count": 48,
   "metadata": {},
   "outputs": [
    {
     "data": {
      "text/plain": [
       "10000"
      ]
     },
     "execution_count": 48,
     "metadata": {},
     "output_type": "execute_result"
    }
   ],
   "source": [
    "len(y_rad_from_y_h)"
   ]
  },
  {
   "cell_type": "code",
   "execution_count": 50,
   "metadata": {},
   "outputs": [
    {
     "name": "stderr",
     "output_type": "stream",
     "text": [
      "100%|██████████| 9023/9023 [02:23<00:00, 62.82it/s] \n"
     ]
    }
   ],
   "source": [
    "#Make xyz files from from optimized geometries\n",
    "\n",
    "actually_make_dirs=True\n",
    "if actually_make_dirs:\n",
    "\n",
    "    z=7\n",
    "    cwd=os.getcwd()\n",
    "    calc_folder='Calcs'\n",
    "\n",
    "    functional='M062X'\n",
    "    basis= 'Def2TZVP'\n",
    "    solvorgas='gas'\n",
    "    solvmethod='SMD'\n",
    "    solvent='acetonitrile'\n",
    "    smi_dict={''    :y,\n",
    "          '_rad' : yr,\n",
    "          '_h'   : yh\n",
    "         }\n",
    "    suffix= ['_rad']\n",
    "    shared_dir='/data1/gridsan/groups/manthiram_lab/vHTP/Code/ylide/Library/Calcs'\n",
    "    \n",
    "    start=0\n",
    "    stop=10000\n",
    "    \n",
    "    molecules=[]\n",
    "    \n",
    "    for i,s in enumerate(range(start,stop)):\n",
    "        \n",
    "        if s < 1000:\n",
    "            if s in failed_yh_to_yr:\n",
    "                molecules.append(s)\n",
    "        else:\n",
    "            molecules.append(s)\n",
    "        \n",
    "            \n",
    "    \n",
    "    \n",
    "    \n",
    "    for i, s in enumerate(tqdm(molecules)):\n",
    "\n",
    "        assert solvorgas == 'gas' or solvorgas=='solv','SOLVORGAS NOT SET TO A VALID VALUE'\n",
    "        \n",
    "        for j, suff in enumerate(suffix): \n",
    "\n",
    "\n",
    "            if solvorgas=='gas':\n",
    "\n",
    "                basepath=f'{shared_dir}/{str(s).zfill(z)}/ylide{suff}/{functional}/{basis}/gas'\n",
    "\n",
    "            elif solvorgas=='solv':\n",
    "\n",
    "                try:\n",
    "                    solvent\n",
    "                except NameError:\n",
    "                    raise Exception('PLEASE SPECIFY A SOLVENT')\n",
    "\n",
    "\n",
    "                basepath=f'{shared_dir}/{str(s).zfill(z)}/ylide{suff}/{functional}/{basis}/{solvent}/{solvmethod}'\n",
    "\n",
    "\n",
    "            os.makedirs(basepath,exist_ok=True)\n",
    "\n",
    "\n",
    "            smi= smi_dict[suff][s]\n",
    "            path=f'{basepath}/{str(s).zfill(z)}_ylide{suff}'\n",
    "\n",
    "            try:        \n",
    "                mk_smi_file(smi,path)\n",
    "                write_xyz_from_xyz_arr(y_rad_from_y_h[s],f'{path}_y_h_opt')\n",
    "                gaussian(f'{path}_y_h_opt',smi,functional=functional,basis=basis,solvorgas=solvorgas,solvmethod=solvmethod,solvent=solvent,mem='180GB',n_proc_shared=48)\n",
    "                gen_gauss_sub_script(f'{path}_y_h_opt')\n",
    "            except Exception as e:\n",
    "                print(e)\n",
    "                exc_type, exc_obj, exc_tb = sys.exc_info()\n",
    "                fname = os.path.split(exc_tb.tb_frame.f_code.co_filename)[1]\n",
    "                print(exc_type, fname, exc_tb.tb_lineno)\n",
    "                print(f'ERROR WITH  MOLECULE NUMBER {s} smiles {path}')"
   ]
  },
  {
   "cell_type": "markdown",
   "metadata": {},
   "source": [
    "# SOLVATION"
   ]
  },
  {
   "cell_type": "markdown",
   "metadata": {},
   "source": [
    "# Make Solvation Scripts using Gas Phase Optimized Geometries"
   ]
  },
  {
   "cell_type": "code",
   "execution_count": 45,
   "metadata": {},
   "outputs": [
    {
     "name": "stderr",
     "output_type": "stream",
     "text": [
      " 45%|████▌     | 4514/10000 [00:33<03:07, 29.30it/s] "
     ]
    },
    {
     "name": "stdout",
     "output_type": "stream",
     "text": [
      "CHIRAL STEROCHEMISTRY REMOVED, SMILES=C[CH]1C(=O)[CH]2C=C[CH]1C2CC(=O)[N-][N+](C)(C)C\n"
     ]
    },
    {
     "name": "stderr",
     "output_type": "stream",
     "text": [
      " 50%|████▉     | 4999/10000 [00:42<00:29, 171.59it/s]"
     ]
    },
    {
     "name": "stdout",
     "output_type": "stream",
     "text": [
      "CHIRAL STEROCHEMISTRY REMOVED, SMILES=CC1(C)C(CC(=O)[N-][N+](C)(C)C)[CH]2CC[CH]1C2\n"
     ]
    },
    {
     "name": "stderr",
     "output_type": "stream",
     "text": [
      " 74%|███████▎  | 7353/10000 [01:27<00:27, 94.96it/s] "
     ]
    },
    {
     "name": "stdout",
     "output_type": "stream",
     "text": [
      "CHIRAL STEROCHEMISTRY REMOVED, SMILES=C[N+](C)(C)[N-]C(=O)CC1C[CH]2C[CH]1[CH]1CCC[CH]21\n"
     ]
    },
    {
     "name": "stderr",
     "output_type": "stream",
     "text": [
      " 78%|███████▊  | 7803/10000 [01:46<00:13, 165.77it/s]"
     ]
    },
    {
     "name": "stdout",
     "output_type": "stream",
     "text": [
      "CHIRAL STEROCHEMISTRY REMOVED, SMILES=C[C]12CO[C]3(CC(=O)[N-][N+](C)(C)C)C[CH]1CC[CH]32\n"
     ]
    },
    {
     "name": "stderr",
     "output_type": "stream",
     "text": [
      "100%|██████████| 10000/10000 [02:36<00:00, 63.93it/s]\n",
      "  7%|▋         | 652/10000 [00:13<07:11, 21.66it/s] RDKit ERROR: [10:31:22] UFFTYPER: Unrecognized charge state for atom: 8\n",
      "RDKit ERROR: [10:31:22] UFFTYPER: Unrecognized charge state for atom: 8\n",
      "  7%|▋         | 662/10000 [00:14<08:46, 17.75it/s]RDKit ERROR: [10:31:23] UFFTYPER: Unrecognized charge state for atom: 1\n",
      "RDKit ERROR: [10:31:23] UFFTYPER: Unrecognized charge state for atom: 1\n",
      "100%|██████████| 10000/10000 [04:29<00:00, 37.16it/s]\n",
      "100%|██████████| 10000/10000 [00:59<00:00, 166.84it/s]\n"
     ]
    }
   ],
   "source": [
    "#Make xyz files from from optimized geometries\n",
    "\n",
    "actually_make_dirs=True\n",
    "failed_gas2solv={}\n",
    "\n",
    "if actually_make_dirs:\n",
    "\n",
    "    z=7\n",
    "    cwd=os.getcwd()\n",
    "    calc_folder='Calcs'\n",
    "\n",
    "    functional='M062X'\n",
    "    basis= 'Def2SVPD'\n",
    "    solvorgas='solv'\n",
    "    solvmethod='SMD'\n",
    "    solvent='acetonitrile'\n",
    "    smi_dict={''    :y,\n",
    "          '_rad' : yr,\n",
    "          '_h'   : yh\n",
    "         }\n",
    "    suffix= ['','_rad','_h']\n",
    "    \n",
    "    #cwd='/home2/gridsan/jmaalouf/vHTP/Code/ylide/Library'\n",
    "    shared_dir='/data1/gridsan/groups/manthiram_lab/vHTP/Code/ylide/Library/Calcs'\n",
    "    \n",
    "    start=0\n",
    "    stop=10000\n",
    "    \n",
    "    #for i, s in enumerate(tqdm(range(start,stop))):\n",
    "    for j,suff in enumerate(suffix):\n",
    "        failed_gas2solv[suff]=[]\n",
    "        \n",
    "        assert solvorgas == 'gas' or solvorgas=='solv','SOLVORGAS NOT SET TO A VALID VALUE'\n",
    "        \n",
    "        #for j, suff in enumerate(suffix):\n",
    "        for i, s in enumerate(tqdm(range(start,stop))):\n",
    "            \n",
    "\n",
    "\n",
    "            if solvorgas=='gas':\n",
    "\n",
    "                #basepath=f'{cwd}/{calc_folder}/{str(s).zfill(z)}/ylide{suff}/{functional}/{basis}/gas'\n",
    "                basepath=f'{shared_dir}/{str(s).zfill(z)}/ylide{suff}/{functional}/{basis}/gas'\n",
    "\n",
    "            elif solvorgas=='solv':\n",
    "\n",
    "                try:\n",
    "                    solvent\n",
    "                except NameError:\n",
    "                    raise Exception('PLEASE SPECIFY A SOLVENT')\n",
    "\n",
    "\n",
    "                #basepath=f'{cwd}/{calc_folder}/{str(s).zfill(z)}/ylide{suff}/{functional}/{basis}/{solvent}/{solvmethod}'\n",
    "                basepath=f'{shared_dir}/{str(s).zfill(z)}/ylide{suff}/{functional}/{basis}/{solvent}/{solvmethod}'\n",
    "\n",
    "\n",
    "            os.makedirs(basepath,exist_ok=True)\n",
    "\n",
    "\n",
    "            smi= smi_dict[suff][s]\n",
    "            path=f'{basepath}/{str(s).zfill(z)}_ylide{suff}'\n",
    "\n",
    "            try:        \n",
    "                mk_smi_file(smi,path)\n",
    "                t=np.transpose( np.array( [atom_labels[j][s]] )  )\n",
    "                temp_xyz=np.hstack((t,atom_coords_fully_opt[j][s].astype('object')))\n",
    "                temp_xyz.astype('object')\n",
    "                write_xyz_from_xyz_arr(temp_xyz,f'{path}_gas_preopt')\n",
    "                gaussian(f'{path}_gas_preopt',smi,functional=functional,basis=basis,solvorgas=solvorgas,solvmethod=solvmethod,solvent=solvent)\n",
    "                gen_gauss_sub_script(f'{path}_gas_preopt')\n",
    "                \n",
    "            except Exception as e:\n",
    "                \n",
    "                failed_gas2solv[suff].append(s)\n",
    "                #Make script the normal way\n",
    "                mk_smi_file(smi,path)\n",
    "                mk_xyz_from_smiles_string(smi,f'{path}_gas_preopt',numConfs=100) #Make the .com file\n",
    "                gaussian(f'{path}_gas_preopt',smi,functional=functional,basis=basis,solvorgas=solvorgas,solvmethod=solvmethod,solvent=solvent,mem='180GB',n_proc_shared=48)\n",
    "                gen_gauss_sub_script(f'{path}_gas_preopt') #Make the .sh file\n",
    "                #print(e)\n",
    "                exc_type, exc_obj, exc_tb = sys.exc_info()\n",
    "                fname = os.path.split(exc_tb.tb_frame.f_code.co_filename)[1]\n",
    "                #print(exc_type, fname, exc_tb.tb_lineno)\n",
    "                #print(f'ERROR WITH  MOLECULE NUMBER {s} smiles {path}')\n"
   ]
  },
  {
   "cell_type": "code",
   "execution_count": 46,
   "metadata": {},
   "outputs": [
    {
     "name": "stdout",
     "output_type": "stream",
     "text": [
      "20\n",
      "162\n",
      "0\n"
     ]
    }
   ],
   "source": [
    "for key in failed_gas2solv:\n",
    "    print(len(failed_gas2solv[key]))"
   ]
  },
  {
   "cell_type": "code",
   "execution_count": 48,
   "metadata": {},
   "outputs": [],
   "source": [
    "with open(\"../pickled_data/failed_gas2solv.pkl\", \"wb\") as file:\n",
    "    pickle.dump(failed_gas2solv, file)"
   ]
  },
  {
   "cell_type": "markdown",
   "metadata": {},
   "source": [
    "# Visualize Difference in Gas Phase and Solution Phase Geometry"
   ]
  },
  {
   "cell_type": "code",
   "execution_count": 7,
   "metadata": {},
   "outputs": [],
   "source": [
    "with open(\"pickled_data/atom_coords_gas.pkl\",\"rb\") as file:\n",
    "    pickle_off = pickle.Unpickler(file)\n",
    "    atom_coords_gas= pickle_off.load()\n",
    "    \n",
    "    \n",
    "with open(\"pickled_data/atom_coords_solv.pkl\",\"rb\") as file:\n",
    "    pickle_off = pickle.Unpickler(file)\n",
    "    atom_coords_solv= pickle_off.load()\n",
    "    \n",
    "    "
   ]
  },
  {
   "cell_type": "code",
   "execution_count": 22,
   "metadata": {},
   "outputs": [],
   "source": [
    "n=84\n",
    "charge=charges[2][n]\n",
    "make_xyz_from_array('temp_xyz',atom_coords_gas[2][n],atom_labels[2][n],include_charge=True,charge=charge)\n",
    "atoms, charge_read, coordinates = x2m.read_xyz_file('temp_xyz.xyz') \n",
    "mol = x2m.xyz2mol(atoms, coordinates, charge=charge) #Can also use charge read defined on the previous line\n",
    "\n",
    "\n",
    "charge=charges[2][n]\n",
    "make_xyz_from_array('temp_xyz',atom_coords_solv[2][n],atom_labels[2][n],include_charge=True,charge=charge)\n",
    "atoms, charge_read, coordinates = x2m.read_xyz_file('temp_xyz.xyz') \n",
    "mol2 = x2m.xyz2mol(atoms, coordinates, charge=charge) #Can also use charge read defined on the previous line"
   ]
  },
  {
   "cell_type": "code",
   "execution_count": 23,
   "metadata": {},
   "outputs": [
    {
     "data": {
      "image/png": "[encoded data removed]",
      "text/plain": [
       "<IPython.core.display.Image object>"
      ]
     },
     "execution_count": 23,
     "metadata": {},
     "output_type": "execute_result"
    }
   ],
   "source": [
    "MolsToGridImage(mol+mol2, molsPerRow=5,subImgSize=(300,200))"
   ]
  },
  {
   "cell_type": "code",
   "execution_count": 24,
   "metadata": {},
   "outputs": [],
   "source": [
    "with open(\"pickled_data/y_h_geom_comp_84.pkl\", \"wb\") as file:\n",
    "    pickle.dump(mol+mol2, file)"
   ]
  },
  {
   "cell_type": "markdown",
   "metadata": {},
   "source": [
    "# Generate Ylide-Rad Starting point with Ylide-H optimized solution phase geometry"
   ]
  },
  {
   "cell_type": "code",
   "execution_count": 26,
   "metadata": {
    "collapsed": true,
    "jupyter": {
     "outputs_hidden": true
    }
   },
   "outputs": [
    {
     "name": "stderr",
     "output_type": "stream",
     "text": [
      " 27%|██▋       | 27/100 [00:01<00:30,  2.39it/s]"
     ]
    },
    {
     "name": "stdout",
     "output_type": "stream",
     "text": [
      "3: DIDNT WORK,ADDING [Ar]\n",
      "not enough values to unpack (expected 2, got 1)\n",
      "<class 'ValueError'> <ipython-input-26-06ee1d111a69> 9\n"
     ]
    },
    {
     "name": "stderr",
     "output_type": "stream",
     "text": [
      "100%|██████████| 100/100 [00:01<00:00, 65.05it/s]"
     ]
    },
    {
     "name": "stdout",
     "output_type": "stream",
     "text": [
      "68: DIDNT WORK,ADDING [Ar]\n",
      "not enough values to unpack (expected 2, got 1)\n",
      "<class 'ValueError'> <ipython-input-26-06ee1d111a69> 9\n",
      "72: DIDNT WORK,ADDING [Ar]\n",
      "not enough values to unpack (expected 2, got 1)\n",
      "<class 'ValueError'> <ipython-input-26-06ee1d111a69> 9\n"
     ]
    },
    {
     "name": "stderr",
     "output_type": "stream",
     "text": [
      "\n"
     ]
    }
   ],
   "source": [
    "n=len(atom_coords_solv[2])\n",
    "mols=[]\n",
    "start=0\n",
    "stop=100\n",
    "for i in tqdm(range(start,stop)):\n",
    "\n",
    "    try:\n",
    "        charge=charges[2][i]\n",
    "        make_xyz_from_array('temp_xyz',atom_coords_solv[2][i],atom_labels[2][i],include_charge=True,charge=charge)\n",
    "        atoms, charge_read, coordinates = x2m.read_xyz_file('temp_xyz.xyz') \n",
    "        mol = x2m.xyz2mol(atoms, coordinates, charge=charge) #Can also use charge read defined on the previous line\n",
    "        mols.append(mol[0])\n",
    "        \n",
    "    except Exception as e:\n",
    "        #print(atom_labels)\n",
    "        if 'P' in atom_labels[2][i] or 'S' in atom_labels[2][i]:\n",
    "            print(f'{i}: MOL CONTAINS S or P')\n",
    "            \n",
    "        print(f'{i}: DIDNT WORK,ADDING [Ar]')\n",
    "        mols.append(Chem.MolFromSmiles('[Ar]'))\n",
    "        \n",
    "        exc_type, exc_obj, exc_tb = sys.exc_info()\n",
    "        fname = os.path.split(exc_tb.tb_frame.f_code.co_filename)[1]\n",
    "        print(e)       \n",
    "        print(exc_type, fname, exc_tb.tb_lineno)\n",
    "    \n",
    "    \n",
    "if os.path.exists('temp_xyz.xyz'): #clean up temp xyz file\n",
    "    os.remove('temp_xyz.xyz')\n",
    "else:\n",
    "    print(\"The file does not exist\")"
   ]
  },
  {
   "cell_type": "markdown",
   "metadata": {},
   "source": [
    "# Remove H atom to form N radical"
   ]
  },
  {
   "cell_type": "code",
   "execution_count": 28,
   "metadata": {},
   "outputs": [
    {
     "name": "stderr",
     "output_type": "stream",
     "text": [
      "100%|██████████| 100/100 [00:00<00:00, 445.92it/s]\n"
     ]
    }
   ],
   "source": [
    "#Get the indices of the hydrogen and radicals \n",
    "new_ylide_rad_xyz=[]\n",
    "ylide_count=0\n",
    "H_remove_index=[]\n",
    "N_index=[]\n",
    "for i,m in enumerate(tqdm(mols)):\n",
    "    \n",
    "    for atom in m.GetAtoms():\n",
    "        if atom.GetSymbol() == 'N':\n",
    "            \n",
    "            neighbors=atom.GetNeighbors()\n",
    "            neighbor_symbols=[x.GetSymbol() for x in neighbors]\n",
    "            \n",
    "            if 'H' in neighbor_symbols and 'N' in neighbor_symbols and 'C' in neighbor_symbols: #Check that the correct neighbors are connected\n",
    "                \n",
    "                for n in neighbors:\n",
    "                    if n.GetSymbol()=='N':\n",
    "                        if n.GetFormalCharge()==1: #Make sure the connected N has a formal charge of 1\n",
    "\n",
    "                            index=neighbor_symbols.index('H')\n",
    "                            n_index=atom.GetIdx()\n",
    "\n",
    "                            H_remove_index.append(neighbors[index].GetIdx())\n",
    "                            N_index.append(n_index)\n",
    "\n",
    "        if atom.GetSymbol() == 'Ar':\n",
    "            H_remove_index.append(-1)\n",
    "            N_index.append(-1)\n",
    "    "
   ]
  },
  {
   "cell_type": "code",
   "execution_count": 15,
   "metadata": {},
   "outputs": [
    {
     "name": "stderr",
     "output_type": "stream",
     "text": [
      "100%|██████████| 2000/2000 [00:00<00:00, 25909.48it/s]"
     ]
    },
    {
     "name": "stdout",
     "output_type": "stream",
     "text": [
      "Exception Found with 1366\n",
      "Range Error\n",
      "\tidx\n",
      "\tViolation occurred on line 198 in file Code/GraphMol/ROMol.cpp\n",
      "\tFailed Expression: 23 < 21\n",
      "\tRDKIT: 2021.03.4\n",
      "\tBOOST: 1_73\n",
      "\n",
      "<class 'RuntimeError'> <ipython-input-15-8c48dfae6393> 10\n",
      "Exception Found with 1367\n",
      "Range Error\n",
      "\tidx\n",
      "\tViolation occurred on line 198 in file Code/GraphMol/ROMol.cpp\n",
      "\tFailed Expression: 25 < 24\n",
      "\tRDKIT: 2021.03.4\n",
      "\tBOOST: 1_73\n",
      "\n",
      "<class 'RuntimeError'> <ipython-input-15-8c48dfae6393> 10\n"
     ]
    },
    {
     "name": "stderr",
     "output_type": "stream",
     "text": [
      "\n"
     ]
    }
   ],
   "source": [
    "#Remove hydrogen and make N a radical\n",
    "#Need to update this to just generate the radical geometry.\n",
    "ylide_rad_opt=[]\n",
    "for i,h in enumerate(tqdm(H_remove_index[0:2000])):\n",
    "    try:\n",
    "        m=mols[i]\n",
    "        m2=Chem.rdchem.RWMol(m)\n",
    "        n_index=N_index[i]\n",
    "        m2.GetAtomWithIdx(n_index).SetNumRadicalElectrons(1)\n",
    "        m2.RemoveAtom(h)\n",
    "        \n",
    "        ylide_rad_opt.append(m2.GetMol())\n",
    "        \n",
    "    except Exception as e:\n",
    "        print(f'Exception Found with {i}')\n",
    "        ylide_rad_opt.append(Chem.MolFromSmiles('[Ar]'))\n",
    "        exc_type, exc_obj, exc_tb = sys.exc_info()\n",
    "        fname = os.path.split(exc_tb.tb_frame.f_code.co_filename)[1]\n",
    "        print(e)       \n",
    "        print(exc_type, fname, exc_tb.tb_lineno)"
   ]
  },
  {
   "cell_type": "code",
   "execution_count": 30,
   "metadata": {},
   "outputs": [
    {
     "name": "stderr",
     "output_type": "stream",
     "text": [
      "100%|██████████| 100/100 [00:01<00:00, 65.78it/s]\n"
     ]
    }
   ],
   "source": [
    "#Get xyz_coords\n",
    "ylide_rad_xyz_coords=[]\n",
    "for i,m in enumerate(tqdm(ylide_rad_opt)):\n",
    "    try:\n",
    "        mb=Chem.MolToMolBlock(m)\n",
    "        xyz=GetCoordsFromMolBlock(mb)\n",
    "        ylide_rad_xyz_coords.append(xyz)\n",
    "    except Exception as e:\n",
    "        print(i)"
   ]
  },
  {
   "cell_type": "code",
   "execution_count": 50,
   "metadata": {},
   "outputs": [],
   "source": [
    "overwrite=True\n",
    "if overwrite:\n",
    "    with open(\"pickled_data/y_rad_from_y_h_xyz_solv.pkl\", \"wb\") as file:\n",
    "        pickle.dump(ylide_rad_xyz_coords, file)"
   ]
  },
  {
   "cell_type": "code",
   "execution_count": 51,
   "metadata": {},
   "outputs": [],
   "source": [
    "with open(\"pickled_data/y_rad_from_y_h_xyz_solv.pkl\",\"rb\") as file:\n",
    "    pickle_off = pickle.Unpickler(file)\n",
    "    y_rad_from_y_h_solv = pickle_off.load()"
   ]
  },
  {
   "cell_type": "markdown",
   "metadata": {},
   "source": [
    "# Make xyz files for y_rad gas from from optimized y_h solution geometries"
   ]
  },
  {
   "cell_type": "code",
   "execution_count": 52,
   "metadata": {},
   "outputs": [
    {
     "name": "stderr",
     "output_type": "stream",
     "text": [
      "100%|██████████| 100/100 [00:11<00:00,  8.53it/s]\n"
     ]
    }
   ],
   "source": [
    "actually_make_dirs=True\n",
    "if actually_make_dirs:\n",
    "\n",
    "    z=7\n",
    "    cwd=os.getcwd()\n",
    "    calc_folder='Calcs'\n",
    "\n",
    "    functional='M062X'\n",
    "    basis= 'Def2TZVP'\n",
    "    solvorgas='solv'\n",
    "    solvmethod='SMD'\n",
    "    solvent='acetonitrile'\n",
    "    smi_dict={''    :y,\n",
    "          '_rad' : yr,\n",
    "          '_h'   : yh\n",
    "         }\n",
    "    suffix= ['_rad']\n",
    "    for i, s in enumerate(tqdm(range(100))):\n",
    "\n",
    "        assert solvorgas == 'gas' or solvorgas=='solv','SOLVORGAS NOT SET TO A VALID VALUE'\n",
    "        \n",
    "        for j, suff in enumerate(suffix): \n",
    "\n",
    "\n",
    "            if solvorgas=='gas':\n",
    "\n",
    "                basepath=f'{cwd}/{calc_folder}/{str(i).zfill(z)}/ylide{suff}/{functional}/{basis}/gas'\n",
    "\n",
    "            elif solvorgas=='solv':\n",
    "\n",
    "                try:\n",
    "                    solvent\n",
    "                except NameError:\n",
    "                    raise Exception('PLEASE SPECIFY A SOLVENT')\n",
    "\n",
    "\n",
    "                basepath=f'{cwd}/{calc_folder}/{str(i).zfill(z)}/ylide{suff}/{functional}/{basis}/{solvent}/{solvmethod}'\n",
    "\n",
    "\n",
    "            os.makedirs(basepath,exist_ok=True)\n",
    "\n",
    "\n",
    "            smi= smi_dict[suff][i]\n",
    "            path=f'{basepath}/{str(i).zfill(z)}_ylide{suff}'\n",
    "\n",
    "            try:        \n",
    "                #mk_smi_file(smi,path)\n",
    "                write_xyz_from_xyz_arr(y_rad_from_y_h_solv[i],f'{path}_y_h_opt')\n",
    "                gaussian(f'{path}_y_h_opt',smi,functional=functional,basis=basis,solvorgas=solvorgas,solvmethod=solvmethod,solvent=solvent)\n",
    "                gen_gauss_sub_script(f'{path}_y_h_opt')\n",
    "            except Exception as e:\n",
    "                print(e)\n",
    "                exc_type, exc_obj, exc_tb = sys.exc_info()\n",
    "                fname = os.path.split(exc_tb.tb_frame.f_code.co_filename)[1]\n",
    "                print(exc_type, fname, exc_tb.tb_lineno)\n",
    "                print(f'ERROR WITH  MOLECULE NUMBER {i} smiles {path}')"
   ]
  },
  {
   "cell_type": "code",
   "execution_count": null,
   "metadata": {},
   "outputs": [],
   "source": []
  }
 ],
 "metadata": {
  "kernelspec": {
   "display_name": "ml",
   "language": "python",
   "name": "ml"
  },
  "language_info": {
   "codemirror_mode": {
    "name": "ipython",
    "version": 3
   },
   "file_extension": ".py",
   "mimetype": "text/x-python",
   "name": "python",
   "nbconvert_exporter": "python",
   "pygments_lexer": "ipython3",
   "version": "3.8.5"
  }
 },
 "nbformat": 4,
 "nbformat_minor": 4
}

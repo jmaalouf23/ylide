{
 "cells": [
  {
   "cell_type": "code",
   "execution_count": 1,
   "metadata": {},
   "outputs": [],
   "source": [
    "import os\n",
    "import sys\n",
    "import glob\n",
    "from tqdm import tqdm\n",
    "import pandas as pd\n",
    "import shutil"
   ]
  },
  {
   "cell_type": "code",
   "execution_count": 2,
   "metadata": {},
   "outputs": [],
   "source": [
    "df=pd.read_csv('sheets/Ylides_YlideRads_Cleaned.csv')\n",
    "y=df['Ylides'].to_list()\n",
    "yr=df['Ylides Rad'].to_list()\n",
    "yh=df['Ylides H'].to_list()"
   ]
  },
  {
   "cell_type": "code",
   "execution_count": 3,
   "metadata": {},
   "outputs": [
    {
     "name": "stderr",
     "output_type": "stream",
     "text": [
      "100%|██████████| 300/300 [03:20<00:00,  1.50it/s]\n"
     ]
    }
   ],
   "source": [
    "#Move files\n",
    "z=7\n",
    "cwd=os.getcwd()\n",
    "calc_folder='Calcs'\n",
    "\n",
    "functional='M062X'\n",
    "basis= 'Def2TZVP'\n",
    "solvorgas='solv'\n",
    "solvmethod='SMD'\n",
    "solvent='acetonitrile'\n",
    "\n",
    "for i, s in enumerate(tqdm(range(300))):\n",
    "    \n",
    "    \n",
    "    \n",
    "    \n",
    "    #suffix= ['','_rad','_h']\n",
    "    suffix= ['_rad']\n",
    "    smi_list=[y,yr,yh]\n",
    "    \n",
    "    for j, suff in enumerate(suffix): \n",
    "        \n",
    "        dest_dir = f'/home/gridsan/groups/manthiram_lab/vHTP/Code/ylide/Library/Calcs/{str(i).zfill(z)}/ylide{suff}/{functional}/{basis}/{solvent}/'\n",
    "        \n",
    "        \n",
    "        if solvorgas=='gas':\n",
    "\n",
    "            dest_dir = f'/home/gridsan/groups/manthiram_lab/vHTP/Code/ylide/Library/Calcs/{str(i).zfill(z)}/ylide{suff}/{functional}/{basis}/gas/'\n",
    "            \n",
    "            from_dir=fr'{cwd}/Calcs/{str(i).zfill(z)}/ylide{suff}/{functional}/{basis}/gas/'\n",
    "\n",
    "        elif solvorgas=='solv':\n",
    "            dest_dir = f'/home/gridsan/groups/manthiram_lab/vHTP/Code/ylide/Library/Calcs/{str(i).zfill(z)}/ylide{suff}/{functional}/{basis}/{solvent}/{solvmethod}/'\n",
    "            from_dir=fr'{cwd}/Calcs/{str(i).zfill(z)}/ylide{suff}/{functional}/{basis}/{solvent}/{solvmethod}/'\n",
    "        os.makedirs(dest_dir,exist_ok=True)\n",
    "        #make dir\n",
    "        \n",
    "        for file in glob.glob(fr'{from_dir}*.xyz'):\n",
    "            shutil.copy(file, dest_dir)\n",
    "            #print(file)\n",
    "        for file in glob.glob(fr'{from_dir}*.log'):\n",
    "            shutil.copy(file, dest_dir)\n",
    "            #print(file)\n",
    "        for file in glob.glob(fr'{from_dir}*.com'):\n",
    "            shutil.copy(file, dest_dir)\n",
    "            #print(file)\n",
    "        for file in glob.glob(fr'{from_dir}*.sh'):\n",
    "            shutil.copy(file, dest_dir)\n",
    "            #print(file)\n",
    "        for file in glob.glob(fr'{from_dir}*.smi'):\n",
    "            shutil.copy(file, dest_dir)"
   ]
  },
  {
   "cell_type": "code",
   "execution_count": null,
   "metadata": {},
   "outputs": [],
   "source": []
  }
 ],
 "metadata": {
  "kernelspec": {
   "display_name": "Python 3",
   "language": "python",
   "name": "python3"
  },
  "language_info": {
   "codemirror_mode": {
    "name": "ipython",
    "version": 3
   },
   "file_extension": ".py",
   "mimetype": "text/x-python",
   "name": "python",
   "nbconvert_exporter": "python",
   "pygments_lexer": "ipython3",
   "version": "3.8.5"
  }
 },
 "nbformat": 4,
 "nbformat_minor": 4
}

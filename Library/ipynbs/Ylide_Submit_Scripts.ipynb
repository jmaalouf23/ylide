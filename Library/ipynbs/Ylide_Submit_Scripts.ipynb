{
 "cells": [
  {
   "cell_type": "code",
   "execution_count": 1,
   "metadata": {},
   "outputs": [],
   "source": [
    "import glob\n",
    "import os\n",
    "import sys\n",
    "#sys.path.insert(1,'/home2/gridsan/jmaalouf/vHTP/Code/Utils')\n",
    "#sys.path.insert(1,'/home2/gridsan/jmaalouf/vHTP/Code/Utils/PyEnergyDiagrams')\n",
    "\n",
    "sys.path.insert(1,'/home2/gridsan/groups/manthiram_lab/vHTP/Code/Utils')\n",
    "sys.path.insert(1,'/home2/gridsan/groups/manthiram_lab/vHTP/Code/Utils/PyEnergyDiagrams')\n",
    "\n",
    "from utils import make_xyz_from_output\n",
    "from utils import check\n",
    "import pathlib\n",
    "import subprocess\n",
    "import cclib\n",
    "import pandas as pd\n",
    "from os.path import exists\n",
    "from tqdm import tqdm\n",
    "from energydiagram import ED"
   ]
  },
  {
   "cell_type": "code",
   "execution_count": 2,
   "metadata": {},
   "outputs": [],
   "source": [
    "orig_dir='/home2/gridsan/jmaalouf/vHTP/Code/ylide/Library/Calcs'"
   ]
  },
  {
   "cell_type": "code",
   "execution_count": 3,
   "metadata": {},
   "outputs": [],
   "source": [
    "df=pd.read_csv('sheets/Ylides_YlideRads_Cleaned.csv')\n",
    "y=df['Ylides'].to_list()\n",
    "yr=df['Ylides Rad'].to_list()\n",
    "yh=df['Ylides H'].to_list()"
   ]
  },
  {
   "cell_type": "code",
   "execution_count": 4,
   "metadata": {},
   "outputs": [
    {
     "name": "stdout",
     "output_type": "stream",
     "text": [
      "/home2/gridsan/jmaalouf/vHTP/Code/ylide/Library\n"
     ]
    }
   ],
   "source": [
    "!pwd"
   ]
  },
  {
   "cell_type": "markdown",
   "metadata": {},
   "source": [
    "# Normal Submissions"
   ]
  },
  {
   "cell_type": "code",
   "execution_count": 8,
   "metadata": {},
   "outputs": [],
   "source": [
    "functional='M062X'\n",
    "basis= 'Def2TZVP'\n",
    "solvorgas='gas'\n",
    "solvmethod='SMD'\n",
    "solvent='acetonitrile'\n",
    "start=300\n",
    "stop=500\n",
    "\n",
    "submit=False\n",
    "os.chdir(orig_dir)\n",
    "\n",
    "if submit:\n",
    "    \n",
    "    for i in range(start,stop):\n",
    "\n",
    "        #suffix_list=['','_rad','_h']\n",
    "\n",
    "        suffix_list=['_h']\n",
    "\n",
    "        for suff in suffix_list:\n",
    "\n",
    "\n",
    "            assert solvorgas == 'gas' or solvorgas=='solv','SOLVORGAS NOT SET TO A VALID VALUE'\n",
    "\n",
    "            if solvorgas=='gas':\n",
    "                path=pathlib.Path(os.path.join(orig_dir, str(i).zfill(7) , f'ylide{suff}', functional, basis,'gas', f'{str(i).zfill(7)}_ylide{suff}'))\n",
    "\n",
    "            elif solvorgas=='solv':\n",
    "                path=pathlib.Path(os.path.join(orig_dir, str(i).zfill(7) , f'ylide{suff}', functional, basis,solvent,solvmethod, f'{str(i).zfill(7)}_ylide{suff}'))\n",
    "\n",
    "            par_path=path.parent.absolute()\n",
    "            filename=os.path.basename(os.path.normpath(path))\n",
    "\n",
    "            #GET LOG FILE NAME\n",
    "            #split_file=filename.split('.')\n",
    "            log_file=f'{path}.log'\n",
    "            \n",
    "            subprocess.run(f'sbatch {filename}.sh',shell=True)\n",
    "\n",
    "#             if exists(log_file)==False:\n",
    "\n",
    "#                 os.chdir(par_path)\n",
    "#                 subprocess.run(f'sbatch {filename}.sh',shell=True)\n",
    "#                 os.chdir(orig_dir)\n"
   ]
  },
  {
   "cell_type": "markdown",
   "metadata": {},
   "source": [
    "# Submissions Using Preoptimized y_h Geometries"
   ]
  },
  {
   "cell_type": "code",
   "execution_count": 10,
   "metadata": {},
   "outputs": [
    {
     "name": "stderr",
     "output_type": "stream",
     "text": [
      "100%|██████████| 100/100 [00:01<00:00, 71.36it/s]\n"
     ]
    }
   ],
   "source": [
    "functional='M062X'\n",
    "basis= 'Def2TZVP'\n",
    "solvorgas='solv'\n",
    "solvmethod='SMD'\n",
    "solvent='acetonitrile'\n",
    "start=0\n",
    "stop=100\n",
    "\n",
    "actually_submit=True\n",
    "\n",
    "os.chdir(orig_dir)\n",
    "if actually_submit:\n",
    "    for i in tqdm(range(start,stop)):\n",
    "\n",
    "        #suffix_list=['','_rad','_h']\n",
    "\n",
    "        suffix_list=['_rad']\n",
    "\n",
    "        for suff in suffix_list:\n",
    "\n",
    "\n",
    "            assert solvorgas == 'gas' or solvorgas=='solv','SOLVORGAS NOT SET TO A VALID VALUE'\n",
    "\n",
    "            if solvorgas=='gas':\n",
    "                path=pathlib.Path(os.path.join(orig_dir, str(i).zfill(7) , f'ylide{suff}', functional, basis,'gas', f'{str(i).zfill(7)}_ylide{suff}'))\n",
    "\n",
    "            elif solvorgas=='solv':\n",
    "                path=pathlib.Path(os.path.join(orig_dir, str(i).zfill(7) , f'ylide{suff}', functional, basis,solvent,solvmethod, f'{str(i).zfill(7)}_ylide{suff}'))\n",
    "\n",
    "            par_path=path.parent.absolute()\n",
    "            filename=os.path.basename(os.path.normpath(path))\n",
    "\n",
    "            #GET LOG FILE NAME\n",
    "            #split_file=filename.split('.')\n",
    "            log_file=f'{path}_y_h_opt.sh.log'\n",
    "            os.chdir(par_path)\n",
    "            subprocess.run(f'sbatch {filename}_y_h_opt.sh',shell=True)\n",
    "            os.chdir(orig_dir)\n",
    "            \n",
    "#             if exists(log_file)==False:\n",
    "\n",
    "#                 os.chdir(par_path)\n",
    "#                 subprocess.run(f'sbatch {filename}_y_h_opt.sh',shell=True)\n",
    "#                 os.chdir(orig_dir)\n",
    "        "
   ]
  },
  {
   "cell_type": "markdown",
   "metadata": {},
   "source": [
    "# Submit Solvation Calcs Using Gas Phase Preoptimization"
   ]
  },
  {
   "cell_type": "code",
   "execution_count": 5,
   "metadata": {},
   "outputs": [
    {
     "name": "stderr",
     "output_type": "stream",
     "text": [
      "100%|██████████| 100/100 [00:02<00:00, 35.38it/s]\n"
     ]
    }
   ],
   "source": [
    "functional='M062X'\n",
    "basis= 'Def2TZVP'\n",
    "solvorgas='solv'\n",
    "solvmethod='SMD'\n",
    "solvent='acetonitrile'\n",
    "start=200\n",
    "stop=300\n",
    "\n",
    "actually_submit=True\n",
    "\n",
    "os.chdir(orig_dir)\n",
    "if actually_submit:\n",
    "    for i in tqdm(range(start,stop)):\n",
    "\n",
    "        #suffix_list=['','_rad','_h']\n",
    "        suffix_list=['_rad']\n",
    "\n",
    "        #suffix_list=['_rad']\n",
    "\n",
    "        for suff in suffix_list:\n",
    "\n",
    "\n",
    "            assert solvorgas == 'gas' or solvorgas=='solv','SOLVORGAS NOT SET TO A VALID VALUE'\n",
    "\n",
    "            if solvorgas=='gas':\n",
    "                path=pathlib.Path(os.path.join(orig_dir, str(i).zfill(7) , f'ylide{suff}', functional, basis,'gas', f'{str(i).zfill(7)}_ylide{suff}'))\n",
    "\n",
    "            elif solvorgas=='solv':\n",
    "                path=pathlib.Path(os.path.join(orig_dir, str(i).zfill(7) , f'ylide{suff}', functional, basis,solvent,solvmethod, f'{str(i).zfill(7)}_ylide{suff}'))\n",
    "\n",
    "            par_path=path.parent.absolute()\n",
    "            filename=os.path.basename(os.path.normpath(path))\n",
    "\n",
    "            #GET LOG FILE NAME\n",
    "            #split_file=filename.split('.')\n",
    "            log_file=f'{path}_gas_preopt.sh.log'\n",
    "            os.chdir(par_path)\n",
    "            subprocess.run(f'sbatch {filename}_gas_preopt.sh',shell=True)\n",
    "            os.chdir(orig_dir)\n",
    "            \n",
    "#             if exists(log_file)==False:\n",
    "\n",
    "#                 os.chdir(par_path)\n",
    "#                 subprocess.run(f'sbatch {filename}_y_h_opt.sh',shell=True)\n",
    "#                 os.chdir(orig_dir)\n",
    "        "
   ]
  },
  {
   "cell_type": "code",
   "execution_count": null,
   "metadata": {},
   "outputs": [],
   "source": []
  }
 ],
 "metadata": {
  "kernelspec": {
   "display_name": "ml",
   "language": "python",
   "name": "ml"
  },
  "language_info": {
   "codemirror_mode": {
    "name": "ipython",
    "version": 3
   },
   "file_extension": ".py",
   "mimetype": "text/x-python",
   "name": "python",
   "nbconvert_exporter": "python",
   "pygments_lexer": "ipython3",
   "version": "3.8.5"
  }
 },
 "nbformat": 4,
 "nbformat_minor": 4
}

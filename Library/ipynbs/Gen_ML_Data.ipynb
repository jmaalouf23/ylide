{
 "cells": [
  {
   "cell_type": "code",
   "execution_count": 22,
   "metadata": {},
   "outputs": [],
   "source": [
    "import os\n",
    "import sys\n",
    "import numpy as np\n",
    "import pandas as pd\n",
    "import pickle as pkl"
   ]
  },
  {
   "cell_type": "markdown",
   "metadata": {},
   "source": [
    "# Load Data"
   ]
  },
  {
   "cell_type": "code",
   "execution_count": 23,
   "metadata": {},
   "outputs": [],
   "source": [
    "df=pd.read_csv('../sheets/Ylides_YlideRads_Cleaned.csv')\n",
    "y=df['Ylides'].to_list()\n",
    "yr=df['Ylides Rad'].to_list()\n",
    "yh=df['Ylides H'].to_list()"
   ]
  },
  {
   "cell_type": "code",
   "execution_count": 4,
   "metadata": {},
   "outputs": [],
   "source": [
    "with open(\"../pickled_data/failed_dict_gas.pkl\",\"rb\") as file: #coords after gas phase calculations have run\n",
    "    pickle_off = pkl.Unpickler(file)\n",
    "    failed_dict_gas = pickle_off.load()\n",
    "data_gas=np.load(f'../pickled_data/data_gas.npy')"
   ]
  },
  {
   "cell_type": "code",
   "execution_count": 12,
   "metadata": {},
   "outputs": [],
   "source": [
    "failures=[]\n",
    "for key,value in failed_dict_gas.items():\n",
    "    failures+=value\n",
    "failures=list(set(failures))\n",
    "failures.sort()"
   ]
  },
  {
   "cell_type": "code",
   "execution_count": 64,
   "metadata": {},
   "outputs": [],
   "source": [
    "n,d = np.shape(data_gas)\n",
    "ml_n=n-len(failures)\n",
    "ml_data=np.empty((1,5),dtype='object')"
   ]
  },
  {
   "cell_type": "code",
   "execution_count": 63,
   "metadata": {},
   "outputs": [
    {
     "data": {
      "text/plain": [
       "10000"
      ]
     },
     "execution_count": 63,
     "metadata": {},
     "output_type": "execute_result"
    }
   ],
   "source": [
    "n"
   ]
  },
  {
   "cell_type": "code",
   "execution_count": 65,
   "metadata": {},
   "outputs": [],
   "source": [
    "\n",
    "for i in range(n):\n",
    "    if i not in failures:\n",
    "        temp_ml=np.empty((1,5),dtype='object')\n",
    "        temp_ml[0,0]=y[i]\n",
    "        temp_ml[0,1]=data_gas[i,7]\n",
    "        temp_ml[0,2]=data_gas[i,8]\n",
    "        temp_ml[0,3]=data_gas[i,9]\n",
    "        temp_ml[0,4]=i\n",
    "        \n",
    "        ml_data=np.vstack((ml_data,temp_ml))\n",
    "ml_data=ml_data[1:,:]"
   ]
  },
  {
   "cell_type": "code",
   "execution_count": 66,
   "metadata": {},
   "outputs": [],
   "source": [
    "df = pd.DataFrame(data = ml_data, \n",
    "                  columns = ['smiles','redox potential (V) ','DPFE (kJ/mol)','GHbind (kJ/mol)','Original Index'])"
   ]
  },
  {
   "cell_type": "code",
   "execution_count": 67,
   "metadata": {},
   "outputs": [],
   "source": [
    "df.to_csv('../sheets/Gas_Ylide_Data.csv')"
   ]
  },
  {
   "cell_type": "code",
   "execution_count": 62,
   "metadata": {},
   "outputs": [
    {
     "data": {
      "text/plain": [
       "array(['C[N+](C)(C)[N-]C(=O)COc1cccc2c1CCCC2',\n",
       "       'C[N+](C)(C)[N-]C(=O)COc1cccc2c1CCCC2',\n",
       "       'C[N+](C)(C)[N-]C(=O)COc1cccc2c1CCCC2', ...,\n",
       "       'COc1ccc(C(C(=O)[N-][N+](C)(C)C)=C(C)C)cc1',\n",
       "       'C[N+](C)(C)[N-]C(=O)C(O)(c1ccccc1)C1CCC1',\n",
       "       'COc1ccc2c(c1)C(CC(=O)[N-][N+](C)(C)C)CC2'], dtype=object)"
      ]
     },
     "execution_count": 62,
     "metadata": {},
     "output_type": "execute_result"
    }
   ],
   "source": [
    "ml_data[2:,0]"
   ]
  },
  {
   "cell_type": "code",
   "execution_count": null,
   "metadata": {},
   "outputs": [],
   "source": []
  }
 ],
 "metadata": {
  "kernelspec": {
   "display_name": "ml",
   "language": "python",
   "name": "ml"
  },
  "language_info": {
   "codemirror_mode": {
    "name": "ipython",
    "version": 3
   },
   "file_extension": ".py",
   "mimetype": "text/x-python",
   "name": "python",
   "nbconvert_exporter": "python",
   "pygments_lexer": "ipython3",
   "version": "3.8.5"
  }
 },
 "nbformat": 4,
 "nbformat_minor": 4
}

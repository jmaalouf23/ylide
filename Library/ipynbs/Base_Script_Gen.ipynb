{
 "cells": [
  {
   "cell_type": "code",
   "execution_count": 24,
   "metadata": {},
   "outputs": [],
   "source": [
    "import sys\n",
    "import os\n",
    "import numpy as np\n",
    "import pandas as pd\n",
    "import pickle\n",
    "import psutil\n",
    "\n",
    "sys.path.insert(1,'/home2/gridsan/groups/manthiram_lab/vHTP/Code/Utils')\n",
    "sys.path.insert(1,'/home2/gridsan/groups/manthiram_lab/vHTP/Code/DFT/DFT_script_gen')\n",
    "\n",
    "import utils\n",
    "from utils import make_xyz_from_array, GetCoordsFromMolBlock\n",
    "import xyz2mol as x2m\n",
    "import re\n",
    "import importlib\n",
    "from tqdm import tqdm\n",
    "import shutil\n",
    "import convertxyz\n",
    "import DFT_Script_gen\n",
    "import subprocess\n",
    "import glob\n",
    "import pathlib\n",
    "\n",
    "from rdkit import Chem\n",
    "from rdkit.Chem import AllChem\n",
    "from rdkit import DataStructs\n",
    "from rdkit.Chem import rdMolDescriptors\n",
    "from rdkit.Chem.rdchem import Mol\n",
    "from rdkit.Chem import rdMolDescriptors\n",
    "from rdkit.Chem import Draw\n",
    "from rdkit.Chem.Draw import rdMolDraw2D,MolToImage,ShowMol\n",
    "from mksmifile import mk_smi_file\n",
    "from DFT_Script_gen import mkgauss_input_from_xyz,mkgauss_submission_script\n",
    "from convertxyz import mk_xyz_from_smiles_string, get_xyz_from_mol, write_xyz_from_xyz_arr"
   ]
  },
  {
   "cell_type": "code",
   "execution_count": 6,
   "metadata": {},
   "outputs": [
    {
     "data": {
      "text/plain": [
       "<module 'DFT_Script_gen' from '/home2/gridsan/groups/manthiram_lab/vHTP/Code/DFT/DFT_script_gen/DFT_Script_gen.py'>"
      ]
     },
     "execution_count": 6,
     "metadata": {},
     "output_type": "execute_result"
    }
   ],
   "source": [
    "importlib.reload(utils)\n",
    "importlib.reload(x2m)\n",
    "importlib.reload(convertxyz)\n",
    "importlib.reload(DFT_Script_gen)"
   ]
  },
  {
   "cell_type": "code",
   "execution_count": 8,
   "metadata": {},
   "outputs": [],
   "source": [
    "bases=[['carbonate','O=C([O-])O','O=C(O)O']]"
   ]
  },
  {
   "cell_type": "code",
   "execution_count": 20,
   "metadata": {},
   "outputs": [
    {
     "name": "stderr",
     "output_type": "stream",
     "text": [
      "100%|██████████| 1/1 [00:01<00:00,  1.07s/it]\n"
     ]
    }
   ],
   "source": [
    "actually_make_dirs=True\n",
    "if actually_make_dirs:\n",
    "\n",
    "    cwd=os.getcwd()\n",
    "\n",
    "    #for i, s in enumerate(tqdm(y)):\n",
    "\n",
    "    functional='M062X'\n",
    "    basis= 'Def2TZVP'\n",
    "    solvorgas='solv' #This should only be used for gas phase, since we need the gas phase pre opt for solv\n",
    "    solvmethod='SMD'\n",
    "    solvent='acetonitrile'\n",
    "    cwd='/home2/gridsan/jmaalouf/vHTP/Code/ylide/Library'\n",
    "    shared_dir='/home2/gridsan/groups/manthiram_lab/vHTP/Code/ylide/Library/'\n",
    "    \n",
    "    for i, s in enumerate(tqdm(bases)):\n",
    "\n",
    "        assert solvorgas == 'gas' or solvorgas=='solv','SOLVORGAS NOT SET TO A VALID VALUE'\n",
    "        \n",
    "        p_dict={\n",
    "            0: 'name',\n",
    "            1: 'deprot',\n",
    "            2: 'prot'\n",
    "        }\n",
    "        \n",
    "        for j, b in enumerate(s[1:]): \n",
    "            if solvorgas=='gas':\n",
    "\n",
    "                #basepath=f'{cwd}/{calc_folder}/{str(i).zfill(z)}/ylide{suff}/{functional}/{basis}/gas'\n",
    "                basepath=f'{shared_dir}/bases/{s[0]}/{p_dict[j+1]}/{functional}/{basis}/gas/'\n",
    "\n",
    "            elif solvorgas=='solv':\n",
    "\n",
    "                try:\n",
    "                    solvent\n",
    "                except NameError:\n",
    "                    raise Exception('PLEASE SPECIFY A SOLVENT')\n",
    "\n",
    "\n",
    "                #basepath=f'{cwd}/{calc_folder}/{str(i).zfill(z)}/ylide{suff}/{functional}/{basis}/{solvent}/{solvmethod}'\n",
    "                basepath=f'{shared_dir}/bases/{s[0]}/{p_dict[j+1]}/{functional}/{basis}/{solvent}/{solvmethod}/'\n",
    "                \n",
    "            os.makedirs(basepath,exist_ok=True)\n",
    "            \n",
    "            smi= b\n",
    "            path=f'{basepath}/{p_dict[j+1]}'\n",
    "\n",
    "            try:\n",
    "                mk_smi_file(smi,path)\n",
    "                mk_xyz_from_smiles_string(smi,path,numConfs=100)\n",
    "                mkgauss_input_from_xyz(path,smi,functional=functional,basis=basis,solvorgas=solvorgas,solvmethod=solvmethod,solvent=solvent)\n",
    "                mkgauss_submission_script(path)\n",
    "            except Exception as e:\n",
    "                print(e)\n",
    "                exc_type, exc_obj, exc_tb = sys.exc_info()\n",
    "                fname = os.path.split(exc_tb.tb_frame.f_code.co_filename)[1]\n",
    "                print(exc_type, fname, exc_tb.tb_lineno)\n",
    "                print(f'ERROR WITH  MOLECULE NUMBER {i} smiles {path}')"
   ]
  },
  {
   "cell_type": "code",
   "execution_count": 27,
   "metadata": {},
   "outputs": [],
   "source": [
    "functional='M062X'\n",
    "basis= 'Def2TZVP'\n",
    "solvorgas='solv'\n",
    "solvmethod='SMD'\n",
    "solvent='acetonitrile'\n",
    "\n",
    "submit=True\n",
    "#os.chdir(orig_dir)\n",
    "\n",
    "p_dict={\n",
    "    0: 'name',\n",
    "    1: 'deprot',\n",
    "    2: 'prot'\n",
    "}\n",
    "\n",
    "if submit:\n",
    "    \n",
    "    for i,s in enumerate(bases):\n",
    "\n",
    "        for j,b in enumerate(s[1:]):\n",
    "\n",
    "\n",
    "            assert solvorgas == 'gas' or solvorgas=='solv','SOLVORGAS NOT SET TO A VALID VALUE'\n",
    "\n",
    "            if solvorgas=='gas':\n",
    "                path=pathlib.Path(os.path.join(shared_dir, 'bases', s[0],p_dict[j+1], functional, basis,'gas', p_dict[j+1]))\n",
    "\n",
    "            elif solvorgas=='solv':\n",
    "                path=pathlib.Path(os.path.join(shared_dir, 'bases' ,s[0],p_dict[j+1], functional, basis,solvent,solvmethod, p_dict[j+1]))\n",
    "\n",
    "            par_path=path.parent.absolute()\n",
    "            filename=os.path.basename(os.path.normpath(path))\n",
    "\n",
    "            #GET LOG FILE NAME\n",
    "            #split_file=filename.split('.')\n",
    "            log_file=f'{path}.log'\n",
    "            \n",
    "            os.chdir(par_path)\n",
    "            subprocess.run(f'sbatch {filename}.sh',shell=True)\n",
    "            os.chdir(cwd)\n",
    "#             if exists(log_file)==False:\n",
    "\n",
    "#                 os.chdir(par_path)\n",
    "#                 subprocess.run(f'sbatch {filename}.sh',shell=True)\n",
    "#                 os.chdir(orig_dir)"
   ]
  },
  {
   "cell_type": "code",
   "execution_count": null,
   "metadata": {},
   "outputs": [],
   "source": []
  }
 ],
 "metadata": {
  "kernelspec": {
   "display_name": "ml",
   "language": "python",
   "name": "ml"
  },
  "language_info": {
   "codemirror_mode": {
    "name": "ipython",
    "version": 3
   },
   "file_extension": ".py",
   "mimetype": "text/x-python",
   "name": "python",
   "nbconvert_exporter": "python",
   "pygments_lexer": "ipython3",
   "version": "3.8.5"
  }
 },
 "nbformat": 4,
 "nbformat_minor": 4
}
